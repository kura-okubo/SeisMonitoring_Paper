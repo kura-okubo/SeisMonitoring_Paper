{
 "cells": [
  {
   "cell_type": "markdown",
   "metadata": {},
   "source": [
    "# Compute the geometry of station array and the cross-sections to compute the coseismic strain\n",
    "2024.01.09 Kurama Okubo\n",
    "\n",
    "This notebook computes the geometry of station array and cross-sections to compute the strain using [coulomb33](https://www.usgs.gov/publications/coulomb-33-graphic-rich-deformation-and-stress-change-software-earthquake-tectonic-and).\n",
    "\n",
    "\n",
    "**NOTE:** We use the SRCMOD data of preset file (`SRCMOD_JUL07_v7.mat`) because the mat file download from http://equake-rc.info/SRCMOD/searchmodels/viewmodel/s2004PARKFI01JIxx/ causes an issue associated with `invNoTW`.\n",
    "`s2004PARKFI01JIxx.mat` set `invNoTW` = 999, which causes the incorrect loop of slip calculation. To avoid that, we used the one from `SRCMOD_JUL07_v7.mat`. Note that the slip profile is identical between those files.\n",
    "\n"
   ]
  },
  {
   "cell_type": "code",
   "execution_count": 1,
   "metadata": {},
   "outputs": [],
   "source": [
    "import datetime\n",
    "import os\n",
    "\n",
    "import matplotlib\n",
    "import matplotlib.pyplot as plt\n",
    "import matplotlib.dates as dates\n",
    "import matplotlib.dates as mdates\n",
    "%matplotlib inline\n",
    "\n",
    "from pyproj import Proj # used to convert between utm and lat lon\n",
    "\n",
    "import numpy as np\n",
    "import pandas as pd\n",
    "import h5py\n",
    "import glob\n",
    "import pickle\n",
    "\n",
    "import shutil\n",
    "from tqdm import tqdm\n",
    "\n",
    "import matplotlib as mpl\n",
    "from matplotlib.ticker import StrMethodFormatter\n",
    "\n",
    "import matplotlib as mpl\n",
    "\n",
    "# modules to compute distance\n",
    "import cartopy.geodesic as cgeo\n",
    "\n",
    "\n",
    "plt.rcParams[\"font.family\"] = 'Arial'\n",
    "# plt.rcParams[\"font.sans-serif\"] = \"DejaVu Sans, Arial, Helvetica, Lucida Grande, Verdana, Geneva, Lucid, Avant Garde, sans-serif\"\n",
    "plt.rcParams[\"font.size\"] = 12\n",
    "plt.rcParams[\"xtick.direction\"] = \"in\"\n",
    "plt.rcParams[\"xtick.major.size\"] = 5\n",
    "plt.rcParams[\"xtick.major.width\"] = 0.5\n",
    "plt.rcParams[\"xtick.minor.size\"] = 2\n",
    "plt.rcParams[\"xtick.minor.width\"] = 1\n",
    "plt.rcParams[\"xtick.minor.visible\"] = True\n",
    "\n",
    "plt.rcParams[\"ytick.direction\"] = \"in\"\n",
    "plt.rcParams[\"ytick.major.size\"] = 5\n",
    "plt.rcParams[\"ytick.major.width\"] = 0.5\n",
    "plt.rcParams[\"ytick.minor.size\"] = 2\n",
    "plt.rcParams[\"ytick.minor.width\"] = 1\n",
    "plt.rcParams[\"ytick.minor.visible\"] = True\n",
    "\n",
    "os.environ['TZ'] = 'GMT' # change time zone to avoid confusion in unix_tvec conversion\n"
   ]
  },
  {
   "cell_type": "code",
   "execution_count": 2,
   "metadata": {},
   "outputs": [],
   "source": [
    "output_imgdir = \"../figure/\"\n",
    "\n",
    "if not os.path.exists(output_imgdir):\n",
    "    os.makedirs(output_imgdir)\n",
    "    "
   ]
  },
  {
   "cell_type": "code",
   "execution_count": 3,
   "metadata": {},
   "outputs": [],
   "source": [
    "# read BP station metadata\n",
    "# read station loc and depth\n",
    "loc_table = \"../data/BP_gmap-stations.txt\"\n",
    "df_raw = pd.read_csv(loc_table, skiprows=3, header=None, sep = '|')\n",
    "\n",
    "stationidlist = []\n",
    "for i, row in df_raw.iterrows():\n",
    "    stationidlist.append(\"{}.{}\".format(row[0], row[1]))\n",
    "    \n",
    "dict_loc = {\"id\": stationidlist,\n",
    "            \"station\": df_raw[1],\n",
    "            \"latitude\": df_raw[2],\n",
    "            \"longitude\": df_raw[3],\n",
    "            \"elevation\": df_raw[4],\n",
    "}\n",
    "df_locorigin = pd.DataFrame.from_dict(dict_loc)"
   ]
  },
  {
   "cell_type": "code",
   "execution_count": 4,
   "metadata": {},
   "outputs": [
    {
     "data": {
      "text/html": [
       "<div>\n",
       "<style scoped>\n",
       "    .dataframe tbody tr th:only-of-type {\n",
       "        vertical-align: middle;\n",
       "    }\n",
       "\n",
       "    .dataframe tbody tr th {\n",
       "        vertical-align: top;\n",
       "    }\n",
       "\n",
       "    .dataframe thead th {\n",
       "        text-align: right;\n",
       "    }\n",
       "</style>\n",
       "<table border=\"1\" class=\"dataframe\">\n",
       "  <thead>\n",
       "    <tr style=\"text-align: right;\">\n",
       "      <th></th>\n",
       "      <th>id</th>\n",
       "      <th>station</th>\n",
       "      <th>latitude</th>\n",
       "      <th>longitude</th>\n",
       "      <th>elevation</th>\n",
       "      <th>depth</th>\n",
       "    </tr>\n",
       "  </thead>\n",
       "  <tbody>\n",
       "    <tr>\n",
       "      <th>0</th>\n",
       "      <td>BP.CCRB</td>\n",
       "      <td>CCRB</td>\n",
       "      <td>35.95718</td>\n",
       "      <td>-120.55158</td>\n",
       "      <td>595.0</td>\n",
       "      <td>251</td>\n",
       "    </tr>\n",
       "    <tr>\n",
       "      <th>1</th>\n",
       "      <td>BP.EADB</td>\n",
       "      <td>EADB</td>\n",
       "      <td>35.89522</td>\n",
       "      <td>-120.42262</td>\n",
       "      <td>469.0</td>\n",
       "      <td>245</td>\n",
       "    </tr>\n",
       "    <tr>\n",
       "      <th>2</th>\n",
       "      <td>BP.FROB</td>\n",
       "      <td>FROB</td>\n",
       "      <td>35.91095</td>\n",
       "      <td>-120.48688</td>\n",
       "      <td>515.0</td>\n",
       "      <td>284</td>\n",
       "    </tr>\n",
       "    <tr>\n",
       "      <th>3</th>\n",
       "      <td>BP.GHIB</td>\n",
       "      <td>GHIB</td>\n",
       "      <td>35.83225</td>\n",
       "      <td>-120.34728</td>\n",
       "      <td>393.0</td>\n",
       "      <td>63</td>\n",
       "    </tr>\n",
       "    <tr>\n",
       "      <th>4</th>\n",
       "      <td>BP.JCNB</td>\n",
       "      <td>JCNB</td>\n",
       "      <td>35.93897</td>\n",
       "      <td>-120.43112</td>\n",
       "      <td>533.0</td>\n",
       "      <td>224</td>\n",
       "    </tr>\n",
       "    <tr>\n",
       "      <th>5</th>\n",
       "      <td>BP.JCSB</td>\n",
       "      <td>JCSB</td>\n",
       "      <td>35.92117</td>\n",
       "      <td>-120.43400</td>\n",
       "      <td>454.0</td>\n",
       "      <td>155</td>\n",
       "    </tr>\n",
       "    <tr>\n",
       "      <th>6</th>\n",
       "      <td>BP.LCCB</td>\n",
       "      <td>LCCB</td>\n",
       "      <td>35.98006</td>\n",
       "      <td>-120.51423</td>\n",
       "      <td>637.0</td>\n",
       "      <td>252</td>\n",
       "    </tr>\n",
       "    <tr>\n",
       "      <th>7</th>\n",
       "      <td>BP.MMNB</td>\n",
       "      <td>MMNB</td>\n",
       "      <td>35.95650</td>\n",
       "      <td>-120.49600</td>\n",
       "      <td>701.0</td>\n",
       "      <td>221</td>\n",
       "    </tr>\n",
       "    <tr>\n",
       "      <th>8</th>\n",
       "      <td>BP.RMNB</td>\n",
       "      <td>RMNB</td>\n",
       "      <td>36.00087</td>\n",
       "      <td>-120.47772</td>\n",
       "      <td>1164.0</td>\n",
       "      <td>73</td>\n",
       "    </tr>\n",
       "    <tr>\n",
       "      <th>9</th>\n",
       "      <td>BP.SCYB</td>\n",
       "      <td>SCYB</td>\n",
       "      <td>36.00942</td>\n",
       "      <td>-120.53661</td>\n",
       "      <td>947.0</td>\n",
       "      <td>252</td>\n",
       "    </tr>\n",
       "    <tr>\n",
       "      <th>10</th>\n",
       "      <td>BP.SMNB</td>\n",
       "      <td>SMNB</td>\n",
       "      <td>35.97297</td>\n",
       "      <td>-120.57988</td>\n",
       "      <td>698.0</td>\n",
       "      <td>282</td>\n",
       "    </tr>\n",
       "    <tr>\n",
       "      <th>11</th>\n",
       "      <td>BP.VARB</td>\n",
       "      <td>VARB</td>\n",
       "      <td>35.92608</td>\n",
       "      <td>-120.44705</td>\n",
       "      <td>475.0</td>\n",
       "      <td>298</td>\n",
       "    </tr>\n",
       "    <tr>\n",
       "      <th>12</th>\n",
       "      <td>BP.VCAB</td>\n",
       "      <td>VCAB</td>\n",
       "      <td>35.92162</td>\n",
       "      <td>-120.53392</td>\n",
       "      <td>755.0</td>\n",
       "      <td>200</td>\n",
       "    </tr>\n",
       "  </tbody>\n",
       "</table>\n",
       "</div>"
      ],
      "text/plain": [
       "         id station  latitude  longitude  elevation depth\n",
       "0   BP.CCRB    CCRB  35.95718 -120.55158      595.0   251\n",
       "1   BP.EADB    EADB  35.89522 -120.42262      469.0   245\n",
       "2   BP.FROB    FROB  35.91095 -120.48688      515.0   284\n",
       "3   BP.GHIB    GHIB  35.83225 -120.34728      393.0    63\n",
       "4   BP.JCNB    JCNB  35.93897 -120.43112      533.0   224\n",
       "5   BP.JCSB    JCSB  35.92117 -120.43400      454.0   155\n",
       "6   BP.LCCB    LCCB  35.98006 -120.51423      637.0   252\n",
       "7   BP.MMNB    MMNB  35.95650 -120.49600      701.0   221\n",
       "8   BP.RMNB    RMNB  36.00087 -120.47772     1164.0    73\n",
       "9   BP.SCYB    SCYB  36.00942 -120.53661      947.0   252\n",
       "10  BP.SMNB    SMNB  35.97297 -120.57988      698.0   282\n",
       "11  BP.VARB    VARB  35.92608 -120.44705      475.0   298\n",
       "12  BP.VCAB    VCAB  35.92162 -120.53392      755.0   200"
      ]
     },
     "execution_count": 4,
     "metadata": {},
     "output_type": "execute_result"
    }
   ],
   "source": [
    "#make list of station depth\n",
    "# Instrument depth is available in Malagnini2016 Table 1\n",
    "\n",
    "stationdepth = {}\n",
    "stationdepth[\"EADB\"]=245\n",
    "stationdepth[\"FROB\"]=284\n",
    "stationdepth[\"GHIB\"]=63\n",
    "stationdepth[\"JCNB\"]=224\n",
    "stationdepth[\"JCSB\"]=155\n",
    "stationdepth[\"MMNB\"]=221\n",
    "stationdepth[\"RMNB\"]=73\n",
    "stationdepth[\"SMNB\"]=282 \n",
    "stationdepth[\"VARB\"]=298 \n",
    "stationdepth[\"VCAB\"]=200 \n",
    "stationdepth[\"CCRB\"]=251 \n",
    "stationdepth[\"LCCB\"]=252 \n",
    "stationdepth[\"SCYB\"]=252\n",
    "\n",
    "df_stationdepth = pd.DataFrame(columns=[\"station\", \"depth\"])\n",
    "for d in stationdepth:\n",
    "    df_stationdepth = pd.concat([df_stationdepth, pd.DataFrame({'station': d, 'depth': [stationdepth[d]]})])\n",
    "\n",
    "df_locorigin = pd.merge(df_locorigin, df_stationdepth, on='station')\n",
    "df_locorigin = df_locorigin.sort_values(by=\"station\")\n",
    "df_locorigin"
   ]
  },
  {
   "cell_type": "code",
   "execution_count": 5,
   "metadata": {},
   "outputs": [],
   "source": [
    "# Using readlines()\n",
    "fi = open('../data/historicalfaults.txt', 'r')\n",
    "lines = fi.readlines()\n",
    "\n",
    "dict_sf = {}\n",
    "faultcount = 0\n",
    "# Strips the newline character\n",
    "linecount = 0\n",
    "while linecount < len(lines):\n",
    "    # initialize fault\n",
    "    faultcount += 1\n",
    "    x1 = []\n",
    "    y1 = []\n",
    "    while True:\n",
    "        line = lines[linecount]\n",
    "        linecount = linecount+1\n",
    "        if \">\" in line:\n",
    "            dict_sf[\"fault{:d}\".format(faultcount)] = [x1, y1]\n",
    "            break\n",
    "        else:\n",
    "            x1.append(float(line.split(\"\\t\")[0]))\n",
    "            y1.append(float(line.split(\"\\t\")[1]))"
   ]
  },
  {
   "cell_type": "markdown",
   "metadata": {},
   "source": [
    "## Plot stations and fault trace"
   ]
  },
  {
   "cell_type": "code",
   "execution_count": 6,
   "metadata": {},
   "outputs": [],
   "source": [
    "import cartopy.crs as ccrs\n",
    "from cartopy.mpl.ticker import (LongitudeFormatter, LatitudeFormatter,\n",
    "                                LatitudeLocator, LongitudeLocator)"
   ]
  },
  {
   "cell_type": "markdown",
   "metadata": {},
   "source": [
    "## Define the approximated straight fault line\n",
    "We define the fault line to compute the fault normal distance between station and the fault"
   ]
  },
  {
   "cell_type": "code",
   "execution_count": 7,
   "metadata": {},
   "outputs": [],
   "source": [
    "approx_faultloc = [-120.65, 36.085, -120.35, 35.82] # selected with try and error\n",
    "# save the location of approximated fault\n",
    "with open('../data/approx_faultloc.txt', 'w') as f:\n",
    "#     f.write(\"lon1, lat1, lon2, lat2\\n\")\n",
    "    f.write(f\"{approx_faultloc[0]}, {approx_faultloc[1]}\\n{approx_faultloc[2]}, {approx_faultloc[3]}\")"
   ]
  },
  {
   "cell_type": "code",
   "execution_count": 8,
   "metadata": {},
   "outputs": [
    {
     "data": {
      "image/png": "[encoded data removed]",
      "text/plain": [
       "<Figure size 600x600 with 1 Axes>"
      ]
     },
     "metadata": {},
     "output_type": "display_data"
    }
   ],
   "source": [
    "fig, ax = plt.subplots(1, 1, figsize=(6, 6), subplot_kw={'projection': ccrs.Mercator()})\n",
    "f_lon_min = -120.95 #-120.625\n",
    "f_lon_max = -119.95 #-120.3\n",
    "f_lat_min = 35.5 #35.775\n",
    "f_lat_max = 36.4 #36.07\n",
    "\n",
    "#---Plot stations---#\n",
    "for k, row in df_locorigin.iterrows():\n",
    "    staid = row.id\n",
    "    sta = row.station\n",
    "    lon, lat, elevation, depth = row.longitude, row.latitude, row.elevation, row.depth\n",
    "    ax.scatter(lon,lat, s=55, facecolors='none',  edgecolors='black',\n",
    "                    linestyle=\"-\", linewidth=2, zorder=6, transform=ccrs.PlateCarree())\n",
    "    ax.text(lon+0.005, lat+0.001, sta, fontsize=10, transform=ccrs.PlateCarree())\n",
    "\n",
    "\n",
    "#---plot fault geometry---#\n",
    "for sfkey in dict_sf:\n",
    "    faultx = dict_sf[sfkey][0]\n",
    "    faulty = dict_sf[sfkey][1]\n",
    "    min_x, min_y = [np.min(faultx), np.min(faulty)]\n",
    "    max_x, max_y = [np.max(faultx), np.max(faulty)]\n",
    "\n",
    "    if (min_x > f_lon_min) & (max_x < f_lon_max) & (min_y > f_lat_min) & (max_y < f_lat_max):\n",
    "        ax.plot(faultx, faulty, 'k', ls=\"-\", lw=1.0, zorder=-2, transform=ccrs.PlateCarree())\n",
    "#-------------------------------#\n",
    "\n",
    "#---Plot approximated fault loc---#\n",
    "ax.plot([approx_faultloc[0], approx_faultloc[2]], [approx_faultloc[1], approx_faultloc[3]],\n",
    "            'bo', ls=\"--\", lw=1.0, zorder=-2, transform=ccrs.PlateCarree())\n",
    "#-------------------------------------------#\n",
    "\n",
    "ax.set_extent([f_lon_min, f_lon_max, f_lat_min, f_lat_max], crs=ccrs.PlateCarree())\n",
    "\n",
    "ax.set_xticks(np.arange(-120.85, -119.95, 0.2), crs=ccrs.PlateCarree())\n",
    "ax.set_yticks(np.arange(35.5, 36.4, 0.1), crs=ccrs.PlateCarree())\n",
    "lon_formatter = LongitudeFormatter(zero_direction_label=True, dms=False)\n",
    "lat_formatter = LatitudeFormatter(dms=False)\n",
    "ax.xaxis.set_major_formatter(lon_formatter)\n",
    "ax.yaxis.set_major_formatter(lat_formatter)\n",
    "\n",
    "fig.tight_layout()\n",
    "\n",
    "plt.savefig(output_imgdir+\"/BPnetwork_stationloc_cartopy.png\", format=\"png\", dpi=300, bbox_inches=\"tight\")\n"
   ]
  },
  {
   "cell_type": "markdown",
   "metadata": {},
   "source": [
    "# Compute the cross section\n",
    "\n",
    "We compute the cross-sections along the approximated fault and the orthogonal line.\n",
    "We need to convert to xy coordinate to compute the orthogonal line"
   ]
  },
  {
   "cell_type": "code",
   "execution_count": 9,
   "metadata": {},
   "outputs": [],
   "source": [
    "utm_zone_BP = 10\n",
    "p = Proj(proj='utm', zone=utm_zone_BP,ellps='WGS84', preserve_units=False)\n",
    "# x, y = p(lon, lat)\n"
   ]
  },
  {
   "cell_type": "code",
   "execution_count": 10,
   "metadata": {},
   "outputs": [],
   "source": [
    "A0 = p(approx_faultloc[0], approx_faultloc[1])\n",
    "B0 = p(approx_faultloc[2], approx_faultloc[3])\n",
    "\n",
    "y0 = lambda x: ((B0[1]-A0[1])/(B0[0]-A0[0])) * (x - A0[0]) + A0[1]"
   ]
  },
  {
   "cell_type": "code",
   "execution_count": 11,
   "metadata": {},
   "outputs": [],
   "source": [
    "C0_k = 0.45\n",
    "C0_x = A0[0] + C0_k*(B0[0] - A0[0])"
   ]
  },
  {
   "cell_type": "code",
   "execution_count": 12,
   "metadata": {},
   "outputs": [],
   "source": [
    "C0 = [C0_x, y0(C0_x)]\n",
    "C0_ll = p(C0[0], C0[1], inverse=True)"
   ]
  },
  {
   "cell_type": "code",
   "execution_count": 13,
   "metadata": {},
   "outputs": [
    {
     "data": {
      "text/plain": [
       "(-120.5147526566392, 35.96583440617743)"
      ]
     },
     "execution_count": 13,
     "metadata": {},
     "output_type": "execute_result"
    }
   ],
   "source": [
    "C0_ll"
   ]
  },
  {
   "cell_type": "code",
   "execution_count": 14,
   "metadata": {},
   "outputs": [],
   "source": [
    "k1 = -(B0[0]-A0[0])/(B0[1]-A0[1]) # slope of cross-section \n",
    "cross_theta = np.arctan(k1)\n",
    "\n",
    "L = 2e4 #[m]\n",
    "\n",
    "A1 = [-L*np.cos(cross_theta)+C0[0], -L*np.sin(cross_theta)+C0[1]]\n",
    "B1 = [L*np.cos(cross_theta)+C0[0], L*np.sin(cross_theta)+C0[1]]"
   ]
  },
  {
   "cell_type": "code",
   "execution_count": 15,
   "metadata": {},
   "outputs": [
    {
     "data": {
      "text/plain": [
       "([709744.7027174239, 3969097.118743997],\n",
       " [738471.2844605041, 3996932.051856152])"
      ]
     },
     "execution_count": 15,
     "metadata": {},
     "output_type": "execute_result"
    }
   ],
   "source": [
    "A1, B1"
   ]
  },
  {
   "cell_type": "code",
   "execution_count": 16,
   "metadata": {},
   "outputs": [],
   "source": [
    "A1_ll = p(A1[0], A1[1], inverse=True)\n",
    "B1_ll = p(B1[0], B1[1], inverse=True)"
   ]
  },
  {
   "cell_type": "code",
   "execution_count": 17,
   "metadata": {},
   "outputs": [
    {
     "data": {
      "text/plain": [
       "((-120.6775808633468, 35.843649386970604),\n",
       " (-120.35142385384519, 36.08777545398971))"
      ]
     },
     "execution_count": 17,
     "metadata": {},
     "output_type": "execute_result"
    }
   ],
   "source": [
    "A1_ll, B1_ll"
   ]
  },
  {
   "cell_type": "code",
   "execution_count": 18,
   "metadata": {},
   "outputs": [],
   "source": [
    "# Compute location of edges for the coulomb33\n",
    "# Zero coordinate from s2004PARKFIjich_200f_coulomb.mat\n",
    "ZERO_LON =  -120.3706\n",
    "ZERO_LAT = 35.8185\n",
    "\n",
    "G0 = p(ZERO_LON, ZERO_LAT, inverse=False)"
   ]
  },
  {
   "cell_type": "code",
   "execution_count": 19,
   "metadata": {},
   "outputs": [
    {
     "data": {
      "image/png": "[encoded data removed]",
      "text/plain": [
       "<Figure size 600x600 with 1 Axes>"
      ]
     },
     "metadata": {},
     "output_type": "display_data"
    }
   ],
   "source": [
    "fig, ax = plt.subplots(1, 1, figsize=(6, 6), subplot_kw={'projection': ccrs.Mercator()})\n",
    "f_lon_min = -120.95 #-120.625\n",
    "f_lon_max = -119.95 #-120.3\n",
    "f_lat_min = 35.5 #35.775\n",
    "f_lat_max = 36.4 #36.07\n",
    "\n",
    "#---Plot stations---#\n",
    "for k, row in df_locorigin.iterrows():\n",
    "    staid = row.id\n",
    "    sta = row.station\n",
    "    lon, lat, elevation, depth = row.longitude, row.latitude, row.elevation, row.depth\n",
    "    ax.scatter(lon,lat, s=55, facecolors='none',  edgecolors='black',\n",
    "                    linestyle=\"-\", linewidth=2, zorder=6, transform=ccrs.PlateCarree())\n",
    "    ax.text(lon+0.005, lat+0.001, sta, fontsize=10, transform=ccrs.PlateCarree())\n",
    "\n",
    "\n",
    "#---plot fault geometry---#\n",
    "for sfkey in dict_sf:\n",
    "    faultx = dict_sf[sfkey][0]\n",
    "    faulty = dict_sf[sfkey][1]\n",
    "    min_x, min_y = [np.min(faultx), np.min(faulty)]\n",
    "    max_x, max_y = [np.max(faultx), np.max(faulty)]\n",
    "\n",
    "    if (min_x > f_lon_min) & (max_x < f_lon_max) & (min_y > f_lat_min) & (max_y < f_lat_max):\n",
    "        ax.plot(faultx, faulty, 'k', ls=\"-\", lw=1.0, zorder=-2, transform=ccrs.PlateCarree())\n",
    "#-------------------------------#\n",
    "\n",
    "#---Plot approximated fault loc---#\n",
    "ax.plot([approx_faultloc[0], approx_faultloc[2]], [approx_faultloc[1], approx_faultloc[3]],\n",
    "            'bo', ls=\"--\", lw=1.0, zorder=-2, transform=ccrs.PlateCarree())\n",
    "#-------------------------------------------#\n",
    "\n",
    "#---Plot cross-section---#\n",
    "ax.plot(C0_ll[0], C0_ll[1], \"o\", c=\"y\", ms=10, transform=ccrs.PlateCarree())\n",
    "ax.plot([A1_ll[0], B1_ll[0]], [A1_ll[1], B1_ll[1]], \"y-\", transform=ccrs.PlateCarree())\n",
    "ax.plot(ZERO_LON, ZERO_LAT, \"gv\", transform=ccrs.PlateCarree())\n",
    "\n",
    "#-------------------------------------------#\n",
    "\n",
    "ax.set_extent([f_lon_min, f_lon_max, f_lat_min, f_lat_max], crs=ccrs.PlateCarree())\n",
    "\n",
    "ax.set_xticks(np.arange(-120.85, -119.95, 0.2), crs=ccrs.PlateCarree())\n",
    "ax.set_yticks(np.arange(35.5, 36.4, 0.1), crs=ccrs.PlateCarree())\n",
    "lon_formatter = LongitudeFormatter(zero_direction_label=True, dms=False)\n",
    "lat_formatter = LatitudeFormatter(dms=False)\n",
    "ax.xaxis.set_major_formatter(lon_formatter)\n",
    "ax.yaxis.set_major_formatter(lat_formatter)\n",
    "\n",
    "fig.tight_layout()"
   ]
  },
  {
   "cell_type": "code",
   "execution_count": 20,
   "metadata": {},
   "outputs": [
    {
     "data": {
      "text/plain": [
       "(737549.8925857826, 3967008.9679012536)"
      ]
     },
     "execution_count": 20,
     "metadata": {},
     "output_type": "execute_result"
    }
   ],
   "source": [
    "A1_c = np.array(A1) - np.array(G0)\n",
    "B1_c = np.array(B1) - np.array(G0)\n",
    "G0"
   ]
  },
  {
   "cell_type": "code",
   "execution_count": 21,
   "metadata": {},
   "outputs": [
    {
     "name": "stdout",
     "output_type": "stream",
     "text": [
      "Start-x:-27.8051899 Start-y:2.0881508 Finish-x:0.9213919 Finish-y:29.9230840 [km]\n"
     ]
    }
   ],
   "source": [
    "print(f\"Start-x:{A1_c[0]/1e3:.7f} Start-y:{A1_c[1]/1e3:.7f} Finish-x:{B1_c[0]/1e3:.7f} Finish-y:{B1_c[1]/1e3:.7f} [km]\")\n"
   ]
  },
  {
   "cell_type": "code",
   "execution_count": 22,
   "metadata": {},
   "outputs": [
    {
     "data": {
      "text/plain": [
       "((-120.6775808633468, 35.843649386970604),\n",
       " (-120.35142385384519, 36.08777545398971))"
      ]
     },
     "execution_count": 22,
     "metadata": {},
     "output_type": "execute_result"
    }
   ],
   "source": [
    "# lat lon of cross-section for gmt\n",
    "A1_ll, B1_ll"
   ]
  },
  {
   "cell_type": "markdown",
   "metadata": {},
   "source": [
    "# Compute the elastic parameters\n",
    "\n",
    "We estimated the elastic parameters from the depth profile of the density and P and S wave velocities."
   ]
  },
  {
   "cell_type": "code",
   "execution_count": 23,
   "metadata": {},
   "outputs": [
    {
     "name": "stdout",
     "output_type": "stream",
     "text": [
      "E:417327.507bar 41.733GPa nu:0.35815 mu:15.364GPa\n"
     ]
    }
   ],
   "source": [
    "rho = 2569.441457711443\n",
    "cp  = 5201.496606965174\n",
    "cs  = 2445.2929950248754\n",
    "\n",
    "#shear modulus\n",
    "mu = rho * (cs **2) #[Pa]\n",
    "# poisson's ratio of rock\n",
    "vpvs = cp/cs\n",
    "nu  = 0.5 * (((vpvs**2) - 2.0) / ((vpvs**2) - 1.0))\n",
    "# Young's modulus of rock\n",
    "E = 2.0 * mu * (1+nu) # [Pa]\n",
    "\n",
    "print(f\"E:{E/1e5:.3f}bar {E/1e9:.3f}GPa nu:{nu:.5f} mu:{mu/1e9:.3f}GPa\")"
   ]
  },
  {
   "cell_type": "code",
   "execution_count": null,
   "metadata": {},
   "outputs": [],
   "source": []
  },
  {
   "cell_type": "code",
   "execution_count": null,
   "metadata": {},
   "outputs": [],
   "source": []
  }
 ],
 "metadata": {
  "@webio": {
   "lastCommId": null,
   "lastKernelId": null
  },
  "kernelspec": {
   "display_name": "Python 3 (ipykernel)",
   "language": "python",
   "name": "python3"
  },
  "language_info": {
   "codemirror_mode": {
    "name": "ipython",
    "version": 3
   },
   "file_extension": ".py",
   "mimetype": "text/x-python",
   "name": "python",
   "nbconvert_exporter": "python",
   "pygments_lexer": "ipython3",
   "version": "3.8.12"
  }
 },
 "nbformat": 4,
 "nbformat_minor": 4
}
