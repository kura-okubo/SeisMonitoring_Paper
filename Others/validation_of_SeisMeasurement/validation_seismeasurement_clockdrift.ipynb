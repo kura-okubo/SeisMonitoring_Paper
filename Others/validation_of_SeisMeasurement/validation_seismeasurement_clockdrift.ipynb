{
 "cells": [
  {
   "cell_type": "code",
   "execution_count": 1,
   "id": "49980b48",
   "metadata": {},
   "outputs": [],
   "source": [
    "using SeisIO, SeisNoise, JLD2, Dates, Plots, Interpolations\n",
    "using SeisMonitoring: seisdvv_mwcs, seisdvv_stretching"
   ]
  },
  {
   "cell_type": "code",
   "execution_count": 2,
   "id": "574b3989",
   "metadata": {},
   "outputs": [
    {
     "data": {
      "text/plain": [
       "CorrData with 1 Corrs\n",
       "      NAME: \"BP.EADB-BP.LCCB-11\"               \n",
       "        ID: \"2010-01-01\"                       \n",
       "       LOC: 35.8952 N, -120.423 E, 224.0 m\n",
       "      COMP: \"11\"                               \n",
       "   ROTATED: false                              \n",
       " CORR_TYPE: \"CC\"                               \n",
       "        FS: 20.0\n",
       "      GAIN: 1.0\n",
       "   FREQMIN: 0.9\n",
       "   FREQMAX: 1.2\n",
       "    CC_LEN: 3600.0\n",
       "   CC_STEP: 1800.0\n",
       "  WHITENED: false                              \n",
       " TIME_NORM: \"\"                                 \n",
       "      RESP: a0 1.0, f0 1.0, 1z, 1p\n",
       "      MISC: 17 entries                         \n",
       "     NOTES: 13 entries                         \n",
       "      DIST: 12.528\n",
       "       AZI: 318.74\n",
       "       BAZ: 138.686\n",
       "    MAXLAG: 100.0\n",
       "         T: 2010-01-01T00:30:00                …\n",
       "      CORR: 4001×1 Matrix{Float32}             \n"
      ]
     },
     "execution_count": 2,
     "metadata": {},
     "output_type": "execute_result"
    }
   ],
   "source": [
    "# read reference stacked trace processed in Cascadia\n",
    "\n",
    "t = jldopen(\"./reference_BP.EADB-BP.LCCB-11.jld2\", \"r\")\n",
    "Cref = t[\"2010-01-01T00:00:00--2022-06-01T00:00:00/0.9-1.2\"]"
   ]
  },
  {
   "cell_type": "markdown",
   "id": "8e00580d",
   "metadata": {},
   "source": [
    "# 1. Case with no clock shift"
   ]
  },
  {
   "cell_type": "code",
   "execution_count": 3,
   "id": "528307ba",
   "metadata": {},
   "outputs": [],
   "source": [
    "# Workflow\n",
    "# 1. Stretch the trace from -0.1% to 0.1%\n",
    "# 2. Store it in corrdata\n",
    "# 3. Measure dv/v using seismeasurement, and see the quality of the evaluation."
   ]
  },
  {
   "cell_type": "code",
   "execution_count": 4,
   "id": "dc0a1575",
   "metadata": {},
   "outputs": [
    {
     "data": {
      "text/plain": [
       "1000.0"
      ]
     },
     "execution_count": 4,
     "metadata": {},
     "output_type": "execute_result"
    }
   ],
   "source": [
    "dvmin = -0.001\n",
    "dvmax = 0.001\n",
    "ntrial = 11\n",
    "\n",
    "tvec = -Cref.maxlag:(1/Cref.fs):Cref.maxlag\n",
    "ϵ = range(dvmin, stop=dvmax, length=ntrial)\n",
    "L = 1. .- ϵ # from velocity decrease to increase\n",
    "tau = tvec * L'\n",
    "\n",
    "Cstretched = deepcopy(Cref)\n",
    "Cstretched.corr = zeros(Float32, size(Cref.corr)[1], ntrial)\n",
    "\n",
    "# set of stretched/compressed current waveforms\n",
    "waveform_ref = Cref.corr\n",
    "for ii = 1:ntrial\n",
    "\ts = LinearInterpolation(tau[:,ii],vec(waveform_ref),extrapolation_bc=Flat())(tvec)\n",
    "\tCstretched.corr[:, ii] = s\n",
    "end\n",
    "\n",
    "ref = vec(Cref.corr)\n",
    "\n",
    "# Measure dv/v using seismeasurement\n",
    "\n",
    "dvv_stretch = zeros(ntrial)\n",
    "dvv_mwcs = zeros(ntrial)\n",
    "dvv_mwcs0 = zeros(ntrial)\n",
    "\n",
    "InputDict = Dict()\n",
    "InputDict[\"mwcs_window_length\"] = 6.0\n",
    "InputDict[\"mwcs_window_step\"] = 3.0\n",
    "InputDict[\"mwcs_max_dt\"] = 1.0\n",
    "InputDict[\"mwcs_smoothing_half_win\"] = 5\n",
    "InputDict[\"coda_init_factor\"] = 2\n",
    "InputDict[\"max_coda_length\"] = 40\n",
    "InputDict[\"min_ballistic_twin\"],  =  5.0\n",
    "InputDict[\"background_vel\"] = 1000.0"
   ]
  },
  {
   "cell_type": "code",
   "execution_count": 5,
   "id": "6d1641df",
   "metadata": {},
   "outputs": [],
   "source": [
    "for ii = 1:ntrial\n",
    "    # stretchning\n",
    "    MeasurementDict_stretch = seisdvv_stretching(ref, Cstretched.corr[:, ii], Cref.misc[\"timelag\"], Cref.misc[\"coda_window\"],\n",
    "    Cref.freqmin,Cref.freqmax,\n",
    "    dvmin=-0.02,　dvmax=0.02,\n",
    "    ntrial_v=101)\n",
    "    dvv_stretch[ii] = 1e-2*MeasurementDict_stretch[\"dvv_ts\"]\n",
    "\n",
    "    # MWCS\n",
    "    MeasurementDict_mwcs = seisdvv_mwcs(ref, Cstretched.corr[:, ii],Cref.freqmin,Cref.freqmax,Cref.fs,-Cref.maxlag,\n",
    "    InputDict[\"mwcs_window_length\"], InputDict[\"mwcs_window_step\"], InputDict[\"mwcs_max_dt\"],\n",
    "    InputDict[\"mwcs_smoothing_half_win\"], InputDict[\"coda_init_factor\"], InputDict[\"max_coda_length\"],\n",
    "    InputDict[\"min_ballistic_twin\"], Cref.dist*1e3, InputDict[\"background_vel\"])\n",
    "\n",
    "    if isempty(MeasurementDict_mwcs)\n",
    "        dvv_mwcs[ii]  = 0.0\n",
    "        dvv_mwcs0[ii] = 0.0\n",
    "        else\n",
    "        dvv_mwcs[ii]  = -MeasurementDict_mwcs[\"dvv_mwcs\"]\n",
    "        dvv_mwcs0[ii] = -MeasurementDict_mwcs[\"dvv0_mwcs\"]\n",
    "        end\n",
    "end"
   ]
  },
  {
   "cell_type": "code",
   "execution_count": 6,
   "id": "0c797eb7",
   "metadata": {},
   "outputs": [
    {
     "data": {
      "text/plain": [
       "\"/Users/kokubo/Dropbox/NIED_RESEARCH/new_git_SeisMonitoring_Paper/dev_new_git_v2_SeisMonitoring_Paper/Others/validation_of_SeisMeasurement/seismeasurement_validation_BP.EADB-BP.LCCB-11_0.9-1.2Hz.png\""
      ]
     },
     "execution_count": 6,
     "metadata": {},
     "output_type": "execute_result"
    }
   ],
   "source": [
    "# Plot result\n",
    "\n",
    "p1 = plot(tvec, Cref.corr, lc = \"black\", label=Cref.name*\" \"*\"$(Cref.freqmin)-$(Cref.freqmax)Hz\")\n",
    "p1 = xlims!(-60, 60)\n",
    "p1 = plot!(legend = :topright, framestyle = :box)\n",
    "\n",
    "xaxis!(\"Lag time [s]\")\n",
    "yaxis!(\"CC\")\n",
    "\n",
    "p2 = plot([-0.002, 0.002], [-0.002, 0.002], ls=:dot, lc=\"black\", labels=\"\")\n",
    "p2 = scatter!(collect(ϵ), dvv_mwcs, labels=\"mwcs no origin\", ms=10, mc=\"blue\")\n",
    "p2 = scatter!(collect(ϵ), dvv_mwcs0,  labels=\"mwcs through origin\", ms=7)\n",
    "p2 = scatter!(collect(ϵ), dvv_stretch, labels=\"stretching\", ms=7, mc=\"red\")\n",
    "\n",
    "xlims!(-0.0012, 0.0012)\n",
    "ylims!(-0.0012, 0.0012)\n",
    "xaxis!(\"dv/v synthetic true\")\n",
    "yaxis!(\"dv/v seismeasurement\")\n",
    "p2 = plot!(legend = :bottomright, framestyle = :box, aspect_ratio=1)\n",
    "p2 = plot!(size=(700,600))\n",
    "\n",
    "p = plot(p1, p2, layout = grid(2, 1, heights=[0.3, 0.7]))\n",
    "savefig(p, \"./seismeasurement_validation_$(Cref.name)_$(Cref.freqmin)-$(Cref.freqmax)Hz.png\")"
   ]
  },
  {
   "cell_type": "markdown",
   "id": "2f4e6c82",
   "metadata": {},
   "source": [
    "# 2. Case with clock shift\n",
    "\n",
    "The cross-correlation function of u1 and u2 is written as\n",
    "\n",
    "$$ \\psi(t) = \\int_{-T}^{T} u_1(\\tau) u_2(t-\\tau) d\\tau. $$\n",
    "\n",
    "Given the clock shift D [sec] occurs in $u_2$, the CC is shifted as\n",
    "\n",
    "$$ \\psi'(t) = \\int_{-T}^{T} u_1(\\tau) u_2\\{(t-D)-\\tau \\} d\\tau. $$\n",
    "\n",
    "Therefore, $\\psi'(t) = \\psi(t-D) $, indicating the CC is temporally shifted with D. \n",
    "\n",
    "Here, we mimic this effect and measure dv/v using the stretching method and mwcs with and without crossing zero."
   ]
  },
  {
   "cell_type": "code",
   "execution_count": 7,
   "id": "366f17b0",
   "metadata": {},
   "outputs": [
    {
     "data": {
      "text/plain": [
       "4001-element Vector{Float64}:\n",
       " 0.0\n",
       " 0.0\n",
       " 0.0\n",
       " 0.0\n",
       " 0.0\n",
       " 0.0\n",
       " 0.0\n",
       " 0.0\n",
       " 0.0\n",
       " 0.0\n",
       " 0.0\n",
       " 0.0\n",
       " 0.0\n",
       " ⋮\n",
       " 0.0\n",
       " 0.0\n",
       " 0.0\n",
       " 0.0\n",
       " 0.0\n",
       " 0.0\n",
       " 0.0\n",
       " 0.0\n",
       " 0.0\n",
       " 0.0\n",
       " 0.0\n",
       " 0.0"
      ]
     },
     "execution_count": 7,
     "metadata": {},
     "output_type": "execute_result"
    }
   ],
   "source": [
    "clockshift = -30e-3 #2e-3 #[s]\n",
    "\n",
    "# set of stretched/compressed current waveforms\n",
    "waveform_ref = Cref.corr\n",
    "# demonstrate clock shift with no stretch\n",
    "ii = 6 # no stretch\n",
    "s = LinearInterpolation(tau[:,ii] .- clockshift, vec(waveform_ref),extrapolation_bc=Flat())(tvec)"
   ]
  },
  {
   "cell_type": "code",
   "execution_count": 8,
   "id": "a4551c2a",
   "metadata": {},
   "outputs": [
    {
     "data": {
      "text/plain": [
       "\"/Users/kokubo/Dropbox/NIED_RESEARCH/new_git_SeisMonitoring_Paper/dev_new_git_v2_SeisMonitoring_Paper/Others/validation_of_SeisMeasurement/seismeasurement_clockshift_demo_BP.EADB-BP.LCCB-11_0.9-1.2Hz.png\""
      ]
     },
     "execution_count": 8,
     "metadata": {},
     "output_type": "execute_result"
    }
   ],
   "source": [
    "p1 = plot(tvec, Cref.corr, lc = \"black\", title=Cref.name*\" \"*\"$(Cref.freqmin)-$(Cref.freqmax)Hz\", label=\"Reference\")\n",
    "p1 = plot!(tvec, s, lc = \"blue\", label=\"Time shifted with $(clockshift*1e3)ms\")\n",
    "p1 = xlims!(-60, 60)\n",
    "p1 = plot!(legend = :best, framestyle = :box)\n",
    "\n",
    "p2 = plot(tvec, Cref.corr, lc = \"black\", label=\"\")\n",
    "p2 = plot!(tvec, s, lc = \"blue\", label=\"Time shifted with $(clockshift*1e3)ms\")\n",
    "p2 = xlims!(0, 5)\n",
    "p2 = plot!(legend = :topright, framestyle = :box)\n",
    "\n",
    "p = plot(p1, p2, layout = grid(2, 1, heights=[0.5, 0.5]))\n",
    "savefig(p, \"./seismeasurement_clockshift_demo_$(Cref.name)_$(Cref.freqmin)-$(Cref.freqmax)Hz.png\")"
   ]
  },
  {
   "cell_type": "code",
   "execution_count": 9,
   "id": "70d4c6b6",
   "metadata": {},
   "outputs": [
    {
     "data": {
      "text/plain": [
       "1000.0"
      ]
     },
     "execution_count": 9,
     "metadata": {},
     "output_type": "execute_result"
    }
   ],
   "source": [
    "Cstretche_clockshift = deepcopy(Cref)\n",
    "Cstretche_clockshift.corr = zeros(Float32, size(Cref.corr)[1], ntrial)\n",
    "\n",
    "# set of stretched/compressed current waveforms\n",
    "waveform_ref = Cref.corr\n",
    "for ii = 1:ntrial\n",
    "    s = LinearInterpolation(tau[:,ii] .- clockshift, vec(waveform_ref),extrapolation_bc=Flat())(tvec)\n",
    "    Cstretche_clockshift.corr[:, ii] = s\n",
    "end\n",
    "\n",
    "ref = vec(Cref.corr)\n",
    "\n",
    "# Measure dv/v using seismeasurement\n",
    "\n",
    "dvv_stretch = zeros(ntrial)\n",
    "dvv_mwcs = zeros(ntrial)\n",
    "dvv_mwcs0 = zeros(ntrial)\n",
    "\n",
    "InputDict = Dict()\n",
    "InputDict[\"mwcs_window_length\"] = 6.0\n",
    "InputDict[\"mwcs_window_step\"] = 3.0\n",
    "InputDict[\"mwcs_max_dt\"] = 1.0\n",
    "InputDict[\"mwcs_smoothing_half_win\"] = 5\n",
    "InputDict[\"coda_init_factor\"] = 2\n",
    "InputDict[\"max_coda_length\"] = 40\n",
    "InputDict[\"min_ballistic_twin\"],  =  5.0\n",
    "InputDict[\"background_vel\"] = 1000.0"
   ]
  },
  {
   "cell_type": "code",
   "execution_count": 10,
   "id": "edf3a625",
   "metadata": {},
   "outputs": [],
   "source": [
    "for ii = 1:ntrial\n",
    "    # stretchning\n",
    "    MeasurementDict_stretch = seisdvv_stretching(ref, Cstretche_clockshift.corr[:, ii], Cref.misc[\"timelag\"], Cref.misc[\"coda_window\"],\n",
    "    Cref.freqmin,Cref.freqmax,\n",
    "    dvmin=-0.02,　dvmax=0.02,\n",
    "    ntrial_v=101)\n",
    "    dvv_stretch[ii] = 1e-2*MeasurementDict_stretch[\"dvv_ts\"]\n",
    "\n",
    "    # MWCS\n",
    "    MeasurementDict_mwcs = seisdvv_mwcs(ref, Cstretche_clockshift.corr[:, ii],Cref.freqmin,Cref.freqmax,Cref.fs,-Cref.maxlag,\n",
    "    InputDict[\"mwcs_window_length\"], InputDict[\"mwcs_window_step\"], InputDict[\"mwcs_max_dt\"],\n",
    "    InputDict[\"mwcs_smoothing_half_win\"], InputDict[\"coda_init_factor\"], InputDict[\"max_coda_length\"],\n",
    "    InputDict[\"min_ballistic_twin\"], Cref.dist*1e3, InputDict[\"background_vel\"])\n",
    "\n",
    "    if isempty(MeasurementDict_mwcs)\n",
    "        dvv_mwcs[ii]  = 0.0\n",
    "        dvv_mwcs0[ii] = 0.0\n",
    "        else\n",
    "        dvv_mwcs[ii]  = -MeasurementDict_mwcs[\"dvv_mwcs\"]\n",
    "        dvv_mwcs0[ii] = -MeasurementDict_mwcs[\"dvv0_mwcs\"]\n",
    "        end\n",
    "end"
   ]
  },
  {
   "cell_type": "code",
   "execution_count": 11,
   "id": "2f130e1e",
   "metadata": {},
   "outputs": [
    {
     "data": {
      "text/plain": [
       "\"/Users/kokubo/Dropbox/NIED_RESEARCH/new_git_SeisMonitoring_Paper/dev_new_git_v2_SeisMonitoring_Paper/Others/validation_of_SeisMeasurement/seismeasurement_validation_clockshift_BP.EADB-BP.LCCB-11_0.9-1.2Hz_clockshift_-30.0ms.png\""
      ]
     },
     "execution_count": 11,
     "metadata": {},
     "output_type": "execute_result"
    }
   ],
   "source": [
    "# Plot result\n",
    "p1 = plot(tvec, Cref.corr, lc = \"black\", label=Cref.name*\" \"*\"$(Cref.freqmin)-$(Cref.freqmax)Hz\", title=\"Clockshift with $(clockshift*1e3)ms\")\n",
    "p1 = xlims!(-60, 60)\n",
    "p1 = plot!(legend = :topright, framestyle = :box)\n",
    "\n",
    "xaxis!(\"Lag time [s]\")\n",
    "yaxis!(\"CC\")\n",
    "\n",
    "p2 = plot([-0.002, 0.002], [-0.002, 0.002], ls=:dot, lc=\"black\", labels=\"\")\n",
    "p2 = scatter!(collect(ϵ), dvv_mwcs, labels=\"mwcs no origin\", ms=10, mc=\"blue\")\n",
    "p2 = scatter!(collect(ϵ), dvv_mwcs0,  labels=\"mwcs through origin\", ms=7)\n",
    "p2 = scatter!(collect(ϵ), dvv_stretch, labels=\"stretching\", ms=7, mc=\"red\")\n",
    "\n",
    "xlims!(-0.0012, 0.0012)\n",
    "ylims!(-0.0012, 0.0012)\n",
    "xaxis!(\"dv/v synthetic true\")\n",
    "yaxis!(\"dv/v seismeasurement\")\n",
    "p2 = plot!(legend = :bottomright, framestyle = :box, aspect_ratio=1)\n",
    "p2 = plot!(size=(700,600))\n",
    "\n",
    "p = plot(p1, p2, layout = grid(2, 1, heights=[0.3, 0.7]))\n",
    "savefig(p, \"./seismeasurement_validation_clockshift_$(Cref.name)_$(Cref.freqmin)-$(Cref.freqmax)Hz_clockshift_$(clockshift*1e3)ms.png\")"
   ]
  },
  {
   "cell_type": "code",
   "execution_count": 12,
   "id": "62c73a50",
   "metadata": {},
   "outputs": [
    {
     "data": {
      "text/plain": [
       "-100.0:0.05:100.0"
      ]
     },
     "execution_count": 12,
     "metadata": {},
     "output_type": "execute_result"
    }
   ],
   "source": [
    "tvec"
   ]
  }
 ],
 "metadata": {
  "kernelspec": {
   "display_name": "Julia 1.8.1",
   "language": "julia",
   "name": "julia-1.8"
  },
  "language_info": {
   "file_extension": ".jl",
   "mimetype": "application/julia",
   "name": "julia",
   "version": "1.8.1"
  }
 },
 "nbformat": 4,
 "nbformat_minor": 5
}
