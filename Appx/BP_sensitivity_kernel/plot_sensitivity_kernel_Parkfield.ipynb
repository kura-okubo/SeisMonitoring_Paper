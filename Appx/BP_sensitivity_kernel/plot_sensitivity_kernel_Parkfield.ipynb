{
 "cells": [
  {
   "cell_type": "markdown",
   "metadata": {},
   "source": [
    "# Plot sensitivity kernel at Parkfield\n",
    "2023.06.27 Kurama Okubo\n",
    "\n",
    "This notebook compute Rayleight wave depth sensitivity kernel for our frequency bands.\n",
    "\n",
    "We use the `surf96` in the software package of  Computer programs in seismology:\n",
    "\n",
    "Herrmann, R. B. (2013) Computer programs in seismology: An evolving tool for instruction and research, Seism. Res. Lettr. 84, 1081-1088, doi:10.1785/0220110096\n",
    "\n",
    "- 2024.01.08 update for the sensitivity kernel of the Love wave"
   ]
  },
  {
   "cell_type": "code",
   "execution_count": 1,
   "metadata": {},
   "outputs": [],
   "source": [
    "import datetime\n",
    "import os\n",
    "\n",
    "import matplotlib\n",
    "import matplotlib.pyplot as plt\n",
    "\n",
    "%matplotlib inline\n",
    "import seaborn as sns \n",
    "# import importParaviewColormap\n",
    "import numpy as np\n",
    "import pandas as pd\n",
    "import glob\n",
    "\n",
    "import shutil\n",
    "from tqdm import tqdm\n",
    "\n",
    "import matplotlib as mpl\n",
    "\n",
    "os.environ['TZ'] = 'GMT' # change time zone to avoid confusion in unix_tvec conversion\n",
    "\n",
    "plt.rcParams[\"font.family\"] = 'Arial'\n",
    "# plt.rcParams[\"font.sans-serif\"] = \"DejaVu Sans, Arial, Helvetica, Lucida Grande, Verdana, Geneva, Lucid, Avant Garde, sans-serif\"\n",
    "plt.rcParams[\"font.size\"] = 12\n",
    "plt.rcParams[\"xtick.direction\"] = \"in\"\n",
    "plt.rcParams[\"xtick.major.size\"] = 5\n",
    "plt.rcParams[\"xtick.major.width\"] = 0.5\n",
    "plt.rcParams[\"xtick.minor.size\"] = 2\n",
    "plt.rcParams[\"xtick.minor.width\"] = 1\n",
    "plt.rcParams[\"xtick.minor.visible\"] = True\n",
    "\n",
    "plt.rcParams[\"ytick.direction\"] = \"in\"\n",
    "plt.rcParams[\"ytick.major.size\"] = 5\n",
    "plt.rcParams[\"ytick.major.width\"] = 0.5\n",
    "plt.rcParams[\"ytick.minor.size\"] = 2\n",
    "plt.rcParams[\"ytick.minor.width\"] = 1\n",
    "plt.rcParams[\"ytick.minor.visible\"] = True"
   ]
  },
  {
   "cell_type": "code",
   "execution_count": 2,
   "metadata": {},
   "outputs": [],
   "source": [
    "output_imgdir = \"./figure\"\n",
    "\n",
    "if not os.path.exists(output_imgdir):\n",
    "    os.makedirs(output_imgdir)"
   ]
  },
  {
   "cell_type": "markdown",
   "metadata": {},
   "source": [
    "The depth sensitivity can be used as \n",
    "\n",
    "$$ \\delta C(\\omega) = \\int \\dfrac{\\partial C}{\\partial V_s} (z) \\delta V_s (z) dz. $$\n",
    "\n",
    "See [1]\tFang, H., Yao, H., Zhang, H., Huang, Y.-C., and van der Hilst, R. D. Direct inversion of surface wave dispersion for three-dimensional shallow crustal structure based on ray tracing: methodology and application. Geophys. J. Int., 201(3):1251-1263, 2015, doi:10.1093/gji/ggv080.\n",
    "\n",
    "Thus, $\\partial C(\\omega) / \\partial V_s (z)$ provides which depth contributes more to the observed phase velocity change at given frequency."
   ]
  },
  {
   "cell_type": "markdown",
   "metadata": {},
   "source": [
    "# 1D structure at Parkfield\n",
    "\n",
    "We downloaded the 1D structure model from the SCEC Unified Community Velocity Model (UCVM)\n",
    "\n",
    "http://moho.scec.org/UCVM_web/web/viewer.php\n",
    "\n",
    "Note that the latlon of the Parkfield is: 35.89976042810284, -120.43258794236007 at Parkfield lodge.\n",
    "\n",
    "~~We selected the CVM-S4.26.M01 and CCA, and use the former one as the standard SCEC velocity model.~~\n",
    "\n",
    "We use the CVM-H v15.1.1.\n",
    "\n",
    "https://www.scec.org/research/cvm"
   ]
  },
  {
   "cell_type": "code",
   "execution_count": 3,
   "metadata": {},
   "outputs": [],
   "source": [
    "finame = \"UCVM_25408471_v_data.csv\"\n",
    "df_struct = pd.read_csv(f\"./data/{finame}\", header=7, names=[\"Depth(m)\", \"Vp(m/s)\", \"Vs(m/s)\", \"Density(kg/m^3)\"])"
   ]
  },
  {
   "cell_type": "code",
   "execution_count": 4,
   "metadata": {},
   "outputs": [
    {
     "data": {
      "text/html": [
       "<div>\n",
       "<style scoped>\n",
       "    .dataframe tbody tr th:only-of-type {\n",
       "        vertical-align: middle;\n",
       "    }\n",
       "\n",
       "    .dataframe tbody tr th {\n",
       "        vertical-align: top;\n",
       "    }\n",
       "\n",
       "    .dataframe thead th {\n",
       "        text-align: right;\n",
       "    }\n",
       "</style>\n",
       "<table border=\"1\" class=\"dataframe\">\n",
       "  <thead>\n",
       "    <tr style=\"text-align: right;\">\n",
       "      <th></th>\n",
       "      <th>Depth(m)</th>\n",
       "      <th>Vp(m/s)</th>\n",
       "      <th>Vs(m/s)</th>\n",
       "      <th>Density(kg/m^3)</th>\n",
       "    </tr>\n",
       "  </thead>\n",
       "  <tbody>\n",
       "    <tr>\n",
       "      <th>0</th>\n",
       "      <td>0</td>\n",
       "      <td>4696.080</td>\n",
       "      <td>2306.589</td>\n",
       "      <td>2489.757</td>\n",
       "    </tr>\n",
       "    <tr>\n",
       "      <th>1</th>\n",
       "      <td>50</td>\n",
       "      <td>4696.080</td>\n",
       "      <td>2306.589</td>\n",
       "      <td>2489.757</td>\n",
       "    </tr>\n",
       "    <tr>\n",
       "      <th>2</th>\n",
       "      <td>100</td>\n",
       "      <td>4695.749</td>\n",
       "      <td>2304.686</td>\n",
       "      <td>2489.709</td>\n",
       "    </tr>\n",
       "    <tr>\n",
       "      <th>3</th>\n",
       "      <td>150</td>\n",
       "      <td>4695.749</td>\n",
       "      <td>2304.686</td>\n",
       "      <td>2489.709</td>\n",
       "    </tr>\n",
       "    <tr>\n",
       "      <th>4</th>\n",
       "      <td>200</td>\n",
       "      <td>4697.251</td>\n",
       "      <td>2305.400</td>\n",
       "      <td>2489.924</td>\n",
       "    </tr>\n",
       "    <tr>\n",
       "      <th>...</th>\n",
       "      <td>...</td>\n",
       "      <td>...</td>\n",
       "      <td>...</td>\n",
       "      <td>...</td>\n",
       "    </tr>\n",
       "    <tr>\n",
       "      <th>196</th>\n",
       "      <td>9800</td>\n",
       "      <td>5758.243</td>\n",
       "      <td>2940.719</td>\n",
       "      <td>2666.867</td>\n",
       "    </tr>\n",
       "    <tr>\n",
       "      <th>197</th>\n",
       "      <td>9850</td>\n",
       "      <td>5758.243</td>\n",
       "      <td>2940.719</td>\n",
       "      <td>2666.867</td>\n",
       "    </tr>\n",
       "    <tr>\n",
       "      <th>198</th>\n",
       "      <td>9900</td>\n",
       "      <td>5765.237</td>\n",
       "      <td>2944.067</td>\n",
       "      <td>2668.250</td>\n",
       "    </tr>\n",
       "    <tr>\n",
       "      <th>199</th>\n",
       "      <td>9950</td>\n",
       "      <td>5765.237</td>\n",
       "      <td>2944.067</td>\n",
       "      <td>2668.250</td>\n",
       "    </tr>\n",
       "    <tr>\n",
       "      <th>200</th>\n",
       "      <td>10000</td>\n",
       "      <td>5781.868</td>\n",
       "      <td>2962.302</td>\n",
       "      <td>2671.553</td>\n",
       "    </tr>\n",
       "  </tbody>\n",
       "</table>\n",
       "<p>201 rows × 4 columns</p>\n",
       "</div>"
      ],
      "text/plain": [
       "     Depth(m)   Vp(m/s)   Vs(m/s)  Density(kg/m^3)\n",
       "0           0  4696.080  2306.589         2489.757\n",
       "1          50  4696.080  2306.589         2489.757\n",
       "2         100  4695.749  2304.686         2489.709\n",
       "3         150  4695.749  2304.686         2489.709\n",
       "4         200  4697.251  2305.400         2489.924\n",
       "..        ...       ...       ...              ...\n",
       "196      9800  5758.243  2940.719         2666.867\n",
       "197      9850  5758.243  2940.719         2666.867\n",
       "198      9900  5765.237  2944.067         2668.250\n",
       "199      9950  5765.237  2944.067         2668.250\n",
       "200     10000  5781.868  2962.302         2671.553\n",
       "\n",
       "[201 rows x 4 columns]"
      ]
     },
     "execution_count": 4,
     "metadata": {},
     "output_type": "execute_result"
    }
   ],
   "source": [
    "df_struct"
   ]
  },
  {
   "cell_type": "code",
   "execution_count": 5,
   "metadata": {},
   "outputs": [],
   "source": [
    "df_struct[\"d\"] = df_struct[\"Depth(m)\"].mul(1e-3)\n",
    "df_struct[\"vp\"] = df_struct[\"Vp(m/s)\"].mul(1e-3)\n",
    "df_struct[\"vs\"] = df_struct[\"Vs(m/s)\"].mul(1e-3)\n",
    "df_struct[\"rho\"] = df_struct[\"Density(kg/m^3)\"].mul(1e-3)"
   ]
  },
  {
   "cell_type": "code",
   "execution_count": 6,
   "metadata": {},
   "outputs": [
    {
     "data": {
      "text/plain": [
       "0.05"
      ]
     },
     "execution_count": 6,
     "metadata": {},
     "output_type": "execute_result"
    }
   ],
   "source": [
    "del_depth = df_struct[\"d\"][1] - df_struct[\"d\"][0] # [km] step of depth \n",
    "del_depth"
   ]
  },
  {
   "cell_type": "code",
   "execution_count": 7,
   "metadata": {},
   "outputs": [
    {
     "data": {
      "text/plain": [
       "0       0.00\n",
       "1       0.05\n",
       "2       0.10\n",
       "3       0.15\n",
       "4       0.20\n",
       "       ...  \n",
       "196     9.80\n",
       "197     9.85\n",
       "198     9.90\n",
       "199     9.95\n",
       "200    10.00\n",
       "Name: d, Length: 201, dtype: float64"
      ]
     },
     "execution_count": 7,
     "metadata": {},
     "output_type": "execute_result"
    }
   ],
   "source": [
    "df_struct[\"d\"]"
   ]
  },
  {
   "cell_type": "code",
   "execution_count": null,
   "metadata": {},
   "outputs": [],
   "source": [
    "fig, ax = plt.subplots(1, 1, figsize=(6, 8))\n",
    "\n",
    "ax.plot(df_struct[\"vp\"], df_struct[\"d\"],\"r-\", label=\"Vp\")\n",
    "ax.plot(df_struct[\"vs\"], df_struct[\"d\"],\"b-\", label=\"Vs\")\n",
    "ax.plot(df_struct[\"rho\"], df_struct[\"d\"],\"g-\", label=\"Density\")\n",
    "ax.set_xlim([0, 6])\n",
    "ax.set_ylim([0, 10])\n",
    "plt.gca().invert_yaxis()\n",
    "ax.legend(loc=0)\n",
    "ax.set_xlabel(\"km/s, g/cm^3\")\n",
    "ax.set_ylabel(\"Depth [km]\")\n",
    "\n",
    "fig.tight_layout()\n",
    "foname = (output_imgdir+f\"/structure_Parkfield1D_CVM.png\")\n",
    "plt.savefig(foname, dpi=300, bbox_inches='tight')"
   ]
  },
  {
   "cell_type": "code",
   "execution_count": 9,
   "metadata": {},
   "outputs": [],
   "source": [
    "# make the model96.dat file\n",
    "fo = open(\"./data/model_Parkfield1D_CVM.dat\", \"w\")\n",
    "\n",
    "fo.write(\"MODEL.01\\nPARKFIELD1D\\nISOTROPIC\\nKGS\\nFLAT EARTH\\n1-D\\nCONSTANT VELOCITY\\nLINE08\\nLINE09\\nLINE10\\nLINE11\\nH VP VS RHO QP QS ETAP ETAS FREFP FREFS\\n\")\n",
    "Qp = 0\n",
    "Qs = 0\n",
    "\n",
    "\n",
    "for i in range(len(df_struct)-1):\n",
    "    df_struct0 = df_struct.iloc[i]\n",
    "    df_struct1 = df_struct.iloc[i+1]\n",
    "    vp_avg = (df_struct0[\"vp\"] + df_struct1[\"vp\"])/2\n",
    "    vs_avg = (df_struct0[\"vs\"] + df_struct1[\"vs\"])/2\n",
    "    rho_avg = (df_struct0[\"rho\"] + df_struct1[\"rho\"])/2\n",
    "    fo.write(f\"{del_depth:.2f} {vp_avg:.2f} {vs_avg:.2f} {rho_avg:.2f} {Qp} {Qs} 0 0 1.0 1.0\\n\")\n",
    "    \n",
    "fo.close()"
   ]
  },
  {
   "cell_type": "markdown",
   "metadata": {},
   "source": [
    "# Compute the depth sensitivity using sdpder96"
   ]
  },
  {
   "cell_type": "markdown",
   "metadata": {},
   "source": [
    "## NOTE: Unit of depth sensitivity\n",
    "\n",
    "To synchronize the unit to Wu et al. (2016), we need to multiply $10^1$ as follows. \n",
    "The unit of system in sdpder96 is in KGS. That is\n",
    "\n",
    "$$ \\delta c \\text{[km/s]} = \\int  \\dfrac{\\partial C}{\\partial V_s} \\delta v_s(z) \\text{[km/s]}dz.$$\n",
    "\n",
    "Convert from [km] to [m] gives\n",
    "\n",
    "$$ \\delta c \\text{[m/s]} = \\int  \\dfrac{\\partial C}{\\partial V_s} \\delta v_s(z) \\text{[m/s]} \\times 10^3 dz.$$\n",
    "\n",
    "\n",
    "The change of velocity with depth is written as following:\n",
    "\n",
    "$$  \\delta v_s(z)\\text{[m/s]} = \\dfrac{dv}{v}\\text{[%]} \\times 10^{-2} \\times v_s^0\\text{[m/s]}, $$\n",
    "where the $v_s^0$ is the reference velocity. Substitute this to the equation above, we obtain \n",
    "\n",
    "$$ \\delta c \\text{[m/s]} = \\int \\dfrac{\\partial C}{\\partial V_s} \\dfrac{dv}{v}\\text{[%]} \\times 10^{-2} \\times v_s^0\\text{[m/s]} \\times 10^3 dz.$$\n",
    "\n",
    "$$ =  \\int \\left( \\dfrac{\\partial C}{\\partial V_s} \\times 10^1 \\right) \\dfrac{dv}{v}\\text{[%]} \\times v_s^0\\text{[m/s]} dz.$$\n",
    "\n",
    "Thus, we multiply the scaling factor of $10^1$ to use the dv/v in [%] and velocity in [m/s].\n"
   ]
  },
  {
   "cell_type": "code",
   "execution_count": 10,
   "metadata": {},
   "outputs": [
    {
     "name": "stdout",
     "output_type": "stream",
     "text": [
      "target freq: [0.35, 0.7, 1.05, 1.6][Hz]\n",
      "target period:[2.85714286 1.42857143 0.95238095 0.625     ] [s]\n",
      "for dt in [1.42857143 0.71428571 0.47619048 0.3125    ]\n"
     ]
    }
   ],
   "source": [
    "freqbands = [0.2, 0.5, 0.9, 1.2, 2.0]\n",
    "mfreqs = []\n",
    "for i in range(len(freqbands)-1):\n",
    "    mfreqs.append((freqbands[i] + freqbands[i+1])/2)\n",
    "\n",
    "print(f\"target freq: {mfreqs}[Hz]\")\n",
    "print(f\"target period:{1/np.array(mfreqs)} [s]\")\n",
    "\n",
    "# write the list of DT for the input command line of sprep96\n",
    "target_DT=1/np.array(mfreqs)/2\n",
    "print(f\"for dt in {np.round(target_DT, 8)}\")"
   ]
  },
  {
   "cell_type": "markdown",
   "metadata": {},
   "source": [
    "__Please compile the package and run the ./code/runit_depthsensitivity_Parkfield.sh at this stage__ to compute the depth sensitivity."
   ]
  },
  {
   "cell_type": "code",
   "execution_count": 11,
   "metadata": {},
   "outputs": [],
   "source": [
    "# Compute the center of layers at depth\n",
    "dep_vec = (df_struct[\"d\"].values + del_depth/2)[:-1]\n",
    "Ndep = len(dep_vec)"
   ]
  },
  {
   "cell_type": "code",
   "execution_count": 12,
   "metadata": {},
   "outputs": [
    {
     "name": "stdout",
     "output_type": "stream",
     "text": [
      "0.2-0.5Hz\n",
      "0.35\n",
      "0.5-0.9Hz\n",
      "0.7\n",
      "0.9-1.2Hz\n",
      "1.05\n",
      "1.2-2.0Hz\n",
      "1.6\n"
     ]
    }
   ],
   "source": [
    "# Read the table in text file for the depth sensitivity of Rayleigh wave\n",
    "dcdb_scaling_factor = 10.0\n",
    "Nheader = 208 #108\n",
    "\n",
    "dcdb_all_R = dict()\n",
    "for i, dt in enumerate(1/np.array(mfreqs)/2):\n",
    "    freqband = f\"{freqbands[i]}-{freqbands[i+1]}Hz\"\n",
    "    print(freqband)\n",
    "    finame = f\"./code/SRDER_DT{np.round(target_DT[i], 8)}.TXT\"\n",
    "    df_srder=pd.read_csv(finame, delim_whitespace=True, header=Nheader, nrows=Ndep, skip_blank_lines=False, index_col=0)\n",
    "    dcdb_all_R[freqband] = df_srder[\"DC/DB\"].values*dcdb_scaling_factor\n",
    "    # check frequency in the output of sdpder96\n",
    "    f = open(finame)\n",
    "    content = f.readlines()\n",
    "    freq_check = round(1/float(content[Nheader-2].split(\"C\")[0].split(\"=\")[-1]), 3)\n",
    "    f.close()\n",
    "    print(freq_check)"
   ]
  },
  {
   "cell_type": "code",
   "execution_count": 13,
   "metadata": {},
   "outputs": [
    {
     "name": "stdout",
     "output_type": "stream",
     "text": [
      "0.2-0.5Hz\n",
      "0.35\n",
      "0.5-0.9Hz\n",
      "0.7\n",
      "0.9-1.2Hz\n",
      "1.05\n",
      "1.2-2.0Hz\n",
      "1.6\n"
     ]
    }
   ],
   "source": [
    "# Read the table in text file for the depth sensitivity of Love wave\n",
    "dcdb_scaling_factor = 10.0\n",
    "Nheader = 208 #108\n",
    "\n",
    "dcdb_all_L = dict()\n",
    "for i, dt in enumerate(1/np.array(mfreqs)/2):\n",
    "    freqband = f\"{freqbands[i]}-{freqbands[i+1]}Hz\"\n",
    "    print(freqband)\n",
    "    finame = f\"./code/SLDER_DT{np.round(target_DT[i], 8)}.TXT\"\n",
    "    df_srder=pd.read_csv(finame, delim_whitespace=True, header=Nheader, nrows=Ndep, skip_blank_lines=False, index_col=0)\n",
    "    dcdb_all_L[freqband] = df_srder[\"DC/DB\"].values*dcdb_scaling_factor\n",
    "    # check frequency in the output of sdpder96\n",
    "    f = open(finame)\n",
    "    content = f.readlines()\n",
    "    freq_check = round(1/float(content[Nheader-2].split(\"C\")[0].split(\"=\")[-1]), 3)\n",
    "    f.close()\n",
    "    print(freq_check)"
   ]
  },
  {
   "cell_type": "markdown",
   "metadata": {},
   "source": [
    "# Plot the depth sensitivity"
   ]
  },
  {
   "cell_type": "code",
   "execution_count": null,
   "metadata": {
    "scrolled": true
   },
   "outputs": [],
   "source": [
    "lc = plt.cm.viridis(np.linspace(0, 0.9, len(dcdb_all_R)))\n",
    "lc"
   ]
  },
  {
   "cell_type": "code",
   "execution_count": 15,
   "metadata": {},
   "outputs": [],
   "source": [
    "# maxid = np.argmax(dcdb_all[freqband])\n",
    "# halfid = maxid + np.where(dcdb_all[freqband][maxid:] <= 0.5*dcdb_all[freqband][maxid])[0][0]\n",
    "# dcdb_all[freqband][halfid]"
   ]
  },
  {
   "cell_type": "code",
   "execution_count": null,
   "metadata": {},
   "outputs": [],
   "source": [
    "fig, axs = plt.subplots(1, 2, sharey=False, figsize=(8,7))\n",
    "\n",
    "# velocity profile\n",
    "axs[0].plot(df_struct[\"vp\"], df_struct[\"d\"],\"-\", c=\"crimson\", label=\"Vp\")\n",
    "axs[0].plot(df_struct[\"vs\"], df_struct[\"d\"],\"-\", c=\"darkblue\", label=\"Vs\")\n",
    "axs[0].plot(df_struct[\"rho\"], df_struct[\"d\"],\"k--\", label=\"Density\")\n",
    "axs[0].set_xlim([0, 5.5])\n",
    "axs[0].set_ylim([0, 5])\n",
    "axs[0].legend(loc=3)\n",
    "axs[0].set_xlabel(\"Velocity [km/s] or Density [g/cm$^3$]\")\n",
    "axs[0].set_ylabel(\"Depth [km]\")\n",
    "axs[0].invert_yaxis()\n",
    "\n",
    "# depth sensitivity\n",
    "for i in range(len(freqbands)-1):\n",
    "    freqband = f\"{freqbands[i]}-{freqbands[i+1]}Hz\"\n",
    "    axs[1].plot(dcdb_all_R[freqband], dep_vec, label=f\"{mfreqs[i]:.2f}Hz: {freqband}\", c=lc[i])\n",
    "    # plot half amplitude at depth\n",
    "    maxid = np.argmax(dcdb_all_R[freqband])\n",
    "    halfid = maxid + np.where(dcdb_all_R[freqband][maxid:] <= 0.5*dcdb_all_R[freqband][maxid])[0][0]\n",
    "    axs[1].plot(dcdb_all_R[freqband][halfid], dep_vec[halfid], \"o\", ms=6, markerfacecolor=lc[i], markeredgecolor=\"k\")\n",
    "        \n",
    "axs[1].legend(loc=4)\n",
    "axs[1].set_xlabel(\"Depth sensitivity, dC/dVs\")\n",
    "axs[1].set_ylabel(\"Depth [km]\")\n",
    "axs[1].set_xlim([0, 0.6])\n",
    "axs[1].set_ylim([0, 5])\n",
    "axs[1].invert_yaxis()\n",
    "fig.tight_layout()\n",
    "axs[0].tick_params(axis='x', pad=5)\n",
    "axs[1].tick_params(axis='x', pad=5)\n",
    "\n",
    "plt.subplots_adjust(wspace=0.25)\n",
    "\n",
    "plt.text(0.005, 1.0, \"(a)\", fontsize=14, fontweight=\"bold\", transform=plt.gcf().transFigure)\n",
    "plt.text(0.505, 1.0, \"(b)\", fontsize=14, fontweight=\"bold\", transform=plt.gcf().transFigure)\n",
    "\n",
    "foname = (output_imgdir+f\"/depthsensitivity_Parkfield_master.png\")\n",
    "plt.savefig(foname, dpi=300, bbox_inches='tight')"
   ]
  },
  {
   "cell_type": "markdown",
   "metadata": {},
   "source": [
    "## Plot both Love and Rayleigh sensitivity kernel"
   ]
  },
  {
   "cell_type": "code",
   "execution_count": null,
   "metadata": {},
   "outputs": [],
   "source": [
    "fig, axs = plt.subplots(1, 3, sharey=False, figsize=(12,7))\n",
    "\n",
    "# velocity profile\n",
    "axs[0].plot(df_struct[\"vp\"], df_struct[\"d\"],\"-\", c=\"crimson\", label=\"Vp\")\n",
    "axs[0].plot(df_struct[\"vs\"], df_struct[\"d\"],\"-\", c=\"darkblue\", label=\"Vs\")\n",
    "axs[0].plot(df_struct[\"rho\"], df_struct[\"d\"],\"k--\", label=\"Density\")\n",
    "axs[0].set_xlim([0, 6])\n",
    "axs[0].set_ylim([0, 10])\n",
    "axs[0].legend(loc=3)\n",
    "axs[0].set_xlabel(\"Velocity [km/s] or Density [g/cm$^3$]\")\n",
    "axs[0].set_ylabel(\"Depth [km]\")\n",
    "axs[0].invert_yaxis()\n",
    "\n",
    "# depth sensitivity\n",
    "for i in range(len(freqbands)-1):\n",
    "    freqband = f\"{freqbands[i]}-{freqbands[i+1]}Hz\"\n",
    "    axs[1].plot(dcdb_all_R[freqband], dep_vec, label=f\"{mfreqs[i]:.2f}Hz: {freqband}\", c=lc[i])\n",
    "    axs[2].plot(dcdb_all_L[freqband], dep_vec, label=f\"{mfreqs[i]:.2f}Hz: {freqband}\", c=lc[i])\n",
    "    # plot half amplitude at depth\n",
    "    maxid_R = np.argmax(dcdb_all_R[freqband])\n",
    "    halfid_R = maxid_R + np.where(dcdb_all_R[freqband][maxid_R:] <= 0.5*dcdb_all_R[freqband][maxid_R])[0][0]\n",
    "    axs[1].plot(dcdb_all_R[freqband][halfid_R], dep_vec[halfid_R], \"o\", ms=6, markerfacecolor=lc[i], markeredgecolor=\"k\")\n",
    "\n",
    "    maxid_L = np.argmax(dcdb_all_L[freqband])\n",
    "    halfid_L = maxid_L + np.where(dcdb_all_L[freqband][maxid_L:] <= 0.5*dcdb_all_L[freqband][maxid_L])[0][0]\n",
    "    axs[2].plot(dcdb_all_L[freqband][halfid_L], dep_vec[halfid_L], \"o\", ms=6, markerfacecolor=lc[i], markeredgecolor=\"k\")\n",
    "    \n",
    "    \n",
    "# decorate\n",
    "for i in [1,2]:\n",
    "    axs[i].legend(loc=4)\n",
    "    axs[i].set_xlabel(\"Depth sensitivity, dC/dVs\")\n",
    "    axs[i].set_ylabel(\"Depth [km]\")\n",
    "    axs[i].set_xlim([0, 0.6])\n",
    "    axs[i].set_ylim([0, 10])\n",
    "    axs[i].invert_yaxis()\n",
    "\n",
    "fig.tight_layout()\n",
    "axs[0].tick_params(axis='x', pad=5)\n",
    "axs[1].tick_params(axis='x', pad=5)\n",
    "axs[2].tick_params(axis='x', pad=5)\n",
    "\n",
    "plt.subplots_adjust(wspace=0.25)\n",
    "\n",
    "plt.text(0.005, 1.0, \"(a)\", fontsize=14, fontweight=\"bold\", transform=plt.gcf().transFigure)\n",
    "plt.text(0.335, 1.0, \"(b)\", fontsize=14, fontweight=\"bold\", transform=plt.gcf().transFigure)\n",
    "plt.text(0.665, 1.0, \"(c)\", fontsize=14, fontweight=\"bold\", transform=plt.gcf().transFigure)\n",
    "axs[1].set_title('Rayleigh waves')\n",
    "axs[2].set_title('Love waves')\n",
    "\n",
    "foname = (output_imgdir+f\"/depthsensitivity_Parkfield_master_LoveandRayleigh.png\")\n",
    "plt.savefig(foname, dpi=300, bbox_inches='tight')"
   ]
  },
  {
   "cell_type": "markdown",
   "metadata": {},
   "source": [
    "# Conclusion\n",
    "\n",
    "We obtained the Rayleigh and Love wave depth sensitivity kernel to show the frequency band of 0.9-1.2 Hz corresponds to the velocity change at ~1km depth."
   ]
  },
  {
   "cell_type": "code",
   "execution_count": null,
   "metadata": {},
   "outputs": [],
   "source": []
  }
 ],
 "metadata": {
  "@webio": {
   "lastCommId": null,
   "lastKernelId": null
  },
  "kernelspec": {
   "display_name": "Python 3 (ipykernel)",
   "language": "python",
   "name": "python3"
  },
  "language_info": {
   "codemirror_mode": {
    "name": "ipython",
    "version": 3
   },
   "file_extension": ".py",
   "mimetype": "text/x-python",
   "name": "python",
   "nbconvert_exporter": "python",
   "pygments_lexer": "ipython3",
   "version": "3.8.12"
  }
 },
 "nbformat": 4,
 "nbformat_minor": 4
}
