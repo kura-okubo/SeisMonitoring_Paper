{
 "cells": [
  {
   "cell_type": "markdown",
   "metadata": {},
   "source": [
    "# Plot PPSD on the BP network\n",
    "2021.05.25 Kurama Okubo\n",
    "\n",
    "This notebook plot PPSD on the BP network to check the consistency in ambient seismic noise strength.\n",
    "\n",
    "2022.06.22: update to compare with UW backup data.\n",
    "\n",
    "2023.04.26: update figure colorbar."
   ]
  },
  {
   "cell_type": "code",
   "execution_count": 1,
   "metadata": {},
   "outputs": [],
   "source": [
    "import os\n",
    "import obspy\n",
    "from obspy import read, Stream, Trace\n",
    "from scipy import signal\n",
    "import matplotlib.pyplot as plt\n",
    "%matplotlib inline\n",
    "import glob\n",
    "from glob import glob\n",
    "import numpy as np\n",
    "import pandas as pd\n",
    "import datetime\n",
    "from datetime import timedelta\n",
    "from tqdm import tqdm\n",
    "import warnings\n",
    "\n",
    "import matplotlib.cm as cm\n",
    "import matplotlib as mpl\n",
    "\n",
    "import seaborn as sns # to plot heatmap\n",
    "import matplotlib.dates as mdates\n",
    "\n",
    "import itertools\n",
    "\n",
    "\n",
    "os.environ['TZ'] = 'GMT' # change time zone to avoid confusion in unix_tvec conversion\n",
    "\n",
    "plt.rcParams[\"font.family\"] = 'Arial'\n",
    "# plt.rcParams[\"font.sans-serif\"] = \"DejaVu Sans, Arial, Helvetica, Lucida Grande, Verdana, Geneva, Lucid, Avant Garde, sans-serif\"\n",
    "plt.rcParams[\"font.size\"] = 12\n",
    "plt.rcParams[\"xtick.direction\"] = \"in\"\n",
    "plt.rcParams[\"xtick.major.size\"] = 4.75\n",
    "plt.rcParams[\"xtick.major.width\"] = 0.75\n",
    "plt.rcParams[\"xtick.minor.size\"] = 3\n",
    "plt.rcParams[\"xtick.minor.width\"] = 0.4\n",
    "plt.rcParams[\"xtick.minor.visible\"] = True\n",
    "\n",
    "plt.rcParams[\"ytick.direction\"] = \"in\"\n",
    "plt.rcParams[\"ytick.major.size\"] = 4.75\n",
    "plt.rcParams[\"ytick.major.width\"] = 0.75\n",
    "plt.rcParams[\"ytick.minor.size\"] = 3\n",
    "plt.rcParams[\"ytick.minor.width\"] = 0.4\n",
    "plt.rcParams[\"ytick.minor.visible\"] = True\n",
    "\n",
    "plt.rcParams[\"savefig.transparent\"] = True\n",
    "\n",
    "plt.rcParams['axes.linewidth'] = 0.75"
   ]
  },
  {
   "cell_type": "code",
   "execution_count": 2,
   "metadata": {},
   "outputs": [],
   "source": [
    "figdir = \"./figure_DataAvailability_BP\"\n",
    "if not os.path.exists(figdir):\n",
    "    os.makedirs(figdir)"
   ]
  },
  {
   "cell_type": "code",
   "execution_count": 3,
   "metadata": {},
   "outputs": [],
   "source": [
    "datacase = \"seisremoveeq\" #\"rawseismicdata\" #\"seisremoveeq\"\n",
    "csv_file = f\"./csv_dataavailability_uw/dataavailability_{datacase}_uw_2002-2022.csv\"\n",
    "datatype = csv_file.split('/')[-1][:-4]\n",
    "df_origin = pd.read_csv(csv_file)"
   ]
  },
  {
   "cell_type": "markdown",
   "metadata": {},
   "source": [
    "## Merge channels between ..BP* and .40.SP*\n",
    "\n",
    "As the instruments are replaced during 2011-12, we combine BP* and SP* as single channel "
   ]
  },
  {
   "cell_type": "code",
   "execution_count": 4,
   "metadata": {},
   "outputs": [],
   "source": [
    "def get_sta_nochan(x):\n",
    "    net, sta, loc, chan = x.split(\".\")\n",
    "    return \"{}.{}-{}\".format(net, sta, chan[-1])\n",
    "\n",
    "df_origin['sta_nochan'] = df_origin['station'].apply(get_sta_nochan)\n",
    "stations = df_origin['sta_nochan'].unique()"
   ]
  },
  {
   "cell_type": "markdown",
   "metadata": {},
   "source": [
    "## convert to datetime"
   ]
  },
  {
   "cell_type": "code",
   "execution_count": 5,
   "metadata": {},
   "outputs": [],
   "source": [
    "def datestr2date(x):\n",
    "    return pd.to_datetime(x.split('T')[0], format='%Y-%m-%d')\n",
    "    \n",
    "df_origin['plotdate'] = df_origin['date'].apply(datestr2date)"
   ]
  },
  {
   "cell_type": "markdown",
   "metadata": {},
   "source": [
    "## Plot heatmap\n",
    "\n",
    "sns.heatmap is a categorical plot, so we cannot use DatetimeLocater. So we first prepare the plotting dateframe with uniform time vector, then prepare xticks and xticklabels independently.\n",
    "\n",
    "work flow:\n",
    "1. Initialize dataframe with uniform time vector\n",
    "2. prepare dataframe for update. Update if seisdata is available using updatekey\n",
    "3. plot using sns.heatmap. As it is categorical, prepare xticks for yearly locator."
   ]
  },
  {
   "cell_type": "code",
   "execution_count": 6,
   "metadata": {},
   "outputs": [
    {
     "data": {
      "text/plain": [
       "array([datetime.date(2002, 1, 1), datetime.date(2002, 1, 2),\n",
       "       datetime.date(2002, 1, 3), ..., datetime.date(2022, 5, 29),\n",
       "       datetime.date(2022, 5, 30), datetime.date(2022, 5, 31)],\n",
       "      dtype=object)"
      ]
     },
     "execution_count": 6,
     "metadata": {},
     "output_type": "execute_result"
    }
   ],
   "source": [
    "# make uniform time vector\n",
    "starttime = datetime.datetime(2002, 1, 1)\n",
    "endtime = datetime.datetime(2022, 6, 1)\n",
    "\n",
    "download_timeunit = 86400\n",
    "st_center = (download_timeunit/86400)/2 # mid time of the day\n",
    "date_range_st = starttime + datetime.timedelta(days=st_center) # day\n",
    "datefreq = '1D'\n",
    "uniformdates = pd.date_range(start=date_range_st, end=endtime, freq=datefreq)\n",
    "uniform_tvec = uniformdates.date\n",
    "uniform_tvec"
   ]
  },
  {
   "cell_type": "code",
   "execution_count": 7,
   "metadata": {},
   "outputs": [],
   "source": [
    "# make new dataframe with uniform tvec; set np.nan if no data is available at that date\n",
    "stationdate = list(itertools.product(stations, uniform_tvec))\n",
    "# data_init = [[\"{}__{}\".format(stationdate[i][0], stationdate[i][1]), stationdate[i][0], stationdate[i][1], np.NaN, np.NaN] for i in range(len(stationdate))]\n",
    "data_init = [[\"{}__{}\".format(stationdate[i][0], stationdate[i][1]), stationdate[i][0], stationdate[i][1], 0.0, 0.0] for i in range(len(stationdate))]"
   ]
  },
  {
   "cell_type": "code",
   "execution_count": 8,
   "metadata": {},
   "outputs": [],
   "source": [
    "# initialize dataframe\n",
    "df_dataavail_all = pd.DataFrame(data_init,\n",
    "                                 columns=['updatekey', 'sta_nochan', 'plotdate_uni', 'data_fraction', 'removal_fraction'])\n",
    "df_dataavail_all['plotdate_uni'] = pd.to_datetime(df_dataavail_all['plotdate_uni'])\n",
    "df_dataavail_all.set_index('updatekey', inplace=True)"
   ]
  },
  {
   "cell_type": "code",
   "execution_count": 9,
   "metadata": {},
   "outputs": [
    {
     "data": {
      "text/html": [
       "<div>\n",
       "<style scoped>\n",
       "    .dataframe tbody tr th:only-of-type {\n",
       "        vertical-align: middle;\n",
       "    }\n",
       "\n",
       "    .dataframe tbody tr th {\n",
       "        vertical-align: top;\n",
       "    }\n",
       "\n",
       "    .dataframe thead th {\n",
       "        text-align: right;\n",
       "    }\n",
       "</style>\n",
       "<table border=\"1\" class=\"dataframe\">\n",
       "  <thead>\n",
       "    <tr style=\"text-align: right;\">\n",
       "      <th></th>\n",
       "      <th>sta_nochan</th>\n",
       "      <th>plotdate_uni</th>\n",
       "      <th>data_fraction</th>\n",
       "      <th>removal_fraction</th>\n",
       "    </tr>\n",
       "    <tr>\n",
       "      <th>updatekey</th>\n",
       "      <th></th>\n",
       "      <th></th>\n",
       "      <th></th>\n",
       "      <th></th>\n",
       "    </tr>\n",
       "  </thead>\n",
       "  <tbody>\n",
       "    <tr>\n",
       "      <th>BP.CCRB-1__2002-01-01</th>\n",
       "      <td>BP.CCRB-1</td>\n",
       "      <td>2002-01-01</td>\n",
       "      <td>0.0</td>\n",
       "      <td>0.0</td>\n",
       "    </tr>\n",
       "    <tr>\n",
       "      <th>BP.CCRB-1__2002-01-02</th>\n",
       "      <td>BP.CCRB-1</td>\n",
       "      <td>2002-01-02</td>\n",
       "      <td>0.0</td>\n",
       "      <td>0.0</td>\n",
       "    </tr>\n",
       "    <tr>\n",
       "      <th>BP.CCRB-1__2002-01-03</th>\n",
       "      <td>BP.CCRB-1</td>\n",
       "      <td>2002-01-03</td>\n",
       "      <td>0.0</td>\n",
       "      <td>0.0</td>\n",
       "    </tr>\n",
       "    <tr>\n",
       "      <th>BP.CCRB-1__2002-01-04</th>\n",
       "      <td>BP.CCRB-1</td>\n",
       "      <td>2002-01-04</td>\n",
       "      <td>0.0</td>\n",
       "      <td>0.0</td>\n",
       "    </tr>\n",
       "    <tr>\n",
       "      <th>BP.CCRB-1__2002-01-05</th>\n",
       "      <td>BP.CCRB-1</td>\n",
       "      <td>2002-01-05</td>\n",
       "      <td>0.0</td>\n",
       "      <td>0.0</td>\n",
       "    </tr>\n",
       "  </tbody>\n",
       "</table>\n",
       "</div>"
      ],
      "text/plain": [
       "                      sta_nochan plotdate_uni  data_fraction  removal_fraction\n",
       "updatekey                                                                     \n",
       "BP.CCRB-1__2002-01-01  BP.CCRB-1   2002-01-01            0.0               0.0\n",
       "BP.CCRB-1__2002-01-02  BP.CCRB-1   2002-01-02            0.0               0.0\n",
       "BP.CCRB-1__2002-01-03  BP.CCRB-1   2002-01-03            0.0               0.0\n",
       "BP.CCRB-1__2002-01-04  BP.CCRB-1   2002-01-04            0.0               0.0\n",
       "BP.CCRB-1__2002-01-05  BP.CCRB-1   2002-01-05            0.0               0.0"
      ]
     },
     "execution_count": 9,
     "metadata": {},
     "output_type": "execute_result"
    }
   ],
   "source": [
    "df_dataavail_all.head()"
   ]
  },
  {
   "cell_type": "code",
   "execution_count": 10,
   "metadata": {},
   "outputs": [],
   "source": [
    "# prepare dataframe for update df\n",
    "df_temp = df_origin.filter(items=['sta_nochan', 'plotdate', 'data_fraction', 'removal_fraction'])\n",
    "df_temp.rename(columns = {'plotdate': 'plotdate_uni'}, inplace = True)\n",
    "df_temp['updatekey'] = df_temp['sta_nochan'].astype(str) + '__' + df_temp['plotdate_uni'].astype(str)\n",
    "df_temp.set_index('updatekey',inplace=True)"
   ]
  },
  {
   "cell_type": "code",
   "execution_count": 11,
   "metadata": {},
   "outputs": [
    {
     "data": {
      "text/html": [
       "<div>\n",
       "<style scoped>\n",
       "    .dataframe tbody tr th:only-of-type {\n",
       "        vertical-align: middle;\n",
       "    }\n",
       "\n",
       "    .dataframe tbody tr th {\n",
       "        vertical-align: top;\n",
       "    }\n",
       "\n",
       "    .dataframe thead th {\n",
       "        text-align: right;\n",
       "    }\n",
       "</style>\n",
       "<table border=\"1\" class=\"dataframe\">\n",
       "  <thead>\n",
       "    <tr style=\"text-align: right;\">\n",
       "      <th></th>\n",
       "      <th>sta_nochan</th>\n",
       "      <th>plotdate_uni</th>\n",
       "      <th>data_fraction</th>\n",
       "      <th>removal_fraction</th>\n",
       "    </tr>\n",
       "    <tr>\n",
       "      <th>updatekey</th>\n",
       "      <th></th>\n",
       "      <th></th>\n",
       "      <th></th>\n",
       "      <th></th>\n",
       "    </tr>\n",
       "  </thead>\n",
       "  <tbody>\n",
       "    <tr>\n",
       "      <th>BP.EADB-1__2011-07-20</th>\n",
       "      <td>BP.EADB-1</td>\n",
       "      <td>2011-07-20</td>\n",
       "      <td>0.962494</td>\n",
       "      <td>0.037500</td>\n",
       "    </tr>\n",
       "    <tr>\n",
       "      <th>BP.EADB-2__2011-07-20</th>\n",
       "      <td>BP.EADB-2</td>\n",
       "      <td>2011-07-20</td>\n",
       "      <td>0.929164</td>\n",
       "      <td>0.070833</td>\n",
       "    </tr>\n",
       "    <tr>\n",
       "      <th>BP.EADB-3__2011-07-20</th>\n",
       "      <td>BP.EADB-3</td>\n",
       "      <td>2011-07-20</td>\n",
       "      <td>0.952771</td>\n",
       "      <td>0.047223</td>\n",
       "    </tr>\n",
       "    <tr>\n",
       "      <th>BP.EADB-1__2011-07-20</th>\n",
       "      <td>BP.EADB-1</td>\n",
       "      <td>2011-07-20</td>\n",
       "      <td>0.997222</td>\n",
       "      <td>0.002778</td>\n",
       "    </tr>\n",
       "    <tr>\n",
       "      <th>BP.EADB-2__2011-07-20</th>\n",
       "      <td>BP.EADB-2</td>\n",
       "      <td>2011-07-20</td>\n",
       "      <td>0.997222</td>\n",
       "      <td>0.002778</td>\n",
       "    </tr>\n",
       "  </tbody>\n",
       "</table>\n",
       "</div>"
      ],
      "text/plain": [
       "                      sta_nochan plotdate_uni  data_fraction  removal_fraction\n",
       "updatekey                                                                     \n",
       "BP.EADB-1__2011-07-20  BP.EADB-1   2011-07-20       0.962494          0.037500\n",
       "BP.EADB-2__2011-07-20  BP.EADB-2   2011-07-20       0.929164          0.070833\n",
       "BP.EADB-3__2011-07-20  BP.EADB-3   2011-07-20       0.952771          0.047223\n",
       "BP.EADB-1__2011-07-20  BP.EADB-1   2011-07-20       0.997222          0.002778\n",
       "BP.EADB-2__2011-07-20  BP.EADB-2   2011-07-20       0.997222          0.002778"
      ]
     },
     "execution_count": 11,
     "metadata": {},
     "output_type": "execute_result"
    }
   ],
   "source": [
    "# Manipulate duplication due to instrumental replacement from ..BP* to .40.SP* \n",
    "df_temp[df_temp.index.duplicated(keep=False)].head()"
   ]
  },
  {
   "cell_type": "code",
   "execution_count": 12,
   "metadata": {},
   "outputs": [],
   "source": [
    "# Since all overlapped data has a fraction of 1.0, remove one of the rows\n",
    "df_temp = df_temp.reset_index().drop_duplicates(subset='updatekey').set_index('updatekey')"
   ]
  },
  {
   "cell_type": "code",
   "execution_count": 13,
   "metadata": {},
   "outputs": [],
   "source": [
    "# update dictionary with the filtered df_origin\n",
    "df_dataavail_all.update(df_temp)\n",
    "df_dataavail_all.to_csv('test.csv')"
   ]
  },
  {
   "cell_type": "code",
   "execution_count": 14,
   "metadata": {},
   "outputs": [
    {
     "data": {
      "text/html": [
       "<div>\n",
       "<style scoped>\n",
       "    .dataframe tbody tr th:only-of-type {\n",
       "        vertical-align: middle;\n",
       "    }\n",
       "\n",
       "    .dataframe tbody tr th {\n",
       "        vertical-align: top;\n",
       "    }\n",
       "\n",
       "    .dataframe thead th {\n",
       "        text-align: right;\n",
       "    }\n",
       "</style>\n",
       "<table border=\"1\" class=\"dataframe\">\n",
       "  <thead>\n",
       "    <tr style=\"text-align: right;\">\n",
       "      <th>plotdate_uni</th>\n",
       "      <th>2002-01-01</th>\n",
       "      <th>2002-01-02</th>\n",
       "      <th>2002-01-03</th>\n",
       "      <th>2002-01-04</th>\n",
       "      <th>2002-01-05</th>\n",
       "      <th>2002-01-06</th>\n",
       "      <th>2002-01-07</th>\n",
       "      <th>2002-01-08</th>\n",
       "      <th>2002-01-09</th>\n",
       "      <th>2002-01-10</th>\n",
       "      <th>...</th>\n",
       "      <th>2022-05-22</th>\n",
       "      <th>2022-05-23</th>\n",
       "      <th>2022-05-24</th>\n",
       "      <th>2022-05-25</th>\n",
       "      <th>2022-05-26</th>\n",
       "      <th>2022-05-27</th>\n",
       "      <th>2022-05-28</th>\n",
       "      <th>2022-05-29</th>\n",
       "      <th>2022-05-30</th>\n",
       "      <th>2022-05-31</th>\n",
       "    </tr>\n",
       "    <tr>\n",
       "      <th>sta_nochan</th>\n",
       "      <th></th>\n",
       "      <th></th>\n",
       "      <th></th>\n",
       "      <th></th>\n",
       "      <th></th>\n",
       "      <th></th>\n",
       "      <th></th>\n",
       "      <th></th>\n",
       "      <th></th>\n",
       "      <th></th>\n",
       "      <th></th>\n",
       "      <th></th>\n",
       "      <th></th>\n",
       "      <th></th>\n",
       "      <th></th>\n",
       "      <th></th>\n",
       "      <th></th>\n",
       "      <th></th>\n",
       "      <th></th>\n",
       "      <th></th>\n",
       "      <th></th>\n",
       "    </tr>\n",
       "  </thead>\n",
       "  <tbody>\n",
       "    <tr>\n",
       "      <th>BP.CCRB-1</th>\n",
       "      <td>0.712226</td>\n",
       "      <td>0.868749</td>\n",
       "      <td>0.692331</td>\n",
       "      <td>0.693554</td>\n",
       "      <td>0.677024</td>\n",
       "      <td>0.690726</td>\n",
       "      <td>0.691566</td>\n",
       "      <td>0.834930</td>\n",
       "      <td>0.720818</td>\n",
       "      <td>0.795048</td>\n",
       "      <td>...</td>\n",
       "      <td>0.967122</td>\n",
       "      <td>0.995139</td>\n",
       "      <td>0.996528</td>\n",
       "      <td>0.989583</td>\n",
       "      <td>0.924997</td>\n",
       "      <td>0.993056</td>\n",
       "      <td>0.974305</td>\n",
       "      <td>0.986804</td>\n",
       "      <td>0.996528</td>\n",
       "      <td>0.997900</td>\n",
       "    </tr>\n",
       "    <tr>\n",
       "      <th>BP.CCRB-2</th>\n",
       "      <td>0.807991</td>\n",
       "      <td>0.868749</td>\n",
       "      <td>0.835041</td>\n",
       "      <td>0.611987</td>\n",
       "      <td>0.815515</td>\n",
       "      <td>0.860144</td>\n",
       "      <td>0.780380</td>\n",
       "      <td>0.749796</td>\n",
       "      <td>0.841427</td>\n",
       "      <td>0.840671</td>\n",
       "      <td>...</td>\n",
       "      <td>0.971362</td>\n",
       "      <td>0.996528</td>\n",
       "      <td>0.996528</td>\n",
       "      <td>0.997916</td>\n",
       "      <td>0.938884</td>\n",
       "      <td>0.995139</td>\n",
       "      <td>0.972221</td>\n",
       "      <td>0.988194</td>\n",
       "      <td>0.996528</td>\n",
       "      <td>0.996524</td>\n",
       "    </tr>\n",
       "    <tr>\n",
       "      <th>BP.CCRB-3</th>\n",
       "      <td>0.816030</td>\n",
       "      <td>0.868749</td>\n",
       "      <td>0.799802</td>\n",
       "      <td>0.832970</td>\n",
       "      <td>0.812727</td>\n",
       "      <td>0.839302</td>\n",
       "      <td>0.791705</td>\n",
       "      <td>0.584377</td>\n",
       "      <td>0.732955</td>\n",
       "      <td>0.810123</td>\n",
       "      <td>...</td>\n",
       "      <td>0.971642</td>\n",
       "      <td>0.995139</td>\n",
       "      <td>0.991667</td>\n",
       "      <td>0.984722</td>\n",
       "      <td>0.959718</td>\n",
       "      <td>0.982637</td>\n",
       "      <td>0.977083</td>\n",
       "      <td>0.991666</td>\n",
       "      <td>0.996528</td>\n",
       "      <td>0.993050</td>\n",
       "    </tr>\n",
       "    <tr>\n",
       "      <th>BP.EADB-1</th>\n",
       "      <td>0.947914</td>\n",
       "      <td>0.961109</td>\n",
       "      <td>0.979164</td>\n",
       "      <td>0.939580</td>\n",
       "      <td>0.950690</td>\n",
       "      <td>0.962496</td>\n",
       "      <td>0.982638</td>\n",
       "      <td>0.974998</td>\n",
       "      <td>0.969443</td>\n",
       "      <td>0.954161</td>\n",
       "      <td>...</td>\n",
       "      <td>0.995139</td>\n",
       "      <td>1.000000</td>\n",
       "      <td>1.000000</td>\n",
       "      <td>1.000000</td>\n",
       "      <td>0.940968</td>\n",
       "      <td>0.995832</td>\n",
       "      <td>0.962499</td>\n",
       "      <td>1.000000</td>\n",
       "      <td>1.000000</td>\n",
       "      <td>1.000000</td>\n",
       "    </tr>\n",
       "    <tr>\n",
       "      <th>BP.EADB-2</th>\n",
       "      <td>0.988194</td>\n",
       "      <td>0.995832</td>\n",
       "      <td>0.993749</td>\n",
       "      <td>0.982637</td>\n",
       "      <td>0.984027</td>\n",
       "      <td>0.984720</td>\n",
       "      <td>0.988194</td>\n",
       "      <td>0.974997</td>\n",
       "      <td>0.996528</td>\n",
       "      <td>0.991666</td>\n",
       "      <td>...</td>\n",
       "      <td>0.996528</td>\n",
       "      <td>1.000000</td>\n",
       "      <td>0.996528</td>\n",
       "      <td>1.000000</td>\n",
       "      <td>0.963192</td>\n",
       "      <td>0.987499</td>\n",
       "      <td>0.959027</td>\n",
       "      <td>0.993056</td>\n",
       "      <td>0.994444</td>\n",
       "      <td>0.996526</td>\n",
       "    </tr>\n",
       "  </tbody>\n",
       "</table>\n",
       "<p>5 rows × 7456 columns</p>\n",
       "</div>"
      ],
      "text/plain": [
       "plotdate_uni  2002-01-01  2002-01-02  2002-01-03  2002-01-04  2002-01-05   \n",
       "sta_nochan                                                                 \n",
       "BP.CCRB-1       0.712226    0.868749    0.692331    0.693554    0.677024  \\\n",
       "BP.CCRB-2       0.807991    0.868749    0.835041    0.611987    0.815515   \n",
       "BP.CCRB-3       0.816030    0.868749    0.799802    0.832970    0.812727   \n",
       "BP.EADB-1       0.947914    0.961109    0.979164    0.939580    0.950690   \n",
       "BP.EADB-2       0.988194    0.995832    0.993749    0.982637    0.984027   \n",
       "\n",
       "plotdate_uni  2002-01-06  2002-01-07  2002-01-08  2002-01-09  2002-01-10  ...   \n",
       "sta_nochan                                                                ...   \n",
       "BP.CCRB-1       0.690726    0.691566    0.834930    0.720818    0.795048  ...  \\\n",
       "BP.CCRB-2       0.860144    0.780380    0.749796    0.841427    0.840671  ...   \n",
       "BP.CCRB-3       0.839302    0.791705    0.584377    0.732955    0.810123  ...   \n",
       "BP.EADB-1       0.962496    0.982638    0.974998    0.969443    0.954161  ...   \n",
       "BP.EADB-2       0.984720    0.988194    0.974997    0.996528    0.991666  ...   \n",
       "\n",
       "plotdate_uni  2022-05-22  2022-05-23  2022-05-24  2022-05-25  2022-05-26   \n",
       "sta_nochan                                                                 \n",
       "BP.CCRB-1       0.967122    0.995139    0.996528    0.989583    0.924997  \\\n",
       "BP.CCRB-2       0.971362    0.996528    0.996528    0.997916    0.938884   \n",
       "BP.CCRB-3       0.971642    0.995139    0.991667    0.984722    0.959718   \n",
       "BP.EADB-1       0.995139    1.000000    1.000000    1.000000    0.940968   \n",
       "BP.EADB-2       0.996528    1.000000    0.996528    1.000000    0.963192   \n",
       "\n",
       "plotdate_uni  2022-05-27  2022-05-28  2022-05-29  2022-05-30  2022-05-31  \n",
       "sta_nochan                                                                \n",
       "BP.CCRB-1       0.993056    0.974305    0.986804    0.996528    0.997900  \n",
       "BP.CCRB-2       0.995139    0.972221    0.988194    0.996528    0.996524  \n",
       "BP.CCRB-3       0.982637    0.977083    0.991666    0.996528    0.993050  \n",
       "BP.EADB-1       0.995832    0.962499    1.000000    1.000000    1.000000  \n",
       "BP.EADB-2       0.987499    0.959027    0.993056    0.994444    0.996526  \n",
       "\n",
       "[5 rows x 7456 columns]"
      ]
     },
     "execution_count": 14,
     "metadata": {},
     "output_type": "execute_result"
    }
   ],
   "source": [
    "df_plt = df_dataavail_all.pivot(index='sta_nochan', columns='plotdate_uni', values='data_fraction')\n",
    "df_plt.head()"
   ]
  },
  {
   "cell_type": "code",
   "execution_count": 15,
   "metadata": {},
   "outputs": [
    {
     "data": {
      "text/plain": [
       "DatetimeIndex(['2002-01-01', '2002-01-02', '2002-01-03', '2002-01-04',\n",
       "               '2002-01-05', '2002-01-06', '2002-01-07', '2002-01-08',\n",
       "               '2002-01-09', '2002-01-10',\n",
       "               ...\n",
       "               '2022-05-22', '2022-05-23', '2022-05-24', '2022-05-25',\n",
       "               '2022-05-26', '2022-05-27', '2022-05-28', '2022-05-29',\n",
       "               '2022-05-30', '2022-05-31'],\n",
       "              dtype='datetime64[ns]', name='plotdate_uni', length=7456, freq=None)"
      ]
     },
     "execution_count": 15,
     "metadata": {},
     "output_type": "execute_result"
    }
   ],
   "source": [
    "df_plt.columns"
   ]
  },
  {
   "cell_type": "code",
   "execution_count": 16,
   "metadata": {},
   "outputs": [],
   "source": [
    "# manipulate xtick label to plot yearly label\n",
    "xticks_all = [i + 0.5 for i in range(0, len(df_plt.columns))]\n",
    "xticks = []\n",
    "xminorticks = []\n",
    "xlabels = []\n",
    "for i, x in enumerate(df_plt.columns):\n",
    "    # major ticks\n",
    "    if (x.month == 1) and (x.day == 1):\n",
    "        xticks.append(xticks_all[i])\n",
    "        xlabels.append(\"{}\".format(x.year))\n",
    "        \n",
    "    # minor ticks\n",
    "    if (x.month in [1, 4, 7, 10]) and (x.day == 1):\n",
    "        xminorticks.append(xticks_all[i])\n"
   ]
  },
  {
   "cell_type": "code",
   "execution_count": 17,
   "metadata": {},
   "outputs": [],
   "source": [
    "# xminorticks"
   ]
  },
  {
   "cell_type": "code",
   "execution_count": 18,
   "metadata": {},
   "outputs": [
    {
     "data": {
      "image/png": "[encoded data removed]",
      "text/plain": [
       "<Figure size 1400x600 with 3 Axes>"
      ]
     },
     "metadata": {},
     "output_type": "display_data"
    }
   ],
   "source": [
    "vmin = 0.0\n",
    "vmax = 1.0\n",
    "\n",
    "fig, (ax, cax) = plt.subplots(1, 2, figsize=(14, 6), gridspec_kw={\"width_ratios\":[1, 0.05]})\n",
    "\n",
    "cmap1 = sns.color_palette(\"magma\", as_cmap=True)\n",
    "# manipulate colorpallet so than 0 is in gray\n",
    "cmap1._lut[0:10] = np.array([ 0.6, 0.6,  0.6,  1.0])\n",
    "\n",
    "# plot heatmap\n",
    "h = sns.heatmap(df_plt, linewidth = 0, edgecolor=\"black\", cmap=cmap1, ax=ax, vmin = vmin, vmax=vmax, cbar=False, rasterized=True)\n",
    "\n",
    "# decorate figure\n",
    "ax.set_xticks(xticks, minor=False)\n",
    "ax.set_xticks(xminorticks, minor=True)\n",
    "ax.set_xticklabels(labels=xlabels, rotation=0, ha='center')\n",
    "\n",
    "ax.set_yticks(np.linspace(h.axes.get_yticks()[0], h.axes.get_yticks()[-1], len(df_plt)))\n",
    "ylabels = [x.split(\".\")[1] for x in df_plt.index]\n",
    "ax.set_yticklabels(ylabels)\n",
    "\n",
    "# ax.tick_params(direction=\"in\", width=1.0)\n",
    "ax.set_xlabel(None)\n",
    "ax.set_ylabel(None)\n",
    "\n",
    "ax.tick_params(axis='x', which='minor', bottom=True)\n",
    "ax.tick_params(axis='y', which='minor', left=False)\n",
    "\n",
    "# show box outline\n",
    "for _, spine in ax.spines.items():\n",
    "    spine.set_visible(True)\n",
    "\n",
    "plt.tight_layout()\n",
    "\n",
    "plt.rcParams[\"ytick.minor.visible\"] = True\n",
    "\n",
    "cax.set_axis_off()\n",
    "norm = mpl.colors.Normalize(vmin=vmin, vmax=vmax)\n",
    "cbar1=fig.colorbar(mpl.cm.ScalarMappable(norm=norm, cmap=cmap1), ax=cax, orientation=\"vertical\", fraction=1.3, pad=0.0)\n",
    "cbar1.set_label('Data availability', color=\"k\")\n",
    "\n",
    "plt.savefig(figdir+\"/DataAvailability_{}.png\".format(datacase), format=\"png\", dpi=150)\n",
    "\n",
    "plt.savefig(figdir+\"/DataAvailability_{}.eps\".format(datacase), format=\"eps\")\n"
   ]
  },
  {
   "cell_type": "code",
   "execution_count": null,
   "metadata": {},
   "outputs": [],
   "source": []
  },
  {
   "cell_type": "markdown",
   "metadata": {},
   "source": [
    "## Compare the data fraction between tacc and uw"
   ]
  },
  {
   "cell_type": "code",
   "execution_count": 19,
   "metadata": {},
   "outputs": [],
   "source": [
    "csv_file_uw = \"./csv_dataavailability_uw/dataavailability_rawseismicdata_uw_2002-2022.csv\"\n",
    "csv_file_tacc = \"./csv_dataavailability_tacc/dataavailability_rawseismicdata_tacc.csv\"\n",
    "\n",
    "df_origin_uw = pd.read_csv(csv_file_uw)\n",
    "df_origin_tacc = pd.read_csv(csv_file_tacc)"
   ]
  },
  {
   "cell_type": "code",
   "execution_count": 20,
   "metadata": {},
   "outputs": [
    {
     "data": {
      "text/html": [
       "<div>\n",
       "<style scoped>\n",
       "    .dataframe tbody tr th:only-of-type {\n",
       "        vertical-align: middle;\n",
       "    }\n",
       "\n",
       "    .dataframe tbody tr th {\n",
       "        vertical-align: top;\n",
       "    }\n",
       "\n",
       "    .dataframe thead th {\n",
       "        text-align: right;\n",
       "    }\n",
       "</style>\n",
       "<table border=\"1\" class=\"dataframe\">\n",
       "  <thead>\n",
       "    <tr style=\"text-align: right;\">\n",
       "      <th></th>\n",
       "      <th>station</th>\n",
       "      <th>date</th>\n",
       "      <th>data_fraction</th>\n",
       "      <th>removal_fraction</th>\n",
       "    </tr>\n",
       "  </thead>\n",
       "  <tbody>\n",
       "    <tr>\n",
       "      <th>0</th>\n",
       "      <td>BP.CCRB..BP1</td>\n",
       "      <td>2002-01-01T11:59:59.5</td>\n",
       "      <td>0.997987</td>\n",
       "      <td>0.0</td>\n",
       "    </tr>\n",
       "    <tr>\n",
       "      <th>1</th>\n",
       "      <td>BP.CCRB..BP1</td>\n",
       "      <td>2002-01-02T11:59:59.5</td>\n",
       "      <td>0.999405</td>\n",
       "      <td>0.0</td>\n",
       "    </tr>\n",
       "    <tr>\n",
       "      <th>2</th>\n",
       "      <td>BP.CCRB..BP1</td>\n",
       "      <td>2002-01-03T11:59:59.5</td>\n",
       "      <td>0.997642</td>\n",
       "      <td>0.0</td>\n",
       "    </tr>\n",
       "    <tr>\n",
       "      <th>3</th>\n",
       "      <td>BP.CCRB..BP1</td>\n",
       "      <td>2002-01-04T11:59:59.5</td>\n",
       "      <td>0.998904</td>\n",
       "      <td>0.0</td>\n",
       "    </tr>\n",
       "    <tr>\n",
       "      <th>4</th>\n",
       "      <td>BP.CCRB..BP1</td>\n",
       "      <td>2002-01-05T11:59:59.5</td>\n",
       "      <td>0.999940</td>\n",
       "      <td>0.0</td>\n",
       "    </tr>\n",
       "    <tr>\n",
       "      <th>...</th>\n",
       "      <td>...</td>\n",
       "      <td>...</td>\n",
       "      <td>...</td>\n",
       "      <td>...</td>\n",
       "    </tr>\n",
       "    <tr>\n",
       "      <th>243634</th>\n",
       "      <td>BP.VCAB.40.SP3</td>\n",
       "      <td>2020-08-27T12:00:00</td>\n",
       "      <td>1.000000</td>\n",
       "      <td>0.0</td>\n",
       "    </tr>\n",
       "    <tr>\n",
       "      <th>243635</th>\n",
       "      <td>BP.VCAB.40.SP3</td>\n",
       "      <td>2020-08-28T12:00:00</td>\n",
       "      <td>1.000000</td>\n",
       "      <td>0.0</td>\n",
       "    </tr>\n",
       "    <tr>\n",
       "      <th>243636</th>\n",
       "      <td>BP.VCAB.40.SP3</td>\n",
       "      <td>2020-08-29T12:00:00</td>\n",
       "      <td>1.000000</td>\n",
       "      <td>0.0</td>\n",
       "    </tr>\n",
       "    <tr>\n",
       "      <th>243637</th>\n",
       "      <td>BP.VCAB.40.SP3</td>\n",
       "      <td>2020-08-30T12:00:00</td>\n",
       "      <td>1.000000</td>\n",
       "      <td>0.0</td>\n",
       "    </tr>\n",
       "    <tr>\n",
       "      <th>243638</th>\n",
       "      <td>BP.VCAB.40.SP3</td>\n",
       "      <td>2020-08-31T12:00:00</td>\n",
       "      <td>1.000000</td>\n",
       "      <td>0.0</td>\n",
       "    </tr>\n",
       "  </tbody>\n",
       "</table>\n",
       "<p>243639 rows × 4 columns</p>\n",
       "</div>"
      ],
      "text/plain": [
       "               station                   date  data_fraction  removal_fraction\n",
       "0         BP.CCRB..BP1  2002-01-01T11:59:59.5       0.997987               0.0\n",
       "1         BP.CCRB..BP1  2002-01-02T11:59:59.5       0.999405               0.0\n",
       "2         BP.CCRB..BP1  2002-01-03T11:59:59.5       0.997642               0.0\n",
       "3         BP.CCRB..BP1  2002-01-04T11:59:59.5       0.998904               0.0\n",
       "4         BP.CCRB..BP1  2002-01-05T11:59:59.5       0.999940               0.0\n",
       "...                ...                    ...            ...               ...\n",
       "243634  BP.VCAB.40.SP3    2020-08-27T12:00:00       1.000000               0.0\n",
       "243635  BP.VCAB.40.SP3    2020-08-28T12:00:00       1.000000               0.0\n",
       "243636  BP.VCAB.40.SP3    2020-08-29T12:00:00       1.000000               0.0\n",
       "243637  BP.VCAB.40.SP3    2020-08-30T12:00:00       1.000000               0.0\n",
       "243638  BP.VCAB.40.SP3    2020-08-31T12:00:00       1.000000               0.0\n",
       "\n",
       "[243639 rows x 4 columns]"
      ]
     },
     "execution_count": 20,
     "metadata": {},
     "output_type": "execute_result"
    }
   ],
   "source": [
    "df_origin_tacc"
   ]
  },
  {
   "cell_type": "code",
   "execution_count": 21,
   "metadata": {},
   "outputs": [],
   "source": [
    "df_origin_uw['plotdate'] = df_origin_uw['date'].apply(datestr2date)\n",
    "df_origin_tacc['plotdate'] = df_origin_tacc['date'].apply(datestr2date)"
   ]
  },
  {
   "cell_type": "code",
   "execution_count": 22,
   "metadata": {},
   "outputs": [
    {
     "data": {
      "text/html": [
       "<div>\n",
       "<style scoped>\n",
       "    .dataframe tbody tr th:only-of-type {\n",
       "        vertical-align: middle;\n",
       "    }\n",
       "\n",
       "    .dataframe tbody tr th {\n",
       "        vertical-align: top;\n",
       "    }\n",
       "\n",
       "    .dataframe thead th {\n",
       "        text-align: right;\n",
       "    }\n",
       "</style>\n",
       "<table border=\"1\" class=\"dataframe\">\n",
       "  <thead>\n",
       "    <tr style=\"text-align: right;\">\n",
       "      <th></th>\n",
       "      <th>station</th>\n",
       "      <th>date</th>\n",
       "      <th>data_fraction</th>\n",
       "      <th>removal_fraction</th>\n",
       "      <th>plotdate</th>\n",
       "    </tr>\n",
       "  </thead>\n",
       "  <tbody>\n",
       "    <tr>\n",
       "      <th>0</th>\n",
       "      <td>BP.CCRB..BP1</td>\n",
       "      <td>2002-01-01T11:59:59.5</td>\n",
       "      <td>0.997987</td>\n",
       "      <td>0.0</td>\n",
       "      <td>2002-01-01</td>\n",
       "    </tr>\n",
       "    <tr>\n",
       "      <th>1</th>\n",
       "      <td>BP.CCRB..BP1</td>\n",
       "      <td>2002-01-02T11:59:59.5</td>\n",
       "      <td>0.999405</td>\n",
       "      <td>0.0</td>\n",
       "      <td>2002-01-02</td>\n",
       "    </tr>\n",
       "    <tr>\n",
       "      <th>2</th>\n",
       "      <td>BP.CCRB..BP1</td>\n",
       "      <td>2002-01-03T11:59:59.5</td>\n",
       "      <td>0.997642</td>\n",
       "      <td>0.0</td>\n",
       "      <td>2002-01-03</td>\n",
       "    </tr>\n",
       "    <tr>\n",
       "      <th>3</th>\n",
       "      <td>BP.CCRB..BP1</td>\n",
       "      <td>2002-01-04T11:59:59.5</td>\n",
       "      <td>0.998904</td>\n",
       "      <td>0.0</td>\n",
       "      <td>2002-01-04</td>\n",
       "    </tr>\n",
       "    <tr>\n",
       "      <th>4</th>\n",
       "      <td>BP.CCRB..BP1</td>\n",
       "      <td>2002-01-05T11:59:59.5</td>\n",
       "      <td>0.999940</td>\n",
       "      <td>0.0</td>\n",
       "      <td>2002-01-05</td>\n",
       "    </tr>\n",
       "    <tr>\n",
       "      <th>...</th>\n",
       "      <td>...</td>\n",
       "      <td>...</td>\n",
       "      <td>...</td>\n",
       "      <td>...</td>\n",
       "      <td>...</td>\n",
       "    </tr>\n",
       "    <tr>\n",
       "      <th>243634</th>\n",
       "      <td>BP.VCAB.40.SP3</td>\n",
       "      <td>2020-08-27T12:00:00</td>\n",
       "      <td>1.000000</td>\n",
       "      <td>0.0</td>\n",
       "      <td>2020-08-27</td>\n",
       "    </tr>\n",
       "    <tr>\n",
       "      <th>243635</th>\n",
       "      <td>BP.VCAB.40.SP3</td>\n",
       "      <td>2020-08-28T12:00:00</td>\n",
       "      <td>1.000000</td>\n",
       "      <td>0.0</td>\n",
       "      <td>2020-08-28</td>\n",
       "    </tr>\n",
       "    <tr>\n",
       "      <th>243636</th>\n",
       "      <td>BP.VCAB.40.SP3</td>\n",
       "      <td>2020-08-29T12:00:00</td>\n",
       "      <td>1.000000</td>\n",
       "      <td>0.0</td>\n",
       "      <td>2020-08-29</td>\n",
       "    </tr>\n",
       "    <tr>\n",
       "      <th>243637</th>\n",
       "      <td>BP.VCAB.40.SP3</td>\n",
       "      <td>2020-08-30T12:00:00</td>\n",
       "      <td>1.000000</td>\n",
       "      <td>0.0</td>\n",
       "      <td>2020-08-30</td>\n",
       "    </tr>\n",
       "    <tr>\n",
       "      <th>243638</th>\n",
       "      <td>BP.VCAB.40.SP3</td>\n",
       "      <td>2020-08-31T12:00:00</td>\n",
       "      <td>1.000000</td>\n",
       "      <td>0.0</td>\n",
       "      <td>2020-08-31</td>\n",
       "    </tr>\n",
       "  </tbody>\n",
       "</table>\n",
       "<p>243639 rows × 5 columns</p>\n",
       "</div>"
      ],
      "text/plain": [
       "               station                   date  data_fraction   \n",
       "0         BP.CCRB..BP1  2002-01-01T11:59:59.5       0.997987  \\\n",
       "1         BP.CCRB..BP1  2002-01-02T11:59:59.5       0.999405   \n",
       "2         BP.CCRB..BP1  2002-01-03T11:59:59.5       0.997642   \n",
       "3         BP.CCRB..BP1  2002-01-04T11:59:59.5       0.998904   \n",
       "4         BP.CCRB..BP1  2002-01-05T11:59:59.5       0.999940   \n",
       "...                ...                    ...            ...   \n",
       "243634  BP.VCAB.40.SP3    2020-08-27T12:00:00       1.000000   \n",
       "243635  BP.VCAB.40.SP3    2020-08-28T12:00:00       1.000000   \n",
       "243636  BP.VCAB.40.SP3    2020-08-29T12:00:00       1.000000   \n",
       "243637  BP.VCAB.40.SP3    2020-08-30T12:00:00       1.000000   \n",
       "243638  BP.VCAB.40.SP3    2020-08-31T12:00:00       1.000000   \n",
       "\n",
       "        removal_fraction   plotdate  \n",
       "0                    0.0 2002-01-01  \n",
       "1                    0.0 2002-01-02  \n",
       "2                    0.0 2002-01-03  \n",
       "3                    0.0 2002-01-04  \n",
       "4                    0.0 2002-01-05  \n",
       "...                  ...        ...  \n",
       "243634               0.0 2020-08-27  \n",
       "243635               0.0 2020-08-28  \n",
       "243636               0.0 2020-08-29  \n",
       "243637               0.0 2020-08-30  \n",
       "243638               0.0 2020-08-31  \n",
       "\n",
       "[243639 rows x 5 columns]"
      ]
     },
     "execution_count": 22,
     "metadata": {},
     "output_type": "execute_result"
    }
   ],
   "source": [
    "df_origin_tacc"
   ]
  },
  {
   "cell_type": "code",
   "execution_count": 23,
   "metadata": {},
   "outputs": [],
   "source": [
    "# number of data\n",
    "df_origin_tacc_eq = df_origin_tacc[[\"station\", \"plotdate\"]]\n",
    "df_origin_uw_eq = df_origin_uw[[\"station\", \"plotdate\"]]"
   ]
  },
  {
   "cell_type": "code",
   "execution_count": 24,
   "metadata": {},
   "outputs": [
    {
     "name": "stdout",
     "output_type": "stream",
     "text": [
      "comparison of data dates: True\n"
     ]
    }
   ],
   "source": [
    "# number of data\n",
    "et_tacc = datetime.datetime(2020, 9, 1)\n",
    "df_origin_tacc_eq = df_origin_tacc[[\"station\", \"plotdate\"]].reset_index(drop=True)\n",
    "df_origin_uw_eq = df_origin_uw[[\"station\", \"plotdate\"]]\n",
    "df_origin_uw_eq = df_origin_uw_eq[df_origin_uw_eq[\"plotdate\"] < et_tacc].reset_index(drop=True)\n",
    "\n",
    "df_origin_uw_trim = df_origin_uw[df_origin_uw[\"plotdate\"] < et_tacc].reset_index(drop=True)\n",
    "\n",
    "\n",
    "print(f\"comparison of data dates: {df_origin_uw_eq.equals(df_origin_tacc_eq)}\")"
   ]
  },
  {
   "cell_type": "code",
   "execution_count": 25,
   "metadata": {},
   "outputs": [
    {
     "data": {
      "text/html": [
       "<div>\n",
       "<style scoped>\n",
       "    .dataframe tbody tr th:only-of-type {\n",
       "        vertical-align: middle;\n",
       "    }\n",
       "\n",
       "    .dataframe tbody tr th {\n",
       "        vertical-align: top;\n",
       "    }\n",
       "\n",
       "    .dataframe thead th {\n",
       "        text-align: right;\n",
       "    }\n",
       "</style>\n",
       "<table border=\"1\" class=\"dataframe\">\n",
       "  <thead>\n",
       "    <tr style=\"text-align: right;\">\n",
       "      <th></th>\n",
       "      <th>station</th>\n",
       "      <th>date</th>\n",
       "      <th>data_fraction</th>\n",
       "      <th>removal_fraction</th>\n",
       "      <th>plotdate</th>\n",
       "    </tr>\n",
       "  </thead>\n",
       "  <tbody>\n",
       "    <tr>\n",
       "      <th>0</th>\n",
       "      <td>BP.CCRB..BP1</td>\n",
       "      <td>2002-01-01T11:59:59.500</td>\n",
       "      <td>0.997892</td>\n",
       "      <td>0.0</td>\n",
       "      <td>2002-01-01</td>\n",
       "    </tr>\n",
       "    <tr>\n",
       "      <th>1</th>\n",
       "      <td>BP.CCRB..BP1</td>\n",
       "      <td>2002-01-02T11:59:59.500</td>\n",
       "      <td>0.999531</td>\n",
       "      <td>0.0</td>\n",
       "      <td>2002-01-02</td>\n",
       "    </tr>\n",
       "    <tr>\n",
       "      <th>2</th>\n",
       "      <td>BP.CCRB..BP1</td>\n",
       "      <td>2002-01-03T11:59:59.500</td>\n",
       "      <td>0.997142</td>\n",
       "      <td>0.0</td>\n",
       "      <td>2002-01-03</td>\n",
       "    </tr>\n",
       "    <tr>\n",
       "      <th>3</th>\n",
       "      <td>BP.CCRB..BP1</td>\n",
       "      <td>2002-01-04T11:59:59.500</td>\n",
       "      <td>0.998904</td>\n",
       "      <td>0.0</td>\n",
       "      <td>2002-01-04</td>\n",
       "    </tr>\n",
       "    <tr>\n",
       "      <th>4</th>\n",
       "      <td>BP.CCRB..BP1</td>\n",
       "      <td>2002-01-05T11:59:59.500</td>\n",
       "      <td>0.999940</td>\n",
       "      <td>0.0</td>\n",
       "      <td>2002-01-05</td>\n",
       "    </tr>\n",
       "    <tr>\n",
       "      <th>...</th>\n",
       "      <td>...</td>\n",
       "      <td>...</td>\n",
       "      <td>...</td>\n",
       "      <td>...</td>\n",
       "      <td>...</td>\n",
       "    </tr>\n",
       "    <tr>\n",
       "      <th>243634</th>\n",
       "      <td>BP.VCAB.40.SP3</td>\n",
       "      <td>2020-08-27T12:00:00</td>\n",
       "      <td>1.000000</td>\n",
       "      <td>0.0</td>\n",
       "      <td>2020-08-27</td>\n",
       "    </tr>\n",
       "    <tr>\n",
       "      <th>243635</th>\n",
       "      <td>BP.VCAB.40.SP3</td>\n",
       "      <td>2020-08-28T12:00:00</td>\n",
       "      <td>1.000000</td>\n",
       "      <td>0.0</td>\n",
       "      <td>2020-08-28</td>\n",
       "    </tr>\n",
       "    <tr>\n",
       "      <th>243636</th>\n",
       "      <td>BP.VCAB.40.SP3</td>\n",
       "      <td>2020-08-29T12:00:00</td>\n",
       "      <td>1.000000</td>\n",
       "      <td>0.0</td>\n",
       "      <td>2020-08-29</td>\n",
       "    </tr>\n",
       "    <tr>\n",
       "      <th>243637</th>\n",
       "      <td>BP.VCAB.40.SP3</td>\n",
       "      <td>2020-08-30T12:00:00</td>\n",
       "      <td>1.000000</td>\n",
       "      <td>0.0</td>\n",
       "      <td>2020-08-30</td>\n",
       "    </tr>\n",
       "    <tr>\n",
       "      <th>243638</th>\n",
       "      <td>BP.VCAB.40.SP3</td>\n",
       "      <td>2020-08-31T12:00:00</td>\n",
       "      <td>1.000000</td>\n",
       "      <td>0.0</td>\n",
       "      <td>2020-08-31</td>\n",
       "    </tr>\n",
       "  </tbody>\n",
       "</table>\n",
       "<p>243639 rows × 5 columns</p>\n",
       "</div>"
      ],
      "text/plain": [
       "               station                     date  data_fraction   \n",
       "0         BP.CCRB..BP1  2002-01-01T11:59:59.500       0.997892  \\\n",
       "1         BP.CCRB..BP1  2002-01-02T11:59:59.500       0.999531   \n",
       "2         BP.CCRB..BP1  2002-01-03T11:59:59.500       0.997142   \n",
       "3         BP.CCRB..BP1  2002-01-04T11:59:59.500       0.998904   \n",
       "4         BP.CCRB..BP1  2002-01-05T11:59:59.500       0.999940   \n",
       "...                ...                      ...            ...   \n",
       "243634  BP.VCAB.40.SP3      2020-08-27T12:00:00       1.000000   \n",
       "243635  BP.VCAB.40.SP3      2020-08-28T12:00:00       1.000000   \n",
       "243636  BP.VCAB.40.SP3      2020-08-29T12:00:00       1.000000   \n",
       "243637  BP.VCAB.40.SP3      2020-08-30T12:00:00       1.000000   \n",
       "243638  BP.VCAB.40.SP3      2020-08-31T12:00:00       1.000000   \n",
       "\n",
       "        removal_fraction   plotdate  \n",
       "0                    0.0 2002-01-01  \n",
       "1                    0.0 2002-01-02  \n",
       "2                    0.0 2002-01-03  \n",
       "3                    0.0 2002-01-04  \n",
       "4                    0.0 2002-01-05  \n",
       "...                  ...        ...  \n",
       "243634               0.0 2020-08-27  \n",
       "243635               0.0 2020-08-28  \n",
       "243636               0.0 2020-08-29  \n",
       "243637               0.0 2020-08-30  \n",
       "243638               0.0 2020-08-31  \n",
       "\n",
       "[243639 rows x 5 columns]"
      ]
     },
     "execution_count": 25,
     "metadata": {},
     "output_type": "execute_result"
    }
   ],
   "source": [
    "df_origin_uw_trim"
   ]
  },
  {
   "cell_type": "code",
   "execution_count": 26,
   "metadata": {},
   "outputs": [
    {
     "data": {
      "text/html": [
       "<div>\n",
       "<style scoped>\n",
       "    .dataframe tbody tr th:only-of-type {\n",
       "        vertical-align: middle;\n",
       "    }\n",
       "\n",
       "    .dataframe tbody tr th {\n",
       "        vertical-align: top;\n",
       "    }\n",
       "\n",
       "    .dataframe thead th {\n",
       "        text-align: right;\n",
       "    }\n",
       "</style>\n",
       "<table border=\"1\" class=\"dataframe\">\n",
       "  <thead>\n",
       "    <tr style=\"text-align: right;\">\n",
       "      <th></th>\n",
       "      <th>station</th>\n",
       "      <th>date</th>\n",
       "      <th>data_fraction</th>\n",
       "      <th>removal_fraction</th>\n",
       "      <th>plotdate</th>\n",
       "    </tr>\n",
       "  </thead>\n",
       "  <tbody>\n",
       "    <tr>\n",
       "      <th>0</th>\n",
       "      <td>BP.CCRB..BP1</td>\n",
       "      <td>2002-01-01T11:59:59.5</td>\n",
       "      <td>0.997987</td>\n",
       "      <td>0.0</td>\n",
       "      <td>2002-01-01</td>\n",
       "    </tr>\n",
       "    <tr>\n",
       "      <th>1</th>\n",
       "      <td>BP.CCRB..BP1</td>\n",
       "      <td>2002-01-02T11:59:59.5</td>\n",
       "      <td>0.999405</td>\n",
       "      <td>0.0</td>\n",
       "      <td>2002-01-02</td>\n",
       "    </tr>\n",
       "    <tr>\n",
       "      <th>2</th>\n",
       "      <td>BP.CCRB..BP1</td>\n",
       "      <td>2002-01-03T11:59:59.5</td>\n",
       "      <td>0.997642</td>\n",
       "      <td>0.0</td>\n",
       "      <td>2002-01-03</td>\n",
       "    </tr>\n",
       "    <tr>\n",
       "      <th>3</th>\n",
       "      <td>BP.CCRB..BP1</td>\n",
       "      <td>2002-01-04T11:59:59.5</td>\n",
       "      <td>0.998904</td>\n",
       "      <td>0.0</td>\n",
       "      <td>2002-01-04</td>\n",
       "    </tr>\n",
       "    <tr>\n",
       "      <th>4</th>\n",
       "      <td>BP.CCRB..BP1</td>\n",
       "      <td>2002-01-05T11:59:59.5</td>\n",
       "      <td>0.999940</td>\n",
       "      <td>0.0</td>\n",
       "      <td>2002-01-05</td>\n",
       "    </tr>\n",
       "    <tr>\n",
       "      <th>...</th>\n",
       "      <td>...</td>\n",
       "      <td>...</td>\n",
       "      <td>...</td>\n",
       "      <td>...</td>\n",
       "      <td>...</td>\n",
       "    </tr>\n",
       "    <tr>\n",
       "      <th>243634</th>\n",
       "      <td>BP.VCAB.40.SP3</td>\n",
       "      <td>2020-08-27T12:00:00</td>\n",
       "      <td>1.000000</td>\n",
       "      <td>0.0</td>\n",
       "      <td>2020-08-27</td>\n",
       "    </tr>\n",
       "    <tr>\n",
       "      <th>243635</th>\n",
       "      <td>BP.VCAB.40.SP3</td>\n",
       "      <td>2020-08-28T12:00:00</td>\n",
       "      <td>1.000000</td>\n",
       "      <td>0.0</td>\n",
       "      <td>2020-08-28</td>\n",
       "    </tr>\n",
       "    <tr>\n",
       "      <th>243636</th>\n",
       "      <td>BP.VCAB.40.SP3</td>\n",
       "      <td>2020-08-29T12:00:00</td>\n",
       "      <td>1.000000</td>\n",
       "      <td>0.0</td>\n",
       "      <td>2020-08-29</td>\n",
       "    </tr>\n",
       "    <tr>\n",
       "      <th>243637</th>\n",
       "      <td>BP.VCAB.40.SP3</td>\n",
       "      <td>2020-08-30T12:00:00</td>\n",
       "      <td>1.000000</td>\n",
       "      <td>0.0</td>\n",
       "      <td>2020-08-30</td>\n",
       "    </tr>\n",
       "    <tr>\n",
       "      <th>243638</th>\n",
       "      <td>BP.VCAB.40.SP3</td>\n",
       "      <td>2020-08-31T12:00:00</td>\n",
       "      <td>1.000000</td>\n",
       "      <td>0.0</td>\n",
       "      <td>2020-08-31</td>\n",
       "    </tr>\n",
       "  </tbody>\n",
       "</table>\n",
       "<p>243639 rows × 5 columns</p>\n",
       "</div>"
      ],
      "text/plain": [
       "               station                   date  data_fraction   \n",
       "0         BP.CCRB..BP1  2002-01-01T11:59:59.5       0.997987  \\\n",
       "1         BP.CCRB..BP1  2002-01-02T11:59:59.5       0.999405   \n",
       "2         BP.CCRB..BP1  2002-01-03T11:59:59.5       0.997642   \n",
       "3         BP.CCRB..BP1  2002-01-04T11:59:59.5       0.998904   \n",
       "4         BP.CCRB..BP1  2002-01-05T11:59:59.5       0.999940   \n",
       "...                ...                    ...            ...   \n",
       "243634  BP.VCAB.40.SP3    2020-08-27T12:00:00       1.000000   \n",
       "243635  BP.VCAB.40.SP3    2020-08-28T12:00:00       1.000000   \n",
       "243636  BP.VCAB.40.SP3    2020-08-29T12:00:00       1.000000   \n",
       "243637  BP.VCAB.40.SP3    2020-08-30T12:00:00       1.000000   \n",
       "243638  BP.VCAB.40.SP3    2020-08-31T12:00:00       1.000000   \n",
       "\n",
       "        removal_fraction   plotdate  \n",
       "0                    0.0 2002-01-01  \n",
       "1                    0.0 2002-01-02  \n",
       "2                    0.0 2002-01-03  \n",
       "3                    0.0 2002-01-04  \n",
       "4                    0.0 2002-01-05  \n",
       "...                  ...        ...  \n",
       "243634               0.0 2020-08-27  \n",
       "243635               0.0 2020-08-28  \n",
       "243636               0.0 2020-08-29  \n",
       "243637               0.0 2020-08-30  \n",
       "243638               0.0 2020-08-31  \n",
       "\n",
       "[243639 rows x 5 columns]"
      ]
     },
     "execution_count": 26,
     "metadata": {},
     "output_type": "execute_result"
    }
   ],
   "source": [
    "df_origin_tacc"
   ]
  },
  {
   "cell_type": "code",
   "execution_count": 27,
   "metadata": {},
   "outputs": [],
   "source": [
    "diff_datafrac = df_origin_tacc[\"data_fraction\"] - df_origin_uw_trim[\"data_fraction\"]"
   ]
  },
  {
   "cell_type": "code",
   "execution_count": 28,
   "metadata": {},
   "outputs": [
    {
     "data": {
      "text/plain": [
       "[<matplotlib.lines.Line2D at 0x7f8354ed9ca0>]"
      ]
     },
     "execution_count": 28,
     "metadata": {},
     "output_type": "execute_result"
    },
    {
     "data": {
      "image/png": "[encoded data removed]",
      "text/plain": [
       "<Figure size 640x480 with 1 Axes>"
      ]
     },
     "metadata": {},
     "output_type": "display_data"
    }
   ],
   "source": [
    "plt.plot(diff_datafrac)\n",
    "# plt.ylim([-0.1,0.1])\n",
    "# plt.xlim([0,10000])"
   ]
  },
  {
   "cell_type": "code",
   "execution_count": 29,
   "metadata": {},
   "outputs": [
    {
     "data": {
      "text/plain": [
       "(array([159817]),)"
      ]
     },
     "execution_count": 29,
     "metadata": {},
     "output_type": "execute_result"
    }
   ],
   "source": [
    "np.where(np.abs(diff_datafrac) > 0.5)"
   ]
  },
  {
   "cell_type": "markdown",
   "metadata": {},
   "source": [
    "NOTE: Only one date containing more data, while the others contains similar amount of data"
   ]
  },
  {
   "cell_type": "code",
   "execution_count": 30,
   "metadata": {},
   "outputs": [
    {
     "data": {
      "text/plain": [
       "0.999994212962963"
      ]
     },
     "execution_count": 30,
     "metadata": {},
     "output_type": "execute_result"
    }
   ],
   "source": [
    "npts = int(1728000)\n",
    "Nnullsignal = 10\n",
    "\n",
    "1 - (float(Nnullsignal)/float(npts))"
   ]
  },
  {
   "cell_type": "code",
   "execution_count": 31,
   "metadata": {},
   "outputs": [
    {
     "data": {
      "text/plain": [
       "1727990.0"
      ]
     },
     "execution_count": 31,
     "metadata": {},
     "output_type": "execute_result"
    }
   ],
   "source": [
    "float(npts-Nnullsignal)"
   ]
  },
  {
   "cell_type": "code",
   "execution_count": 32,
   "metadata": {},
   "outputs": [
    {
     "data": {
      "text/plain": [
       "(array([  1091,   2950,   3843,   6251,   6291,   7599,  31961,  46019,\n",
       "         52402,  57230,  94724,  98402, 114639, 115700, 115701, 121449,\n",
       "        140741, 167028, 168353, 169419, 170313, 173600, 198851, 202206,\n",
       "        202231, 202241, 218244, 218373, 218869, 221675, 222275, 222287,\n",
       "        222312]),)"
      ]
     },
     "execution_count": 32,
     "metadata": {},
     "output_type": "execute_result"
    }
   ],
   "source": [
    "np.where(diff_datafrac > 0.02)"
   ]
  },
  {
   "cell_type": "code",
   "execution_count": 33,
   "metadata": {},
   "outputs": [
    {
     "data": {
      "text/plain": [
       "station                      BP.JCSB..BP2\n",
       "date                2002-12-27T11:59:59.5\n",
       "data_fraction                    0.745072\n",
       "removal_fraction                      0.0\n",
       "plotdate              2002-12-27 00:00:00\n",
       "Name: 97028, dtype: object"
      ]
     },
     "execution_count": 33,
     "metadata": {},
     "output_type": "execute_result"
    }
   ],
   "source": [
    "df_origin_tacc.iloc[97028]"
   ]
  },
  {
   "cell_type": "code",
   "execution_count": 34,
   "metadata": {},
   "outputs": [
    {
     "data": {
      "text/plain": [
       "station                  BP.JCNB.40.SP3\n",
       "date                2012-04-04T12:00:00\n",
       "data_fraction                       1.0\n",
       "removal_fraction                    0.0\n",
       "plotdate            2012-04-04 00:00:00\n",
       "Name: 97028, dtype: object"
      ]
     },
     "execution_count": 34,
     "metadata": {},
     "output_type": "execute_result"
    }
   ],
   "source": [
    "df_origin_uw.iloc[97028]"
   ]
  },
  {
   "cell_type": "markdown",
   "metadata": {},
   "source": [
    "# Search data frac for the demonstration of tremor removal"
   ]
  },
  {
   "cell_type": "code",
   "execution_count": 35,
   "metadata": {},
   "outputs": [],
   "source": [
    "stachan = \"BP.EADB-1\" # check EADB and 2016-1 contains the contrast in the data contents with and without removal.\n",
    "df_sta = df_plt.loc[stachan, :]"
   ]
  },
  {
   "cell_type": "code",
   "execution_count": 36,
   "metadata": {},
   "outputs": [
    {
     "data": {
      "text/plain": [
       "<matplotlib.collections.PathCollection at 0x7f833b4ded90>"
      ]
     },
     "execution_count": 36,
     "metadata": {},
     "output_type": "execute_result"
    },
    {
     "data": {
      "image/png": "[encoded data removed]",
      "text/plain": [
       "<Figure size 800x600 with 1 Axes>"
      ]
     },
     "metadata": {},
     "output_type": "display_data"
    }
   ],
   "source": [
    "df_filt = df_sta[df_sta < 0.9]\n",
    "fig, ax = plt.subplots(figsize=(8,6))\n",
    "ax.scatter(df_filt.index, df_filt.values, 10, \"b\",)"
   ]
  },
  {
   "cell_type": "code",
   "execution_count": 37,
   "metadata": {},
   "outputs": [
    {
     "data": {
      "text/plain": [
       "plotdate_uni\n",
       "2012-04-18    0.875683\n",
       "2012-04-19    0.840267\n",
       "2012-04-20    0.836793\n",
       "2012-04-21    0.749285\n",
       "2012-04-22    0.750682\n",
       "2012-04-23    0.804848\n",
       "2012-04-24    0.790266\n",
       "2012-04-25    0.737397\n",
       "2012-04-28    0.818740\n",
       "2012-04-29    0.839572\n",
       "2012-04-30    0.806238\n",
       "2012-05-01    0.817355\n",
       "2012-05-02    0.758324\n",
       "2012-05-03    0.795831\n",
       "2012-05-04    0.852770\n",
       "2012-05-05    0.845129\n",
       "2012-05-09    0.863876\n",
       "2012-05-16    0.884719\n",
       "2012-05-17    0.893748\n",
       "2012-05-18    0.880552\n",
       "2012-05-19    0.822913\n",
       "2012-05-20    0.710409\n",
       "2012-05-21    0.685310\n",
       "2012-05-25    0.891662\n",
       "2012-05-28    0.667349\n",
       "2014-04-22    0.858333\n",
       "2014-04-23    0.847250\n",
       "2014-06-23    0.884718\n",
       "2014-12-01    0.893053\n",
       "2015-10-20    0.881702\n",
       "2016-01-09    0.884024\n",
       "2016-01-10    0.815969\n",
       "2016-01-11    0.824298\n",
       "2016-01-21    0.899998\n",
       "2017-01-05    0.884025\n",
       "2017-01-08    0.883328\n",
       "2017-01-10    0.797910\n",
       "2017-01-11    0.866664\n",
       "2017-01-12    0.847907\n",
       "2017-04-25    0.849734\n",
       "2018-10-08    0.844089\n",
       "2018-10-09    0.870164\n",
       "2018-10-11    0.843582\n",
       "2018-11-22    0.825612\n",
       "2018-11-29    0.813131\n",
       "2018-12-06    0.891537\n",
       "2019-01-10    0.836585\n",
       "2019-01-15    0.675941\n",
       "2019-01-16    0.840476\n",
       "2019-01-18    0.890960\n",
       "Name: BP.EADB-1, dtype: float64"
      ]
     },
     "execution_count": 37,
     "metadata": {},
     "output_type": "execute_result"
    }
   ],
   "source": [
    "df_filt[270:320]"
   ]
  },
  {
   "cell_type": "code",
   "execution_count": 38,
   "metadata": {},
   "outputs": [
    {
     "data": {
      "text/plain": [
       "plotdate_uni\n",
       "2002-03-20    0.886641\n",
       "2002-03-22    0.890060\n",
       "2002-04-15    0.885410\n",
       "2002-04-19    0.893046\n",
       "2002-07-16    0.862758\n",
       "                ...   \n",
       "2020-09-24    0.000000\n",
       "2021-01-25    0.893049\n",
       "2021-03-09    0.597905\n",
       "2021-04-04    0.786802\n",
       "2021-12-24    0.868748\n",
       "Name: BP.EADB-1, Length: 330, dtype: float64"
      ]
     },
     "execution_count": 38,
     "metadata": {},
     "output_type": "execute_result"
    }
   ],
   "source": [
    "df_filt[:]"
   ]
  },
  {
   "cell_type": "code",
   "execution_count": null,
   "metadata": {},
   "outputs": [],
   "source": []
  }
 ],
 "metadata": {
  "kernelspec": {
   "display_name": "Python 3 (ipykernel)",
   "language": "python",
   "name": "python3"
  },
  "language_info": {
   "codemirror_mode": {
    "name": "ipython",
    "version": 3
   },
   "file_extension": ".py",
   "mimetype": "text/x-python",
   "name": "python",
   "nbconvert_exporter": "python",
   "pygments_lexer": "ipython3",
   "version": "3.8.12"
  }
 },
 "nbformat": 4,
 "nbformat_minor": 4
}
