{
 "cells": [
  {
   "cell_type": "markdown",
   "metadata": {},
   "source": [
    "# Check the rotation of strain to obtain SHmax\n",
    "\n",
    "We compute the principal strain axis and the SHmax for the compressin in the consistent sign convension.\n",
    "We aim to implement the output of SHmax in PyTAGS.\n",
    "\n",
    "2023.7.10 Kurama Okubo"
   ]
  },
  {
   "cell_type": "code",
   "execution_count": 1,
   "metadata": {},
   "outputs": [],
   "source": [
    "import datetime\n",
    "import os\n",
    "\n",
    "import matplotlib.pyplot as plt\n",
    "import numpy as np\n",
    "import pandas as pd\n",
    "import h5py\n",
    "import glob\n",
    "\n",
    "import shutil\n",
    "from tqdm import tqdm\n",
    "\n",
    "import matplotlib.patches as patches\n",
    "import matplotlib as mpl\n",
    "\n",
    "from BP_rotate_strain import *\n",
    "\n",
    "%load_ext autoreload\n",
    "%autoreload 2\n",
    "\n",
    "os.environ['TZ'] = 'GMT' # change time zone to avoid confusion in unix_tvec conversion\n",
    "\n",
    "plt.rcParams[\"font.family\"] = 'Arial'\n",
    "# plt.rcParams[\"font.sans-serif\"] = \"DejaVu Sans, Arial, Helvetica, Lucida Grande, Verdana, Geneva, Lucid, Avant Garde, sans-serif\"\n",
    "plt.rcParams[\"font.size\"] = 12\n",
    "plt.rcParams[\"xtick.direction\"] = \"in\"\n",
    "plt.rcParams[\"xtick.major.size\"] = 5\n",
    "plt.rcParams[\"xtick.major.width\"] = 0.5\n",
    "plt.rcParams[\"xtick.minor.size\"] = 0\n",
    "plt.rcParams[\"xtick.minor.width\"] = 0\n",
    "plt.rcParams[\"xtick.minor.visible\"] = True\n",
    "\n",
    "\n",
    "plt.rcParams[\"ytick.direction\"] = \"in\"\n",
    "plt.rcParams[\"ytick.major.size\"] = 5\n",
    "plt.rcParams[\"ytick.major.width\"] = 0.5\n",
    "plt.rcParams[\"ytick.minor.size\"] = 2\n",
    "plt.rcParams[\"ytick.minor.width\"] = 1\n",
    "plt.rcParams[\"ytick.minor.visible\"] = True\n"
   ]
  },
  {
   "cell_type": "code",
   "execution_count": 2,
   "metadata": {},
   "outputs": [],
   "source": [
    "output_imgdir = \"./figure\"\n",
    "if not os.path.exists(output_imgdir):\n",
    "    os.makedirs(output_imgdir)"
   ]
  },
  {
   "cell_type": "markdown",
   "metadata": {},
   "source": [
    "# Sign convension and formulations to compute SHmax"
   ]
  },
  {
   "cell_type": "markdown",
   "metadata": {},
   "source": [
    "<img src=\"compressive_SHmax_schematic.png\" alt=\"drawing\" width=\"800\"/>\n"
   ]
  },
  {
   "cell_type": "markdown",
   "metadata": {},
   "source": [
    "Note that East-West (Eee) and North-South (Enn) correspond to x and y axes, respectively. As the extension is positive, the SHmax indicating the maximum compressive stress (strain) corresponds to the orthogonal to the principal direction. The $\\theta$ always corresponds to the maximum extensive direction in this sign convension."
   ]
  },
  {
   "cell_type": "markdown",
   "metadata": {},
   "source": [
    "# Work flow\n",
    "\n",
    "1. Prepare the stress and strain states without shear stress as true model.\n",
    "2. Rotate the strain to meet the condisions listed in the figure above.\n",
    "3. compute SHmax and check if it is identical to the given rotation angle from the true model.\n",
    "4. compute the maximum compressive strain to check if it is identical to the true model."
   ]
  },
  {
   "cell_type": "markdown",
   "metadata": {},
   "source": [
    "# Note:\n",
    "\n",
    "Once the strain is rotated, we cannot reconstruct how much we rotate from the true model as we have two equivalent true model from which the stress state is obtained (see the two triangles in Figure above)."
   ]
  },
  {
   "cell_type": "markdown",
   "metadata": {},
   "source": [
    "# Prepare the true model of stress state "
   ]
  },
  {
   "cell_type": "markdown",
   "metadata": {},
   "source": [
    "## Case 1. sxx > syy \n",
    "\n",
    "In this case, the SHmax is 90$^\\circ$ parallel to the $\\sigma_{yy}$."
   ]
  },
  {
   "cell_type": "code",
   "execution_count": 3,
   "metadata": {},
   "outputs": [
    {
     "name": "stdout",
     "output_type": "stream",
     "text": [
      "Eee=-0.00003125, Enn=-0.00015625, Een=0.00000000\n"
     ]
    }
   ],
   "source": [
    "# Synthesize the stress\n",
    "nu = 0.25\n",
    "E = 100e9\n",
    "sxx0 = -10e6\n",
    "syy0 = -20e6\n",
    "tau0 = 0\n",
    "e_true =  compute_strain(sxx0, syy0, tau0, E, nu)\n",
    "\n",
    "if e_true[0][0] > e_true[1][1]:\n",
    "    e_SHmax_true = e_true[1][1]\n",
    "else:\n",
    "    e_SHmax_true = e_true[0][0]\n",
    "\n",
    "print(f\"Eee={e_true[0][0]:.8f}, Enn={e_true[1][1]:.8f}, Een={e_true[0][1]:.8f}\")"
   ]
  },
  {
   "cell_type": "markdown",
   "metadata": {},
   "source": [
    "### Rotate clockwise"
   ]
  },
  {
   "cell_type": "code",
   "execution_count": 4,
   "metadata": {},
   "outputs": [
    {
     "name": "stdout",
     "output_type": "stream",
     "text": [
      "-0.00014162777769493608 -4.587222230506388e-05 4.0174225605408716e-05\n",
      "False True\n"
     ]
    }
   ],
   "source": [
    "theta_deg_case1 = -70\n",
    "Eee, Enn, Een = rotate_strain(e_true[0][0], e_true[1][1], e_true[0][1], theta_deg_case1)\n",
    "print(Eee, Enn, Een)\n",
    "print(Eee>Enn, Een>0)"
   ]
  },
  {
   "cell_type": "code",
   "execution_count": 5,
   "metadata": {},
   "outputs": [
    {
     "name": "stdout",
     "output_type": "stream",
     "text": [
      "8.034845121081743e-05 -9.57555553898722e-05 1.2217304763960306\n",
      "theta_principal:70.0000 theta_SHmax:160.0000\n"
     ]
    }
   ],
   "source": [
    "theta = 0.5*np.arctan2(2*Een, (Eee - Enn))\n",
    "print(2*Een, (Eee - Enn), theta)\n",
    "theta_p = np.rad2deg(theta)\n",
    "theta_SHmax = theta_p + 90\n",
    "print(f\"theta_principal:{theta_p:.4f} theta_SHmax:{theta_SHmax:.4f}\")\n",
    "\n",
    "# assert np.abs(theta_deg_case1 + theta_p) < 1e-12 # check the rotation angle is correct"
   ]
  },
  {
   "cell_type": "code",
   "execution_count": 6,
   "metadata": {},
   "outputs": [
    {
     "name": "stdout",
     "output_type": "stream",
     "text": [
      "e_SHmax: -1.5625e-04, true model: -1.5625e-04\n"
     ]
    }
   ],
   "source": [
    "# compute the maximum compressive strain\n",
    "e_SHmax = compute_axialstrain(Eee, Enn, Een, theta_SHmax)\n",
    "print(f\"e_SHmax: {e_SHmax:.4e}, true model: {e_SHmax_true:.4e}\")\n",
    "assert np.abs(e_SHmax_true - e_SHmax) < 1e-12 # check the rotation angle is correct"
   ]
  },
  {
   "cell_type": "markdown",
   "metadata": {},
   "source": [
    "### Rotate anticlockwise"
   ]
  },
  {
   "cell_type": "code",
   "execution_count": 7,
   "metadata": {},
   "outputs": [
    {
     "name": "stdout",
     "output_type": "stream",
     "text": [
      "False False\n"
     ]
    }
   ],
   "source": [
    "theta_deg_case1 = 70\n",
    "Eee, Enn, Een = rotate_strain(e_true[0][0], e_true[1][1], e_true[0][1], theta_deg_case1)\n",
    "Eee, Enn, Een\n",
    "print(Eee>Enn, Een>0)"
   ]
  },
  {
   "cell_type": "code",
   "execution_count": 8,
   "metadata": {},
   "outputs": [
    {
     "name": "stdout",
     "output_type": "stream",
     "text": [
      "theta_principal:-70.0000 theta_SHmax:20.0000\n"
     ]
    }
   ],
   "source": [
    "theta = 0.5*np.arctan2(2*Een, (Eee - Enn))\n",
    "theta_p = np.rad2deg(theta)\n",
    "theta_SHmax = theta_p + 90\n",
    "print(f\"theta_principal:{theta_p:.4f} theta_SHmax:{theta_SHmax:.4f}\")\n",
    "\n",
    "# assert np.abs(theta_deg_case1 + theta_p) < 1e-12 # check the rotation angle is correct"
   ]
  },
  {
   "cell_type": "code",
   "execution_count": 9,
   "metadata": {},
   "outputs": [
    {
     "name": "stdout",
     "output_type": "stream",
     "text": [
      "e_SHmax: -1.5625e-04, true model: -1.5625e-04\n"
     ]
    }
   ],
   "source": [
    "# compute the maximum compressive strain\n",
    "e_SHmax = compute_axialstrain(Eee, Enn, Een, theta_SHmax)\n",
    "print(f\"e_SHmax: {e_SHmax:.4e}, true model: {e_SHmax_true:.4e}\")\n",
    "assert np.abs(e_SHmax_true - e_SHmax) < 1e-12 # check the rotation angle is correct"
   ]
  },
  {
   "cell_type": "code",
   "execution_count": null,
   "metadata": {},
   "outputs": [],
   "source": []
  },
  {
   "cell_type": "markdown",
   "metadata": {},
   "source": [
    "# Case 2. syy > sxx \n",
    "\n",
    "In this case, the SHmax is 0$^\\circ$ parallel to the $\\sigma_{xx}$."
   ]
  },
  {
   "cell_type": "code",
   "execution_count": 10,
   "metadata": {},
   "outputs": [
    {
     "name": "stdout",
     "output_type": "stream",
     "text": [
      "Eee=-0.00034375, Enn=0.00003125, Een=0.00000000\n"
     ]
    }
   ],
   "source": [
    "sxx0 = -40e6\n",
    "syy0 = -10e6\n",
    "tau0 = 0\n",
    "e_true =  compute_strain(sxx0, syy0, tau0, E, nu)\n",
    "\n",
    "if e_true[0][0] > e_true[1][1]:\n",
    "    e_SHmax_true = e_true[1][1]\n",
    "else:\n",
    "    e_SHmax_true = e_true[0][0]\n",
    "\n",
    "print(f\"Eee={e_true[0][0]:.8f}, Enn={e_true[1][1]:.8f}, Een={e_true[0][1]:.8f}\")"
   ]
  },
  {
   "cell_type": "markdown",
   "metadata": {},
   "source": [
    "### Rotate clockwise"
   ]
  },
  {
   "cell_type": "code",
   "execution_count": 11,
   "metadata": {},
   "outputs": [
    {
     "name": "stdout",
     "output_type": "stream",
     "text": [
      "-0.0002998833330848084 -1.2616666915191606e-05 -0.00012052267681622612\n",
      "False False\n"
     ]
    }
   ],
   "source": [
    "theta_deg_case2 = -20\n",
    "Eee, Enn, Een = rotate_strain(e_true[0][0], e_true[1][1], e_true[0][1], theta_deg_case2)\n",
    "print(Eee, Enn, Een)\n",
    "print(Eee>Enn, Een>0)"
   ]
  },
  {
   "cell_type": "code",
   "execution_count": 12,
   "metadata": {},
   "outputs": [
    {
     "name": "stdout",
     "output_type": "stream",
     "text": [
      "theta_principal:-70.0000 theta_SHmax:20.0000\n",
      "-20 -70.00000000000001\n"
     ]
    }
   ],
   "source": [
    "theta = 0.5*np.arctan2(2*Een, (Eee - Enn))\n",
    "# print(2*Een, (Eee - Enn), theta)\n",
    "theta_p = np.rad2deg(theta)\n",
    "theta_SHmax = theta_p + 90\n",
    "print(f\"theta_principal:{theta_p:.4f} theta_SHmax:{theta_SHmax:.4f}\")\n",
    "print(theta_deg_case2, theta_p)\n",
    "# assert np.abs(theta_deg_case2 + theta_p + 90) < 1e-12 # check the rotation angle is correct; We cannot chose this as we have equivalent two options."
   ]
  },
  {
   "cell_type": "code",
   "execution_count": 13,
   "metadata": {},
   "outputs": [
    {
     "name": "stdout",
     "output_type": "stream",
     "text": [
      "e_SHmax: -3.4375e-04, true model: -3.4375e-04\n"
     ]
    }
   ],
   "source": [
    "# compute the maximum compressive strain\n",
    "e_SHmax = compute_axialstrain(Eee, Enn, Een, theta_SHmax)\n",
    "print(f\"e_SHmax: {e_SHmax:.4e}, true model: {e_SHmax_true:.4e}\")\n",
    "assert np.abs(e_SHmax_true - e_SHmax) < 1e-12 # check the rotation angle is correct"
   ]
  },
  {
   "cell_type": "code",
   "execution_count": 14,
   "metadata": {},
   "outputs": [
    {
     "data": {
      "text/plain": [
       "(-0.00034375, -0.00034375)"
      ]
     },
     "execution_count": 14,
     "metadata": {},
     "output_type": "execute_result"
    }
   ],
   "source": [
    "e_SHmax_true, e_SHmax"
   ]
  },
  {
   "cell_type": "markdown",
   "metadata": {},
   "source": [
    "### Rotate anticlockwise"
   ]
  },
  {
   "cell_type": "code",
   "execution_count": 15,
   "metadata": {},
   "outputs": [
    {
     "name": "stdout",
     "output_type": "stream",
     "text": [
      "False True\n"
     ]
    }
   ],
   "source": [
    "theta_deg_case2 = 20\n",
    "Eee, Enn, Een = rotate_strain(e_true[0][0], e_true[1][1], e_true[0][1], theta_deg_case2)\n",
    "Eee, Enn, Een\n",
    "print(Eee>Enn, Een>0)"
   ]
  },
  {
   "cell_type": "code",
   "execution_count": 16,
   "metadata": {},
   "outputs": [
    {
     "name": "stdout",
     "output_type": "stream",
     "text": [
      "0.00024104535363245224 -0.0002872666661696168 1.2217304763960308\n",
      "theta_principal:70.0000 theta_SHmax:160.0000\n"
     ]
    }
   ],
   "source": [
    "theta = 0.5*np.arctan2(2*Een, (Eee - Enn))\n",
    "print(2*Een, (Eee - Enn), theta)\n",
    "theta_p = np.rad2deg(theta)\n",
    "theta_SHmax = theta_p + 90\n",
    "print(f\"theta_principal:{theta_p:.4f} theta_SHmax:{theta_SHmax:.4f}\")\n",
    "\n",
    "# assert np.abs(theta_deg_case2 + theta_p - 90) < 1e-12 # check the rotation angle is correct"
   ]
  },
  {
   "cell_type": "code",
   "execution_count": 17,
   "metadata": {},
   "outputs": [
    {
     "name": "stdout",
     "output_type": "stream",
     "text": [
      "e_SHmax: -3.4375e-04, true model: -3.4375e-04\n"
     ]
    }
   ],
   "source": [
    "# compute the maximum compressive strain\n",
    "e_SHmax = compute_axialstrain(Eee, Enn, Een, theta_SHmax)\n",
    "print(f\"e_SHmax: {e_SHmax:.4e}, true model: {e_SHmax_true:.4e}\")\n",
    "assert np.abs(e_SHmax_true - e_SHmax) < 1e-12 # check the rotation angle is correct"
   ]
  },
  {
   "cell_type": "markdown",
   "metadata": {},
   "source": [
    "# Check all the variation of rotation\n",
    "\n",
    "The symmerty of `np.arctan2` needs to be carefully chosen to obtain the correct SHmax."
   ]
  },
  {
   "cell_type": "code",
   "execution_count": 18,
   "metadata": {},
   "outputs": [
    {
     "data": {
      "text/plain": [
       "array([-360., -345., -330., -315., -300., -285., -270., -255., -240.,\n",
       "       -225., -210., -195., -180., -165., -150., -135., -120., -105.,\n",
       "        -90.,  -75.,  -60.,  -45.,  -30.,  -15.,    0.,   15.,   30.,\n",
       "         45.,   60.,   75.,   90.,  105.,  120.,  135.,  150.,  165.,\n",
       "        180.,  195.,  210.,  225.,  240.,  255.,  270.,  285.,  300.,\n",
       "        315.,  330.,  345.,  360.])"
      ]
     },
     "execution_count": 18,
     "metadata": {},
     "output_type": "execute_result"
    }
   ],
   "source": [
    "truemodel_rotation = np.linspace(-360, 360, 49)\n",
    "truemodel_rotation"
   ]
  },
  {
   "cell_type": "code",
   "execution_count": null,
   "metadata": {},
   "outputs": [],
   "source": []
  },
  {
   "cell_type": "code",
   "execution_count": 19,
   "metadata": {},
   "outputs": [
    {
     "name": "stdout",
     "output_type": "stream",
     "text": [
      "theta_SHmax true model: 90.00\n",
      "Eee=-0.00003125, Enn=-0.00015625, Een=0.00000000\n",
      "angle:-360.0deg, theta_SHmax:90.0deg, e_SHmax: -1.5625e-04, true model: -1.5625e-04\n",
      "angle:-345.0deg, theta_SHmax:75.0deg, e_SHmax: -1.5625e-04, true model: -1.5625e-04\n",
      "angle:-330.0deg, theta_SHmax:60.0deg, e_SHmax: -1.5625e-04, true model: -1.5625e-04\n",
      "angle:-315.0deg, theta_SHmax:45.0deg, e_SHmax: -1.5625e-04, true model: -1.5625e-04\n",
      "angle:-300.0deg, theta_SHmax:30.0deg, e_SHmax: -1.5625e-04, true model: -1.5625e-04\n",
      "angle:-285.0deg, theta_SHmax:15.0deg, e_SHmax: -1.5625e-04, true model: -1.5625e-04\n",
      "angle:-270.0deg, theta_SHmax:0.0deg, e_SHmax: -1.5625e-04, true model: -1.5625e-04\n",
      "angle:-255.0deg, theta_SHmax:165.0deg, e_SHmax: -1.5625e-04, true model: -1.5625e-04\n",
      "angle:-240.0deg, theta_SHmax:150.0deg, e_SHmax: -1.5625e-04, true model: -1.5625e-04\n",
      "angle:-225.0deg, theta_SHmax:135.0deg, e_SHmax: -1.5625e-04, true model: -1.5625e-04\n",
      "angle:-210.0deg, theta_SHmax:120.0deg, e_SHmax: -1.5625e-04, true model: -1.5625e-04\n",
      "angle:-195.0deg, theta_SHmax:105.0deg, e_SHmax: -1.5625e-04, true model: -1.5625e-04\n",
      "angle:-180.0deg, theta_SHmax:90.0deg, e_SHmax: -1.5625e-04, true model: -1.5625e-04\n",
      "angle:-165.0deg, theta_SHmax:75.0deg, e_SHmax: -1.5625e-04, true model: -1.5625e-04\n",
      "angle:-150.0deg, theta_SHmax:60.0deg, e_SHmax: -1.5625e-04, true model: -1.5625e-04\n",
      "angle:-135.0deg, theta_SHmax:45.0deg, e_SHmax: -1.5625e-04, true model: -1.5625e-04\n",
      "angle:-120.0deg, theta_SHmax:30.0deg, e_SHmax: -1.5625e-04, true model: -1.5625e-04\n",
      "angle:-105.0deg, theta_SHmax:15.0deg, e_SHmax: -1.5625e-04, true model: -1.5625e-04\n",
      "angle:-90.0deg, theta_SHmax:0.0deg, e_SHmax: -1.5625e-04, true model: -1.5625e-04\n",
      "angle:-75.0deg, theta_SHmax:165.0deg, e_SHmax: -1.5625e-04, true model: -1.5625e-04\n",
      "angle:-60.0deg, theta_SHmax:150.0deg, e_SHmax: -1.5625e-04, true model: -1.5625e-04\n",
      "angle:-45.0deg, theta_SHmax:135.0deg, e_SHmax: -1.5625e-04, true model: -1.5625e-04\n",
      "angle:-30.0deg, theta_SHmax:120.0deg, e_SHmax: -1.5625e-04, true model: -1.5625e-04\n",
      "angle:-15.0deg, theta_SHmax:105.0deg, e_SHmax: -1.5625e-04, true model: -1.5625e-04\n",
      "angle:0.0deg, theta_SHmax:90.0deg, e_SHmax: -1.5625e-04, true model: -1.5625e-04\n",
      "angle:15.0deg, theta_SHmax:75.0deg, e_SHmax: -1.5625e-04, true model: -1.5625e-04\n",
      "angle:30.0deg, theta_SHmax:60.0deg, e_SHmax: -1.5625e-04, true model: -1.5625e-04\n",
      "angle:45.0deg, theta_SHmax:45.0deg, e_SHmax: -1.5625e-04, true model: -1.5625e-04\n",
      "angle:60.0deg, theta_SHmax:30.0deg, e_SHmax: -1.5625e-04, true model: -1.5625e-04\n",
      "angle:75.0deg, theta_SHmax:15.0deg, e_SHmax: -1.5625e-04, true model: -1.5625e-04\n",
      "angle:90.0deg, theta_SHmax:0.0deg, e_SHmax: -1.5625e-04, true model: -1.5625e-04\n",
      "angle:105.0deg, theta_SHmax:165.0deg, e_SHmax: -1.5625e-04, true model: -1.5625e-04\n",
      "angle:120.0deg, theta_SHmax:150.0deg, e_SHmax: -1.5625e-04, true model: -1.5625e-04\n",
      "angle:135.0deg, theta_SHmax:135.0deg, e_SHmax: -1.5625e-04, true model: -1.5625e-04\n",
      "angle:150.0deg, theta_SHmax:120.0deg, e_SHmax: -1.5625e-04, true model: -1.5625e-04\n",
      "angle:165.0deg, theta_SHmax:105.0deg, e_SHmax: -1.5625e-04, true model: -1.5625e-04\n",
      "angle:180.0deg, theta_SHmax:90.0deg, e_SHmax: -1.5625e-04, true model: -1.5625e-04\n",
      "angle:195.0deg, theta_SHmax:75.0deg, e_SHmax: -1.5625e-04, true model: -1.5625e-04\n",
      "angle:210.0deg, theta_SHmax:60.0deg, e_SHmax: -1.5625e-04, true model: -1.5625e-04\n",
      "angle:225.0deg, theta_SHmax:45.0deg, e_SHmax: -1.5625e-04, true model: -1.5625e-04\n",
      "angle:240.0deg, theta_SHmax:30.0deg, e_SHmax: -1.5625e-04, true model: -1.5625e-04\n",
      "angle:255.0deg, theta_SHmax:15.0deg, e_SHmax: -1.5625e-04, true model: -1.5625e-04\n",
      "angle:270.0deg, theta_SHmax:0.0deg, e_SHmax: -1.5625e-04, true model: -1.5625e-04\n",
      "angle:285.0deg, theta_SHmax:165.0deg, e_SHmax: -1.5625e-04, true model: -1.5625e-04\n",
      "angle:300.0deg, theta_SHmax:150.0deg, e_SHmax: -1.5625e-04, true model: -1.5625e-04\n",
      "angle:315.0deg, theta_SHmax:135.0deg, e_SHmax: -1.5625e-04, true model: -1.5625e-04\n",
      "angle:330.0deg, theta_SHmax:120.0deg, e_SHmax: -1.5625e-04, true model: -1.5625e-04\n",
      "angle:345.0deg, theta_SHmax:105.0deg, e_SHmax: -1.5625e-04, true model: -1.5625e-04\n",
      "angle:360.0deg, theta_SHmax:90.0deg, e_SHmax: -1.5625e-04, true model: -1.5625e-04\n",
      "theta_SHmax true model: 0.00\n",
      "Eee=-0.00034375, Enn=0.00003125, Een=0.00000000\n",
      "angle:-360.0deg, theta_SHmax:0.0deg, e_SHmax: -3.4375e-04, true model: -3.4375e-04\n",
      "angle:-345.0deg, theta_SHmax:165.0deg, e_SHmax: -3.4375e-04, true model: -3.4375e-04\n",
      "angle:-330.0deg, theta_SHmax:150.0deg, e_SHmax: -3.4375e-04, true model: -3.4375e-04\n",
      "angle:-315.0deg, theta_SHmax:135.0deg, e_SHmax: -3.4375e-04, true model: -3.4375e-04\n",
      "angle:-300.0deg, theta_SHmax:120.0deg, e_SHmax: -3.4375e-04, true model: -3.4375e-04\n",
      "angle:-285.0deg, theta_SHmax:105.0deg, e_SHmax: -3.4375e-04, true model: -3.4375e-04\n",
      "angle:-270.0deg, theta_SHmax:90.0deg, e_SHmax: -3.4375e-04, true model: -3.4375e-04\n",
      "angle:-255.0deg, theta_SHmax:75.0deg, e_SHmax: -3.4375e-04, true model: -3.4375e-04\n",
      "angle:-240.0deg, theta_SHmax:60.0deg, e_SHmax: -3.4375e-04, true model: -3.4375e-04\n",
      "angle:-225.0deg, theta_SHmax:45.0deg, e_SHmax: -3.4375e-04, true model: -3.4375e-04\n",
      "angle:-210.0deg, theta_SHmax:30.0deg, e_SHmax: -3.4375e-04, true model: -3.4375e-04\n",
      "angle:-195.0deg, theta_SHmax:15.0deg, e_SHmax: -3.4375e-04, true model: -3.4375e-04\n",
      "angle:-180.0deg, theta_SHmax:0.0deg, e_SHmax: -3.4375e-04, true model: -3.4375e-04\n",
      "angle:-165.0deg, theta_SHmax:165.0deg, e_SHmax: -3.4375e-04, true model: -3.4375e-04\n",
      "angle:-150.0deg, theta_SHmax:150.0deg, e_SHmax: -3.4375e-04, true model: -3.4375e-04\n",
      "angle:-135.0deg, theta_SHmax:135.0deg, e_SHmax: -3.4375e-04, true model: -3.4375e-04\n",
      "angle:-120.0deg, theta_SHmax:120.0deg, e_SHmax: -3.4375e-04, true model: -3.4375e-04\n",
      "angle:-105.0deg, theta_SHmax:105.0deg, e_SHmax: -3.4375e-04, true model: -3.4375e-04\n",
      "angle:-90.0deg, theta_SHmax:90.0deg, e_SHmax: -3.4375e-04, true model: -3.4375e-04\n",
      "angle:-75.0deg, theta_SHmax:75.0deg, e_SHmax: -3.4375e-04, true model: -3.4375e-04\n",
      "angle:-60.0deg, theta_SHmax:60.0deg, e_SHmax: -3.4375e-04, true model: -3.4375e-04\n",
      "angle:-45.0deg, theta_SHmax:45.0deg, e_SHmax: -3.4375e-04, true model: -3.4375e-04\n",
      "angle:-30.0deg, theta_SHmax:30.0deg, e_SHmax: -3.4375e-04, true model: -3.4375e-04\n",
      "angle:-15.0deg, theta_SHmax:15.0deg, e_SHmax: -3.4375e-04, true model: -3.4375e-04\n",
      "angle:0.0deg, theta_SHmax:0.0deg, e_SHmax: -3.4375e-04, true model: -3.4375e-04\n",
      "angle:15.0deg, theta_SHmax:165.0deg, e_SHmax: -3.4375e-04, true model: -3.4375e-04\n",
      "angle:30.0deg, theta_SHmax:150.0deg, e_SHmax: -3.4375e-04, true model: -3.4375e-04\n",
      "angle:45.0deg, theta_SHmax:135.0deg, e_SHmax: -3.4375e-04, true model: -3.4375e-04\n",
      "angle:60.0deg, theta_SHmax:120.0deg, e_SHmax: -3.4375e-04, true model: -3.4375e-04\n",
      "angle:75.0deg, theta_SHmax:105.0deg, e_SHmax: -3.4375e-04, true model: -3.4375e-04\n",
      "angle:90.0deg, theta_SHmax:90.0deg, e_SHmax: -3.4375e-04, true model: -3.4375e-04\n",
      "angle:105.0deg, theta_SHmax:75.0deg, e_SHmax: -3.4375e-04, true model: -3.4375e-04\n",
      "angle:120.0deg, theta_SHmax:60.0deg, e_SHmax: -3.4375e-04, true model: -3.4375e-04\n",
      "angle:135.0deg, theta_SHmax:45.0deg, e_SHmax: -3.4375e-04, true model: -3.4375e-04\n",
      "angle:150.0deg, theta_SHmax:30.0deg, e_SHmax: -3.4375e-04, true model: -3.4375e-04\n",
      "angle:165.0deg, theta_SHmax:15.0deg, e_SHmax: -3.4375e-04, true model: -3.4375e-04\n",
      "angle:180.0deg, theta_SHmax:0.0deg, e_SHmax: -3.4375e-04, true model: -3.4375e-04\n",
      "angle:195.0deg, theta_SHmax:165.0deg, e_SHmax: -3.4375e-04, true model: -3.4375e-04\n",
      "angle:210.0deg, theta_SHmax:150.0deg, e_SHmax: -3.4375e-04, true model: -3.4375e-04\n",
      "angle:225.0deg, theta_SHmax:135.0deg, e_SHmax: -3.4375e-04, true model: -3.4375e-04\n",
      "angle:240.0deg, theta_SHmax:120.0deg, e_SHmax: -3.4375e-04, true model: -3.4375e-04\n",
      "angle:255.0deg, theta_SHmax:105.0deg, e_SHmax: -3.4375e-04, true model: -3.4375e-04\n",
      "angle:270.0deg, theta_SHmax:90.0deg, e_SHmax: -3.4375e-04, true model: -3.4375e-04\n",
      "angle:285.0deg, theta_SHmax:75.0deg, e_SHmax: -3.4375e-04, true model: -3.4375e-04\n",
      "angle:300.0deg, theta_SHmax:60.0deg, e_SHmax: -3.4375e-04, true model: -3.4375e-04\n",
      "angle:315.0deg, theta_SHmax:45.0deg, e_SHmax: -3.4375e-04, true model: -3.4375e-04\n",
      "angle:330.0deg, theta_SHmax:30.0deg, e_SHmax: -3.4375e-04, true model: -3.4375e-04\n",
      "angle:345.0deg, theta_SHmax:15.0deg, e_SHmax: -3.4375e-04, true model: -3.4375e-04\n",
      "angle:360.0deg, theta_SHmax:0.0deg, e_SHmax: -3.4375e-04, true model: -3.4375e-04\n"
     ]
    }
   ],
   "source": [
    "truemodel_rotation = np.linspace(-360, 360, 49)\n",
    "\n",
    "nu = 0.25\n",
    "E = 100e9\n",
    "\n",
    "stress_list = [[-10e6, -20e6, 0], [-40e6, -10e6, 0]] # stress state of true model \n",
    "\n",
    "SHmax_all = dict()\n",
    "\n",
    "for i, sig in enumerate(stress_list):\n",
    "    \n",
    "    sxx0, syy0, tau0 = sig\n",
    "    e_true =  compute_strain(sxx0, syy0, tau0, E, nu)\n",
    "\n",
    "    if e_true[0][0] > e_true[1][1]:\n",
    "        e_SHmax_true = e_true[1][1]\n",
    "        print(f\"theta_SHmax true model: {90:.2f}\")\n",
    "    else:\n",
    "        e_SHmax_true = e_true[0][0]\n",
    "        print(f\"theta_SHmax true model: {0:.2f}\")\n",
    "\n",
    "    print(f\"Eee={e_true[0][0]:.8f}, Enn={e_true[1][1]:.8f}, Een={e_true[0][1]:.8f}\")\n",
    "\n",
    "    th = []\n",
    "    for angle in truemodel_rotation:\n",
    "        Eee, Enn, Een = rotate_strain(e_true[0][0], e_true[1][1], e_true[0][1], angle)\n",
    "        # compute the pricipal orientation\n",
    "        theta = 0.5*np.arctan2(2*Een, (Eee - Enn))\n",
    "        theta_p = np.rad2deg(theta)\n",
    "        # SHmax is orthogonal to the principal axis corresponding to the maximum extensive strain\n",
    "        theta_SHmax = theta_p + 90\n",
    "        if np.abs(theta_SHmax - 180) < 1e-12:\n",
    "            theta_SHmax = 0 # unify the zero and 180 degrees to zero.\n",
    "        \n",
    "#         print(f\"theta_principal:{theta_p:.4f} theta_SHmax:{theta_SHmax:.4f}\")        \n",
    "        # compute the maximum compressive strain\n",
    "        e_SHmax = compute_axialstrain(Eee, Enn, Een, theta_SHmax)\n",
    "        assert np.abs(e_SHmax_true - e_SHmax) < 1e-12 # check the rotation angle is correct\n",
    "        \n",
    "        print(f\"angle:{angle:.1f}deg, theta_SHmax:{theta_SHmax:.1f}deg, e_SHmax: {e_SHmax:.4e}, true model: {e_SHmax_true:.4e}\")\n",
    "        th.append(theta_SHmax)\n",
    "        \n",
    "    SHmax_all[i]=th"
   ]
  },
  {
   "cell_type": "code",
   "execution_count": 20,
   "metadata": {},
   "outputs": [
    {
     "data": {
      "text/plain": [
       "<matplotlib.lines.Line2D at 0x7f8c80887550>"
      ]
     },
     "execution_count": 20,
     "metadata": {},
     "output_type": "execute_result"
    },
    {
     "data": {
      "image/png": "[encoded data removed]",
      "text/plain": [
       "<Figure size 800x300 with 1 Axes>"
      ]
     },
     "metadata": {},
     "output_type": "display_data"
    }
   ],
   "source": [
    "fig, ax = plt.subplots(1, 1, figsize=(8, 3))\n",
    "\n",
    "ax.plot(truemodel_rotation, SHmax_all[0], \"-o\", label=\"sxx > syy\")\n",
    "ax.plot(truemodel_rotation, SHmax_all[1], \"-o\", label=\"syy > sxx\")\n",
    "ax.set_xlabel(\"Rotation of true model clockwise positive [deg]\")\n",
    "ax.set_ylabel(\"Angle of SHmax\")\n",
    "ax.set_xlim([-360, 360])\n",
    "ax.set_ylim([-10, 190])\n",
    "ax.set_xticks(np.linspace(-360, 360, 13))\n",
    "ax.set_yticks([0, 30, 60, 90, 120, 150, 180])\n",
    "ax.legend(loc=0)\n",
    "ax.axhline(90, c=\"k\", ls=\"--\")"
   ]
  },
  {
   "cell_type": "markdown",
   "metadata": {},
   "source": [
    "# Conclusion\n",
    "\n",
    "We can implement the orientation of SHmax using the function as follows:\n",
    "```\n",
    "# compute the pricipal orientation\n",
    "theta = 0.5*np.arctan2(2*Een, (Eee - Enn))\n",
    "theta_p = np.rad2deg(theta)\n",
    "# SHmax is orthogonal to the principal axis corresponding to the maximum extensive strain\n",
    "theta_SHmax = theta_p + 90\n",
    "if np.abs(theta_SHmax - 180) < 1e-12:\n",
    "    theta_SHmax = 0 # unify the zero and 180 degrees to zero.\n",
    "\n",
    "print(f\"theta_principal:{theta_p:.4f} theta_SHmax:{theta_SHmax:.4f}\")        \n",
    "# compute the maximum compressive strain\n",
    "e_SHmax = compute_axialstrain(Eee, Enn, Een, theta_SHmax)\n",
    "```\n",
    "\n",
    "Note that the principal direction in `PyTAGS` is impelemented as followings:\n",
    "    The principal direction is defined as `0.5*np.arctan2(2*Een, (Enn - Eee))`. Then, the `e1` and `e2` are calculated with replacing `theta` with `-theta` from the common formula of rotation."
   ]
  },
  {
   "cell_type": "code",
   "execution_count": null,
   "metadata": {},
   "outputs": [],
   "source": []
  },
  {
   "cell_type": "code",
   "execution_count": null,
   "metadata": {},
   "outputs": [],
   "source": []
  },
  {
   "cell_type": "code",
   "execution_count": null,
   "metadata": {},
   "outputs": [],
   "source": []
  }
 ],
 "metadata": {
  "@webio": {
   "lastCommId": null,
   "lastKernelId": null
  },
  "kernelspec": {
   "display_name": "Python 3 (ipykernel)",
   "language": "python",
   "name": "python3"
  },
  "language_info": {
   "codemirror_mode": {
    "name": "ipython",
    "version": 3
   },
   "file_extension": ".py",
   "mimetype": "text/x-python",
   "name": "python",
   "nbconvert_exporter": "python",
   "pygments_lexer": "ipython3",
   "version": "3.8.12"
  }
 },
 "nbformat": 4,
 "nbformat_minor": 4
}
