{
 "cells": [
  {
   "cell_type": "code",
   "execution_count": 1,
   "metadata": {
    "tags": []
   },
   "outputs": [],
   "source": [
    "import datetime\n",
    "import os\n",
    "\n",
    "import matplotlib\n",
    "import matplotlib.pyplot as plt\n",
    "import matplotlib.dates as dates\n",
    "import matplotlib.dates as mdates\n",
    "import matplotlib.gridspec as gridspec\n",
    "import matplotlib.ticker\n",
    "\n",
    "%matplotlib inline\n",
    "\n",
    "import numpy as np\n",
    "import pandas as pd\n",
    "import glob\n",
    "import shutil\n",
    "from tqdm import tqdm\n",
    "import warnings\n",
    "\n",
    "from sklearn.linear_model import LinearRegression\n",
    "from scipy.optimize import curve_fit\n",
    "\n",
    "plt.rcParams[\"font.family\"] = 'Arial'\n",
    "# plt.rcParams[\"font.sans-serif\"] = \"DejaVu Sans, Arial, Helvetica, Lucida Grande, Verdana, Geneva, Lucid, Avant Garde, sans-serif\"\n",
    "plt.rcParams[\"font.size\"] = 14\n",
    "plt.rcParams[\"xtick.direction\"] = \"in\"\n",
    "plt.rcParams[\"xtick.major.size\"] = 5\n",
    "plt.rcParams[\"xtick.major.width\"] = 0.5\n",
    "plt.rcParams[\"xtick.minor.size\"] = 2\n",
    "plt.rcParams[\"xtick.minor.width\"] = 1\n",
    "plt.rcParams[\"xtick.minor.visible\"] = True\n",
    "\n",
    "\n",
    "plt.rcParams[\"ytick.direction\"] = \"in\"\n",
    "plt.rcParams[\"ytick.major.size\"] = 5\n",
    "plt.rcParams[\"ytick.major.width\"] = 0.5\n",
    "plt.rcParams[\"ytick.minor.size\"] = 2\n",
    "plt.rcParams[\"ytick.minor.width\"] = 1\n",
    "plt.rcParams[\"ytick.minor.visible\"] = True"
   ]
  },
  {
   "cell_type": "markdown",
   "metadata": {},
   "source": [
    "This notebook conducts the post-processing of computational time for cross-correlation to evaluate its scaling with number of cores/nodes."
   ]
  },
  {
   "cell_type": "markdown",
   "metadata": {},
   "source": [
    "# Single-node scaling"
   ]
  },
  {
   "cell_type": "code",
   "execution_count": 2,
   "metadata": {},
   "outputs": [],
   "source": [
    "rootdir_singlenode = \"./Scaling/scaling_singlenode\""
   ]
  },
  {
   "cell_type": "code",
   "execution_count": 3,
   "metadata": {},
   "outputs": [],
   "source": [
    "# Read cpu time for warmup and main run\n",
    "np_single = [1, 2, 4, 8, 16, 32]\n",
    "Ntrial = 5\n",
    "\n",
    "cputime_main_all = np.zeros((len(np_single), Ntrial))\n",
    "\n",
    "for i, NP in enumerate(np_single):\n",
    "    cputime_main_np = []\n",
    "    for j in range(Ntrial):\n",
    "        finame = \"np{}_{}.txt\".format(NP+1, j+1)\n",
    "        file_in = open(os.path.join(rootdir_singlenode, finame), 'r')\n",
    "        t_warmup, t_main = file_in.read().split(' ')\n",
    "        cputime_main_np.append(float(t_main))\n",
    "\n",
    "    cputime_main_all[i, :] = cputime_main_np\n"
   ]
  },
  {
   "cell_type": "code",
   "execution_count": 4,
   "metadata": {},
   "outputs": [
    {
     "data": {
      "text/plain": [
       "array([[2405.19189639, 2375.43663085, 2475.11783741, 2440.35114974,\n",
       "        2542.37939371],\n",
       "       [1327.09271562, 1200.18362505, 1383.87069049, 1177.99809145,\n",
       "        1200.6011597 ],\n",
       "       [ 637.54838649,  588.11093392,  603.37470307,  591.41391687,\n",
       "         604.60998757],\n",
       "       [ 307.37546612,  302.46903182,  320.85854303,  336.4442108 ,\n",
       "         308.66111078],\n",
       "       [ 165.60148568,  165.54673016,  177.5524231 ,  217.79215122,\n",
       "         167.00679681],\n",
       "       [  94.56274452,   91.58210397,   91.57693858,   94.04546646,\n",
       "          98.69540094]])"
      ]
     },
     "execution_count": 4,
     "metadata": {},
     "output_type": "execute_result"
    }
   ],
   "source": [
    "cputime_main_all"
   ]
  },
  {
   "cell_type": "code",
   "execution_count": 5,
   "metadata": {},
   "outputs": [
    {
     "data": {
      "text/plain": [
       "array([57.96354766, 82.04253367, 17.50435774, 12.24243612, 20.054046  ,\n",
       "        2.60922121])"
      ]
     },
     "execution_count": 5,
     "metadata": {},
     "output_type": "execute_result"
    }
   ],
   "source": [
    "cputime_single_mean = np.mean(cputime_main_all, axis=1)\n",
    "cputime_single_std = np.std(cputime_main_all, axis=1)\n",
    "cputime_single_std"
   ]
  },
  {
   "cell_type": "code",
   "execution_count": 6,
   "metadata": {},
   "outputs": [],
   "source": [
    "# compute linear regression to estimate scaling exponent\n",
    "regr = LinearRegression()\n",
    "X = []\n",
    "for i, N in enumerate(np_single):\n",
    "    for j in range(Ntrial):\n",
    "        X.append(np.log10(float(N)))\n",
    "        \n",
    "X = np.array(X).reshape(len(X), 1)\n",
    "Y = np.log10(cputime_main_all.reshape(len(np_single) * Ntrial))\n",
    "x_single = np.linspace(0.8, 40, 10)\n",
    "regr.fit(X, Y)\n",
    "y_single = 10**regr.predict(np.log10(x_single).reshape(10, 1))\n",
    "k_single, A_single = regr.coef_[0], regr.intercept_\n",
    "R2score_single = regr.score(X, Y)"
   ]
  },
  {
   "cell_type": "code",
   "execution_count": 7,
   "metadata": {},
   "outputs": [
    {
     "data": {
      "text/plain": [
       "0.9961058423064846"
      ]
     },
     "execution_count": 7,
     "metadata": {},
     "output_type": "execute_result"
    }
   ],
   "source": [
    "R2score_single"
   ]
  },
  {
   "cell_type": "code",
   "execution_count": null,
   "metadata": {},
   "outputs": [],
   "source": [
    "# plot scaling of single core\n",
    "\n",
    "fig, ax = plt.subplots(1, 1, figsize=(6,6))\n",
    "\n",
    "ju_col = 0.25*np.ones(3)\n",
    " \n",
    "ax.grid(True, which=\"both\", ls=\":\", axis=\"both\")\n",
    "ax.set_zorder(2)\n",
    "\n",
    "ax.errorbar(np_single, cputime_single_mean, yerr=cputime_single_std, fmt='s', ms=6, mec=\"k\", color=ju_col,\n",
    "            capthick=1, capsize=3, barsabove=False, zorder=4)\n",
    "\n",
    "ax.plot(x_single, y_single, color=\"k\", lw=0.75, zorder=4)\n",
    "ax.text(30.0, 1e3, \"Scaling exponent\\n = {0:5.3f}\".format(k_single), ha=\"right\", fontsize=16)\n",
    "\n",
    "# decolate\n",
    "xlimit = (0.5, 50)\n",
    "ylimit = (50, 5e3)\n",
    "ax.set_xlim(xlimit)\n",
    "ax.set_ylim(ylimit)\n",
    "ax.set_xscale('log')\n",
    "ax.set_yscale('log')\n",
    "ax.set_ylabel('CPU time [s]')\n",
    "ax.tick_params(\n",
    "    axis='x',          # changes apply to the x-axis\n",
    "    which='both',      # both major and minor ticks are affected\n",
    "    bottom=False,      # ticks along the bottom edge are off\n",
    "    top=False,         # ticks along the top edge are off\n",
    "    labelbottom=False) # labels along the bottom edge are off\n",
    "\n",
    "# axes for xticks to plot grid independent from minor ticks\n",
    "pos1 = ax.get_position()\n",
    "ax_aux=fig.add_axes(pos1) \n",
    "ax_aux.set_zorder(1)\n",
    "ax_aux.set_xscale('log')\n",
    "ax_aux.set_yscale('log')\n",
    "ax_aux.set_xticks(np_single, minor=False)\n",
    "ax_aux.set_xticklabels(np_single)\n",
    "ax_aux.tick_params(\n",
    "    axis='x',          # changes apply to the x-axis\n",
    "    which='minor',      # both major and minor ticks are affected\n",
    "    bottom=False,      # ticks along the bottom edge are off\n",
    "    top=False,         # ticks along the top edge are off\n",
    "    labelbottom=False) # labels along the bottom edge are off\n",
    "\n",
    "\n",
    "ax_aux.set_xlim(xlimit)\n",
    "ax_aux.set_ylim(ylimit)\n",
    "ax_aux.set_xlabel('Number of cores')\n"
   ]
  },
  {
   "cell_type": "code",
   "execution_count": 9,
   "metadata": {},
   "outputs": [],
   "source": [
    "# Plot with bar \n",
    "# barwidth = [0.4 * 2**i for i in range(6) ]\n",
    "# barwidth\n",
    "# fig, ax = plt.subplots(1, 1, figsize=(6,6))\n",
    "\n",
    "# ju_col = 0.25*np.ones(3)\n",
    " \n",
    "# ax.grid(True, which=\"both\", ls=\":\", axis=\"both\")\n",
    "# ax.set_zorder(2)\n",
    "# ax.bar(np_single, cputime_single_mean, yerr=cputime_single_std, width=barwidth, align='center', \n",
    "#        edgecolor=\"k\", color=ju_col, ecolor='black', capsize=3, zorder=3)\n",
    "\n",
    "# # decolate\n",
    "# xlimit = (0.6, 48)\n",
    "# ylimit = (80, 3e3)\n",
    "# ax.set_xlim(xlimit)\n",
    "# ax.set_ylim(ylimit)\n",
    "# ax.set_xscale('log')\n",
    "# ax.set_yscale('log')\n",
    "# ax.set_ylabel('CPU time [s]')\n",
    "# ax.tick_params(\n",
    "#     axis='x',          # changes apply to the x-axis\n",
    "#     which='both',      # both major and minor ticks are affected\n",
    "#     bottom=False,      # ticks along the bottom edge are off\n",
    "#     top=False,         # ticks along the top edge are off\n",
    "#     labelbottom=False) # labels along the bottom edge are off\n",
    "\n",
    "# # axes for xticks to plot grid independent from minor ticks\n",
    "# pos1 = ax.get_position()\n",
    "# ax_aux=fig.add_axes(pos1) \n",
    "# ax_aux.set_zorder(1)\n",
    "# # ax_aux.tick_params(\n",
    "# #     axis='y',          # changes apply to the x-axis\n",
    "# #     which='both',      # both major and minor ticks are affected\n",
    "# #     bottom=False,      # ticks along the bottom edge are off\n",
    "# #     top=False,         # ticks along the top edge are off\n",
    "# #     labelbottom=False) # labels along the bottom edge are off\n",
    "# ax_aux.set_xscale('log')\n",
    "# ax_aux.set_yscale('log')\n",
    "# ax_aux.set_xticks(np_single, minor=False)\n",
    "# ax_aux.set_xticklabels(np_single)\n",
    "# ax_aux.tick_params(\n",
    "#     axis='x',          # changes apply to the x-axis\n",
    "#     which='minor',      # both major and minor ticks are affected\n",
    "#     bottom=False,      # ticks along the bottom edge are off\n",
    "#     top=False,         # ticks along the top edge are off\n",
    "#     labelbottom=False) # labels along the bottom edge are off\n",
    "\n",
    "\n",
    "# ax_aux.set_xlim(xlimit)\n",
    "# ax_aux.set_ylim(ylimit)\n",
    "# ax_aux.set_xlabel('Number of cores')\n",
    "\n"
   ]
  },
  {
   "cell_type": "markdown",
   "metadata": {},
   "source": [
    "# Multinode scaling\n",
    "\n",
    "**NOTE:**\n",
    "\n",
    "CPU time can be defined either with the internal job running time output from julia script or the total time including cpu allocation/deallocation. Both results are found in this repository (`out_ex_***` and `execout_includejobend`). Since the later includes the efficiency of cluster, which is not essential for the scaling of julia performance, we use the former to evaluate the scaling across nodes.\n",
    "\n",
    "The number of cores are also defined with either (host + workers) or (workers). For the pure scaling, we can use the later. The single-node plot above defines in such a way. ~~For multi-node, however, we use the former for the sake of simplicity to run the simulation with np equal to cpu allocation defined in job batch script (e.g. n=36). ~~"
   ]
  },
  {
   "cell_type": "code",
   "execution_count": 10,
   "metadata": {},
   "outputs": [
    {
     "name": "stdout",
     "output_type": "stream",
     "text": [
      "start process Nnode = 16\n",
      "./Scaling/ex_cc_raw_16_INPUT/out_ex_cc_raw_16_3180361__2020-08-30T00-00-00__2020-09-01T00-00-00.txt compute small number of days: 2/426. Skipping\n",
      "start process Nnode = 32\n",
      "./Scaling/ex_cc_raw_32_INPUT/out_ex_cc_raw_32_3195920__2020-08-30T00-00-00__2020-09-01T00-00-00.txt compute small number of days: 2/213. Skipping\n",
      "start process Nnode = 64\n",
      "./Scaling/ex_cc_raw_64_INPUT/out_ex_cc_raw_64_3198597__2020-07-29T00-00-00__2020-09-01T00-00-00.txt compute small number of days: 34/106. Skipping\n",
      "start process Nnode = 128\n",
      "./Scaling/ex_cc_raw_128_INPUT/out_ex_cc_raw_128_3198754__2020-07-29T00-00-00__2020-09-01T00-00-00.txt compute small number of days: 34/53. Skipping\n"
     ]
    }
   ],
   "source": [
    "rootdir_multinode = './Scaling'\n",
    "totaldays = 6819 #from 2002-01-01 to 2020-09-01\n",
    "# Read cpu time \n",
    "Nnodes = np.array([16, 32, 64, 128])\n",
    "Ncorespernode = 36\n",
    "Ncores = Nnodes * Ncorespernode\n",
    "\n",
    "cputime_multinode_main_all = []\n",
    "\n",
    "for Nnode in Nnodes:\n",
    "    print(\"start process Nnode = {}\".format(Nnode))\n",
    "    Ndayspernode = int(np.floor(totaldays/Nnode))\n",
    "    outfiles = glob.glob(os.path.join(rootdir_multinode, \"ex_cc_raw_{:d}_INPUT\".format(Nnode), \"out_ex_*\"))    \n",
    "\n",
    "    cputime_tmp = []\n",
    "\n",
    "    for outfile in outfiles:\n",
    "    #     print(outfile)\n",
    "        # Parse start and end time\n",
    "        _, ststr, etstr = os.path.basename(outfile).split('.')[0].split('__')\n",
    "    #     print(ststr, etstr)\n",
    "        st = datetime.datetime.strptime(ststr, '%Y-%m-%dT%H-%M-%S')\n",
    "        et = datetime.datetime.strptime(etstr, '%Y-%m-%dT%H-%M-%S')\n",
    "        Ndays = (et - st).days # days computed in this job\n",
    "#         print(\"days of job, average days per node\",Ndays, Ndayspernode)\n",
    "\n",
    "        if Ndays < 0.9*Ndayspernode:\n",
    "            print(\"{} compute small number of days: {}/{}. Skipping\".format(outfile, Ndays, Ndayspernode))\n",
    "            continue\n",
    "\n",
    "        # Read cpu time from output log\n",
    "        # We search 'SeisXcorrelation successfully done in *** seconds.', otherwise skip as this job is not succeeded\n",
    "        completeflag = False\n",
    "        with open(outfile, 'r') as fi:\n",
    "            for line in fi:\n",
    "                if 'SeisXcorrelation successfully done' in line:\n",
    "    #                 print(line)\n",
    "                    #parse cpu time\n",
    "                    cputime_tmp.append(float(line.split(' ')[4]))\n",
    "                    completeflag = True\n",
    "                    break\n",
    "\n",
    "        if not completeflag:\n",
    "            warnings.warn(\"{} has not completed the job.\".format(outfile))\n",
    "\n",
    "    cputime_multinode_main_all.append(cputime_tmp)"
   ]
  },
  {
   "cell_type": "code",
   "execution_count": 11,
   "metadata": {},
   "outputs": [
    {
     "data": {
      "text/plain": [
       "array([ 576, 1152, 2304, 4608])"
      ]
     },
     "execution_count": 11,
     "metadata": {},
     "output_type": "execute_result"
    }
   ],
   "source": [
    "Ncores"
   ]
  },
  {
   "cell_type": "code",
   "execution_count": 12,
   "metadata": {},
   "outputs": [],
   "source": [
    "cputime_multi_mean = [ np.mean(x) for x in  cputime_multinode_main_all]\n",
    "cputime_multi_std  = [ np.std(x) for x in  cputime_multinode_main_all]"
   ]
  },
  {
   "cell_type": "code",
   "execution_count": 13,
   "metadata": {},
   "outputs": [
    {
     "data": {
      "text/plain": [
       "[543.8390326064361, 306.57787487135863, 168.29787345558546, 88.49832014074423]"
      ]
     },
     "execution_count": 13,
     "metadata": {},
     "output_type": "execute_result"
    }
   ],
   "source": [
    "cputime_multi_mean\n",
    "cputime_multi_std"
   ]
  },
  {
   "cell_type": "code",
   "execution_count": 14,
   "metadata": {},
   "outputs": [],
   "source": [
    "# compute linear regression to estimate scaling exponent\n",
    "regr = LinearRegression()\n",
    "X = []\n",
    "Y = []\n",
    "for i, N in enumerate(Ncores):\n",
    "    cputimes = cputime_multinode_main_all[i]\n",
    "    for j in range(len(cputimes)):\n",
    "        X.append(np.log10(float(N)))\n",
    "        Y.append(np.log10(float(cputimes[j])))\n",
    "        \n",
    "X = np.array(X).reshape(len(X), 1)\n",
    "\n",
    "x_multi = np.linspace(400, 7000, 10)\n",
    "regr.fit(X, Y)\n",
    "y_multi  = 10**regr.predict(np.log10(x_multi).reshape(10, 1))\n",
    "k_multi, A_multi = regr.coef_[0], regr.intercept_\n",
    "R2score_multi = regr.score(X, Y)"
   ]
  },
  {
   "cell_type": "code",
   "execution_count": 15,
   "metadata": {},
   "outputs": [
    {
     "data": {
      "text/plain": [
       "0.9644976006685366"
      ]
     },
     "execution_count": 15,
     "metadata": {},
     "output_type": "execute_result"
    }
   ],
   "source": [
    "R2score_multi"
   ]
  },
  {
   "cell_type": "code",
   "execution_count": null,
   "metadata": {},
   "outputs": [],
   "source": [
    "# line plot\n",
    "\n",
    "fig, ax = plt.subplots(1, 1, figsize=(6,6))\n",
    "\n",
    "ju_col = 0.25*np.ones(3)\n",
    " \n",
    "ax.grid(True, which=\"both\", ls=\":\", axis=\"both\")\n",
    "ax.set_zorder(2)\n",
    "\n",
    "ax.errorbar(Ncores, cputime_multi_mean, yerr=cputime_multi_std, fmt='s', ms=6, mec=\"k\", color=ju_col,\n",
    "            capthick=1, capsize=3, barsabove=False, zorder=6)\n",
    "\n",
    "ax.plot(x_multi , y_multi , color=\"k\", lw=0.75, zorder=5)\n",
    "ax.text(8e3, 4e3, \"Scaling exponent\\n = {0:5.3f}\".format(k_multi), ha=\"right\", fontsize=16)\n",
    "\n",
    "# # decolate\n",
    "xlimit = (300, 1e4)\n",
    "ylimit = (300, 1e4)\n",
    "ax.set_xlim(xlimit)\n",
    "ax.set_ylim(ylimit)\n",
    "ax.set_xscale('log')\n",
    "ax.set_yscale('log')\n",
    "ax.set_ylabel('CPU time [s]')\n",
    "ax.tick_params(\n",
    "    axis='x',          # changes apply to the x-axis\n",
    "    which='both',      # both major and minor ticks are affected\n",
    "    bottom=False,      # ticks along the bottom edge are off\n",
    "    top=False,         # ticks along the top edge are off\n",
    "    labelbottom=False) # labels along the bottom edge are off\n",
    "\n",
    "# axis for number of core\n",
    "pos1 = ax.get_position()\n",
    "ax_aux1=fig.add_axes(pos1)\n",
    "ax_aux1.set_zorder(1.5)\n",
    "ax_aux1.set_xscale('log')\n",
    "ax_aux1.set_yscale('log')\n",
    "ax_aux1.set_xlim(xlimit)\n",
    "ax_aux1.set_ylim(ylimit)\n",
    "ax_aux1.set_xlabel('Number of cores')\n",
    "\n",
    "ax_aux1.set_xticks(Ncores, minor=False)\n",
    "ax_aux1.set_xticklabels(Ncores)\n",
    "ax_aux1.tick_params(\n",
    "    axis='x',          # changes apply to the x-axis\n",
    "    which='minor',      # both major and minor ticks are affected\n",
    "    bottom=False,      # ticks along the bottom edge are off\n",
    "    top=False,         # ticks along the top edge are off\n",
    "    labelbottom=False) # labels along the bottom edge are off\n",
    "\n",
    "# axis for number of modes\n",
    "pos2 = ax.get_position()\n",
    "pos2 = matplotlib.transforms.Bbox([[pos2._points[0, 0], pos2._points[0, 1]-0.1], [pos2._points[1, 0], 0.2]])\n",
    "\n",
    "ax_aux2=fig.add_axes(pos2)\n",
    "ax_aux2.set_zorder(1)\n",
    "ax_aux2.set_xscale('log')\n",
    "ax_aux2.set_yscale('log')\n",
    "ax_aux2.set_xlim(xlimit)\n",
    "ax_aux2.set_ylim(ylimit)\n",
    "ax_aux2.set_xlabel('Number of nodes')\n",
    "\n",
    "ax_aux2.yaxis.set_visible(False) # hide the yaxis\n",
    "\n",
    "ax_aux2.set_xticks(Ncores, minor=False)\n",
    "ax_aux2.set_xticklabels(Nnodes)\n",
    "ax_aux2.tick_params(labelleft=False)\n",
    "ax_aux2.spines[\"top\"].set_visible(False)\n",
    "ax_aux2.spines[\"bottom\"].set_visible(False)\n",
    "ax_aux2.spines[\"left\"].set_visible(False)\n",
    "ax_aux2.spines[\"right\"].set_visible(False)\n",
    "\n",
    "ax_aux2.tick_params(\n",
    "    axis='x',          # changes apply to the x-axis\n",
    "    which='minor',      # both major and minor ticks are affected\n",
    "    bottom=False,      # ticks along the bottom edge are off\n",
    "    top=False,         # ticks along the top edge are off\n",
    "    labelbottom=False) # labels along the bottom edge are off\n",
    "\n"
   ]
  },
  {
   "cell_type": "markdown",
   "metadata": {},
   "source": [
    "# Plot for article"
   ]
  },
  {
   "cell_type": "code",
   "execution_count": null,
   "metadata": {},
   "outputs": [],
   "source": [
    "fig, axs = plt.subplots(1, 2, figsize=(14,8))\n",
    "\n",
    "#-------------------------------#\n",
    "# plot scaling of single core\n",
    "#-------------------------------#\n",
    "ax = axs[0]\n",
    "\n",
    "ju_col = 0.25*np.ones(3)\n",
    " \n",
    "ax.grid(True, which=\"both\", ls=\":\", axis=\"both\")\n",
    "ax.set_zorder(2)\n",
    "\n",
    "ax.errorbar(np_single, cputime_single_mean, yerr=cputime_single_std, fmt='s', ms=6, mec=\"k\", color=ju_col,\n",
    "            capthick=1, capsize=3, barsabove=False, zorder=4)\n",
    "\n",
    "ax.plot(x_single, y_single, color=\"k\", lw=0.75, zorder=4)\n",
    "ax.text(30.0, 1.8e3, \"Scaling exponent\\n = {0:5.3f}\".format(k_single), va=\"top\", ha=\"right\", fontsize=16)\n",
    "\n",
    "# decolate\n",
    "xlimit = (0.5, 50)\n",
    "ylimit = (50, 5e3)\n",
    "ax.set_xlim(xlimit)\n",
    "ax.set_ylim(ylimit)\n",
    "ax.set_xscale('log')\n",
    "ax.set_yscale('log')\n",
    "ax.set_ylabel('CPU time [s]')\n",
    "ax.set_title('Scaling with station-channel pairs')\n",
    "ax.tick_params(\n",
    "    axis='x',          # changes apply to the x-axis\n",
    "    which='both',      # both major and minor ticks are affected\n",
    "    bottom=False,      # ticks along the bottom edge are off\n",
    "    top=False,         # ticks along the top edge are off\n",
    "    labelbottom=False) # labels along the bottom edge are off\n",
    "\n",
    "ax.set_aspect('equal')\n",
    "\n",
    "# axes for xticks to plot grid independent from minor ticks\n",
    "pos1 = ax.get_position()\n",
    "ax_aux=fig.add_axes(pos1) \n",
    "ax_aux.set_zorder(1)\n",
    "ax_aux.set_xscale('log')\n",
    "ax_aux.set_yscale('log')\n",
    "ax_aux.set_xticks(np_single, minor=False)\n",
    "ax_aux.set_xticklabels(np_single)\n",
    "ax_aux.tick_params(\n",
    "    axis='x',          # changes apply to the x-axis\n",
    "    which='minor',      # both major and minor ticks are affected\n",
    "    bottom=False,      # ticks along the bottom edge are off\n",
    "    top=False,         # ticks along the top edge are off\n",
    "    labelbottom=False) # labels along the bottom edge are off\n",
    "\n",
    "\n",
    "ax_aux.set_xlim(xlimit)\n",
    "ax_aux.set_ylim(ylimit)\n",
    "ax_aux.set_xlabel('Number of cores')\n",
    "ax_aux.set_aspect('equal')\n",
    "\n",
    "\n",
    "#-------------------------------#\n",
    "# plot multi-node scaling\n",
    "#-------------------------------#\n",
    "\n",
    "ax = axs[1]\n",
    " \n",
    "ax.grid(True, which=\"both\", ls=\":\", axis=\"both\")\n",
    "ax.set_zorder(2)\n",
    "\n",
    "ax.errorbar(Ncores, cputime_multi_mean, yerr=cputime_multi_std, fmt='s', ms=6, mec=\"k\", color=ju_col,\n",
    "            capthick=1, capsize=3, barsabove=False, zorder=6)\n",
    "\n",
    "ax.plot(x_multi , y_multi , color=\"k\", lw=0.75, zorder=5)\n",
    "ax.text(8e3, 4.5e3, \"Scaling exponent\\n = {0:5.3f}\".format(k_multi), va=\"top\", ha=\"right\", fontsize=16)\n",
    "\n",
    "# # decolate\n",
    "xlimit = (300, 1e4)\n",
    "ylimit = (300, 1e4)\n",
    "ax.set_xlim(xlimit)\n",
    "ax.set_ylim(ylimit)\n",
    "ax.set_xscale('log')\n",
    "ax.set_yscale('log')\n",
    "ax.set_ylabel('CPU time [s]')\n",
    "ax.set_title('Scaling with time chunk')\n",
    "ax.tick_params(\n",
    "    axis='x',          # changes apply to the x-axis\n",
    "    which='both',      # both major and minor ticks are affected\n",
    "    bottom=False,      # ticks along the bottom edge are off\n",
    "    top=False,         # ticks along the top edge are off\n",
    "    labelbottom=False) # labels along the bottom edge are off\n",
    "\n",
    "ax.set_aspect('equal')\n",
    "\n",
    "# axis for number of core\n",
    "pos1 = ax.get_position()\n",
    "ax_aux1=fig.add_axes(pos1)\n",
    "ax_aux1.set_zorder(1.5)\n",
    "ax_aux1.set_xscale('log')\n",
    "ax_aux1.set_yscale('log')\n",
    "ax_aux1.set_xlim(xlimit)\n",
    "ax_aux1.set_ylim(ylimit)\n",
    "ax_aux1.set_xlabel('Number of cores')\n",
    "\n",
    "ax_aux1.set_xticks(Ncores, minor=False)\n",
    "ax_aux1.set_xticklabels(Ncores)\n",
    "ax_aux1.tick_params(\n",
    "    axis='x',          # changes apply to the x-axis\n",
    "    which='minor',      # both major and minor ticks are affected\n",
    "    bottom=False,      # ticks along the bottom edge are off\n",
    "    top=False,         # ticks along the top edge are off\n",
    "    labelbottom=False) # labels along the bottom edge are off\n",
    "ax_aux1.set_aspect('equal')\n",
    "\n",
    "# axis for number of modes\n",
    "pos2 = ax.get_position()\n",
    "pos2 = matplotlib.transforms.Bbox([[pos2._points[0, 0], pos2._points[0, 1]-0.15], [pos2._points[1, 0], pos2._points[1, 1]]])\n",
    "\n",
    "ax_aux2=fig.add_axes(pos2)\n",
    "ax_aux2.set_zorder(1)\n",
    "ax_aux2.set_xscale('log')\n",
    "ax_aux2.set_yscale('log')\n",
    "ax_aux2.set_xlim(xlimit)\n",
    "ax_aux2.set_ylim(ylimit)\n",
    "ax_aux2.set_xlabel('Number of nodes')\n",
    "\n",
    "ax_aux2.yaxis.set_visible(False) # hide the yaxis\n",
    "\n",
    "ax_aux2.set_xticks(Ncores, minor=False)\n",
    "ax_aux2.set_xticklabels(Nnodes)\n",
    "ax_aux2.tick_params(labelleft=False)\n",
    "ax_aux2.spines[\"top\"].set_visible(False)\n",
    "ax_aux2.spines[\"bottom\"].set_visible(False)\n",
    "ax_aux2.spines[\"left\"].set_visible(False)\n",
    "ax_aux2.spines[\"right\"].set_visible(False)\n",
    "\n",
    "ax_aux2.tick_params(\n",
    "    axis='x',          # changes apply to the x-axis\n",
    "    which='minor',      # both major and minor ticks are affected\n",
    "    bottom=False,      # ticks along the bottom edge are off\n",
    "    top=False,         # ticks along the top edge are off\n",
    "    labelbottom=False) # labels along the bottom edge are off\n",
    "\n",
    "ax_aux2.set_aspect('equal')\n",
    "\n",
    "# plot figure index\n",
    "plt.text(0.1, 0.9, \"(a)\", fontsize=20, weight=\"bold\", transform=plt.gcf().transFigure)\n",
    "plt.text(0.5, 0.9, \"(b)\", fontsize=20, weight=\"bold\", transform=plt.gcf().transFigure)\n",
    "\n",
    "plt.savefig(\"./Scaling/BP_parallelization_scaling.eps\", dpi=150)\n",
    "plt.savefig(\"./Scaling/BP_parallelization_scaling.png\", dpi=150, facecolor=\"w\",bbox_inches=\"tight\")"
   ]
  },
  {
   "cell_type": "code",
   "execution_count": null,
   "metadata": {},
   "outputs": [],
   "source": []
  },
  {
   "cell_type": "markdown",
   "metadata": {},
   "source": [
    "# Evaluate JIT Precompilation"
   ]
  },
  {
   "cell_type": "code",
   "execution_count": 18,
   "metadata": {},
   "outputs": [],
   "source": [
    "# Read cpu time for warmup and main run\n",
    "np_single = [1, 2, 4, 8, 16, 32]\n",
    "Ntrial = 5\n",
    "\n",
    "cputime_warmup_all = np.zeros((len(np_single), Ntrial)) # one day cc to evaluate JIT precompilation\n",
    "\n",
    "for i, NP in enumerate(np_single):\n",
    "    cputime_warmup_np = []\n",
    "    for j in range(Ntrial):\n",
    "        finame = \"np{}_{}.txt\".format(NP+1, j+1)\n",
    "        file_in = open(os.path.join(rootdir_singlenode, finame), 'r')\n",
    "        t_warmup, t_main = file_in.read().split(' ')\n",
    "        cputime_warmup_np.append(float(t_warmup))\n",
    "\n",
    "    cputime_warmup_all[i, :] = cputime_warmup_np\n"
   ]
  },
  {
   "cell_type": "code",
   "execution_count": 19,
   "metadata": {},
   "outputs": [
    {
     "data": {
      "text/plain": [
       "array([[572.72172452, 544.77766647, 547.48372918, 553.45800249,\n",
       "        544.88945009],\n",
       "       [341.72237036, 330.66425491, 304.77083958, 311.14871772,\n",
       "        304.47160266],\n",
       "       [194.96235552, 196.01741361, 187.50813036, 191.74314126,\n",
       "        190.94622322],\n",
       "       [135.32794419, 130.68840698, 131.57632351, 130.27216688,\n",
       "        133.52801975],\n",
       "       [108.84762374, 105.83443418, 102.9797433 , 104.02161183,\n",
       "        105.85856242],\n",
       "       [ 92.42818447,  91.3841974 ,  93.27551326,  91.61802712,\n",
       "         95.14572114]])"
      ]
     },
     "execution_count": 19,
     "metadata": {},
     "output_type": "execute_result"
    }
   ],
   "source": [
    "cputime_warmup_all"
   ]
  },
  {
   "cell_type": "code",
   "execution_count": 20,
   "metadata": {},
   "outputs": [
    {
     "data": {
      "text/plain": [
       "array([10.51109718, 15.01039159,  3.0328629 ,  1.89247085,  1.99919839,\n",
       "        1.36117025])"
      ]
     },
     "execution_count": 20,
     "metadata": {},
     "output_type": "execute_result"
    }
   ],
   "source": [
    "cputime_warmup_mean = np.mean(cputime_warmup_all, axis=1)\n",
    "cputime_warmup_std = np.std(cputime_warmup_all, axis=1)\n",
    "cputime_warmup_std"
   ]
  },
  {
   "cell_type": "code",
   "execution_count": 21,
   "metadata": {},
   "outputs": [
    {
     "name": "stdout",
     "output_type": "stream",
     "text": [
      "(455.5085823384608, 72.35997822865264)\n"
     ]
    }
   ],
   "source": [
    "def f_cputime(np, A, B):\n",
    "    k = -0.94 # estimated from main run above.\n",
    "    return A*np**k+B #ax^k + b: a=cputime with single core. k=scaling exponents. b=JIT precompilation time \n",
    "\n",
    "p0 = [500, 70]\n",
    "popt, pcov = curve_fit(f_cputime, np_single, cputime_warmup_mean, p0=p0, sigma=cputime_warmup_std, method='lm')\n",
    "\n",
    "A_best, B_best = popt\n",
    "print((A_best, B_best))\n",
    "\n",
    "x_warmup_ = np.linspace(0.8, 40, 100)\n",
    "y_warmup_ = np.array([f_cputime(x, A_best, B_best) for x in x_warmup_])"
   ]
  },
  {
   "cell_type": "code",
   "execution_count": 22,
   "metadata": {},
   "outputs": [
    {
     "data": {
      "image/png": "[encoded data removed]",
      "text/plain": [
       "<Figure size 600x600 with 2 Axes>"
      ]
     },
     "metadata": {},
     "output_type": "display_data"
    }
   ],
   "source": [
    "# plot scaling of single core\n",
    "fig, ax = plt.subplots(1, 1, figsize=(6,6))\n",
    "\n",
    "ju_col = 0.25*np.ones(3)\n",
    " \n",
    "ax.grid(True, which=\"both\", ls=\":\", axis=\"both\")\n",
    "ax.set_zorder(2)\n",
    "\n",
    "ax.errorbar(np_single, cputime_warmup_mean, yerr=cputime_warmup_std, fmt='s', ms=6, mec=\"k\", color=ju_col,\n",
    "            capthick=1, capsize=3, barsabove=False, zorder=4)\n",
    "\n",
    "ax.plot(x_warmup_, y_warmup_, color=\"k\", lw=0.75, zorder=4)\n",
    "\n",
    "# plt.rcParams.update({\n",
    "#     \"text.usetex\": True,\n",
    "#     \"font.family\": \"sans-serif\",\n",
    "#     \"font.sans-serif\": [\"Helvetica\"]})\n",
    "\n",
    "ax.text(4.0, 400, \"CPU time\\n = {:4.2f}x$^{{-0.94}}$+{:4.2f}\".format(A_best, B_best), ha=\"left\", fontsize=16)\n",
    "\n",
    "# decolate\n",
    "xlimit = (0.6, 60)\n",
    "ylimit = (80, 800)\n",
    "ax.set_xlim(xlimit)\n",
    "ax.set_ylim(ylimit)\n",
    "ax.set_xscale('log')\n",
    "ax.set_yscale('log')\n",
    "ax.set_ylabel('CPU time [s]')\n",
    "ax.set_title('JIT precompilation')\n",
    "ax.tick_params(\n",
    "    axis='x',          # changes apply to the x-axis\n",
    "    which='both',      # both major and minor ticks are affected\n",
    "    bottom=False,      # ticks along the bottom edge are off\n",
    "    top=False,         # ticks along the top edge are off\n",
    "    labelbottom=False) # labels along the bottom edge are off\n",
    "\n",
    "# axes for xticks to plot grid independent from minor ticks\n",
    "pos1 = ax.get_position()\n",
    "ax_aux=fig.add_axes(pos1) \n",
    "ax_aux.set_zorder(1)\n",
    "ax_aux.set_xscale('log')\n",
    "ax_aux.set_yscale('log')\n",
    "ax_aux.set_xticks(np_single, minor=False)\n",
    "ax_aux.set_xticklabels(np_single)\n",
    "ax_aux.tick_params(\n",
    "    axis='x',          # changes apply to the x-axis\n",
    "    which='minor',      # both major and minor ticks are affected\n",
    "    bottom=False,      # ticks along the bottom edge are off\n",
    "    top=False,         # ticks along the top edge are off\n",
    "    labelbottom=False) # labels along the bottom edge are off\n",
    "\n",
    "ax_aux.tick_params(\n",
    "    axis='y',          # changes apply to the x-axis\n",
    "    which='both',      # both major and minor ticks are affected\n",
    "    bottom=False,      # ticks along the bottom edge are off\n",
    "    top=False,         # ticks along the top edge are off\n",
    "    labelbottom=False) # labels along the bottom edge are off\n",
    "\n",
    "ax_aux.set_xlim(xlimit)\n",
    "ax_aux.set_ylim(ylimit)\n",
    "ax_aux.set_xlabel('Number of cores')\n",
    "plt.savefig(\"./Scaling/BP_parallelization_JITcompilation.png\", dpi=150, facecolor=\"w\",bbox_inches=\"tight\")"
   ]
  },
  {
   "cell_type": "code",
   "execution_count": null,
   "metadata": {},
   "outputs": [],
   "source": []
  },
  {
   "cell_type": "code",
   "execution_count": null,
   "metadata": {},
   "outputs": [],
   "source": []
  },
  {
   "cell_type": "code",
   "execution_count": null,
   "metadata": {},
   "outputs": [],
   "source": []
  }
 ],
 "metadata": {
  "kernelspec": {
   "display_name": "Python 3 (ipykernel)",
   "language": "python",
   "name": "python3"
  },
  "language_info": {
   "codemirror_mode": {
    "name": "ipython",
    "version": 3
   },
   "file_extension": ".py",
   "mimetype": "text/x-python",
   "name": "python",
   "nbconvert_exporter": "python",
   "pygments_lexer": "ipython3",
   "version": "3.8.12"
  }
 },
 "nbformat": 4,
 "nbformat_minor": 4
}
