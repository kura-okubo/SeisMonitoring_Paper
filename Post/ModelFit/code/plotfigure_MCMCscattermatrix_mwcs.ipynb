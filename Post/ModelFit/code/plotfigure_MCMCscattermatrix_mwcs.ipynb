{
 "cells": [
  {
   "cell_type": "markdown",
   "metadata": {},
   "source": [
    "# Plot master figure of Stretching: MCMC scatter matrix and dv/v model fitting\n",
    "\n",
    "2023.4.21 Kurama Okubo\n",
    "\n",
    "This notebook plots the master figures for MCMC scatter matrix and dv/v model fitting.\n",
    "\n",
    "We use `BP.LCCB-BP.SCYB` and `EADB-EADB` as the representative station pairs for cross-correlation and auto-correlation, respectively.\n",
    "\n",
    "2023.10.6 update notation"
   ]
  },
  {
   "cell_type": "code",
   "execution_count": 1,
   "metadata": {},
   "outputs": [],
   "source": [
    "%load_ext autoreload\n",
    "%autoreload 2\n",
    "\n",
    "import datetime\n",
    "import os\n",
    "import time\n",
    "\n",
    "import matplotlib\n",
    "import matplotlib.pyplot as plt\n",
    "import matplotlib.dates as dates\n",
    "import matplotlib.dates as mdates\n",
    "%matplotlib inline\n",
    "from IPython.display import display, Math\n",
    "\n",
    "import numpy as np\n",
    "import pandas as pd\n",
    "import h5py\n",
    "import pickle\n",
    "\n",
    "import shutil\n",
    "from tqdm import tqdm\n",
    "import glob\n",
    "\n",
    "import matplotlib as mpl\n",
    "\n",
    "import emcee # MCMC sampler\n",
    "import corner\n",
    "\n",
    "import copy\n",
    "\n",
    "# import mcmc functions\n",
    "from scattermatrix import *\n",
    "from MCMC_func import *\n",
    "\n",
    "plt.rcParams[\"font.family\"] = 'Arial'\n",
    "# plt.rcParams[\"font.sans-serif\"] = \"DejaVu Sans, Arial, Helvetica, Lucida Grande, Verdana, Geneva, Lucid, Avant Garde, sans-serif\"\n",
    "plt.rcParams[\"font.size\"] = 12\n",
    "plt.rcParams[\"xtick.direction\"] = \"in\"\n",
    "plt.rcParams[\"xtick.major.size\"] = 4.75\n",
    "plt.rcParams[\"xtick.major.width\"] = 0.75\n",
    "plt.rcParams[\"xtick.minor.size\"] = 3\n",
    "plt.rcParams[\"xtick.minor.width\"] = 0.4\n",
    "plt.rcParams[\"xtick.minor.visible\"] = True\n",
    "\n",
    "plt.rcParams[\"ytick.direction\"] = \"in\"\n",
    "plt.rcParams[\"ytick.major.size\"] = 4.75\n",
    "plt.rcParams[\"ytick.major.width\"] = 0.75\n",
    "plt.rcParams[\"ytick.minor.size\"] = 3\n",
    "plt.rcParams[\"ytick.minor.width\"] = 0.4\n",
    "plt.rcParams[\"ytick.minor.visible\"] = True\n",
    "\n",
    "plt.rcParams[\"savefig.transparent\"] = True\n",
    "\n",
    "plt.rcParams['axes.linewidth'] = 0.75\n",
    "\n",
    "\n",
    "os.environ['TZ'] = 'GMT' # change time zone to avoid confusion in unix_tvec conversion"
   ]
  },
  {
   "cell_type": "code",
   "execution_count": 2,
   "metadata": {},
   "outputs": [],
   "source": [
    "#---set the file path of your case study list---#\n",
    "root = \"../processed_data/\"\n",
    "h5_stats_list = [root+\"02dvvanderr_formodelfit_chanweighted_dvvtraces_chanweighted_monitoring_stats_uwbackup_2010-2022_stretching.csv_0.9-1.2.h5\",\n",
    "                    root+\"02dvvanderr_formodelfit_chanweighted_dvvtraces_chanweighted_monitoring_stats_uwbackup_2010-2022_mwcs.csv_0.9-1.2.h5\"]\n",
    "\n",
    "starttime = datetime.datetime(2002, 1, 1)\n",
    "endtime = datetime.datetime(2022, 6, 1)\n",
    "\n",
    "vlines = [datetime.datetime(2003, 12, 22), datetime.datetime(2004, 9, 28)] \n",
    "\n",
    "h5_id = 1 # 0: stretching 1: mwcs\n",
    "\n",
    "averagestack_step=15\n",
    "\n",
    "mcmc_discard_nsample = 3000 # discard samples when plotting the scatter matrix and compute the median of mcmc search\n",
    "xmax = 21000 # max limitation in x\n",
    "\n",
    "# modelcase = \"wlin\" # \"base\" or \"wlin\"\n",
    "\n",
    "output_imgdir = \"../figure/MCMC_scattermatrix_master\"\n",
    "\n",
    "# NOTE: v1_tshift0-120 is used to demonstrate the trade-off of temperature time shift\n",
    "input_datadir = \"../processed_data/MCMC_sampler_20000_v2_master\" #\"../processed_data/MCMC_sampler_20000_v1_tshift0-120\" #\"../processed_data/MCMC_sampler_20000_v2_master\"\n",
    "modelparam_outdir = \"../modelparam_data\"\n",
    "plotdvv_outdir = \"../plotdvvmodel_data\"\n",
    "\n",
    "image_format=\"png\"\n",
    "dpi = 150\n",
    "show=True\n",
    "#-------------------------------------------#\n",
    "\n",
    "if not os.path.exists(output_imgdir):\n",
    "    os.makedirs(output_imgdir)\n",
    "    \n",
    "if not os.path.exists(modelparam_outdir):\n",
    "    os.makedirs(modelparam_outdir)\n",
    "    \n",
    "if not os.path.exists(plotdvv_outdir):\n",
    "    os.makedirs(plotdvv_outdir)"
   ]
  },
  {
   "cell_type": "code",
   "execution_count": 3,
   "metadata": {},
   "outputs": [],
   "source": [
    "def get_labels(modelcase, fixparam):\n",
    "    \"\"\"\n",
    "    Return labels used for the plots.\n",
    "    \"\"\"\n",
    "    if modelcase==\"base\":\n",
    "        labels = [\"$a_{0}$\", \"$p_1$\", \"$\\alpha^{precip}$\", \"$p_2$\", \"$t_{0}^{shift}$ [day]\", \"$s_1$\", \"$\\log_{10} \\tau_{1}^{min}$ [year]\", r\"$\\log_{10} \\tau_{1}^{max}$ [year]\",\n",
    "                  \"$s_2$\", \"$\\log_{10} \\tau_{2}^{min}$ [year]\", r\"$\\log_{10} \\tau_{2}^{max}$ [year]\", \"$\\log{f_0}$\"]\n",
    "    elif modelcase==\"wlin\":\n",
    "        labels = [\"$a_{0}$\", \"$p_1$\", \"$\\alpha^{precip}$\", \"$p_2$\", \"$t_{0}^{shift}$ [day]\", \"$s_1$\", \"$\\log_{10} \\tau_{1}^{min}$ [year]\", r\"$\\log_{10} \\tau_{1}^{max}$ [year]\",\n",
    "                  \"$s_2$\", \"$\\log_{10} \\tau_{2}^{min}$ [year]\", r\"$\\log_{10} \\tau_{2}^{max}$ [year]\", \"$b_{0}$ [%/year]\", \"$\\log{f_0}$\"]\n",
    "        \n",
    "    if fixparam:\n",
    "        labels.remove(\"$\\alpha^{precip}$\")\n",
    "        labels.remove(\"$\\log_{10} \\tau_{1}^{min}$ [year]\")\n",
    "        labels.remove(\"$\\log_{10} \\tau_{2}^{min}$ [year]\")\n",
    "        \n",
    "    return labels"
   ]
  },
  {
   "cell_type": "code",
   "execution_count": 4,
   "metadata": {},
   "outputs": [],
   "source": [
    "def rescale_chain(chain):\n",
    "    \"\"\"\n",
    "    rescale t and b_lin\n",
    "    \"\"\"\n",
    "    if len(chain.shape)==3:\n",
    "        # chains are not flatten\n",
    "        #log10tmax[s] -> log10tmax[year]\n",
    "        chain[:, :, 5] = np.log10(np.array([10**x/86400/365 for x in chain[:, :, 5]]))\n",
    "        chain[:, :, 7] = np.log10(np.array([10**x/86400/365 for x in chain[:, :, 7]]))\n",
    "        #b_lin[%/day] -> b_lin[%/year]\n",
    "        chain[:, :, 8] = np.multiply(chain[:, :, 8], 365) \n",
    "        \n",
    "    elif len(chain.shape)==2:\n",
    "        # chains are flattern\n",
    "        chain[:, 5] = np.log10(np.array([10**x/86400/365 for x in chain[:, 5]]))\n",
    "        chain[:, 7] = np.log10(np.array([10**x/86400/365 for x in chain[:, 7]]))\n",
    "        #b_lin[%/day] -> b_lin[%/year]\n",
    "        chain[:, 8] = np.multiply(chain[:, 8], 365)\n",
    "    else:\n",
    "        raise ValueError(\"size of chain is unknown.\") \n",
    "\n",
    "def rescale_theta(theta):\n",
    "    theta[5] = np.log10(10**theta[5]/86400/365)\n",
    "    theta[7] = np.log10(10**theta[7]/86400/365)\n",
    "    theta[8] = theta[8] * 365"
   ]
  },
  {
   "cell_type": "markdown",
   "metadata": {},
   "source": [
    "# Plot wlin Stretching"
   ]
  },
  {
   "cell_type": "code",
   "execution_count": 5,
   "metadata": {},
   "outputs": [],
   "source": [
    "modelcase = \"wlin\"\n",
    "\n",
    "casename = os.path.basename(h5_stats_list[h5_id].split('.h5')[0])\n",
    "freqband = h5_stats_list[h5_id].split('.h5')[0].split('_')[-1]\n",
    "\n",
    "# split the version of MCMC case study\n",
    "caseversion = os.path.basename(input_datadir).split(\"_\")[3]"
   ]
  },
  {
   "cell_type": "code",
   "execution_count": 6,
   "metadata": {},
   "outputs": [],
   "source": [
    "dvvmethod = casename.split('.csv')[0].split('_')[-1]"
   ]
  },
  {
   "cell_type": "code",
   "execution_count": 7,
   "metadata": {},
   "outputs": [],
   "source": [
    "# read csv containing channel-weighted dvv and err\n",
    "fi = h5py.File(h5_stats_list[h5_id], \"r\")"
   ]
  },
  {
   "cell_type": "markdown",
   "metadata": {},
   "source": [
    "## Plot sampler"
   ]
  },
  {
   "cell_type": "code",
   "execution_count": 8,
   "metadata": {},
   "outputs": [],
   "source": [
    "stationpairs_files = glob.glob(input_datadir+f\"/*_{freqband}_{modelcase}_{dvvmethod}.pickle\")\n",
    "stationpairs = np.sort([os.path.basename(x).split(\"_\")[2] for x in stationpairs_files])\n",
    "\n",
    "stationpair = \"BP.LCCB-BP.SCYB\" #\"BP.EADB-BP.EADB\" #\"BP.LCCB-BP.SCYB\"#\n",
    "sta1, sta2 = [x.split(\".\")[1] for x in stationpair.split(\"-\")]"
   ]
  },
  {
   "cell_type": "code",
   "execution_count": 9,
   "metadata": {},
   "outputs": [],
   "source": [
    "# read sampler\n",
    "finame = input_datadir+\"/MCMC_sampler_{}_{}_{}_{}.pickle\".format(stationpair, freqband,modelcase, dvvmethod)\n",
    "with open(finame, \"rb\") as f:\n",
    "    sampler = pickle.load(f)\n",
    "    modelparam = pickle.load(f)\n",
    "    \n",
    "modelparam[\"freqband\"] = freqband\n",
    "modelparam[\"dvvmethod\"] = dvvmethod\n",
    "\n",
    "# compute line colormaps\n",
    "lc = mpl.cm.Set2_r(np.linspace(0,1,sampler.nwalkers))"
   ]
  },
  {
   "cell_type": "code",
   "execution_count": 10,
   "metadata": {},
   "outputs": [],
   "source": [
    "model_keys = get_keys(modelcase)"
   ]
  },
  {
   "cell_type": "code",
   "execution_count": 11,
   "metadata": {},
   "outputs": [],
   "source": [
    "# create labels of data\n",
    "labels = get_labels(modelcase, modelparam[\"fixparam01\"])"
   ]
  },
  {
   "cell_type": "code",
   "execution_count": 12,
   "metadata": {},
   "outputs": [
    {
     "data": {
      "text/plain": [
       "['$a_{0}$',\n",
       " '$p_1$',\n",
       " '$p_2$',\n",
       " '$t_{0}^{shift}$ [day]',\n",
       " '$s_1$',\n",
       " '$\\\\log_{10} \\\\tau_{1}^{max}$ [year]',\n",
       " '$s_2$',\n",
       " '$\\\\log_{10} \\\\tau_{2}^{max}$ [year]',\n",
       " '$b_{0}$ [%/year]',\n",
       " '$\\\\log{f_0}$']"
      ]
     },
     "execution_count": 12,
     "metadata": {},
     "output_type": "execute_result"
    }
   ],
   "source": [
    "labels"
   ]
  },
  {
   "cell_type": "code",
   "execution_count": 13,
   "metadata": {},
   "outputs": [
    {
     "name": "stdout",
     "output_type": "stream",
     "text": [
      "sampler number of parameter is : 10.\n",
      " 10\n"
     ]
    }
   ],
   "source": [
    "print(f\"sampler number of parameter is : {sampler.ndim}.\")\n",
    "print(f\" {len(labels)}\")"
   ]
  },
  {
   "cell_type": "markdown",
   "metadata": {},
   "source": [
    "## Evaluate the model parameters with best probability"
   ]
  },
  {
   "cell_type": "code",
   "execution_count": 14,
   "metadata": {},
   "outputs": [],
   "source": [
    "# get the chains of samples separately\n",
    "chains_samples = sampler.get_chain(discard=mcmc_discard_nsample, thin=1, flat=False)\n",
    "\n",
    "# get the chains of log probability\n",
    "chains_lnprob =  sampler.get_log_prob(discard=mcmc_discard_nsample, thin=1, flat=False)\n",
    "\n",
    "# select the chain id with the maximum log probability among the chains\n",
    "chains_lnprobmaxarg = np.argmax(chains_lnprob, axis=0)\n",
    "\n",
    "# extract the single chain of log probability with its maximum\n",
    "chains_lnprobmax = np.array([chains_lnprob[x, i] for i, x in enumerate(chains_lnprobmaxarg)])\n",
    "\n",
    "# compare the maximum log probability with different chains and get the best chain id\n",
    "lnprob_maxchain_id = np.argmax(chains_lnprobmax)\n",
    "\n",
    "# extract the best chain of samples\n",
    "flat_samples_maxprob = chains_samples[:, lnprob_maxchain_id, :]\n",
    "\n",
    "# obtain the model parameters with the best log probability\n",
    "maxlnprob_theta = copy.deepcopy(flat_samples_maxprob[chains_lnprobmaxarg[lnprob_maxchain_id], :])\n",
    "rescale_theta(maxlnprob_theta) # rescale t and blin"
   ]
  },
  {
   "cell_type": "markdown",
   "metadata": {},
   "source": [
    "## Plot Scatter matrix"
   ]
  },
  {
   "cell_type": "code",
   "execution_count": 15,
   "metadata": {},
   "outputs": [],
   "source": [
    "datainds_trim = range(len(labels[:-1]))  #[0, 1, 2] #range(len(labels[:-1])) # plot all quantities\n",
    "labels_trim=[labels[x] for x in datainds_trim]"
   ]
  },
  {
   "cell_type": "code",
   "execution_count": null,
   "metadata": {},
   "outputs": [],
   "source": [
    "# Plot using corner.corner\n",
    "# Reference: Foreman-Mackey (2016) https://corner.readthedocs.io/en/latest/\n",
    "chains_samples_all = copy.deepcopy(sampler.get_chain(discard=mcmc_discard_nsample, thin=50, flat=True))\n",
    "rescale_chain(chains_samples_all)\n",
    "\n",
    "fig = corner.corner(\n",
    "    chains_samples_all, labels=labels, truths=maxlnprob_theta);\n",
    "\n",
    "fig.suptitle(f'{sta1}-{sta2} {dvvmethod.upper()} {freqband}Hz', y=1)\n",
    "foname = (output_imgdir+\"/ex_MCMC_modelfit_cornerplot_{}_{}_{}_{}_{}.png\".format(dvvmethod, stationpair, freqband, modelparam[\"modelcase\"], caseversion))\n",
    "plt.savefig(foname, dpi=150)"
   ]
  },
  {
   "cell_type": "code",
   "execution_count": 17,
   "metadata": {},
   "outputs": [],
   "source": [
    "# Read ranges and ticks from corner plot\n",
    "cornerticks_x_inds =np.arange(90, 100) # axes number of lower rows for x ticks\n",
    "cornerticks_y_inds =np.arange(10, 91, 10)# axes number of lower rows for y ticks\n",
    "cornerranges_x = []\n",
    "cornerranges_y = []\n",
    "cornerticks_x = []\n",
    "cornerticks_y = []\n",
    "\n",
    "for i in cornerticks_x_inds:\n",
    "    cornerranges_x.append(list(fig.axes[i].get_xlim()))\n",
    "    cornerticks_x.append([np.round(x.get_unitless_position()[0], 10) for x in fig.axes[i].get_xticklabels()[:-1]])\n",
    "for j in cornerticks_y_inds:\n",
    "    cornerranges_y.append(list(fig.axes[j].get_ylim()))\n",
    "    cornerticks_y.append([np.round(y.get_unitless_position()[1], 10) for y in fig.axes[j].get_yticklabels()[:-1]])\n",
    "\n",
    "# print(cornerranges_x, cornerranges_y)\n",
    "# print(cornerticks_x, cornerticks_y)"
   ]
  },
  {
   "cell_type": "code",
   "execution_count": null,
   "metadata": {},
   "outputs": [],
   "source": [
    "modelparam[\"nbin_hist\"] = 16\n",
    "\n",
    "# flat_samples_maxprob\n",
    "\n",
    "fig0, axs, sm = plot_scattermatrix(chains_samples_all, datainds_trim, labels_trim, left=0.1, right=0.9, bottom=0.1, top=0.9, wspace=0.05, hspace=0.05,\n",
    "    xrange_sigma_factor=2, bincolorgray=0.7, nbin_hist=modelparam[\"nbin_hist\"], nbin_hist2d=18, Ncontourf=51, Ncontour=5, Ncontour_clip=4, cmap=\"Oranges\",\n",
    "    xticks=cornerticks_x, yticks=cornerticks_y, plot_truth=True,\n",
    "    ylim_max=0.3, zlim_max=0.04, xranges=cornerranges_x, plot_median=False, plot_bestparam=maxlnprob_theta, labelfontsize=11, tickfontsize=10, figsize=(12, 12));\n",
    "\n",
    "fig0.align_labels();\n",
    "\n",
    "fig0.suptitle(f'{sta1}-{sta2} {dvvmethod.upper()} {freqband}Hz', y=0.93)\n",
    "# plt.subplots_adjust(top=0.9)\n",
    "\n",
    "foname = (output_imgdir+\"/ex_MCMC_modelfit_factors_{}_{}_{}_{}_{}.png\".format(dvvmethod, stationpair, freqband, modelparam[\"modelcase\"], caseversion))\n",
    "plt.savefig(foname, dpi=150)\n",
    "\n",
    "foname = (output_imgdir+\"/ex_MCMC_modelfit_factors_{}_{}_{}_{}_{}.eps\".format(dvvmethod, stationpair, freqband, modelparam[\"modelcase\"], caseversion))\n",
    "plt.savefig(foname)"
   ]
  },
  {
   "cell_type": "code",
   "execution_count": null,
   "metadata": {},
   "outputs": [],
   "source": [
    "fig, ax = plt.subplots(1, 1, figsize=(8, 2))\n",
    "ax.axis(\"off\")\n",
    "cbar=fig.colorbar(sm,orientation='horizontal',label=\"probability\")\n",
    "foname = (output_imgdir+\"/ex_MCMC_scattermatrixcbar_{}_{}_{}_{}_{}.png\".format(dvvmethod, stationpair, freqband, modelparam[\"modelcase\"], caseversion))\n",
    "plt.savefig(foname, dpi=150)"
   ]
  },
  {
   "cell_type": "markdown",
   "metadata": {},
   "source": [
    "## Plot MCMC iteration history"
   ]
  },
  {
   "cell_type": "code",
   "execution_count": null,
   "metadata": {},
   "outputs": [],
   "source": [
    "chain_log_prob_plot = sampler.get_log_prob(discard=0, thin=1, flat=False) # retrieve all the log prob history\n",
    "max_logprob_ind = chains_lnprobmaxarg[lnprob_maxchain_id] # plot the iteration of max log prob\n",
    "\n",
    "samples = copy.deepcopy(sampler.get_chain(discard=0, thin=1, flat=False)) # retrieve all the samples with separate chain\n",
    "rescale_chain(samples)\n",
    "\n",
    "fig, axes = plt.subplots(sampler.ndim+1, figsize=(10, 12), sharex=True)\n",
    "lw_maxprob = 0.6\n",
    "\n",
    "labelfontsize = 10.8\n",
    "\n",
    "# append the limit of log prob\n",
    "ylim_list = copy.deepcopy(cornerranges_x)\n",
    "maxprobval = chain_log_prob_plot[max_logprob_ind+mcmc_discard_nsample, lnprob_maxchain_id]\n",
    "ylim_list.append([0.98*maxprobval, 1.005*maxprobval])\n",
    "\n",
    "for i in range(sampler.ndim):\n",
    "    ax = axes[i]\n",
    "    \n",
    "    for j in range(sampler.nwalkers):\n",
    "        ax.plot(samples[:, j, i], lw=0.5, c=lc[j, :], alpha=0.8)\n",
    "        \n",
    "    # plot the chain with maximum log probability\n",
    "    ax.plot(samples[:, lnprob_maxchain_id, i], c=\"k\", lw=lw_maxprob) \n",
    "    \n",
    "    ax.set_xlim([0, xmax])\n",
    "    ax.set_ylim(ylim_list[i])\n",
    "    ax.set_ylabel(labels[i], fontsize=labelfontsize)\n",
    "#     ax.yaxis.set_label_coords(-0.1, 0.5)\n",
    "    ax.axvline(mcmc_discard_nsample, c=\"k\", ls=\"--\")\n",
    "    # plot maximum likelihood parameters\n",
    "    ax.axhline(maxlnprob_theta[i], c=\"b\", ls=\":\", lw=1.0)\n",
    "    ax.plot(max_logprob_ind+mcmc_discard_nsample, maxlnprob_theta[i], \"ro\", ms=6, markeredgecolor=\"w\");\n",
    "\n",
    "# plot maximum log probability\n",
    "plot_logprob = chain_log_prob_plot[:, lnprob_maxchain_id]\n",
    "\n",
    "ax = axes[-1]\n",
    "for i in range(chain_log_prob_plot.shape[1]):\n",
    "    ax.plot(chain_log_prob_plot[:, i], lw=0.5, c=lc[i, :], alpha=0.8);\n",
    "\n",
    "ax.axvline(mcmc_discard_nsample, c=\"k\", ls=\"--\")\n",
    "# plot the chain with maximum log probability\n",
    "ax.plot(plot_logprob, c=\"k\", lw=lw_maxprob)\n",
    "ax.axhline(chain_log_prob_plot[max_logprob_ind+mcmc_discard_nsample, lnprob_maxchain_id], c=\"b\", ls=\":\", lw=1.0)\n",
    "ax.plot(max_logprob_ind+mcmc_discard_nsample, maxprobval, \"ro\", ms=6, markeredgecolor=\"w\");\n",
    "\n",
    "ax.set_xlim([0, xmax])\n",
    "ax.set_ylim(ylim_list[-1])\n",
    "ax.set_ylabel(\"$\\log{L}$\", fontsize=labelfontsize)\n",
    "\n",
    "axes[-1].set_xlabel(\"step number\");\n",
    "plt.subplots_adjust(bottom=0.1, right=0.8, top=0.9)\n",
    "\n",
    "foname = (output_imgdir+\"/ex_MCMC_search_chain_{}_{}_{}_{}_{}.png\".format(dvvmethod, stationpair, freqband, modelparam[\"modelcase\"], caseversion))\n",
    "\n",
    "t = fig.suptitle(f'{sta1}-{sta2} {dvvmethod.upper()} {freqband}Hz')\n",
    "fig.tight_layout(rect=[0,0,1,1])\n",
    "plt.subplots_adjust(hspace=0.2)\n",
    "fig.align_ylabels()\n",
    "\n",
    "plt.savefig(foname)"
   ]
  },
  {
   "cell_type": "code",
   "execution_count": null,
   "metadata": {},
   "outputs": [],
   "source": []
  },
  {
   "cell_type": "markdown",
   "metadata": {},
   "source": [
    "## Save dv/v factors with maximum likelihood model parameters"
   ]
  },
  {
   "cell_type": "code",
   "execution_count": 21,
   "metadata": {},
   "outputs": [],
   "source": [
    "plotdvvfit_model = modelparam.copy()\n",
    "# read observed dvv and err\n",
    "dvv_data = np.array(fi[\"dvv/{}/dvv\".format(stationpair)])\n",
    "err_data = np.array(fi[\"dvv/{}/err\".format(stationpair)])\n",
    "\n",
    "plotdvvfit_model[\"dvv_data\"] = dvv_data\n",
    "plotdvvfit_model[\"err_data\"] = err_data\n"
   ]
  },
  {
   "cell_type": "code",
   "execution_count": 22,
   "metadata": {},
   "outputs": [],
   "source": [
    "modelparam[\"ndim\"] = sampler.ndim\n",
    "\n",
    "theta0 = copy.deepcopy(flat_samples_maxprob[chains_lnprobmaxarg[lnprob_maxchain_id], :])\n",
    "\n",
    "# reassemble model parameters with fixed values\n",
    "\n",
    "if modelparam[\"fixparam01\"] == True:\n",
    "    # fix the aprecip, log10tmin1 and log10tmin2\n",
    "    if  modelparam[\"modelcase\"]==\"base\":\n",
    "        theta = np.concatenate((theta0[0:2], [modelparam[\"a_{precip}_fixed\"]], theta0[2:5], [modelparam[\"log10tmin1_fixed\"]],\n",
    "                          theta0[5:7], [modelparam[\"log10tmin2_fixed\"]], theta0[7:9]), axis=None)\n",
    "    elif modelparam[\"modelcase\"]==\"wlin\":\n",
    "        theta = np.concatenate((theta0[0:2], [modelparam[\"a_{precip}_fixed\"]], theta0[2:5], [modelparam[\"log10tmin1_fixed\"]],\n",
    "                          theta0[5:7], [modelparam[\"log10tmin2_fixed\"]], theta0[7:10]), axis=None)\n",
    "else:\n",
    "    theta = theta0\n",
    "\n",
    "            \n",
    "if modelparam[\"modelcase\"] == \"base\":    \n",
    "    dvvmodel, dvvgwl, dvvtemp, dvvhealSS, dvvhealPF = model_base(theta, all=True, **modelparam)\n",
    "\n",
    "elif modelparam[\"modelcase\"] == \"wlin\":\n",
    "    dvvmodel, dvvgwl, dvvtemp, dvvhealSS, dvvhealPF, lintrend = model_wlin(theta, all=True, **modelparam)"
   ]
  },
  {
   "cell_type": "code",
   "execution_count": 23,
   "metadata": {},
   "outputs": [],
   "source": [
    "# save data\n",
    "plotdvvfit_model[\"theta\"] = theta\n",
    "plotdvvfit_model[\"model_keys\"] = model_keys\n",
    "plotdvvfit_model[\"dvvgwl\"] = dvvgwl\n",
    "plotdvvfit_model[\"dvvtemp\"]= dvvtemp\n",
    "plotdvvfit_model[\"dvvhealSS\"] = dvvhealSS\n",
    "plotdvvfit_model[\"dvvhealPF\"] = dvvhealPF\n",
    "plotdvvfit_model[\"dvv_model\"] = dvvmodel\n",
    "\n",
    "if modelparam[\"modelcase\"] == \"base\":   \n",
    "    plotdvvfit_model[\"lintrend\"] = np.zeros_like(dvvmodel)\n",
    "elif modelparam[\"modelcase\"] == \"wlin\":\n",
    "    plotdvvfit_model[\"lintrend\"] = lintrend"
   ]
  },
  {
   "cell_type": "code",
   "execution_count": 24,
   "metadata": {},
   "outputs": [],
   "source": [
    "# Save the current state.\n",
    "fodataname = (plotdvv_outdir+\"/plotdvvfit_model_{}_{}_{}_{}_{}.pickle\".format(dvvmethod, stationpair, freqband, modelparam[\"modelcase\"], caseversion))\n",
    "with open(fodataname, \"wb\") as f:\n",
    "    pickle.dump(plotdvvfit_model, f)\n"
   ]
  },
  {
   "cell_type": "code",
   "execution_count": null,
   "metadata": {},
   "outputs": [],
   "source": []
  },
  {
   "cell_type": "code",
   "execution_count": null,
   "metadata": {},
   "outputs": [],
   "source": []
  },
  {
   "cell_type": "markdown",
   "metadata": {},
   "source": [
    "# Plot base stretching "
   ]
  },
  {
   "cell_type": "code",
   "execution_count": 25,
   "metadata": {},
   "outputs": [],
   "source": [
    "modelcase = \"base\"\n",
    "\n",
    "casename = os.path.basename(h5_stats_list[h5_id].split('.h5')[0])\n",
    "freqband = h5_stats_list[h5_id].split('.h5')[0].split('_')[-1]\n",
    "\n",
    "# split the version of MCMC case study\n",
    "caseversion = os.path.basename(input_datadir).split(\"_\")[3]"
   ]
  },
  {
   "cell_type": "code",
   "execution_count": 26,
   "metadata": {},
   "outputs": [],
   "source": [
    "dvvmethod = casename.split('.csv')[0].split('_')[-1]"
   ]
  },
  {
   "cell_type": "code",
   "execution_count": 27,
   "metadata": {},
   "outputs": [],
   "source": [
    "# read csv containing channel-weighted dvv and err\n",
    "fi = h5py.File(h5_stats_list[h5_id], \"r\")"
   ]
  },
  {
   "cell_type": "markdown",
   "metadata": {},
   "source": [
    "## Plot sampler"
   ]
  },
  {
   "cell_type": "code",
   "execution_count": 28,
   "metadata": {},
   "outputs": [],
   "source": [
    "stationpairs_files = glob.glob(input_datadir+f\"/*_{freqband}_{modelcase}_{dvvmethod}.pickle\")\n",
    "stationpairs = np.sort([os.path.basename(x).split(\"_\")[2] for x in stationpairs_files])\n"
   ]
  },
  {
   "cell_type": "code",
   "execution_count": 29,
   "metadata": {},
   "outputs": [],
   "source": [
    "# read sampler\n",
    "finame = input_datadir+\"/MCMC_sampler_{}_{}_{}_{}.pickle\".format(stationpair, freqband,modelcase, dvvmethod)\n",
    "with open(finame, \"rb\") as f:\n",
    "    sampler = pickle.load(f)\n",
    "    modelparam = pickle.load(f)\n",
    "    \n",
    "modelparam[\"freqband\"] = freqband\n",
    "modelparam[\"dvvmethod\"] = dvvmethod\n",
    "\n",
    "# compute line colormaps\n",
    "lc = mpl.cm.Set2_r(np.linspace(0,1,sampler.nwalkers))"
   ]
  },
  {
   "cell_type": "code",
   "execution_count": 30,
   "metadata": {},
   "outputs": [],
   "source": [
    "model_keys = get_keys(modelcase)"
   ]
  },
  {
   "cell_type": "code",
   "execution_count": 31,
   "metadata": {},
   "outputs": [],
   "source": [
    "# create labels of data\n",
    "labels = get_labels(modelcase, modelparam[\"fixparam01\"])"
   ]
  },
  {
   "cell_type": "code",
   "execution_count": 32,
   "metadata": {},
   "outputs": [
    {
     "data": {
      "text/plain": [
       "['$a_{0}$',\n",
       " '$p_1$',\n",
       " '$p_2$',\n",
       " '$t_{0}^{shift}$ [day]',\n",
       " '$s_1$',\n",
       " '$\\\\log_{10} \\\\tau_{1}^{max}$ [year]',\n",
       " '$s_2$',\n",
       " '$\\\\log_{10} \\\\tau_{2}^{max}$ [year]',\n",
       " '$\\\\log{f_0}$']"
      ]
     },
     "execution_count": 32,
     "metadata": {},
     "output_type": "execute_result"
    }
   ],
   "source": [
    "labels"
   ]
  },
  {
   "cell_type": "code",
   "execution_count": 33,
   "metadata": {},
   "outputs": [
    {
     "name": "stdout",
     "output_type": "stream",
     "text": [
      "sampler number of parameter is : 9.\n",
      " 9\n"
     ]
    }
   ],
   "source": [
    "print(f\"sampler number of parameter is : {sampler.ndim}.\")\n",
    "print(f\" {len(labels)}\")"
   ]
  },
  {
   "cell_type": "markdown",
   "metadata": {},
   "source": [
    "## Evaluate the model parameters with best probability"
   ]
  },
  {
   "cell_type": "code",
   "execution_count": 34,
   "metadata": {},
   "outputs": [],
   "source": [
    "# get the chains of samples separately\n",
    "chains_samples = sampler.get_chain(discard=mcmc_discard_nsample, thin=1, flat=False)\n",
    "\n",
    "# get the chains of log probability\n",
    "chains_lnprob =  sampler.get_log_prob(discard=mcmc_discard_nsample, thin=1, flat=False)\n",
    "\n",
    "# select the chain id with the maximum log probability among the chains\n",
    "chains_lnprobmaxarg = np.argmax(chains_lnprob, axis=0)\n",
    "\n",
    "# extract the single chain of log probability with its maximum\n",
    "chains_lnprobmax = np.array([chains_lnprob[x, i] for i, x in enumerate(chains_lnprobmaxarg)])\n",
    "\n",
    "# compare the maximum log probability with different chains and get the best chain id\n",
    "lnprob_maxchain_id = np.argmax(chains_lnprobmax)\n",
    "\n",
    "# extract the best chain of samples\n",
    "flat_samples_maxprob = chains_samples[:, lnprob_maxchain_id, :]\n",
    "\n",
    "# obtain the model parameters with the best log probability\n",
    "maxlnprob_theta = copy.deepcopy(flat_samples_maxprob[chains_lnprobmaxarg[lnprob_maxchain_id], :])\n",
    "rescale_theta(maxlnprob_theta) # rescale t and blin"
   ]
  },
  {
   "cell_type": "markdown",
   "metadata": {},
   "source": [
    "## Plot Scatter matrix"
   ]
  },
  {
   "cell_type": "code",
   "execution_count": 35,
   "metadata": {},
   "outputs": [],
   "source": [
    "datainds_trim = range(len(labels[:-1]))  #[0, 1, 2] #range(len(labels[:-1])) # plot all quantities\n",
    "labels_trim=[labels[x] for x in datainds_trim]"
   ]
  },
  {
   "cell_type": "code",
   "execution_count": null,
   "metadata": {},
   "outputs": [],
   "source": [
    "# Plot using corner.corner\n",
    "# Reference: Foreman-Mackey (2016) https://corner.readthedocs.io/en/latest/\n",
    "chains_samples_all = copy.deepcopy(sampler.get_chain(discard=mcmc_discard_nsample, thin=50, flat=True))\n",
    "rescale_chain(chains_samples_all)\n",
    "\n",
    "fig = corner.corner(\n",
    "    chains_samples_all, labels=labels, truths=maxlnprob_theta);\n",
    "\n",
    "fig.suptitle(f'{sta1}-{sta2} {dvvmethod.upper()} {freqband}Hz', y=1)\n",
    "\n",
    "foname = (output_imgdir+\"/ex_MCMC_modelfit_cornerplot_{}_{}_{}_{}_{}.png\".format(dvvmethod, stationpair, freqband, modelparam[\"modelcase\"], caseversion))\n",
    "plt.savefig(foname, dpi=150)"
   ]
  },
  {
   "cell_type": "code",
   "execution_count": 37,
   "metadata": {},
   "outputs": [],
   "source": [
    "# Read ranges and ticks from corner plot\n",
    "cornerticks_x_inds =np.arange(72, 81) # axes number of lower rows for x ticks\n",
    "cornerticks_y_inds =np.arange(9, 81, 9)# axes number of lower rows for y ticks\n",
    "cornerranges_x = []\n",
    "cornerranges_y = []\n",
    "cornerticks_x = []\n",
    "cornerticks_y = []\n",
    "\n",
    "for i in cornerticks_x_inds:\n",
    "    cornerranges_x.append(list(fig.axes[i].get_xlim()))\n",
    "    cornerticks_x.append([np.round(x.get_unitless_position()[0], 10) for x in fig.axes[i].get_xticklabels()[:-1]])\n",
    "for j in cornerticks_y_inds:\n",
    "    cornerranges_y.append(list(fig.axes[j].get_ylim()))\n",
    "    cornerticks_y.append([np.round(y.get_unitless_position()[1], 10) for y in fig.axes[j].get_yticklabels()[:-1]])\n",
    "\n",
    "# print(cornerranges_x, cornerranges_y)\n",
    "# print(cornerticks_x, cornerticks_y)"
   ]
  },
  {
   "cell_type": "code",
   "execution_count": null,
   "metadata": {},
   "outputs": [],
   "source": [
    "modelparam[\"nbin_hist\"] = 16\n",
    "\n",
    "# flat_samples_maxprob\n",
    "\n",
    "fig0, axs, sm = plot_scattermatrix(chains_samples_all, datainds_trim, labels_trim, left=0.1, right=0.9, bottom=0.1, top=0.9, wspace=0.05, hspace=0.05,\n",
    "    xrange_sigma_factor=2, bincolorgray=0.7, nbin_hist=modelparam[\"nbin_hist\"], nbin_hist2d=18, Ncontourf=51, Ncontour=5, Ncontour_clip=4, cmap=\"Oranges\",\n",
    "    xticks=cornerticks_x, yticks=cornerticks_y, plot_truth=True,\n",
    "    ylim_max=0.3, zlim_max=0.04, xranges=cornerranges_x, plot_median=False, plot_bestparam=maxlnprob_theta, labelfontsize=11, tickfontsize=10, figsize=(12, 12));\n",
    "\n",
    "fig0.align_labels();\n",
    "\n",
    "fig0.suptitle(f'{sta1}-{sta2} {dvvmethod.upper()} {freqband}Hz', y=0.93)\n",
    "\n",
    "foname = (output_imgdir+\"/ex_MCMC_modelfit_factors_{}_{}_{}_{}_{}.png\".format(dvvmethod, stationpair, freqband, modelparam[\"modelcase\"], caseversion))\n",
    "plt.savefig(foname, dpi=150)"
   ]
  },
  {
   "cell_type": "code",
   "execution_count": null,
   "metadata": {},
   "outputs": [],
   "source": [
    "fig, ax = plt.subplots(1, 1, figsize=(8, 2))\n",
    "ax.axis(\"off\")\n",
    "cbar=fig.colorbar(sm,orientation='horizontal',label=\"probability\")\n",
    "foname = (output_imgdir+\"/ex_MCMC_scattermatrixcbar_{}_{}_{}_{}_{}.png\".format(dvvmethod, stationpair, freqband, modelparam[\"modelcase\"], caseversion))\n",
    "plt.savefig(foname, dpi=150)"
   ]
  },
  {
   "cell_type": "markdown",
   "metadata": {},
   "source": [
    "## Plot MCMC iteration history"
   ]
  },
  {
   "cell_type": "code",
   "execution_count": null,
   "metadata": {},
   "outputs": [],
   "source": [
    "chain_log_prob_plot = sampler.get_log_prob(discard=0, thin=1, flat=False) # retrieve all the log prob history\n",
    "max_logprob_ind = chains_lnprobmaxarg[lnprob_maxchain_id] # plot the iteration of max log prob\n",
    "\n",
    "samples = copy.deepcopy(sampler.get_chain(discard=0, thin=1, flat=False)) # retrieve all the samples with separate chain\n",
    "rescale_chain(samples)\n",
    "\n",
    "fig, axes = plt.subplots(sampler.ndim+1, figsize=(10, 12), sharex=True)\n",
    "lw_maxprob = 0.6\n",
    "\n",
    "labelfontsize = 10.8\n",
    "\n",
    "# append the limit of log prob\n",
    "ylim_list = copy.deepcopy(cornerranges_x)\n",
    "maxprobval = chain_log_prob_plot[max_logprob_ind+mcmc_discard_nsample, lnprob_maxchain_id]\n",
    "ylim_list.append([0.98*maxprobval, 1.005*maxprobval])\n",
    "\n",
    "for i in range(sampler.ndim):\n",
    "    ax = axes[i]\n",
    "    \n",
    "    for j in range(sampler.nwalkers):\n",
    "        ax.plot(samples[:, j, i], lw=0.5, c=lc[j, :], alpha=0.8)\n",
    "        \n",
    "    # plot the chain with maximum log probability\n",
    "    ax.plot(samples[:, lnprob_maxchain_id, i], c=\"k\", lw=lw_maxprob) \n",
    "    \n",
    "    ax.set_xlim([0, xmax])\n",
    "    ax.set_ylim(ylim_list[i])\n",
    "    ax.set_ylabel(labels[i], fontsize=labelfontsize)\n",
    "#     ax.yaxis.set_label_coords(-0.1, 0.5)\n",
    "    ax.axvline(mcmc_discard_nsample, c=\"k\", ls=\"--\")\n",
    "    # plot maximum likelihood parameters\n",
    "    ax.axhline(maxlnprob_theta[i], c=\"b\", ls=\":\", lw=1.0)\n",
    "    ax.plot(max_logprob_ind+mcmc_discard_nsample, maxlnprob_theta[i], \"ro\", ms=6, markeredgecolor=\"w\");\n",
    "\n",
    "# plot maximum log probability\n",
    "plot_logprob = chain_log_prob_plot[:, lnprob_maxchain_id]\n",
    "\n",
    "ax = axes[-1]\n",
    "for i in range(chain_log_prob_plot.shape[1]):\n",
    "    ax.plot(chain_log_prob_plot[:, i], lw=0.5, c=lc[i, :], alpha=0.8);\n",
    "\n",
    "ax.axvline(mcmc_discard_nsample, c=\"k\", ls=\"--\")\n",
    "# plot the chain with maximum log probability\n",
    "ax.plot(plot_logprob, c=\"k\", lw=lw_maxprob)\n",
    "ax.axhline(chain_log_prob_plot[max_logprob_ind+mcmc_discard_nsample, lnprob_maxchain_id], c=\"b\", ls=\":\", lw=1.0)\n",
    "ax.plot(max_logprob_ind+mcmc_discard_nsample, maxprobval, \"ro\", ms=6, markeredgecolor=\"w\");\n",
    "\n",
    "ax.set_xlim([0, xmax])\n",
    "ax.set_ylim(ylim_list[-1])\n",
    "ax.set_ylabel(\"$\\log{L}$\", fontsize=labelfontsize)\n",
    "\n",
    "axes[-1].set_xlabel(\"step number\");\n",
    "plt.subplots_adjust(bottom=0.1, right=0.8, top=0.9)\n",
    "\n",
    "foname = (output_imgdir+\"/ex_MCMC_search_chain_{}_{}_{}_{}_{}.png\".format(dvvmethod, stationpair, freqband, modelparam[\"modelcase\"], caseversion))\n",
    "\n",
    "t = fig.suptitle(f'{sta1}-{sta2} {dvvmethod.upper()} {freqband}Hz')\n",
    "fig.tight_layout(rect=[0,0,1,1])\n",
    "plt.subplots_adjust(hspace=0.2)\n",
    "fig.align_ylabels()\n",
    "\n",
    "plt.savefig(foname)"
   ]
  },
  {
   "cell_type": "code",
   "execution_count": null,
   "metadata": {},
   "outputs": [],
   "source": []
  },
  {
   "cell_type": "markdown",
   "metadata": {},
   "source": [
    "## Save dv/v factors with maximum likelihood model parameters"
   ]
  },
  {
   "cell_type": "code",
   "execution_count": 41,
   "metadata": {},
   "outputs": [],
   "source": [
    "plotdvvfit_model = modelparam.copy()\n",
    "# read observed dvv and err\n",
    "dvv_data = np.array(fi[\"dvv/{}/dvv\".format(stationpair)])\n",
    "err_data = np.array(fi[\"dvv/{}/err\".format(stationpair)])\n",
    "\n",
    "plotdvvfit_model[\"dvv_data\"] = dvv_data\n",
    "plotdvvfit_model[\"err_data\"] = err_data\n"
   ]
  },
  {
   "cell_type": "code",
   "execution_count": 42,
   "metadata": {},
   "outputs": [],
   "source": [
    "modelparam[\"ndim\"] = sampler.ndim\n",
    "\n",
    "theta0 = copy.deepcopy(flat_samples_maxprob[chains_lnprobmaxarg[lnprob_maxchain_id], :])\n",
    "\n",
    "# reassemble model parameters with fixed values\n",
    "\n",
    "if modelparam[\"fixparam01\"] == True:\n",
    "    # fix the aprecip, log10tmin1 and log10tmin2\n",
    "    if  modelparam[\"modelcase\"]==\"base\":\n",
    "        theta = np.concatenate((theta0[0:2], [modelparam[\"a_{precip}_fixed\"]], theta0[2:5], [modelparam[\"log10tmin1_fixed\"]],\n",
    "                          theta0[5:7], [modelparam[\"log10tmin2_fixed\"]], theta0[7:9]), axis=None)\n",
    "    elif modelparam[\"modelcase\"]==\"wlin\":\n",
    "        theta = np.concatenate((theta0[0:2], [modelparam[\"a_{precip}_fixed\"]], theta0[2:5], [modelparam[\"log10tmin1_fixed\"]],\n",
    "                          theta0[5:7], [modelparam[\"log10tmin2_fixed\"]], theta0[7:10]), axis=None)\n",
    "else:\n",
    "    theta = theta0\n",
    "\n",
    "            \n",
    "if modelparam[\"modelcase\"] == \"base\":    \n",
    "    dvvmodel, dvvgwl, dvvtemp, dvvhealSS, dvvhealPF = model_base(theta, all=True, **modelparam)\n",
    "\n",
    "elif modelparam[\"modelcase\"] == \"wlin\":\n",
    "    dvvmodel, dvvgwl, dvvtemp, dvvhealSS, dvvhealPF, lintrend = model_wlin(theta, all=True, **modelparam)"
   ]
  },
  {
   "cell_type": "code",
   "execution_count": 43,
   "metadata": {},
   "outputs": [],
   "source": [
    "# save data\n",
    "plotdvvfit_model[\"theta\"] = theta\n",
    "plotdvvfit_model[\"model_keys\"] = model_keys\n",
    "plotdvvfit_model[\"dvvgwl\"] = dvvgwl\n",
    "plotdvvfit_model[\"dvvtemp\"]= dvvtemp\n",
    "plotdvvfit_model[\"dvvhealSS\"] = dvvhealSS\n",
    "plotdvvfit_model[\"dvvhealPF\"] = dvvhealPF\n",
    "plotdvvfit_model[\"dvv_model\"] = dvvmodel\n",
    "\n",
    "if modelparam[\"modelcase\"] == \"base\":   \n",
    "    plotdvvfit_model[\"lintrend\"] = np.zeros_like(dvvmodel)\n",
    "elif modelparam[\"modelcase\"] == \"wlin\":\n",
    "    plotdvvfit_model[\"lintrend\"] = lintrend"
   ]
  },
  {
   "cell_type": "code",
   "execution_count": 44,
   "metadata": {},
   "outputs": [],
   "source": [
    "# Save the current state.\n",
    "fodataname = (plotdvv_outdir+\"/plotdvvfit_model_{}_{}_{}_{}_{}.pickle\".format(dvvmethod, stationpair, freqband, modelparam[\"modelcase\"], caseversion))\n",
    "with open(fodataname, \"wb\") as f:\n",
    "    pickle.dump(plotdvvfit_model, f)\n"
   ]
  },
  {
   "cell_type": "code",
   "execution_count": 45,
   "metadata": {},
   "outputs": [
    {
     "data": {
      "text/plain": [
       "'../plotdvvmodel_data/plotdvvfit_model_mwcs_BP.LCCB-BP.SCYB_0.9-1.2_base_v2.pickle'"
      ]
     },
     "execution_count": 45,
     "metadata": {},
     "output_type": "execute_result"
    }
   ],
   "source": [
    "fodataname"
   ]
  },
  {
   "cell_type": "code",
   "execution_count": 46,
   "metadata": {},
   "outputs": [
    {
     "data": {
      "text/plain": [
       "'BP.LCCB-BP.SCYB'"
      ]
     },
     "execution_count": 46,
     "metadata": {},
     "output_type": "execute_result"
    }
   ],
   "source": [
    "stationpair"
   ]
  },
  {
   "cell_type": "code",
   "execution_count": null,
   "metadata": {},
   "outputs": [],
   "source": []
  }
 ],
 "metadata": {
  "@webio": {
   "lastCommId": null,
   "lastKernelId": null
  },
  "kernelspec": {
   "display_name": "Python 3 (ipykernel)",
   "language": "python",
   "name": "python3"
  },
  "language_info": {
   "codemirror_mode": {
    "name": "ipython",
    "version": 3
   },
   "file_extension": ".py",
   "mimetype": "text/x-python",
   "name": "python",
   "nbconvert_exporter": "python",
   "pygments_lexer": "ipython3",
   "version": "3.8.12"
  }
 },
 "nbformat": 4,
 "nbformat_minor": 4
}
