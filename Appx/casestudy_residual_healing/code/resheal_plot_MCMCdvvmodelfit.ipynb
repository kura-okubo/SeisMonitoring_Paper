{
 "cells": [
  {
   "cell_type": "markdown",
   "metadata": {},
   "source": [
    "# plot dvv comparison: linear trend and residual healing\n",
    "\n",
    "2023.5.7 Kurama Okubo\n",
    "\n",
    "This notebook plots the master figures for the comparison between linear trend and residual healing.\n",
    "Please first run the `resheal_plot_MCMCscattermatrix.ipynb` for the case of stretching and mwcs to dump the data to plot the dvv model comparisons in this notebook."
   ]
  },
  {
   "cell_type": "code",
   "execution_count": 1,
   "metadata": {},
   "outputs": [],
   "source": [
    "%load_ext autoreload\n",
    "%autoreload 2\n",
    "\n",
    "import datetime\n",
    "import os\n",
    "import time\n",
    "\n",
    "import matplotlib\n",
    "import matplotlib.pyplot as plt\n",
    "import matplotlib.dates as dates\n",
    "import matplotlib.dates as mdates\n",
    "%matplotlib inline\n",
    "from IPython.display import display, Math\n",
    "\n",
    "import numpy as np\n",
    "import pandas as pd\n",
    "import h5py\n",
    "import pickle\n",
    "\n",
    "import shutil\n",
    "from tqdm import tqdm\n",
    "import glob\n",
    "\n",
    "import matplotlib as mpl\n",
    "\n",
    "import emcee # MCMC sampler\n",
    "import corner\n",
    "\n",
    "import copy\n",
    "\n",
    "# import mcmc functions\n",
    "from scattermatrix import *\n",
    "from MCMC_func_resheal import *\n",
    "\n",
    "plt.rcParams[\"font.family\"] = 'Arial'\n",
    "# plt.rcParams[\"font.sans-serif\"] = \"DejaVu Sans, Arial, Helvetica, Lucida Grande, Verdana, Geneva, Lucid, Avant Garde, sans-serif\"\n",
    "plt.rcParams[\"font.size\"] = 12\n",
    "plt.rcParams[\"xtick.direction\"] = \"in\"\n",
    "plt.rcParams[\"xtick.major.size\"] = 5\n",
    "plt.rcParams[\"xtick.major.width\"] = 0.5\n",
    "plt.rcParams[\"xtick.minor.size\"] = 2\n",
    "plt.rcParams[\"xtick.minor.width\"] = 1\n",
    "plt.rcParams[\"xtick.minor.visible\"] = True\n",
    "\n",
    "\n",
    "plt.rcParams[\"ytick.direction\"] = \"in\"\n",
    "plt.rcParams[\"ytick.major.size\"] = 5\n",
    "plt.rcParams[\"ytick.major.width\"] = 0.5\n",
    "plt.rcParams[\"ytick.minor.size\"] = 2\n",
    "plt.rcParams[\"ytick.minor.width\"] = 1\n",
    "plt.rcParams[\"ytick.minor.visible\"] = True\n",
    "\n",
    "os.environ['TZ'] = 'GMT' # change time zone to avoid confusion in unix_tvec conversion"
   ]
  },
  {
   "cell_type": "code",
   "execution_count": 2,
   "metadata": {},
   "outputs": [],
   "source": [
    "starttime = datetime.datetime(2002, 1, 1)\n",
    "endtime = datetime.datetime(2022, 6, 1)\n",
    "\n",
    "vlines = [datetime.datetime(2003, 12, 12), datetime.datetime(2004, 9, 28)] \n",
    "\n",
    "# NOTE: v1_tshift0-120 is used to demonstrate the trade-off of temperature time shift\n",
    "plotdvv_datadir = \"../plotdvvmodel_data_resheal\"\n",
    "output_imgdir = \"../figure/MCMC_resheal_mastrer\"\n",
    "\n",
    "image_format=\"png\"\n",
    "dpi = 150\n",
    "show=True\n",
    "#-------------------------------------------#\n",
    "\n",
    "if not os.path.exists(plotdvv_datadir):\n",
    "    os.makedirs(plotdvv_datadir)\n",
    "    \n",
    "if not os.path.exists(output_imgdir):\n",
    "    os.makedirs(output_imgdir)"
   ]
  },
  {
   "cell_type": "code",
   "execution_count": 3,
   "metadata": {},
   "outputs": [
    {
     "data": {
      "text/plain": [
       "['../plotdvvmodel_data_resheal/plotdvvfit_model_stretching_BP.LCCB-BP.SCYB_0.9-1.2_wlin_v2constraintdvvdrop.pickle',\n",
       " '../plotdvvmodel_data_resheal/plotdvvfit_model_stretching_BP.LCCB-BP.SCYB_0.9-1.2_resheal_v2constraintdvvdrop.pickle',\n",
       " '../plotdvvmodel_data_resheal/plotdvvfit_model_mwcs_BP.LCCB-BP.SCYB_0.9-1.2_resheal_v2constraintdvvdrop.pickle',\n",
       " '../plotdvvmodel_data_resheal/plotdvvfit_model_mwcs_BP.LCCB-BP.SCYB_0.9-1.2_wlin_v2constraintdvvdrop.pickle']"
      ]
     },
     "execution_count": 3,
     "metadata": {},
     "output_type": "execute_result"
    }
   ],
   "source": [
    "finamelist = glob.glob(plotdvv_datadir+\"/*.pickle\")\n",
    "finamelist"
   ]
  },
  {
   "cell_type": "code",
   "execution_count": 4,
   "metadata": {},
   "outputs": [],
   "source": [
    "stationpairs_tmp = []\n",
    "for finame in glob.glob(plotdvv_datadir+\"/*.pickle\"):\n",
    "    dvvmethod, stpair, freqband, modelcase, version = os.path.basename(finame).split(\".pickle\")[0].split(\"_\")[2:]\n",
    "    stationpairs_tmp.append(stpair)"
   ]
  },
  {
   "cell_type": "code",
   "execution_count": 5,
   "metadata": {},
   "outputs": [
    {
     "data": {
      "text/plain": [
       "array(['BP.LCCB-BP.SCYB'], dtype='<U15')"
      ]
     },
     "execution_count": 5,
     "metadata": {},
     "output_type": "execute_result"
    }
   ],
   "source": [
    "stationpair_list = np.unique(stationpairs_tmp)\n",
    "stationpair_list"
   ]
  },
  {
   "cell_type": "code",
   "execution_count": 6,
   "metadata": {},
   "outputs": [
    {
     "data": {
      "text/plain": [
       "'BP.LCCB-BP.SCYB'"
      ]
     },
     "execution_count": 6,
     "metadata": {},
     "output_type": "execute_result"
    }
   ],
   "source": [
    "stationpair = stationpair_list[0]\n",
    "sta1, sta2 = [x.split(\".\")[1] for x in stationpair.split(\"-\")]\n",
    "stationpair"
   ]
  },
  {
   "cell_type": "markdown",
   "metadata": {},
   "source": [
    "# Plot stretching or mwcs"
   ]
  },
  {
   "cell_type": "code",
   "execution_count": 7,
   "metadata": {},
   "outputs": [],
   "source": [
    "#read data\n",
    "freqband = \"0.9-1.2\"\n",
    "caseversion = \"v2constraintdvvdrop\"\n",
    "\n",
    "# wlin model\n",
    "fidata_stretching_wlin = plotdvv_datadir+\"/plotdvvfit_model_{}_{}_{}_{}_{}.pickle\".format(dvvmethod, stationpair, freqband, \"wlin\", caseversion)\n",
    "if not os.path.exists(fidata_stretching_wlin):\n",
    "    raise ValueError(f\"{fidata_stretching_wlin} not exists. Please first dump the data.\")\n",
    "else:\n",
    "    with open(fidata_stretching_wlin, \"rb\") as f:\n",
    "        plotdvvfit_model_wlin = pickle.load(f)\n",
    "        \n",
    "# resheal model\n",
    "fidata_stretching_resheal = plotdvv_datadir+\"/plotdvvfit_model_{}_{}_{}_{}_{}.pickle\".format(dvvmethod, stationpair, freqband, \"resheal\", caseversion)\n",
    "if not os.path.exists(fidata_stretching_resheal):\n",
    "    raise ValueError(f\"{fidata_stretching_resheal} not exists. Please first dump the data.\")\n",
    "else:\n",
    "    with open(fidata_stretching_resheal, \"rb\") as f:\n",
    "        plotdvvfit_model_resheal = pickle.load(f)\n",
    "        "
   ]
  },
  {
   "cell_type": "code",
   "execution_count": 8,
   "metadata": {},
   "outputs": [
    {
     "data": {
      "text/plain": [
       "'../plotdvvmodel_data_resheal/plotdvvfit_model_mwcs_BP.LCCB-BP.SCYB_0.9-1.2_wlin_v2constraintdvvdrop.pickle'"
      ]
     },
     "execution_count": 8,
     "metadata": {},
     "output_type": "execute_result"
    }
   ],
   "source": [
    "fidata_stretching_wlin"
   ]
  },
  {
   "cell_type": "code",
   "execution_count": 9,
   "metadata": {},
   "outputs": [
    {
     "data": {
      "text/plain": [
       "dict_keys(['a0', 'p1', 'a_{precip}', 'p2', 't_{shiftdays}', 'S1', 'log10tmin1', 'log10tmax1', 'S2', 'log10tmin2', 'log10tmax2', 'b_{lin}', 'c0', 'logf', 'fixparam01', 'nsteps', 'nwalkers', 'modelcase', 'a_{precip}_fixed', 'log10tmin1_fixed', 'log10tmin2_fixed', 'averagestack_step', 'uniform_tvec', 'unix_tvec', 'fitting_period_ind', 'unix_tSS', 'unix_tPF', 'precip', 'CAVG', 'keys', 'pos', 'ndim', 'dvv_data_trim', 'err_data_trim', 'freqband', 'dvvmethod', 'nbin_hist', 'dvv_data', 'err_data', 'theta', 'model_keys', 'dvvgwl', 'dvvtemp', 'dvvhealSS', 'dvvhealPF', 'dvv_model', 'resheal'])"
      ]
     },
     "execution_count": 9,
     "metadata": {},
     "output_type": "execute_result"
    }
   ],
   "source": [
    "plotdvvfit_model_resheal.keys()"
   ]
  },
  {
   "cell_type": "code",
   "execution_count": 10,
   "metadata": {},
   "outputs": [],
   "source": [
    "# t_shiftdays = plotdvvfit_model_base[\"theta\"][plotdvvfit_model_base[\"model_keys\"].index(\"t_{shiftdays}\")]\n",
    "# t_shiftdays"
   ]
  },
  {
   "cell_type": "markdown",
   "metadata": {},
   "source": [
    "## plot dvv model factors"
   ]
  },
  {
   "cell_type": "code",
   "execution_count": 11,
   "metadata": {},
   "outputs": [
    {
     "data": {
      "text/plain": [
       "1.8685572021461585"
      ]
     },
     "execution_count": 11,
     "metadata": {},
     "output_type": "execute_result"
    }
   ],
   "source": [
    "plotdvvfit_model_wlin[\"theta\"][4]\n",
    "plotdvvfit_model_resheal[\"theta\"][4]"
   ]
  },
  {
   "cell_type": "code",
   "execution_count": 12,
   "metadata": {},
   "outputs": [],
   "source": [
    "# def rescale_theta(theta):\n",
    "#     theta[5] = np.log10(10**theta[5]/86400/365)\n",
    "#     theta[7] = np.log10(10**theta[7]/86400/365)\n",
    "#     theta[8] = theta[8] * 365"
   ]
  },
  {
   "cell_type": "code",
   "execution_count": null,
   "metadata": {
    "scrolled": true
   },
   "outputs": [],
   "source": [
    "dvvmodel_IsOffsetRemoval = True # remove offset from the dv/v with the periof before San Simeon eq. of the observation\n",
    "dicttextbox=dict(boxstyle=\"round\", fc=\"w\", ec=[0.8, 0.8, 0.8], alpha=0.8, pad=0.4) # text box property for AIC and BIC\n",
    "\n",
    "modeldict = plotdvvfit_model_wlin\n",
    "\n",
    "uniform_tvec = modeldict[\"uniform_tvec\"]\n",
    "tSS = datetime.datetime.fromtimestamp(modeldict[\"unix_tSS\"])\n",
    "t_shiftdays = modeldict[\"theta\"][modeldict[\"model_keys\"].index(\"t_{shiftdays}\")]\n",
    "blin_peryear = modeldict[\"theta\"][modeldict[\"model_keys\"].index(\"b_{lin}\")] * 365\n",
    "a0 = modeldict[\"theta\"][modeldict[\"model_keys\"].index(\"a0\")]\n",
    "\n",
    "ii = 0\n",
    "\n",
    "fig, axs = plt.subplots(7, 2, figsize=(16,12),sharex=True, gridspec_kw={\"height_ratios\":[0.01,1,1,1,1,1,1,]})\n",
    "\n",
    "#--- Plot wlin model---#\n",
    "# plot GWL\n",
    "axs[1, ii].plot(uniform_tvec, modeldict[\"dvvgwl\"], \"k-\")\n",
    "axs[1, ii].set_title(\"ΔGWL\")\n",
    "axs[1, ii].set_ylabel(\"dv/v[%]\")\n",
    "\n",
    "ax02=axs[1, ii].twinx()\n",
    "# make a plot with different y-axis using second axis object\n",
    "ax02.plot(uniform_tvec, modeldict[\"precip\"] , color=\"blue\")\n",
    "ax02.set_ylabel(\"Precipitation [mm/month]\",color=\"blue\")\n",
    "ax02.set_ylim([0, 250])\n",
    "\n",
    "# plot Temperature\n",
    "axs[2, ii].plot(uniform_tvec, modeldict[\"dvvtemp\"], \"k-\", label=\"{:2d} days shifted\".format(int(t_shiftdays)))\n",
    "axs[2, ii].set_title(\"Temperature\")\n",
    "axs[2, ii].set_ylabel(\"dv/v[%]\")\n",
    "\n",
    "ax12=axs[2, ii].twinx()\n",
    "# make a plot with different y-axis using second axis object\n",
    "ax12.plot(uniform_tvec, modeldict[\"CAVG\"] , color=\"orange\")\n",
    "ax12.set_ylabel(\"ΔTemperature [°C]\",color=\"orange\")\n",
    "ax12.set_ylim([-20, 20])\n",
    "axs[2, ii].legend(loc=1, bbox_to_anchor=(1.01, 1.05))\n",
    "# axs[1, ii].legend(loc=4, bbox_to_anchor=(1.0, -0.03),)#(1.02, 1.0),)\n",
    "\n",
    "\n",
    "# plot SS and PF healing\n",
    "axs[3, ii].plot(uniform_tvec, modeldict[\"dvvhealSS\"], \"k-\", label=\"San Simeon EQ.\")\n",
    "axs[3, ii].plot(uniform_tvec, modeldict[\"dvvhealPF\"], \"r-\", label=\"Parkfield EQ.\")\n",
    "axs[3, ii].set_title(\"Healing model\")\n",
    "axs[3, ii].set_ylabel(\"dv/v[%]\")\n",
    "axs[3, ii].legend(loc=1, bbox_to_anchor=(1.01, 1.05))\n",
    "\n",
    "# plot trend\n",
    "axs[4, ii].plot(uniform_tvec, modeldict[\"lintrend\"], ls=\"-\", c = \"k\", zorder=1, label=\"slope={:.4f}[%/year]\".format(blin_peryear))\n",
    "axs[4, ii].set_title(\"Linear trend\")\n",
    "axs[4, ii].set_ylabel(\"dv/v [%]\")\n",
    "axs[4, ii].legend(loc=4, bbox_to_anchor=(1.01, -0.05))\n",
    "\n",
    "# plot dv/v\n",
    "if dvvmodel_IsOffsetRemoval:\n",
    "    offset_ind = np.where(np.array(uniform_tvec) < tSS)\n",
    "    offset_data = np.nanmean(modeldict[\"dvv_data\"][offset_ind])\n",
    "    dvv_data = modeldict[\"dvv_data\"] - offset_data\n",
    "    dvv_model = modeldict[\"dvv_model\"] - offset_data\n",
    "    a0_offsetremoved = a0 - offset_data\n",
    "    if dvvmethod == \"stretching\":\n",
    "        axs[5, ii].text(starttime, -0.32, \" offset removed\")\n",
    "    elif dvvmethod == \"mwcs\":\n",
    "        axs[5, ii].text(starttime, -0.27, \" offset removed\")\n",
    "else:\n",
    "    dvv_data = modeldict[\"dvv_data\"]\n",
    "    dvv_model = modeldict[\"dvv_model\"]\n",
    "    a0_offsetremoved = a0\n",
    "    \n",
    "# axs[3].errorbar(uniform_tvec, dvv_data, yerr = err_data, capsize=3, ls=\"-\", c = \"k\", ecolor='black', zorder=1, label=\"data\")\n",
    "axs[5, ii].plot(uniform_tvec, dvv_data, ls=\"-\", c = \"k\", zorder=1, label=\"data\")\n",
    "axs[5, ii].plot(uniform_tvec, dvv_model, \"r-\", zorder=2, label=\"model\")\n",
    "axs[5, ii].set_title(\"Model fit with observation\")\n",
    "axs[5, ii].set_ylabel(\"dv/v [%]\")\n",
    "axs[5, ii].legend(loc=4, bbox_to_anchor=(1.01, -0.05))\n",
    "axs[5, ii].axhline(a0_offsetremoved, c=\"darkgreen\", ls=\"--\", lw=1, zorder=-1, label=\"\")\n",
    "\n",
    "# plot residual\n",
    "axs[6, ii].plot(uniform_tvec, dvv_data-dvv_model, \"-\", c=\"gray\", zorder=2, label=\"raw\")\n",
    "axs[6, ii].plot(uniform_tvec, moving_average(dvv_data-dvv_model, 20), \"k-\", zorder=2, label=\"smoothed\")\n",
    "axs[6, ii].set_title(\"Residual\")\n",
    "axs[6, ii].set_ylabel(\"Δdv/v [%]\")\n",
    "# axs[6, ii].legend(loc=4, bbox_to_anchor=(1.01, -0.05))\n",
    "\n",
    "AIC_base = compute_AIC(dvv_data*1e-2, dvv_model*1e-2, modeldict[\"ndim\"]) # convert from % to nondim\n",
    "BIC_base = compute_BIC(dvv_data*1e-2, dvv_model*1e-2, modeldict[\"ndim\"]) # convert from % to nondim\n",
    "axs[6, ii].text(0.918, 0.16, \"AIC={:.1f}\\nBIC={:.1f}\".format(AIC_base, BIC_base), ha=\"center\", va=\"center\", bbox=dicttextbox, transform=axs[6, ii].transAxes)\n",
    "\n",
    "\n",
    "#---------------------------------------------------------------------------------#\n",
    "#---------------------------------------------------------------------------------#\n",
    "\n",
    "#--- Plot resheal---#\n",
    "ii = 1\n",
    "modeldict = plotdvvfit_model_resheal\n",
    "\n",
    "uniform_tvec = modeldict[\"uniform_tvec\"]\n",
    "tSS = datetime.datetime.fromtimestamp(modeldict[\"unix_tSS\"])\n",
    "t_shiftdays = modeldict[\"theta\"][modeldict[\"model_keys\"].index(\"t_{shiftdays}\")]\n",
    "# blin_peryear = modeldict[\"theta\"][modeldict[\"model_keys\"].index(\"b_{lin}\")] * 365\n",
    "a0 = modeldict[\"theta\"][modeldict[\"model_keys\"].index(\"a0\")]\n",
    "\n",
    "# plot GWL\n",
    "axs[1, ii].plot(uniform_tvec, modeldict[\"dvvgwl\"], \"k-\")\n",
    "axs[1, ii].set_title(\"ΔGWL\")\n",
    "axs[1, ii].set_ylabel(\"dv/v[%]\")\n",
    "\n",
    "ax02=axs[1, ii].twinx()\n",
    "# make a plot with different y-axis using second axis object\n",
    "ax02.plot(uniform_tvec, modeldict[\"precip\"] , color=\"blue\")\n",
    "ax02.set_ylabel(\"Precipitation [mm/month]\",color=\"blue\")\n",
    "ax02.set_ylim([0, 250])\n",
    "\n",
    "# plot Temperature\n",
    "if t_shiftdays >= 2:\n",
    "    label_temperature = \"{:2d} days shifted\"\n",
    "else:\n",
    "    label_temperature = \"{:2d} day shifted\"\n",
    "    \n",
    "axs[2, ii].plot(uniform_tvec, modeldict[\"dvvtemp\"], \"k-\", label=label_temperature.format(int(t_shiftdays)))\n",
    "axs[2, ii].set_title(\"Temperature\")\n",
    "axs[2, ii].set_ylabel(\"dv/v[%]\")\n",
    "\n",
    "ax12=axs[2, ii].twinx()\n",
    "# make a plot with different y-axis using second axis object\n",
    "ax12.plot(uniform_tvec, modeldict[\"CAVG\"] , color=\"orange\")\n",
    "ax12.set_ylabel(\"ΔTemperature [°C]\",color=\"orange\")\n",
    "ax12.set_ylim([-20, 20])\n",
    "axs[2, ii].legend(loc=1, bbox_to_anchor=(1.01, 1.05))\n",
    "# axs[1, ii].legend(loc=4, bbox_to_anchor=(1.0, 0.75),)#(1.02, 1.0),)\n",
    "\n",
    "# plot SS and PF healing\n",
    "axs[3, ii].plot(uniform_tvec, modeldict[\"dvvhealSS\"], \"k-\", label=\"San Simeon EQ.\")\n",
    "axs[3, ii].plot(uniform_tvec, modeldict[\"dvvhealPF\"], \"r-\", label=\"Parkfield EQ.\")\n",
    "axs[3, ii].set_title(\"Healing model\")\n",
    "axs[3, ii].set_ylabel(\"dv/v[%]\")\n",
    "axs[3, ii].legend(loc=1, bbox_to_anchor=(1.01, 1.05))\n",
    "\n",
    "# plot resheal\n",
    "axs[4, ii].plot(uniform_tvec, modeldict[\"resheal\"], ls=\"-\", c = \"k\", zorder=1, label=\"\")\n",
    "axs[4, ii].set_title(\"Residual healing\")\n",
    "axs[4, ii].set_ylabel(\"dv/v [%]\")\n",
    "# axs[4, ii].legend(loc=4, bbox_to_anchor=(1.01, -0.05))\n",
    "\n",
    "# plot dv/v\n",
    "if dvvmodel_IsOffsetRemoval:\n",
    "    offset_ind = np.where(np.array(uniform_tvec) < tSS)\n",
    "    offset_data = np.nanmean(modeldict[\"dvv_data\"][offset_ind])\n",
    "    dvv_data = modeldict[\"dvv_data\"] - offset_data\n",
    "    dvv_model = modeldict[\"dvv_model\"] - offset_data\n",
    "    a0_offsetremoved = a0 - offset_data\n",
    "    if dvvmethod == \"stretching\":\n",
    "        axs[5, ii].text(starttime, -0.32, \" offset removed\")\n",
    "    elif dvvmethod == \"mwcs\":\n",
    "        axs[5, ii].text(starttime, -0.27, \" offset removed\")\n",
    "else:\n",
    "    dvv_data = modeldict[\"dvv_data\"]\n",
    "    dvv_model = modeldict[\"dvv_model\"]\n",
    "    a0_offsetremoved = a0\n",
    "    \n",
    "# axs[3].errorbar(uniform_tvec, dvv_data, yerr = err_data, capsize=3, ls=\"-\", c = \"k\", ecolor='black', zorder=1, label=\"data\")\n",
    "axs[5, ii].plot(uniform_tvec, dvv_data, ls=\"-\", c = \"k\", zorder=1, label=\"data\")\n",
    "axs[5, ii].plot(uniform_tvec, dvv_model, \"r-\", zorder=2, label=\"model\")\n",
    "axs[5, ii].set_title(\"Model fit with observation\")\n",
    "axs[5, ii].set_ylabel(\"dv/v [%]\")\n",
    "axs[5, ii].legend(loc=4, bbox_to_anchor=(1.01, -0.05))\n",
    "axs[5, ii].axhline(a0_offsetremoved, c=\"darkgreen\", ls=\"--\", lw=1, zorder=-1, label=\"\")\n",
    "\n",
    "# plot residual\n",
    "axs[6, ii].plot(uniform_tvec, dvv_data-dvv_model, \"-\", c=\"gray\", zorder=2, label=\"raw\")\n",
    "axs[6, ii].plot(uniform_tvec, moving_average(dvv_data-dvv_model, 20), \"k-\", zorder=2, label=\"smoothed\")\n",
    "axs[6, ii].set_title(\"Residual\")\n",
    "axs[6, ii].set_ylabel(\"Δdv/v [%]\")\n",
    "# axs[6, ii].legend(loc=4, bbox_to_anchor=(1.01, -0.05))\n",
    "\n",
    "#---------------------------------------------------------------------------------#\n",
    "\n",
    "for i in range(len(axs)):\n",
    "    for ii in range(2):\n",
    "        axs[i, ii].grid(True)\n",
    "        axs[i, ii].set_yticks([-0.2, 0.0, 0.2])\n",
    "        plt.setp(axs[i, ii].get_xticklabels(), rotation=30, ha=\"right\", rotation_mode=\"anchor\")\n",
    "\n",
    "plt.setp(axs, xlim=[starttime, endtime])\n",
    "if dvvmethod == \"stretching\":\n",
    "    plt.setp(axs, ylim=[-0.25,0.25])\n",
    "elif dvvmethod == \"mwcs\":\n",
    "    plt.setp(axs, ylim=[-0.2,0.2])\n",
    "    \n",
    "AIC_wlin = compute_AIC(dvv_data*1e-2, dvv_model*1e-2, modeldict[\"ndim\"]) # convert from % to nondim\n",
    "BIC_wlin = compute_BIC(dvv_data*1e-2, dvv_model*1e-2, modeldict[\"ndim\"]) # convert from % to nondim\n",
    "axs[6, ii].text(0.918, 0.16, \"AIC={:.1f}\\nBIC={:.1f}\".format(AIC_wlin, BIC_wlin), ha=\"center\", va=\"center\", bbox=dicttextbox, transform=axs[6, ii].transAxes)\n",
    "\n",
    "plt.suptitle(f\"{sta1}-{sta2} {dvvmethod} {freqband}Hz \")\n",
    "\n",
    "fig.tight_layout()\n",
    "plt.subplots_adjust(hspace=0.35)\n",
    "# set titles\n",
    "for i, txt in enumerate([\"linear trend\", \"residual healing\"]):\n",
    "    axs[0, i].axis('off')\n",
    "    axs[0, i].set_title(txt, pad=0.0, y=-2, fontsize=18, fontweight=\"bold\")\n",
    "\n",
    "# vlines = [datetime.datetime(2002, 1, 1), datetime.datetime(2020, 9, 1)] \n",
    "# ax.axvline(vlines[0], ls=\"-\", c='b')\n",
    "# ax.axvline(vlines[1], ls=\"-\", c='b')\n",
    "\n",
    "foname = (output_imgdir+\"/MCMC_modelfitfactors_master_{}_{}_{}.png\".format(stationpair, dvvmethod, freqband))\n",
    "plt.savefig(foname, dpi=300)"
   ]
  },
  {
   "cell_type": "code",
   "execution_count": 14,
   "metadata": {},
   "outputs": [
    {
     "data": {
      "text/plain": [
       "'BP.LCCB-BP.SCYB'"
      ]
     },
     "execution_count": 14,
     "metadata": {},
     "output_type": "execute_result"
    }
   ],
   "source": [
    "stationpair"
   ]
  },
  {
   "cell_type": "markdown",
   "metadata": {},
   "source": [
    "# Plot only resheal for master plot"
   ]
  },
  {
   "cell_type": "code",
   "execution_count": null,
   "metadata": {},
   "outputs": [],
   "source": [
    "dvvmodel_IsOffsetRemoval = True # remove offset from the dv/v with the periof before San Simeon eq. of the observation\n",
    "dicttextbox=dict(boxstyle=\"round\", fc=\"w\", ec=[0.8, 0.8, 0.8], alpha=0.8, pad=0.4) # text box property for AIC and BIC\n",
    "\n",
    "fig, axs = plt.subplots(7, 1, figsize=(8,12),sharex=True, gridspec_kw={\"height_ratios\":[0.01,1,1,1,1,1,1,]})\n",
    "\n",
    "#---------------------------------------------------------------------------------#\n",
    "#---------------------------------------------------------------------------------#\n",
    "\n",
    "#--- Plot resheal---#\n",
    "modeldict = plotdvvfit_model_resheal\n",
    "\n",
    "uniform_tvec = modeldict[\"uniform_tvec\"]\n",
    "tSS = datetime.datetime.fromtimestamp(modeldict[\"unix_tSS\"])\n",
    "t_shiftdays = modeldict[\"theta\"][modeldict[\"model_keys\"].index(\"t_{shiftdays}\")]\n",
    "# blin_peryear = modeldict[\"theta\"][modeldict[\"model_keys\"].index(\"b_{lin}\")] * 365\n",
    "a0 = modeldict[\"theta\"][modeldict[\"model_keys\"].index(\"a0\")]\n",
    "\n",
    "# plot GWL\n",
    "axs[1].plot(uniform_tvec, modeldict[\"dvvgwl\"], \"k-\")\n",
    "axs[1].set_title(\"ΔGWL\")\n",
    "axs[1].set_ylabel(\"dv/v[%]\")\n",
    "\n",
    "ax02=axs[1].twinx()\n",
    "# make a plot with different y-axis using second axis object\n",
    "ax02.plot(uniform_tvec, modeldict[\"precip\"] , color=\"blue\")\n",
    "ax02.set_ylabel(\"Precipitation [mm/month]\",color=\"blue\")\n",
    "ax02.set_ylim([0, 250])\n",
    "\n",
    "# plot Temperature\n",
    "if t_shiftdays >= 2:\n",
    "    label_temperature = \"{:2d} days shifted\"\n",
    "else:\n",
    "    label_temperature = \"{:2d} day shifted\"\n",
    "    \n",
    "axs[2].plot(uniform_tvec, modeldict[\"dvvtemp\"], \"k-\", label=label_temperature.format(int(t_shiftdays)))\n",
    "axs[2].set_title(\"Temperature\")\n",
    "axs[2].set_ylabel(\"dv/v[%]\")\n",
    "\n",
    "ax12=axs[2].twinx()\n",
    "# make a plot with different y-axis using second axis object\n",
    "ax12.plot(uniform_tvec, modeldict[\"CAVG\"] , color=\"orange\")\n",
    "ax12.set_ylabel(\"ΔTemperature [°C]\",color=\"orange\")\n",
    "ax12.set_ylim([-20, 20])\n",
    "axs[2].legend(loc=1, bbox_to_anchor=(1.01, 1.05))\n",
    "# axs[1, ii].legend(loc=4, bbox_to_anchor=(1.0, 0.75),)#(1.02, 1.0),)\n",
    "\n",
    "# plot SS and PF healing\n",
    "axs[3].plot(uniform_tvec, modeldict[\"dvvhealSS\"], \"k-\", label=\"San Simeon EQ.\")\n",
    "axs[3].plot(uniform_tvec, modeldict[\"dvvhealPF\"], \"r-\", label=\"Parkfield EQ.\")\n",
    "axs[3].set_title(\"Healing model\")\n",
    "axs[3].set_ylabel(\"dv/v[%]\")\n",
    "axs[3].legend(loc=1, bbox_to_anchor=(1.01, 1.05))\n",
    "\n",
    "# plot resheal\n",
    "axs[4].plot(uniform_tvec, modeldict[\"resheal\"], ls=\"-\", c = \"k\", zorder=1, label=\"\")\n",
    "axs[4].set_title(\"Residual healing\")\n",
    "axs[4].set_ylabel(\"dv/v [%]\")\n",
    "# axs[4].legend(loc=4, bbox_to_anchor=(1.01, -0.05))\n",
    "\n",
    "# plot dv/v\n",
    "if dvvmodel_IsOffsetRemoval:\n",
    "    offset_ind = np.where(np.array(uniform_tvec) < tSS)\n",
    "    offset_data = np.nanmean(modeldict[\"dvv_data\"][offset_ind])\n",
    "    dvv_data = modeldict[\"dvv_data\"] - offset_data\n",
    "    dvv_model = modeldict[\"dvv_model\"] - offset_data\n",
    "    a0_offsetremoved = a0 - offset_data\n",
    "    if dvvmethod == \"stretching\":\n",
    "        axs[5].text(starttime, -0.32, \" offset removed\")\n",
    "    elif dvvmethod == \"mwcs\":\n",
    "        axs[5].text(starttime, -0.27, \" offset removed\")\n",
    "else:\n",
    "    dvv_data = modeldict[\"dvv_data\"]\n",
    "    dvv_model = modeldict[\"dvv_model\"]\n",
    "    a0_offsetremoved = a0\n",
    "    \n",
    "# axs[3].errorbar(uniform_tvec, dvv_data, yerr = err_data, capsize=3, ls=\"-\", c = \"k\", ecolor='black', zorder=1, label=\"data\")\n",
    "axs[5].plot(uniform_tvec, dvv_data, ls=\"-\", c = \"k\", zorder=1, label=\"data\")\n",
    "axs[5].plot(uniform_tvec, dvv_model, \"r-\", zorder=2, label=\"model\")\n",
    "axs[5].axhline(a0_offsetremoved, c=\"darkgreen\", ls=\"--\", lw=1, zorder=-1, label=\"\")\n",
    "axs[5].set_title(\"Model fit with observation\")\n",
    "axs[5].set_ylabel(\"dv/v [%]\")\n",
    "axs[5].legend(loc=4, bbox_to_anchor=(1.01, -0.05))\n",
    "\n",
    "# plot residual\n",
    "axs[6].plot(uniform_tvec, dvv_data-dvv_model, \"-\", c=\"gray\", zorder=2, label=\"raw\")\n",
    "axs[6].plot(uniform_tvec, moving_average(dvv_data-dvv_model, 20), \"k-\", zorder=2, label=\"smoothed\")\n",
    "axs[6].set_title(\"Residual\")\n",
    "axs[6].set_ylabel(\"Δdv/v [%]\")\n",
    "# axs[6].legend(loc=4, bbox_to_anchor=(1.01, -0.05))\n",
    "\n",
    "#---------------------------------------------------------------------------------#\n",
    "\n",
    "for i in range(len(axs)):\n",
    "#     for ii in range(2):\n",
    "    axs[i].grid(True)\n",
    "    axs[i].set_yticks([-0.2, 0.0, 0.2])\n",
    "    plt.setp(axs[i].get_xticklabels(), rotation=30, ha=\"right\", rotation_mode=\"anchor\")\n",
    "\n",
    "plt.setp(axs, xlim=[starttime, endtime])\n",
    "if dvvmethod == \"stretching\":\n",
    "    plt.setp(axs, ylim=[-0.25,0.25])\n",
    "elif dvvmethod == \"mwcs\":\n",
    "    plt.setp(axs, ylim=[-0.2,0.2])\n",
    "    \n",
    "AIC_wlin = compute_AIC(dvv_data*1e-2, dvv_model*1e-2, modeldict[\"ndim\"]) # convert from % to nondim\n",
    "BIC_wlin = compute_BIC(dvv_data*1e-2, dvv_model*1e-2, modeldict[\"ndim\"]) # convert from % to nondim\n",
    "axs[6].text(0.918, 0.16, \"AIC={:.1f}\\nBIC={:.1f}\".format(AIC_wlin, BIC_wlin), ha=\"center\", va=\"center\", bbox=dicttextbox, transform=axs[6].transAxes)\n",
    "\n",
    "plt.suptitle(f\"{sta1}-{sta2} {dvvmethod} {freqband}Hz \")\n",
    "\n",
    "fig.tight_layout()\n",
    "plt.subplots_adjust(hspace=0.35)\n",
    "# set titles\n",
    "# for i, txt in enumerate([\"linear trend\", \"residual healing\"]):\n",
    "txt = \"residual healing\"\n",
    "axs[0].axis('off')\n",
    "axs[0].set_title(txt, pad=0.0, y=-2, fontsize=18, fontweight=\"bold\")\n",
    "\n",
    "# vlines = [datetime.datetime(2002, 1, 1), datetime.datetime(2020, 9, 1)] \n",
    "# ax.axvline(vlines[0], ls=\"-\", c='b')\n",
    "# ax.axvline(vlines[1], ls=\"-\", c='b')\n",
    "\n",
    "foname = (output_imgdir+\"/resheal_MCMC_modelfitfactors_master_{}_{}_{}.png\".format(stationpair, dvvmethod, freqband))\n",
    "plt.savefig(foname, dpi=300)"
   ]
  },
  {
   "cell_type": "code",
   "execution_count": 16,
   "metadata": {},
   "outputs": [
    {
     "name": "stdout",
     "output_type": "stream",
     "text": [
      "tmax_PF is 24.897682589125463 year\n"
     ]
    }
   ],
   "source": [
    "print(f\"tmax_PF is {10**modeldict['theta'][10]/86400/365} year\")"
   ]
  },
  {
   "cell_type": "code",
   "execution_count": 17,
   "metadata": {},
   "outputs": [
    {
     "data": {
      "text/plain": [
       "array([ 3.53316924e-02, -2.85599968e-03,  3.88800000e-02,  6.68187559e-04,\n",
       "        1.86855720e+00,  8.61799355e-03,  4.90300000e+00,  9.93129461e+00,\n",
       "        2.90414710e-02,  6.99300000e+00,  8.89496553e+00, -4.86674973e-02,\n",
       "       -3.60294697e+00])"
      ]
     },
     "execution_count": 17,
     "metadata": {},
     "output_type": "execute_result"
    }
   ],
   "source": [
    "modeldict[\"theta\"]"
   ]
  },
  {
   "cell_type": "code",
   "execution_count": 18,
   "metadata": {},
   "outputs": [
    {
     "name": "stdout",
     "output_type": "stream",
     "text": [
      "a0: 0.035331692361685735\n",
      "p1: -0.0028559996832099675\n",
      "a_{precip}: 0.03888\n",
      "p2: 0.0006681875590464024\n",
      "t_{shiftdays}: 1.8685572021461585\n",
      "S1: 0.00861799355373549\n",
      "log10tmin1: 4.903\n",
      "log10tmax1: 9.931294612246354\n",
      "S2: 0.02904147097134672\n",
      "log10tmin2: 6.993\n",
      "log10tmax2: 8.894965532922992\n",
      "c0: -0.048667497297176544\n",
      "logf: -3.6029469660918445\n"
     ]
    }
   ],
   "source": [
    "for i, key in enumerate(modeldict[\"keys\"]):\n",
    "    print(f\"{key}: {plotdvvfit_model_resheal['theta'][i]}\")\n"
   ]
  },
  {
   "cell_type": "code",
   "execution_count": 19,
   "metadata": {},
   "outputs": [
    {
     "data": {
      "text/plain": [
       "8.894965532922992"
      ]
     },
     "execution_count": 19,
     "metadata": {},
     "output_type": "execute_result"
    }
   ],
   "source": [
    "plotdvvfit_model_resheal['theta'][10]"
   ]
  }
 ],
 "metadata": {
  "@webio": {
   "lastCommId": null,
   "lastKernelId": null
  },
  "kernelspec": {
   "display_name": "Python 3 (ipykernel)",
   "language": "python",
   "name": "python3"
  },
  "language_info": {
   "codemirror_mode": {
    "name": "ipython",
    "version": 3
   },
   "file_extension": ".py",
   "mimetype": "text/x-python",
   "name": "python",
   "nbconvert_exporter": "python",
   "pygments_lexer": "ipython3",
   "version": "3.8.12"
  }
 },
 "nbformat": 4,
 "nbformat_minor": 4
}
