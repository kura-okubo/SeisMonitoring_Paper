{
 "cells": [
  {
   "cell_type": "markdown",
   "metadata": {},
   "source": [
    "# Convert dvv traces into the csv file\n",
    "2023.04.23 Kurama Okubo\n",
    "\n",
    "This notebook gather the dvv data into the csv file to plot the master figures associated with the dvv time history.\n",
    "\n",
    "**NOTE:** The csv is output in the multi-column format with pandas. Please read the csv with specifying the header and index such as `pd.read_csv(\"../plotcsv_masterdata/dvvdata_all_stretching.csv\", header=[0, 1, 2, 3], index_col=0)`."
   ]
  },
  {
   "cell_type": "code",
   "execution_count": 18,
   "metadata": {},
   "outputs": [],
   "source": [
    "import datetime\n",
    "import os\n",
    "\n",
    "import matplotlib\n",
    "import matplotlib.pyplot as plt\n",
    "import matplotlib.dates as dates\n",
    "import matplotlib.dates as mdates\n",
    "%matplotlib inline\n",
    "\n",
    "import numpy as np\n",
    "import pandas as pd\n",
    "import h5py\n",
    "\n",
    "import shutil\n",
    "from tqdm import tqdm\n",
    "\n",
    "import matplotlib as mpl\n",
    "\n",
    "os.environ['TZ'] = 'GMT' # change time zone to avoid confusion in unix_tvec conversion\n",
    "\n",
    "plt.rcParams[\"font.family\"] = 'Arial'\n",
    "# plt.rcParams[\"font.sans-serif\"] = \"DejaVu Sans, Arial, Helvetica, Lucida Grande, Verdana, Geneva, Lucid, Avant Garde, sans-serif\"\n",
    "plt.rcParams[\"font.size\"] = 12\n",
    "plt.rcParams[\"xtick.direction\"] = \"in\"\n",
    "plt.rcParams[\"xtick.major.size\"] = 5\n",
    "plt.rcParams[\"xtick.major.width\"] = 0.5\n",
    "plt.rcParams[\"xtick.minor.size\"] = 2\n",
    "plt.rcParams[\"xtick.minor.width\"] = 1\n",
    "plt.rcParams[\"xtick.minor.visible\"] = True\n",
    "\n",
    "plt.rcParams[\"ytick.direction\"] = \"in\"\n",
    "plt.rcParams[\"ytick.major.size\"] = 5\n",
    "plt.rcParams[\"ytick.major.width\"] = 0.5\n",
    "plt.rcParams[\"ytick.minor.size\"] = 2\n",
    "plt.rcParams[\"ytick.minor.width\"] = 1\n",
    "plt.rcParams[\"ytick.minor.visible\"] = True"
   ]
  },
  {
   "cell_type": "code",
   "execution_count": 19,
   "metadata": {},
   "outputs": [],
   "source": [
    "root_csv = \"../data\"\n",
    "csv_stats_list = [root_csv + \"/monitoring_stats_uwbackup_2010-2022_stretching.csv\",\n",
    "                              root_csv + \"/monitoring_stats_uwbackup_2010-2022_mwcs.csv\"]"
   ]
  },
  {
   "cell_type": "code",
   "execution_count": 20,
   "metadata": {},
   "outputs": [],
   "source": [
    "# To validate the meta data like time vector, we load the channel-stacked h5 data.\n",
    "root_h5 = \"../processed_data/\"\n",
    "h5_stats_list = [root_h5+\"/dvvtraces_chanweighted_monitoring_stats_uwbackup_2010-2022_stretching.csv_0.9-1.2.h5\",\n",
    "                       root_h5+\"/dvvtraces_chanweighted_monitoring_stats_uwbackup_2010-2022_mwcs.csv_0.9-1.2.h5\"]\n"
   ]
  },
  {
   "cell_type": "code",
   "execution_count": 21,
   "metadata": {},
   "outputs": [],
   "source": [
    "#---set the file path of your case study list---#\n",
    "csv_stats_id = 1 # 0: stretching 1:mwcs\n",
    "\n",
    "starttime = datetime.datetime(2002, 1, 1)\n",
    "endtime = datetime.datetime(2022, 6, 1)\n",
    "\n",
    "cc_time_unit=86400 # short-stacking time unit\n",
    "averagestack_factor=30 # length of time bin to compute mean and std\n",
    "averagestack_step=15\n",
    "\n",
    "output_datadir = \"../plotcsv_masterdata\"\n",
    "#-------------------------------------------#\n",
    "\n",
    "if not os.path.exists(output_datadir):\n",
    "    os.makedirs(output_datadir)"
   ]
  },
  {
   "cell_type": "code",
   "execution_count": 22,
   "metadata": {},
   "outputs": [],
   "source": [
    "csv_stats = csv_stats_list[csv_stats_id]\n",
    "dvvmethod = os.path.basename(csv_stats).split(\".csv\")[0].split(\"_\")[-1]"
   ]
  },
  {
   "cell_type": "code",
   "execution_count": 23,
   "metadata": {},
   "outputs": [],
   "source": [
    "# make uniform time vector\n",
    "st_center = (averagestack_factor*cc_time_unit/86400)/2\n",
    "date_range_st = starttime + datetime.timedelta(days=st_center) # day\n",
    "datefreq = '%dD'%(averagestack_step*cc_time_unit/86400)\n",
    "uniformdates = pd.date_range(start=date_range_st, end=endtime, freq=datefreq)\n",
    "uniform_tvec_date = uniformdates.date\n",
    "uniform_tvec = [datetime.datetime.fromordinal(x.toordinal()) for x in uniform_tvec_date] # convert from date to datetime"
   ]
  },
  {
   "cell_type": "code",
   "execution_count": 24,
   "metadata": {},
   "outputs": [],
   "source": [
    "uniform_timestamp = np.array([datetime.datetime.timestamp(x) for x in uniform_tvec])"
   ]
  },
  {
   "cell_type": "code",
   "execution_count": 25,
   "metadata": {},
   "outputs": [],
   "source": [
    "# assert if the uniform_tvec is identical to the .h5 data\n",
    "h5_id = csv_stats_id # use same id as csv stats.\n",
    "fi = h5py.File(h5_stats_list[h5_id], \"r\")\n",
    "uniform_tvec_h5 = np.array(fi['uniform_tvec'])\n",
    "assert (uniform_timestamp == uniform_tvec_h5).all()"
   ]
  },
  {
   "cell_type": "code",
   "execution_count": 26,
   "metadata": {},
   "outputs": [],
   "source": [
    "df_origin=pd.read_csv(csv_stats, dtype=str, comment='#')\n"
   ]
  },
  {
   "cell_type": "code",
   "execution_count": 27,
   "metadata": {},
   "outputs": [
    {
     "data": {
      "text/html": [
       "<div>\n",
       "<style scoped>\n",
       "    .dataframe tbody tr th:only-of-type {\n",
       "        vertical-align: middle;\n",
       "    }\n",
       "\n",
       "    .dataframe tbody tr th {\n",
       "        vertical-align: top;\n",
       "    }\n",
       "\n",
       "    .dataframe thead th {\n",
       "        text-align: right;\n",
       "    }\n",
       "</style>\n",
       "<table border=\"1\" class=\"dataframe\">\n",
       "  <thead>\n",
       "    <tr style=\"text-align: right;\">\n",
       "      <th></th>\n",
       "      <th>date</th>\n",
       "      <th>stationpair</th>\n",
       "      <th>networks</th>\n",
       "      <th>components</th>\n",
       "      <th>freqband</th>\n",
       "      <th>dvv_mwcs</th>\n",
       "      <th>dvv0_mwcs</th>\n",
       "      <th>dvv_err_mwcs</th>\n",
       "      <th>dvv0_err_mwcs</th>\n",
       "    </tr>\n",
       "  </thead>\n",
       "  <tbody>\n",
       "    <tr>\n",
       "      <th>0</th>\n",
       "      <td>2002-05-16T00:00:00.0</td>\n",
       "      <td>BP.CCRB-BP.CCRB</td>\n",
       "      <td>BP-BP</td>\n",
       "      <td>11</td>\n",
       "      <td>0.2-0.5</td>\n",
       "      <td>-0.004202141111779931</td>\n",
       "      <td>-0.004202141593014656</td>\n",
       "      <td>1.6032154558632516e-5</td>\n",
       "      <td>1.6032122251148442e-5</td>\n",
       "    </tr>\n",
       "    <tr>\n",
       "      <th>1</th>\n",
       "      <td>2002-05-16T00:00:00.0</td>\n",
       "      <td>BP.CCRB-BP.CCRB</td>\n",
       "      <td>BP-BP</td>\n",
       "      <td>11</td>\n",
       "      <td>0.5-0.9</td>\n",
       "      <td>0.00047500200217747617</td>\n",
       "      <td>0.0004782995489394368</td>\n",
       "      <td>3.0225200979495056e-7</td>\n",
       "      <td>3.0150154930237515e-7</td>\n",
       "    </tr>\n",
       "    <tr>\n",
       "      <th>2</th>\n",
       "      <td>2002-05-16T00:00:00.0</td>\n",
       "      <td>BP.CCRB-BP.CCRB</td>\n",
       "      <td>BP-BP</td>\n",
       "      <td>11</td>\n",
       "      <td>0.9-1.2</td>\n",
       "      <td>-0.0002544209653618679</td>\n",
       "      <td>-0.0004092988735225027</td>\n",
       "      <td>1.1636108854185343e-7</td>\n",
       "      <td>9.664286489118059e-8</td>\n",
       "    </tr>\n",
       "    <tr>\n",
       "      <th>3</th>\n",
       "      <td>2002-05-16T00:00:00.0</td>\n",
       "      <td>BP.CCRB-BP.CCRB</td>\n",
       "      <td>BP-BP</td>\n",
       "      <td>11</td>\n",
       "      <td>1.2-2.0</td>\n",
       "      <td>0.0006919832045516637</td>\n",
       "      <td>0.0005558658183633814</td>\n",
       "      <td>5.89138998774463e-6</td>\n",
       "      <td>5.8684596503249385e-6</td>\n",
       "    </tr>\n",
       "    <tr>\n",
       "      <th>4</th>\n",
       "      <td>2002-05-31T00:00:00.0</td>\n",
       "      <td>BP.CCRB-BP.CCRB</td>\n",
       "      <td>BP-BP</td>\n",
       "      <td>11</td>\n",
       "      <td>0.2-0.5</td>\n",
       "      <td>-3.6065890721532164e-5</td>\n",
       "      <td>-3.2780282152109065e-5</td>\n",
       "      <td>3.1650222320287525e-6</td>\n",
       "      <td>3.1606102277351435e-6</td>\n",
       "    </tr>\n",
       "  </tbody>\n",
       "</table>\n",
       "</div>"
      ],
      "text/plain": [
       "                    date      stationpair networks components freqband   \n",
       "0  2002-05-16T00:00:00.0  BP.CCRB-BP.CCRB    BP-BP         11  0.2-0.5  \\\n",
       "1  2002-05-16T00:00:00.0  BP.CCRB-BP.CCRB    BP-BP         11  0.5-0.9   \n",
       "2  2002-05-16T00:00:00.0  BP.CCRB-BP.CCRB    BP-BP         11  0.9-1.2   \n",
       "3  2002-05-16T00:00:00.0  BP.CCRB-BP.CCRB    BP-BP         11  1.2-2.0   \n",
       "4  2002-05-31T00:00:00.0  BP.CCRB-BP.CCRB    BP-BP         11  0.2-0.5   \n",
       "\n",
       "                 dvv_mwcs               dvv0_mwcs           dvv_err_mwcs   \n",
       "0   -0.004202141111779931   -0.004202141593014656  1.6032154558632516e-5  \\\n",
       "1  0.00047500200217747617   0.0004782995489394368  3.0225200979495056e-7   \n",
       "2  -0.0002544209653618679  -0.0004092988735225027  1.1636108854185343e-7   \n",
       "3   0.0006919832045516637   0.0005558658183633814    5.89138998774463e-6   \n",
       "4  -3.6065890721532164e-5  -3.2780282152109065e-5  3.1650222320287525e-6   \n",
       "\n",
       "           dvv0_err_mwcs  \n",
       "0  1.6032122251148442e-5  \n",
       "1  3.0150154930237515e-7  \n",
       "2   9.664286489118059e-8  \n",
       "3  5.8684596503249385e-6  \n",
       "4  3.1606102277351435e-6  "
      ]
     },
     "execution_count": 27,
     "metadata": {},
     "output_type": "execute_result"
    }
   ],
   "source": [
    "df_origin.head()"
   ]
  },
  {
   "cell_type": "code",
   "execution_count": 28,
   "metadata": {},
   "outputs": [
    {
     "data": {
      "text/plain": [
       "array(['0.2-0.5', '0.5-0.9', '0.9-1.2', '1.2-2.0'], dtype=object)"
      ]
     },
     "execution_count": 28,
     "metadata": {},
     "output_type": "execute_result"
    }
   ],
   "source": [
    "#scan frequency band\n",
    "freqbands = np.unique(df_origin.freqband) #freqid is corresponding to the index of this band\n",
    "freqbands"
   ]
  },
  {
   "cell_type": "code",
   "execution_count": 29,
   "metadata": {},
   "outputs": [],
   "source": [
    "# set dtype\n",
    "df_origin['t'] = pd.to_datetime(df_origin['date'], format=\"%Y-%m-%dT%H:%M:%S.%f\").view(int)/1e9\n",
    "\n",
    "if dvvmethod==\"stretching\":\n",
    "    df_origin['cc_dvv'] = df_origin['cc_ts'].astype(float)\n",
    "    df_origin['dvv'] = df_origin['dvv_ts'].astype(float)\n",
    "    df_origin['err'] = df_origin['err_ts'].astype(float)\n",
    "\n",
    "elif dvvmethod==\"mwcs\":\n",
    "    \"\"\"\n",
    "    We chose dvv_mwcs here, but you can also use dvv0_mwcs, which impose crossing at zero.\n",
    "    \"\"\"\n",
    "    df_origin['dvv'] = (-1) * 100 * df_origin['dvv_mwcs'].astype(float) # convert the unit to [%]\n",
    "    df_origin['err'] =  100 * df_origin['dvv_err_mwcs'].astype(float)\n",
    "    df_origin['cc_dvv'] = np.zeros_like(df_origin['dvv'])\n",
    "    df_origin['cc_dvv'].replace(0, np.nan, inplace=True)\n",
    "# elif dvvmethod==\"codaQ\":\n",
    "#     df_origin['cc_dvv'] = df_origin['cc_dvv'].astype(float)\n",
    "#     df_origin['dvv'] = df_origin['dvv'].astype(float)"
   ]
  },
  {
   "cell_type": "code",
   "execution_count": 30,
   "metadata": {},
   "outputs": [
    {
     "data": {
      "text/plain": [
       "Timestamp('2002-05-16 00:00:00')"
      ]
     },
     "execution_count": 30,
     "metadata": {},
     "output_type": "execute_result"
    }
   ],
   "source": [
    "pd.to_datetime(df_origin[\"t\"], unit='s').iloc[0]"
   ]
  },
  {
   "cell_type": "code",
   "execution_count": 31,
   "metadata": {},
   "outputs": [
    {
     "data": {
      "text/html": [
       "<div>\n",
       "<style scoped>\n",
       "    .dataframe tbody tr th:only-of-type {\n",
       "        vertical-align: middle;\n",
       "    }\n",
       "\n",
       "    .dataframe tbody tr th {\n",
       "        vertical-align: top;\n",
       "    }\n",
       "\n",
       "    .dataframe thead th {\n",
       "        text-align: right;\n",
       "    }\n",
       "</style>\n",
       "<table border=\"1\" class=\"dataframe\">\n",
       "  <thead>\n",
       "    <tr style=\"text-align: right;\">\n",
       "      <th></th>\n",
       "      <th>date</th>\n",
       "      <th>stationpair</th>\n",
       "      <th>networks</th>\n",
       "      <th>components</th>\n",
       "      <th>freqband</th>\n",
       "      <th>dvv_mwcs</th>\n",
       "      <th>dvv0_mwcs</th>\n",
       "      <th>dvv_err_mwcs</th>\n",
       "      <th>dvv0_err_mwcs</th>\n",
       "      <th>t</th>\n",
       "      <th>dvv</th>\n",
       "      <th>err</th>\n",
       "      <th>cc_dvv</th>\n",
       "    </tr>\n",
       "  </thead>\n",
       "  <tbody>\n",
       "    <tr>\n",
       "      <th>0</th>\n",
       "      <td>2002-05-16T00:00:00.0</td>\n",
       "      <td>BP.CCRB-BP.CCRB</td>\n",
       "      <td>BP-BP</td>\n",
       "      <td>11</td>\n",
       "      <td>0.2-0.5</td>\n",
       "      <td>-0.004202141111779931</td>\n",
       "      <td>-0.004202141593014656</td>\n",
       "      <td>1.6032154558632516e-5</td>\n",
       "      <td>1.6032122251148442e-5</td>\n",
       "      <td>1.021507e+09</td>\n",
       "      <td>0.420214</td>\n",
       "      <td>0.001603</td>\n",
       "      <td>NaN</td>\n",
       "    </tr>\n",
       "    <tr>\n",
       "      <th>1</th>\n",
       "      <td>2002-05-16T00:00:00.0</td>\n",
       "      <td>BP.CCRB-BP.CCRB</td>\n",
       "      <td>BP-BP</td>\n",
       "      <td>11</td>\n",
       "      <td>0.5-0.9</td>\n",
       "      <td>0.00047500200217747617</td>\n",
       "      <td>0.0004782995489394368</td>\n",
       "      <td>3.0225200979495056e-7</td>\n",
       "      <td>3.0150154930237515e-7</td>\n",
       "      <td>1.021507e+09</td>\n",
       "      <td>-0.047500</td>\n",
       "      <td>0.000030</td>\n",
       "      <td>NaN</td>\n",
       "    </tr>\n",
       "    <tr>\n",
       "      <th>2</th>\n",
       "      <td>2002-05-16T00:00:00.0</td>\n",
       "      <td>BP.CCRB-BP.CCRB</td>\n",
       "      <td>BP-BP</td>\n",
       "      <td>11</td>\n",
       "      <td>0.9-1.2</td>\n",
       "      <td>-0.0002544209653618679</td>\n",
       "      <td>-0.0004092988735225027</td>\n",
       "      <td>1.1636108854185343e-7</td>\n",
       "      <td>9.664286489118059e-8</td>\n",
       "      <td>1.021507e+09</td>\n",
       "      <td>0.025442</td>\n",
       "      <td>0.000012</td>\n",
       "      <td>NaN</td>\n",
       "    </tr>\n",
       "    <tr>\n",
       "      <th>3</th>\n",
       "      <td>2002-05-16T00:00:00.0</td>\n",
       "      <td>BP.CCRB-BP.CCRB</td>\n",
       "      <td>BP-BP</td>\n",
       "      <td>11</td>\n",
       "      <td>1.2-2.0</td>\n",
       "      <td>0.0006919832045516637</td>\n",
       "      <td>0.0005558658183633814</td>\n",
       "      <td>5.89138998774463e-6</td>\n",
       "      <td>5.8684596503249385e-6</td>\n",
       "      <td>1.021507e+09</td>\n",
       "      <td>-0.069198</td>\n",
       "      <td>0.000589</td>\n",
       "      <td>NaN</td>\n",
       "    </tr>\n",
       "    <tr>\n",
       "      <th>4</th>\n",
       "      <td>2002-05-31T00:00:00.0</td>\n",
       "      <td>BP.CCRB-BP.CCRB</td>\n",
       "      <td>BP-BP</td>\n",
       "      <td>11</td>\n",
       "      <td>0.2-0.5</td>\n",
       "      <td>-3.6065890721532164e-5</td>\n",
       "      <td>-3.2780282152109065e-5</td>\n",
       "      <td>3.1650222320287525e-6</td>\n",
       "      <td>3.1606102277351435e-6</td>\n",
       "      <td>1.022803e+09</td>\n",
       "      <td>0.003607</td>\n",
       "      <td>0.000317</td>\n",
       "      <td>NaN</td>\n",
       "    </tr>\n",
       "  </tbody>\n",
       "</table>\n",
       "</div>"
      ],
      "text/plain": [
       "                    date      stationpair networks components freqband   \n",
       "0  2002-05-16T00:00:00.0  BP.CCRB-BP.CCRB    BP-BP         11  0.2-0.5  \\\n",
       "1  2002-05-16T00:00:00.0  BP.CCRB-BP.CCRB    BP-BP         11  0.5-0.9   \n",
       "2  2002-05-16T00:00:00.0  BP.CCRB-BP.CCRB    BP-BP         11  0.9-1.2   \n",
       "3  2002-05-16T00:00:00.0  BP.CCRB-BP.CCRB    BP-BP         11  1.2-2.0   \n",
       "4  2002-05-31T00:00:00.0  BP.CCRB-BP.CCRB    BP-BP         11  0.2-0.5   \n",
       "\n",
       "                 dvv_mwcs               dvv0_mwcs           dvv_err_mwcs   \n",
       "0   -0.004202141111779931   -0.004202141593014656  1.6032154558632516e-5  \\\n",
       "1  0.00047500200217747617   0.0004782995489394368  3.0225200979495056e-7   \n",
       "2  -0.0002544209653618679  -0.0004092988735225027  1.1636108854185343e-7   \n",
       "3   0.0006919832045516637   0.0005558658183633814    5.89138998774463e-6   \n",
       "4  -3.6065890721532164e-5  -3.2780282152109065e-5  3.1650222320287525e-6   \n",
       "\n",
       "           dvv0_err_mwcs             t       dvv       err  cc_dvv  \n",
       "0  1.6032122251148442e-5  1.021507e+09  0.420214  0.001603     NaN  \n",
       "1  3.0150154930237515e-7  1.021507e+09 -0.047500  0.000030     NaN  \n",
       "2   9.664286489118059e-8  1.021507e+09  0.025442  0.000012     NaN  \n",
       "3  5.8684596503249385e-6  1.021507e+09 -0.069198  0.000589     NaN  \n",
       "4  3.1606102277351435e-6  1.022803e+09  0.003607  0.000317     NaN  "
      ]
     },
     "execution_count": 31,
     "metadata": {},
     "output_type": "execute_result"
    }
   ],
   "source": [
    "df_origin.head()"
   ]
  },
  {
   "cell_type": "markdown",
   "metadata": {},
   "source": [
    "# Rearrange the csv with time\n",
    "\n",
    "To improve the ease of processing the time history of dv/v, we reshape the dataframe by the time vectors."
   ]
  },
  {
   "cell_type": "code",
   "execution_count": 32,
   "metadata": {},
   "outputs": [],
   "source": [
    "df_pivoted = df_origin.pivot(index='t', columns=['freqband', 'stationpair', \"components\"], values=['dvv', 'cc_dvv', 'err'])"
   ]
  },
  {
   "cell_type": "code",
   "execution_count": 33,
   "metadata": {},
   "outputs": [],
   "source": [
    "# Write the csv to the csv file\n",
    "foname = output_datadir+f\"/dvvdata_all_{dvvmethod}.csv\"\n",
    "df_pivoted.to_csv(foname)"
   ]
  },
  {
   "cell_type": "code",
   "execution_count": null,
   "metadata": {},
   "outputs": [],
   "source": []
  },
  {
   "cell_type": "code",
   "execution_count": 34,
   "metadata": {},
   "outputs": [],
   "source": [
    "# read master csv\n",
    "# df = pd.read_csv(foname, header=[0, 1, 2, 3], index_col=0)\n"
   ]
  }
 ],
 "metadata": {
  "@webio": {
   "lastCommId": null,
   "lastKernelId": null
  },
  "kernelspec": {
   "display_name": "Python 3 (ipykernel)",
   "language": "python",
   "name": "python3"
  },
  "language_info": {
   "codemirror_mode": {
    "name": "ipython",
    "version": 3
   },
   "file_extension": ".py",
   "mimetype": "text/x-python",
   "name": "python",
   "nbconvert_exporter": "python",
   "pygments_lexer": "ipython3",
   "version": "3.8.12"
  }
 },
 "nbformat": 4,
 "nbformat_minor": 4
}
