{
 "cells": [
  {
   "cell_type": "markdown",
   "metadata": {},
   "source": [
    "# Low level calling function for scipy.integrate.quad\n",
    "\n",
    "This notebook describes the MWE of implementation of logarithmic healing model.\n",
    "\n",
    "2022.02.02 Kurama Okubo\n",
    "\n",
    "1. Compile c library of the kernel of integration with `gcc -shared -o healing_int.so healing_int.c` (mac OS) before running this notebook."
   ]
  },
  {
   "cell_type": "code",
   "execution_count": 1,
   "metadata": {},
   "outputs": [],
   "source": [
    "import numpy as np\n",
    "import pandas as pd\n",
    "import matplotlib.pyplot as plt\n",
    "import datetime\n",
    "import time\n",
    "\n",
    "%matplotlib inline\n",
    "\n",
    "# modules used for Low level callback function duting integration\n",
    "import os, ctypes\n",
    "from scipy import integrate, LowLevelCallable"
   ]
  },
  {
   "cell_type": "code",
   "execution_count": 2,
   "metadata": {},
   "outputs": [],
   "source": [
    "# Functions to compute logarithmic healing model in Snieder et al. 2017\n",
    "def int1(tau, t):\n",
    "    return (1/tau) * np.exp(-t/tau)\n",
    "\n",
    "def logheal(ts, S, taumax):\n",
    "    taumin = 0.1 # fix taumin so that healing starts just after incident\n",
    "    return -S*integrate.quad(int1, taumin, taumax, args=(ts))[0]\n"
   ]
  },
  {
   "cell_type": "code",
   "execution_count": 3,
   "metadata": {},
   "outputs": [],
   "source": [
    "# Integration with low level callback function\n",
    "# read shared library\n",
    "lib_int = ctypes.CDLL(os.path.abspath('./healing_int.so'))\n",
    "lib_int.f.restype = ctypes.c_double\n",
    "lib_int.f.argtypes = (ctypes.c_int, ctypes.POINTER(ctypes.c_double), ctypes.c_void_p)\n",
    "    \n",
    "def logheal_llc(ts, S, taumax):\n",
    "    \n",
    "    # using Low-level caling function\n",
    "    taumin = 0.1 # fix taumin so that healing starts just after incident    \n",
    "    c = ctypes.c_double(ts) # This is the argument of time t as void * userdata\n",
    "    user_data = ctypes.cast(ctypes.pointer(c), ctypes.c_void_p)\n",
    "    int1_llc = LowLevelCallable(lib_int.f, user_data) # in this way, only void* is available as argument\n",
    "    \n",
    "    return -S*integrate.quad(int1_llc, taumin, taumax)[0]"
   ]
  },
  {
   "cell_type": "code",
   "execution_count": 4,
   "metadata": {},
   "outputs": [],
   "source": [
    "# make time vector\n",
    "starttime = datetime.datetime(2002, 1, 1)\n",
    "endtime = datetime.datetime(2020, 9, 1)\n",
    "date_range_st = starttime + datetime.timedelta(days=15) # stack central date\n",
    "uniformdates = pd.date_range(start=date_range_st, end=endtime, freq='30D')\n",
    "uniform_tvec = uniformdates.date\n",
    "\n",
    "# timing of event\n",
    "tPF = datetime.datetime(2004, 9, 28)\n",
    "unix_tPF = (tPF - pd.Timestamp(\"1970-01-01\")) // pd.Timedelta('1s') # origin of time\n",
    "unix_tvec = np.array([x.timestamp() for x in pd.to_datetime(uniformdates.date)])"
   ]
  },
  {
   "cell_type": "code",
   "execution_count": 5,
   "metadata": {},
   "outputs": [],
   "source": [
    "def y1(t, S, taumax):\n",
    "    '''compute time series of log hearling'''\n",
    "    if t < unix_tPF:\n",
    "        return 0\n",
    "    else:\n",
    "        # compute logheal model\n",
    "        return logheal(t-unix_tPF, S, taumax)\n",
    "\n",
    "def y1_llc(t, S, taumax):\n",
    "    '''compute time series of log hearling'''\n",
    "    if t < unix_tPF:\n",
    "        return 0\n",
    "    else:\n",
    "        # compute logheal model\n",
    "        return logheal_llc(t-unix_tPF, S, taumax)\n",
    "\n",
    "\n",
    "S1 = 0.005\n",
    "tm1 = 3e7"
   ]
  },
  {
   "cell_type": "code",
   "execution_count": 6,
   "metadata": {},
   "outputs": [
    {
     "name": "stdout",
     "output_type": "stream",
     "text": [
      "CPU times of standard and LLC functions are 1.51e-02, 3.20e-02.\n",
      "0.47 times faster with LLC function.\n"
     ]
    }
   ],
   "source": [
    "# Method 1. Compute with standard python function\n",
    "t1 = time.perf_counter()\n",
    "y_PF = [y1(t, S1, tm1) for t in unix_tvec]\n",
    "t2 = time.perf_counter()\n",
    "# Method 2. Compute with Low-level callback function\n",
    "y_PF_llc = [y1_llc(t, S1, tm1) for t in unix_tvec]\n",
    "t3 = time.perf_counter()\n",
    "print(\"CPU times of standard and LLC functions are {:4.2e}, {:4.2e}.\".format(t2-t1, t3-t2))\n",
    "print(\"{:4.2f} times faster with LLC function.\".format((t2-t1)/(t3-t2)))"
   ]
  },
  {
   "cell_type": "markdown",
   "metadata": {},
   "source": [
    "**Note:** The LLC function is slower with the first run, but faster from the second run. Please run the above multiple times to check the improvement."
   ]
  },
  {
   "cell_type": "code",
   "execution_count": 7,
   "metadata": {},
   "outputs": [
    {
     "data": {
      "image/png": "[encoded data removed]",
      "text/plain": [
       "<Figure size 432x288 with 1 Axes>"
      ]
     },
     "metadata": {
      "needs_background": "light"
     },
     "output_type": "display_data"
    }
   ],
   "source": [
    "plt.plot(uniform_tvec, y_PF, \"k-\", label=\"standard python function\")\n",
    "plt.plot(uniform_tvec, y_PF_llc, \"r--\", label=\"integrate with Low-level callback function\")\n",
    "plt.legend()\n",
    "plt.tight_layout()"
   ]
  },
  {
   "cell_type": "code",
   "execution_count": null,
   "metadata": {},
   "outputs": [],
   "source": []
  }
 ],
 "metadata": {
  "kernelspec": {
   "display_name": "Python 3 (ipykernel)",
   "language": "python",
   "name": "python3"
  },
  "language_info": {
   "codemirror_mode": {
    "name": "ipython",
    "version": 3
   },
   "file_extension": ".py",
   "mimetype": "text/x-python",
   "name": "python",
   "nbconvert_exporter": "python",
   "pygments_lexer": "ipython3",
   "version": "3.7.12"
  }
 },
 "nbformat": 4,
 "nbformat_minor": 4
}
