{
 "cells": [
  {
   "cell_type": "markdown",
   "metadata": {},
   "source": [
    "# Implement the rotation of strain tensor\n",
    "\n",
    "We check the computation of the rotation of strain tensor.\n",
    "\n",
    "2023.5.18 Kurama Okubo"
   ]
  },
  {
   "cell_type": "code",
   "execution_count": 1,
   "metadata": {},
   "outputs": [],
   "source": [
    "import datetime\n",
    "import os\n",
    "\n",
    "import matplotlib.pyplot as plt\n",
    "import numpy as np\n",
    "import pandas as pd\n",
    "import h5py\n",
    "import glob\n",
    "\n",
    "import shutil\n",
    "from tqdm import tqdm\n",
    "\n",
    "import matplotlib.patches as patches\n",
    "import matplotlib as mpl\n",
    "\n",
    "from BP_rotate_strain import *\n",
    "\n",
    "%load_ext autoreload\n",
    "%autoreload 2\n",
    "\n",
    "os.environ['TZ'] = 'GMT' # change time zone to avoid confusion in unix_tvec conversion\n",
    "\n",
    "plt.rcParams[\"font.family\"] = 'Arial'\n",
    "# plt.rcParams[\"font.sans-serif\"] = \"DejaVu Sans, Arial, Helvetica, Lucida Grande, Verdana, Geneva, Lucid, Avant Garde, sans-serif\"\n",
    "plt.rcParams[\"font.size\"] = 12\n",
    "plt.rcParams[\"xtick.direction\"] = \"in\"\n",
    "plt.rcParams[\"xtick.major.size\"] = 5\n",
    "plt.rcParams[\"xtick.major.width\"] = 0.5\n",
    "plt.rcParams[\"xtick.minor.size\"] = 0\n",
    "plt.rcParams[\"xtick.minor.width\"] = 0\n",
    "plt.rcParams[\"xtick.minor.visible\"] = True\n",
    "\n",
    "\n",
    "plt.rcParams[\"ytick.direction\"] = \"in\"\n",
    "plt.rcParams[\"ytick.major.size\"] = 5\n",
    "plt.rcParams[\"ytick.major.width\"] = 0.5\n",
    "plt.rcParams[\"ytick.minor.size\"] = 2\n",
    "plt.rcParams[\"ytick.minor.width\"] = 1\n",
    "plt.rcParams[\"ytick.minor.visible\"] = True\n"
   ]
  },
  {
   "cell_type": "code",
   "execution_count": 2,
   "metadata": {},
   "outputs": [],
   "source": [
    "output_imgdir = \"./figure\"\n",
    "if not os.path.exists(output_imgdir):\n",
    "    os.makedirs(output_imgdir)"
   ]
  },
  {
   "cell_type": "markdown",
   "metadata": {},
   "source": [
    "# Theory\n",
    "\n",
    "Let {$\\varepsilon$} be \n",
    "$$\n",
    "\\begin{bmatrix}\n",
    "\\varepsilon_{ee} & \\varepsilon_{en} \\\\\n",
    "\\varepsilon_{ne} & \\varepsilon_{nn} \\\\\n",
    "\\end{bmatrix}\n",
    "$$\n",
    "\n",
    "in plane strain. The subscripts e and n indicate the east and north, respectively. Given the rotation to the fault is $\\theta$, the fault-normal, fault-parallel and the shear strain along the fault is written as\n",
    "\n",
    "$$ \\varepsilon_{fn} = \\varepsilon_{ee} \\cos^2{\\theta} + \\varepsilon_{nn} \\sin^2{\\theta} + 2 \\varepsilon_{en} \\sin{\\theta} \\cos{\\theta}  $$\n",
    "$$ \\varepsilon_{fp} = \\varepsilon_{ee} \\sin^2{\\theta} + \\varepsilon_{nn} \\cos^2{\\theta} - 2 \\varepsilon_{en} \\sin{\\theta} \\cos{\\theta}  $$\n",
    "$$ \\varepsilon_{ss} = (\\varepsilon_{nn}- \\varepsilon_{ee}) \\sin{\\theta}\\cos{\\theta} + \\varepsilon_{en}(\\cos^2{\\theta} - \\sin^2{\\theta}). $$\n",
    "\n",
    "Then the new strain tensor is \n",
    "$$\n",
    "\\begin{bmatrix}\n",
    "\\varepsilon_{fn} & \\varepsilon_{ss} \\\\\n",
    "\\varepsilon_{ss} & \\varepsilon_{fp} \\\\\n",
    "\\end{bmatrix}\n",
    "$$\n",
    "\n",
    "Here we can check the invariant for the sake of debugging."
   ]
  },
  {
   "cell_type": "code",
   "execution_count": 3,
   "metadata": {},
   "outputs": [],
   "source": [
    "# Synthesize the stress\n",
    "nu = 0.25\n",
    "E = 100e9"
   ]
  },
  {
   "cell_type": "markdown",
   "metadata": {},
   "source": [
    "# Check with onlign calculator\n",
    "\n",
    "We cross-validate with the website below:\n",
    "- https://www.efunda.com/formulae/solid_mechanics/mat_mechanics/calc_strain_transform.cfm"
   ]
  },
  {
   "cell_type": "code",
   "execution_count": 4,
   "metadata": {},
   "outputs": [
    {
     "name": "stdout",
     "output_type": "stream",
     "text": [
      "Eee=-0.00021875, Enn=0.00015625, Een=0.00007500\n",
      "Efn=-9.431934358230276e-05, Efp=3.181934358230276e-05, Ess=0.0001918424038112988\n"
     ]
    }
   ],
   "source": [
    "sxx0 = -20e6\n",
    "syy0 = 10e6\n",
    "tau0 = 6e6\n",
    "theta_deg = 25\n",
    "e1 =  compute_strain(sxx0, syy0, tau0, E, nu)\n",
    "\n",
    "print(f\"Eee={e1[0][0]:.8f}, Enn={e1[1][1]:.8f}, Een={e1[0][1]:.8f}\")\n",
    "\n",
    "Efn, Efp, Ess = rotate_strain(e1[0][0], e1[1][1], e1[0][1], theta_deg)\n",
    "print(f\"Efn={Efn}, Efp={Efp}, Ess={Ess}\")"
   ]
  },
  {
   "cell_type": "code",
   "execution_count": 5,
   "metadata": {},
   "outputs": [],
   "source": [
    "# 1. answer\n",
    "#   New Normal Strain ex':\t -9.43 × 10-5  \t\n",
    "#   New Normal Strain ey':\t 3.18 × 10-5  \t\n",
    "#   New Shear Strain ex'y':\t 1.92 × 10-4  \n",
    "        "
   ]
  },
  {
   "cell_type": "markdown",
   "metadata": {},
   "source": [
    "# Check with plots"
   ]
  },
  {
   "cell_type": "code",
   "execution_count": 6,
   "metadata": {},
   "outputs": [],
   "source": [
    "sxx0 = -20e6\n",
    "syy0 = 10e6\n",
    "tau0 = 0 #10e6\n",
    "\n",
    "e1 =  compute_strain(sxx0, syy0, tau0, E, nu)"
   ]
  },
  {
   "cell_type": "code",
   "execution_count": 7,
   "metadata": {},
   "outputs": [
    {
     "name": "stdout",
     "output_type": "stream",
     "text": [
      "Efn=-0.0001517726768162261, Efp=8.92726768162261e-05, Ess=0.00014363333308480838\n"
     ]
    }
   ],
   "source": [
    "theta_rotate = 45\n",
    "\n",
    "Efn, Efp, Ess = rotate_strain(e1[0][0], e1[1][1], e1[0][1], theta_deg)\n",
    "print(f\"Efn={Efn}, Efp={Efp}, Ess={Ess}\")"
   ]
  },
  {
   "cell_type": "code",
   "execution_count": 8,
   "metadata": {},
   "outputs": [],
   "source": [
    "theta_list = np.linspace(0, 360, 13)"
   ]
  },
  {
   "cell_type": "code",
   "execution_count": 9,
   "metadata": {},
   "outputs": [
    {
     "data": {
      "text/plain": [
       "<Figure size 640x480 with 0 Axes>"
      ]
     },
     "metadata": {},
     "output_type": "display_data"
    }
   ],
   "source": [
    "\n",
    "# theta_rotate = 45\n",
    "\n",
    "for theta_rotate in theta_list:\n",
    "    \n",
    "    Efn, Efp, Ess = rotate_strain(e1[0][0], e1[1][1], e1[0][1], theta_rotate)\n",
    "#     print(f\"Efn={Efn}, Efp={Efp}, Ess={Ess}\")\n",
    "\n",
    "    # ref: https://stackoverflow.com/questions/4285103/matplotlib-rotating-a-patch\n",
    "    fig, axs = plt.subplots(1, 3, figsize=(12, 4), sharex=False)\n",
    "\n",
    "    norm = plt.Normalize(-10e-5, 10e-5)\n",
    "\n",
    "\n",
    "    E_rotated = [Efn, Efp, Ess]\n",
    "    titles = [\"Eee->Efn\", \"Enn->Efp\", \"Een->Ess\" ]\n",
    "    for i, epsilon in enumerate([e1[0][0], e1[1][1], e1[0][1]]): # Eee, Enn, Een\n",
    "\n",
    "        ce = plt.cm.coolwarm(norm(epsilon))\n",
    "        cr = plt.cm.coolwarm(norm(E_rotated[i]))\n",
    "\n",
    "        r1 = patches.Rectangle((-10,-10), 20, 20, edgecolor='k', alpha=0.5, facecolor=ce)\n",
    "        r2 = patches.Rectangle((-5,-5), 10, 10, color=cr,  alpha=0.5, )\n",
    "\n",
    "        t2 = mpl.transforms.Affine2D().rotate_deg(theta_rotate) + axs[i].transData\n",
    "        r2.set_transform(t2)\n",
    "\n",
    "        axs[i].add_patch(r1)\n",
    "        axs[i].add_patch(r2)\n",
    "        axs[i].set_title(titles[i])\n",
    "\n",
    "        theta_rad = np.deg2rad(theta_rotate)\n",
    "        L = 5\n",
    "        if i==0:\n",
    "            # axis 1\n",
    "            axs[i].plot([0, L*np.cos(theta_rad)], [0, L*np.sin(theta_rad)], \"y-\")\n",
    "        elif i==1:\n",
    "            # axis 2\n",
    "            axs[i].plot([0, L*np.cos(theta_rad+0.5*np.pi)], [0, L*np.sin(theta_rad+0.5*np.pi)], \"y-\")\n",
    "\n",
    "    for i in range(3):\n",
    "    #     axs[0].grid(True)\n",
    "        axs[i].set_xlabel('EW')\n",
    "        axs[i].set_ylabel('NS')\n",
    "        axs[i].set_xlim([-20, 20])\n",
    "        axs[i].set_ylim([-20, 20])\n",
    "        axs[i].axis('equal')\n",
    "\n",
    "    fig.tight_layout()\n",
    "    \n",
    "    fig.subplots_adjust(bottom=0.1)\n",
    "    cbar_ax = fig.add_axes([0.0, -0.05, 1.0, 0.3])\n",
    "    cbar_ax.set_axis_off()\n",
    "    # (left, bottom, width, height)\n",
    "    cbar=fig.colorbar(mpl.cm.ScalarMappable(norm=norm, cmap=\"coolwarm\"),\n",
    "                     orientation='horizontal', ax=cbar_ax, location = 'bottom',\n",
    "                     label=\"Strain\")\n",
    "\n",
    "    fig.suptitle('$\\sigma ee$ ={:.2e} $\\sigma nn$ ={:.2e}  $\\sigma en$ ={:.2e}  '.format(sxx0, syy0, tau0), y=1.02)\n",
    "\n",
    "    foname = output_imgdir+\"/rotate_strain_rotate{:d}deg.png\".format(int(theta_rotate))\n",
    "    plt.savefig(foname, dpi=150, bbox_inches=\"tight\")\n",
    "    plt.close()\n",
    "    plt.clf()"
   ]
  },
  {
   "cell_type": "code",
   "execution_count": 10,
   "metadata": {},
   "outputs": [
    {
     "data": {
      "text/plain": [
       "-0.00021875"
      ]
     },
     "execution_count": 10,
     "metadata": {},
     "output_type": "execute_result"
    }
   ],
   "source": [
    "e1[0][0]"
   ]
  },
  {
   "cell_type": "code",
   "execution_count": null,
   "metadata": {},
   "outputs": [],
   "source": []
  }
 ],
 "metadata": {
  "@webio": {
   "lastCommId": null,
   "lastKernelId": null
  },
  "kernelspec": {
   "display_name": "Python 3 (ipykernel)",
   "language": "python",
   "name": "python3"
  },
  "language_info": {
   "codemirror_mode": {
    "name": "ipython",
    "version": 3
   },
   "file_extension": ".py",
   "mimetype": "text/x-python",
   "name": "python",
   "nbconvert_exporter": "python",
   "pygments_lexer": "ipython3",
   "version": "3.8.12"
  }
 },
 "nbformat": 4,
 "nbformat_minor": 4
}
