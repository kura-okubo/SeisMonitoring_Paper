{
 "cells": [
  {
   "cell_type": "markdown",
   "metadata": {},
   "source": [
    "# Plot the model schematic of dvv components\n",
    "\n",
    "In this notebook we plot the model schematics to compose the model formula used in MCMC inversion.\n",
    "\n",
    "2022.05.06 Kurama Okubo\n"
   ]
  },
  {
   "cell_type": "code",
   "execution_count": 1,
   "metadata": {},
   "outputs": [],
   "source": [
    "import numpy as np\n",
    "import pandas as pd\n",
    "import matplotlib.pyplot as plt\n",
    "import datetime\n",
    "import time\n",
    "import pickle\n",
    "import h5py\n",
    "import emcee # MCMC sampler\n",
    "import corner\n",
    "import copy\n",
    "\n",
    "%matplotlib inline\n",
    "\n",
    "# modules used for Low level callback function duting integration\n",
    "import os, ctypes\n",
    "from scipy import integrate, LowLevelCallable\n",
    "import matplotlib.dates as dates\n",
    "from matplotlib.gridspec import GridSpec\n",
    "\n",
    "plt.rcParams[\"font.family\"] = 'Arial'\n",
    "# plt.rcParams[\"font.sans-serif\"] = \"DejaVu Sans, Arial, Helvetica, Lucida Grande, Verdana, Geneva, Lucid, Avant Garde, sans-serif\"\n",
    "plt.rcParams[\"font.size\"] = 12\n",
    "plt.rcParams[\"xtick.direction\"] = \"in\"\n",
    "plt.rcParams[\"xtick.major.size\"] = 5\n",
    "plt.rcParams[\"xtick.major.width\"] = 0.5\n",
    "plt.rcParams[\"xtick.minor.size\"] = 2\n",
    "plt.rcParams[\"xtick.minor.width\"] = 1\n",
    "plt.rcParams[\"xtick.minor.visible\"] = False # True\n",
    "\n",
    "\n",
    "plt.rcParams[\"ytick.direction\"] = \"in\"\n",
    "plt.rcParams[\"ytick.major.size\"] = 5\n",
    "plt.rcParams[\"ytick.major.width\"] = 0.5\n",
    "plt.rcParams[\"ytick.minor.size\"] = 2\n",
    "plt.rcParams[\"ytick.minor.width\"] = 1\n",
    "plt.rcParams[\"ytick.minor.visible\"] = True\n",
    "\n",
    "os.environ['TZ'] = 'GMT' # change time zone to avoid confusion in unix_tvec conversion"
   ]
  },
  {
   "cell_type": "code",
   "execution_count": 2,
   "metadata": {},
   "outputs": [],
   "source": [
    "output_imgdir = \"./\""
   ]
  },
  {
   "cell_type": "markdown",
   "metadata": {},
   "source": [
    "# Read precipitation and temperature"
   ]
  },
  {
   "cell_type": "code",
   "execution_count": 3,
   "metadata": {},
   "outputs": [],
   "source": [
    "df_preciptemp = pd.read_csv(\"../../Post/ModelFit/data/interped_tempandprecip_longterm.csv\", index_col=0)"
   ]
  },
  {
   "cell_type": "code",
   "execution_count": 4,
   "metadata": {},
   "outputs": [],
   "source": [
    "df_preciptemp.loc[:, \"tvec\"] = pd.to_datetime(df_preciptemp[\"t\"])"
   ]
  },
  {
   "cell_type": "code",
   "execution_count": 5,
   "metadata": {},
   "outputs": [],
   "source": [
    "starttime = datetime.datetime(2002, 1, 1)\n",
    "endtime = datetime.datetime(2022, 6, 1)\n",
    "\n",
    "df_preciptemp_filt = df_preciptemp[(df_preciptemp[\"tvec\"] > starttime) & (df_preciptemp[\"tvec\"] <  endtime)]"
   ]
  },
  {
   "cell_type": "code",
   "execution_count": 6,
   "metadata": {},
   "outputs": [
    {
     "data": {
      "text/html": [
       "<div>\n",
       "<style scoped>\n",
       "    .dataframe tbody tr th:only-of-type {\n",
       "        vertical-align: middle;\n",
       "    }\n",
       "\n",
       "    .dataframe tbody tr th {\n",
       "        vertical-align: top;\n",
       "    }\n",
       "\n",
       "    .dataframe thead th {\n",
       "        text-align: right;\n",
       "    }\n",
       "</style>\n",
       "<table border=\"1\" class=\"dataframe\">\n",
       "  <thead>\n",
       "    <tr style=\"text-align: right;\">\n",
       "      <th></th>\n",
       "      <th>t</th>\n",
       "      <th>CAVG</th>\n",
       "      <th>precip</th>\n",
       "      <th>tvec</th>\n",
       "    </tr>\n",
       "  </thead>\n",
       "  <tbody>\n",
       "    <tr>\n",
       "      <th>24</th>\n",
       "      <td>2002-01-16</td>\n",
       "      <td>-11.288114</td>\n",
       "      <td>11.393355</td>\n",
       "      <td>2002-01-16</td>\n",
       "    </tr>\n",
       "    <tr>\n",
       "      <th>25</th>\n",
       "      <td>2002-01-31</td>\n",
       "      <td>-11.496464</td>\n",
       "      <td>7.093677</td>\n",
       "      <td>2002-01-31</td>\n",
       "    </tr>\n",
       "    <tr>\n",
       "      <th>26</th>\n",
       "      <td>2002-02-15</td>\n",
       "      <td>-5.984877</td>\n",
       "      <td>2.794000</td>\n",
       "      <td>2002-02-15</td>\n",
       "    </tr>\n",
       "    <tr>\n",
       "      <th>27</th>\n",
       "      <td>2002-03-02</td>\n",
       "      <td>-4.825483</td>\n",
       "      <td>8.781143</td>\n",
       "      <td>2002-03-02</td>\n",
       "    </tr>\n",
       "    <tr>\n",
       "      <th>28</th>\n",
       "      <td>2002-03-17</td>\n",
       "      <td>-8.167028</td>\n",
       "      <td>13.199806</td>\n",
       "      <td>2002-03-17</td>\n",
       "    </tr>\n",
       "    <tr>\n",
       "      <th>...</th>\n",
       "      <td>...</td>\n",
       "      <td>...</td>\n",
       "      <td>...</td>\n",
       "      <td>...</td>\n",
       "    </tr>\n",
       "    <tr>\n",
       "      <th>516</th>\n",
       "      <td>2022-04-01</td>\n",
       "      <td>-0.224827</td>\n",
       "      <td>17.746323</td>\n",
       "      <td>2022-04-01</td>\n",
       "    </tr>\n",
       "    <tr>\n",
       "      <th>517</th>\n",
       "      <td>2022-04-16</td>\n",
       "      <td>-0.717417</td>\n",
       "      <td>5.401733</td>\n",
       "      <td>2022-04-16</td>\n",
       "    </tr>\n",
       "    <tr>\n",
       "      <th>518</th>\n",
       "      <td>2022-05-01</td>\n",
       "      <td>0.138853</td>\n",
       "      <td>2.607733</td>\n",
       "      <td>2022-05-01</td>\n",
       "    </tr>\n",
       "    <tr>\n",
       "      <th>519</th>\n",
       "      <td>2022-05-16</td>\n",
       "      <td>0.424987</td>\n",
       "      <td>0.000000</td>\n",
       "      <td>2022-05-16</td>\n",
       "    </tr>\n",
       "    <tr>\n",
       "      <th>520</th>\n",
       "      <td>2022-05-31</td>\n",
       "      <td>0.390319</td>\n",
       "      <td>0.000000</td>\n",
       "      <td>2022-05-31</td>\n",
       "    </tr>\n",
       "  </tbody>\n",
       "</table>\n",
       "<p>497 rows × 4 columns</p>\n",
       "</div>"
      ],
      "text/plain": [
       "              t       CAVG     precip       tvec\n",
       "24   2002-01-16 -11.288114  11.393355 2002-01-16\n",
       "25   2002-01-31 -11.496464   7.093677 2002-01-31\n",
       "26   2002-02-15  -5.984877   2.794000 2002-02-15\n",
       "27   2002-03-02  -4.825483   8.781143 2002-03-02\n",
       "28   2002-03-17  -8.167028  13.199806 2002-03-17\n",
       "..          ...        ...        ...        ...\n",
       "516  2022-04-01  -0.224827  17.746323 2022-04-01\n",
       "517  2022-04-16  -0.717417   5.401733 2022-04-16\n",
       "518  2022-05-01   0.138853   2.607733 2022-05-01\n",
       "519  2022-05-16   0.424987   0.000000 2022-05-16\n",
       "520  2022-05-31   0.390319   0.000000 2022-05-31\n",
       "\n",
       "[497 rows x 4 columns]"
      ]
     },
     "execution_count": 6,
     "metadata": {},
     "output_type": "execute_result"
    }
   ],
   "source": [
    "df_preciptemp_filt"
   ]
  },
  {
   "cell_type": "markdown",
   "metadata": {},
   "source": [
    "# log healing model"
   ]
  },
  {
   "cell_type": "code",
   "execution_count": 7,
   "metadata": {},
   "outputs": [],
   "source": [
    "# make time vector\n",
    "date_range_st = starttime + datetime.timedelta(days=15) # stack central date\n",
    "uniformdates = pd.date_range(start=date_range_st, end=endtime, freq='15D')\n",
    "uniform_tvec = uniformdates.date\n",
    "\n",
    "# timing of event\n",
    "\n",
    "tSS = datetime.datetime(2003, 12, 22)\n",
    "unix_tSS = (tSS - pd.Timestamp(\"1970-01-01\")) // pd.Timedelta('1s') # origin of time\n",
    "\n",
    "tPF = datetime.datetime(2004, 9, 28)\n",
    "unix_tPF = (tPF - pd.Timestamp(\"1970-01-01\")) // pd.Timedelta('1s') # origin of time\n",
    "\n",
    "unix_tvec = np.array([x.timestamp() for x in pd.to_datetime(uniformdates.date)])"
   ]
  },
  {
   "cell_type": "code",
   "execution_count": 8,
   "metadata": {},
   "outputs": [],
   "source": [
    "# Functions to compute logarithmic healing model in Snieder et al. 2017\n",
    "def int1(tau, t):\n",
    "    return (1/tau) * np.exp(-t/tau)\n",
    "\n",
    "def logheal(ts, S, taumin, taumax):\n",
    "#     taumin = 0.1 # fix taumin so that healing starts just after incident\n",
    "    return -S*integrate.quad(int1, taumin, taumax, args=(ts))[0]\n",
    "    \n",
    "def y1(t, S, taumin, taumax, unix_tEV):\n",
    "    '''compute time series of log hearling'''\n",
    "    if t < unix_tEV:\n",
    "        return 0\n",
    "    else:\n",
    "        # compute logheal model\n",
    "        return logheal(t-unix_tEV, S, taumin, taumax)"
   ]
  },
  {
   "cell_type": "code",
   "execution_count": 9,
   "metadata": {},
   "outputs": [],
   "source": [
    "S1 = 0.006\n",
    "S2 = 0.03\n",
    "tmin1 = 10**4.903 #[s]\n",
    "tmax1 = 10*86400*365 #[s]\n",
    "tmin2 = 10**6.993 #[s]\n",
    "tmax2 = 10*86400*365 #[s]\n",
    "\n",
    "y_SS = [y1(t, S1, tmin1, tmax1, unix_tSS) for t in unix_tvec]\n",
    "y_PF = [y1(t, S2, tmin2, tmax2, unix_tPF) for t in unix_tvec]"
   ]
  },
  {
   "cell_type": "markdown",
   "metadata": {},
   "source": [
    "# compute linear term and residual healing"
   ]
  },
  {
   "cell_type": "code",
   "execution_count": 10,
   "metadata": {},
   "outputs": [],
   "source": [
    "#4. ---Linear trend---#\n",
    "def compute_lineartrend(tvec, b):\n",
    "    \"\"\"\n",
    "    return linear trend with the slope of b, whose unit is [1/day].\n",
    "    \"\"\"\n",
    "    return b * (tvec-tvec[0])/86400 # [1/day]\n",
    "\n",
    "#5. ---residual healing---#\n",
    "def resheal_heaviside(t, unix_tEV):\n",
    "    if t < unix_tEV:\n",
    "        return 1\n",
    "    else:\n",
    "        return 0\n",
    "\n",
    "def compute_residualhealing(tvec, c, unix_tSS):\n",
    "    \"\"\"\n",
    "    return the residual healing before the event: cH(tev - t)\n",
    "    \"\"\"\n",
    "    return [c * resheal_heaviside(t, unix_tSS) for t in tvec]"
   ]
  },
  {
   "cell_type": "code",
   "execution_count": 11,
   "metadata": {},
   "outputs": [],
   "source": [
    "b_lin = 6e-6\n",
    "c = -0.02\n",
    "y_lintrend = compute_lineartrend(unix_tvec, b_lin)\n",
    "y_resheal = compute_residualhealing(unix_tvec, c, unix_tSS)\n"
   ]
  },
  {
   "cell_type": "markdown",
   "metadata": {},
   "source": [
    "# Plot master"
   ]
  },
  {
   "cell_type": "code",
   "execution_count": 12,
   "metadata": {},
   "outputs": [
    {
     "data": {
      "image/png": "[encoded data removed]",
      "text/plain": [
       "<Figure size 400x600 with 5 Axes>"
      ]
     },
     "metadata": {},
     "output_type": "display_data"
    }
   ],
   "source": [
    "fig, axs = plt.subplots(5, 1, figsize=(4, 6), sharex=True)\n",
    "lw = 1\n",
    "# precipitation\n",
    "axs[0].plot(uniform_tvec, df_preciptemp_filt[\"precip\"], \"-\", c=\"k\", lw=lw)\n",
    "# temperature\n",
    "\n",
    "axs[1].plot(uniform_tvec, df_preciptemp_filt[\"CAVG\"], \"-\", c=\"k\", lw=lw)\n",
    "\n",
    "# logheal\n",
    "axs[2].plot(uniform_tvec, y_SS, \"-\", c=\"k\", lw=lw)\n",
    "axs[2].plot(uniform_tvec, y_PF, \"-\", c=\"r\", lw=lw)\n",
    "axs[2].set_ylim([-0.12, 0.05])\n",
    "\n",
    "# linear trend\n",
    "axs[3].plot(uniform_tvec, y_lintrend, \"-\", c=\"k\", lw=lw)\n",
    "axs[3].set_ylim([-0.12, 0.05])\n",
    "\n",
    "# residual healing\n",
    "axs[4].plot(uniform_tvec, y_resheal, \"-\", c=\"k\", lw=lw)\n",
    "axs[4].set_ylim([-0.12, 0.05])\n",
    "\n",
    "\n",
    "axs[0].set_xlim([datetime.datetime(2002, 1,1), datetime.datetime(2022, 6,1)])\n",
    "\n",
    "for i in range(5):\n",
    "    axs[i].set_axis_off()\n",
    "\n",
    "    \n",
    "plt.tight_layout()\n",
    "plt.savefig(output_imgdir+\"/modelschematic_dvv.png\", format=\"png\", dpi=150)\n",
    "plt.savefig(output_imgdir+\"/modelschematic_dvv.eps\", format=\"eps\")\n"
   ]
  },
  {
   "cell_type": "code",
   "execution_count": 13,
   "metadata": {},
   "outputs": [
    {
     "data": {
      "text/plain": [
       "[<matplotlib.lines.Line2D at 0x7fe678c87fd0>]"
      ]
     },
     "execution_count": 13,
     "metadata": {},
     "output_type": "execute_result"
    },
    {
     "data": {
      "image/png": "[encoded data removed]",
      "text/plain": [
       "<Figure size 640x480 with 1 Axes>"
      ]
     },
     "metadata": {},
     "output_type": "display_data"
    }
   ],
   "source": [
    "plt.plot(uniform_tvec, np.array(y_SS)+np.array(y_PF)+np.array(y_resheal))"
   ]
  },
  {
   "cell_type": "code",
   "execution_count": null,
   "metadata": {},
   "outputs": [],
   "source": []
  }
 ],
 "metadata": {
  "kernelspec": {
   "display_name": "Python 3 (ipykernel)",
   "language": "python",
   "name": "python3"
  },
  "language_info": {
   "codemirror_mode": {
    "name": "ipython",
    "version": 3
   },
   "file_extension": ".py",
   "mimetype": "text/x-python",
   "name": "python",
   "nbconvert_exporter": "python",
   "pygments_lexer": "ipython3",
   "version": "3.8.12"
  }
 },
 "nbformat": 4,
 "nbformat_minor": 4
}
