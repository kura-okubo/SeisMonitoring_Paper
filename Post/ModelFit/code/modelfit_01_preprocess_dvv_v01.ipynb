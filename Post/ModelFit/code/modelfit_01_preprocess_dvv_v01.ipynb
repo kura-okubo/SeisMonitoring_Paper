{
 "cells": [
  {
   "cell_type": "markdown",
   "metadata": {},
   "source": [
    "# Preprocessing dv/v for model fitting\n",
    "2022.11.01 Kurama OKUBO\n",
    "\n",
    "This notebook convert the output of dv/v in csv format from the `SeisMonitoring.smstats_read` to the .h5 dataset with preprocessing such as the channel weighting and the thresholding with correlation coefficient. The h5 dataset is used to estimate the model parameters using MCMC algorithm.\n",
    "\n",
    "NOTE: For mwcs, we correct sign and magnitude of dvv ((-1) * 100) [\\%] to synchronize with the result of stretching.\n",
    "SeisDvv.MWCS() outputs the dt/T in fraction [-]."
   ]
  },
  {
   "cell_type": "code",
   "execution_count": 35,
   "metadata": {},
   "outputs": [],
   "source": [
    "import datetime\n",
    "import time\n",
    "\n",
    "import os\n",
    "\n",
    "import matplotlib\n",
    "import matplotlib.pyplot as plt\n",
    "import matplotlib.dates as dates\n",
    "import matplotlib.dates as mdates\n",
    "%matplotlib inline\n",
    "\n",
    "import numpy as np\n",
    "import pandas as pd\n",
    "\n",
    "import shutil\n",
    "from tqdm import tqdm\n",
    "\n",
    "os.environ['TZ'] = 'GMT' # change time zone to avoid confusion in unix_tvec conversion\n",
    "\n",
    "plt.rcParams[\"font.family\"] = \"Arial\"\n",
    "plt.rcParams[\"font.size\"] = 12"
   ]
  },
  {
   "cell_type": "code",
   "execution_count": 36,
   "metadata": {},
   "outputs": [],
   "source": [
    "rootdir = \"../data\"\n",
    "csv_stats_names = [\"monitoring_stats_uwbackup_2010-2022_stretching.csv\", \"monitoring_stats_uwbackup_2010-2022_mwcs.csv\"]\n",
    "\n",
    "csv_stats_list = [os.path.join(rootdir, x) for x in csv_stats_names]"
   ]
  },
  {
   "cell_type": "code",
   "execution_count": 37,
   "metadata": {},
   "outputs": [],
   "source": [
    "#---set the file path of your case study list---#\n",
    "csv_stats_id = 1\n",
    "\n",
    "starttime = datetime.datetime(2002, 1, 1)\n",
    "endtime = datetime.datetime(2022, 6, 1)\n",
    "\n",
    "fitting_starttime = datetime.datetime(2002, 1, 1)#datetime.datetime(2008, 1, 1)\n",
    "fitting_endtime = datetime.datetime(2022, 6, 1)#datetime.datetime(2018, 1, 1) # datetime.datetime(2013, 1, 1)\n",
    "\n",
    "vlines = [datetime.datetime(2003, 12, 12), datetime.datetime(2004, 9, 28)] \n",
    "\n",
    "cc_time_unit=86400 # short-stacking time unit\n",
    "averagestack_factor=30 # length of time bin to compute mean and std\n",
    "averagestack_step=15\n",
    "\n",
    "cc_threshold = 0.7 # threshold of correlation coefficient\n",
    "err_mwcs_eps= 2e-4#0.5-0.9: 0.005  #[%]\n",
    "\n",
    "dvv_eps=1.0 #[%] threshold for maximum dv/v value; this is arbitrarily chosen to remove too large dv/v values\n",
    "\n",
    "freqid = 2 # id of frequency band: 1-4: see the block of freqbands: [0: '0.2-0.5', 1:'0.5-0.9', 2:'0.9-1.2', 3:'1.2-2.10']\n",
    "\n",
    "output_imgdir = \"../figure\"\n",
    "output_datadir = \"../processed_data\"\n",
    "image_format=\"png\"\n",
    "dpi = 150\n",
    "show=True\n",
    "#-------------------------------------------#\n",
    "\n",
    "if not os.path.exists(output_imgdir):\n",
    "    os.makedirs(output_imgdir)\n",
    "    \n",
    "if not os.path.exists(output_datadir):\n",
    "    os.makedirs(output_datadir)"
   ]
  },
  {
   "cell_type": "code",
   "execution_count": 38,
   "metadata": {},
   "outputs": [],
   "source": [
    "csv_stats = csv_stats_list[csv_stats_id]\n",
    "dvvmethod = os.path.basename(csv_stats).split(\".csv\")[0].split(\"_\")[-1]"
   ]
  },
  {
   "cell_type": "code",
   "execution_count": 39,
   "metadata": {},
   "outputs": [
    {
     "data": {
      "text/plain": [
       "datetime.datetime(2002, 1, 16, 0, 0)"
      ]
     },
     "execution_count": 39,
     "metadata": {},
     "output_type": "execute_result"
    }
   ],
   "source": [
    "# make uniform time vector\n",
    "st_center = (averagestack_factor*cc_time_unit/86400)/2\n",
    "date_range_st = starttime + datetime.timedelta(days=st_center) # day\n",
    "date_range_st"
   ]
  },
  {
   "cell_type": "code",
   "execution_count": 40,
   "metadata": {},
   "outputs": [
    {
     "data": {
      "text/plain": [
       "'15D'"
      ]
     },
     "execution_count": 40,
     "metadata": {},
     "output_type": "execute_result"
    }
   ],
   "source": [
    "datefreq = '%dD'%(averagestack_step*cc_time_unit/86400)\n",
    "datefreq"
   ]
  },
  {
   "cell_type": "code",
   "execution_count": 41,
   "metadata": {},
   "outputs": [],
   "source": [
    "uniformdates = pd.date_range(start=date_range_st, end=endtime, freq=datefreq)"
   ]
  },
  {
   "cell_type": "code",
   "execution_count": 42,
   "metadata": {},
   "outputs": [],
   "source": [
    "uniform_tvec = uniformdates.date"
   ]
  },
  {
   "cell_type": "code",
   "execution_count": 43,
   "metadata": {},
   "outputs": [
    {
     "data": {
      "text/plain": [
       "array(['0.2-0.5', '0.5-0.9', '0.9-1.2', '1.2-2.0'], dtype=object)"
      ]
     },
     "execution_count": 43,
     "metadata": {},
     "output_type": "execute_result"
    }
   ],
   "source": [
    "df_origin=pd.read_csv(csv_stats, dtype=str, comment='#')\n",
    "\n",
    "#scan frequency band\n",
    "freqbands = np.unique(df_origin.freqband) #freqid is corresponding to the index of this band\n",
    "freqbands"
   ]
  },
  {
   "cell_type": "code",
   "execution_count": 44,
   "metadata": {},
   "outputs": [],
   "source": [
    "# set dtype\n",
    "df_origin['date'] = pd.to_datetime(df_origin['date'], format=\"%Y-%m-%dT%H:%M:%S.%f\")\n",
    "\n",
    "if dvvmethod==\"stretching\":\n",
    "    df_origin['cc_dvv'] = df_origin['cc_ts'].astype(float)\n",
    "    df_origin['dvv'] = df_origin['dvv_ts'].astype(float)\n",
    "    df_origin['err'] = df_origin['err_ts'].astype(float)\n",
    "\n",
    "elif dvvmethod==\"mwcs\":\n",
    "    \"\"\"\n",
    "    We chose dvv_mwcs here, but you can also use dvv0_mwcs, which impose crossing at zero.\n",
    "    \"\"\"\n",
    "    df_origin['dvv'] = (-1) * 100 * df_origin['dvv_mwcs'].astype(float) # convert the unit to [%]\n",
    "    df_origin['err'] =  100 * df_origin['dvv_err_mwcs'].astype(float)\n",
    "\n",
    "    \n",
    "elif dvvmethod==\"codaQ\":\n",
    "    df_origin['cc_dvv'] = df_origin['cc_dvv'].astype(float)\n",
    "    df_origin['dvv'] = df_origin['dvv'].astype(float)"
   ]
  },
  {
   "cell_type": "code",
   "execution_count": 45,
   "metadata": {},
   "outputs": [
    {
     "data": {
      "text/html": [
       "<div>\n",
       "<style scoped>\n",
       "    .dataframe tbody tr th:only-of-type {\n",
       "        vertical-align: middle;\n",
       "    }\n",
       "\n",
       "    .dataframe tbody tr th {\n",
       "        vertical-align: top;\n",
       "    }\n",
       "\n",
       "    .dataframe thead th {\n",
       "        text-align: right;\n",
       "    }\n",
       "</style>\n",
       "<table border=\"1\" class=\"dataframe\">\n",
       "  <thead>\n",
       "    <tr style=\"text-align: right;\">\n",
       "      <th></th>\n",
       "      <th>date</th>\n",
       "      <th>stationpair</th>\n",
       "      <th>networks</th>\n",
       "      <th>components</th>\n",
       "      <th>freqband</th>\n",
       "      <th>dvv_mwcs</th>\n",
       "      <th>dvv0_mwcs</th>\n",
       "      <th>dvv_err_mwcs</th>\n",
       "      <th>dvv0_err_mwcs</th>\n",
       "      <th>dvv</th>\n",
       "      <th>err</th>\n",
       "    </tr>\n",
       "  </thead>\n",
       "  <tbody>\n",
       "    <tr>\n",
       "      <th>0</th>\n",
       "      <td>2002-05-16</td>\n",
       "      <td>BP.CCRB-BP.CCRB</td>\n",
       "      <td>BP-BP</td>\n",
       "      <td>11</td>\n",
       "      <td>0.2-0.5</td>\n",
       "      <td>-0.004202141111779931</td>\n",
       "      <td>-0.004202141593014656</td>\n",
       "      <td>1.6032154558632516e-5</td>\n",
       "      <td>1.6032122251148442e-5</td>\n",
       "      <td>0.420214</td>\n",
       "      <td>1.603215e-03</td>\n",
       "    </tr>\n",
       "    <tr>\n",
       "      <th>1</th>\n",
       "      <td>2002-05-16</td>\n",
       "      <td>BP.CCRB-BP.CCRB</td>\n",
       "      <td>BP-BP</td>\n",
       "      <td>11</td>\n",
       "      <td>0.5-0.9</td>\n",
       "      <td>0.00047500200217747617</td>\n",
       "      <td>0.0004782995489394368</td>\n",
       "      <td>3.0225200979495056e-7</td>\n",
       "      <td>3.0150154930237515e-7</td>\n",
       "      <td>-0.047500</td>\n",
       "      <td>3.022520e-05</td>\n",
       "    </tr>\n",
       "    <tr>\n",
       "      <th>2</th>\n",
       "      <td>2002-05-16</td>\n",
       "      <td>BP.CCRB-BP.CCRB</td>\n",
       "      <td>BP-BP</td>\n",
       "      <td>11</td>\n",
       "      <td>0.9-1.2</td>\n",
       "      <td>-0.0002544209653618679</td>\n",
       "      <td>-0.0004092988735225027</td>\n",
       "      <td>1.1636108854185343e-7</td>\n",
       "      <td>9.664286489118059e-8</td>\n",
       "      <td>0.025442</td>\n",
       "      <td>1.163611e-05</td>\n",
       "    </tr>\n",
       "    <tr>\n",
       "      <th>3</th>\n",
       "      <td>2002-05-16</td>\n",
       "      <td>BP.CCRB-BP.CCRB</td>\n",
       "      <td>BP-BP</td>\n",
       "      <td>11</td>\n",
       "      <td>1.2-2.0</td>\n",
       "      <td>0.0006919832045516637</td>\n",
       "      <td>0.0005558658183633814</td>\n",
       "      <td>5.89138998774463e-6</td>\n",
       "      <td>5.8684596503249385e-6</td>\n",
       "      <td>-0.069198</td>\n",
       "      <td>5.891390e-04</td>\n",
       "    </tr>\n",
       "    <tr>\n",
       "      <th>4</th>\n",
       "      <td>2002-05-31</td>\n",
       "      <td>BP.CCRB-BP.CCRB</td>\n",
       "      <td>BP-BP</td>\n",
       "      <td>11</td>\n",
       "      <td>0.2-0.5</td>\n",
       "      <td>-3.6065890721532164e-5</td>\n",
       "      <td>-3.2780282152109065e-5</td>\n",
       "      <td>3.1650222320287525e-6</td>\n",
       "      <td>3.1606102277351435e-6</td>\n",
       "      <td>0.003607</td>\n",
       "      <td>3.165022e-04</td>\n",
       "    </tr>\n",
       "    <tr>\n",
       "      <th>...</th>\n",
       "      <td>...</td>\n",
       "      <td>...</td>\n",
       "      <td>...</td>\n",
       "      <td>...</td>\n",
       "      <td>...</td>\n",
       "      <td>...</td>\n",
       "      <td>...</td>\n",
       "      <td>...</td>\n",
       "      <td>...</td>\n",
       "      <td>...</td>\n",
       "      <td>...</td>\n",
       "    </tr>\n",
       "    <tr>\n",
       "      <th>1185964</th>\n",
       "      <td>2022-05-01</td>\n",
       "      <td>BP.VCAB-BP.VCAB</td>\n",
       "      <td>BP-BP</td>\n",
       "      <td>33</td>\n",
       "      <td>1.2-2.0</td>\n",
       "      <td>1.4531688383075603e-5</td>\n",
       "      <td>2.000930308216782e-5</td>\n",
       "      <td>1.2065934948700813e-6</td>\n",
       "      <td>1.2318551809646882e-6</td>\n",
       "      <td>-0.001453</td>\n",
       "      <td>1.206593e-04</td>\n",
       "    </tr>\n",
       "    <tr>\n",
       "      <th>1185965</th>\n",
       "      <td>2022-05-16</td>\n",
       "      <td>BP.VCAB-BP.VCAB</td>\n",
       "      <td>BP-BP</td>\n",
       "      <td>33</td>\n",
       "      <td>0.2-0.5</td>\n",
       "      <td>-0.0012362734646587078</td>\n",
       "      <td>-0.0012362177778117215</td>\n",
       "      <td>5.610137386405975e-7</td>\n",
       "      <td>5.609985691458567e-7</td>\n",
       "      <td>0.123627</td>\n",
       "      <td>5.610137e-05</td>\n",
       "    </tr>\n",
       "    <tr>\n",
       "      <th>1185966</th>\n",
       "      <td>2022-05-16</td>\n",
       "      <td>BP.VCAB-BP.VCAB</td>\n",
       "      <td>BP-BP</td>\n",
       "      <td>33</td>\n",
       "      <td>0.5-0.9</td>\n",
       "      <td>-0.0003348099840670397</td>\n",
       "      <td>-0.0003357173260350196</td>\n",
       "      <td>2.0454088141648332e-7</td>\n",
       "      <td>2.0469418215310668e-7</td>\n",
       "      <td>0.033481</td>\n",
       "      <td>2.045409e-05</td>\n",
       "    </tr>\n",
       "    <tr>\n",
       "      <th>1185967</th>\n",
       "      <td>2022-05-16</td>\n",
       "      <td>BP.VCAB-BP.VCAB</td>\n",
       "      <td>BP-BP</td>\n",
       "      <td>33</td>\n",
       "      <td>0.9-1.2</td>\n",
       "      <td>-0.000554342554326686</td>\n",
       "      <td>-0.0005523833545014369</td>\n",
       "      <td>9.029720716963578e-9</td>\n",
       "      <td>9.492023608816122e-9</td>\n",
       "      <td>0.055434</td>\n",
       "      <td>9.029721e-07</td>\n",
       "    </tr>\n",
       "    <tr>\n",
       "      <th>1185968</th>\n",
       "      <td>2022-05-16</td>\n",
       "      <td>BP.VCAB-BP.VCAB</td>\n",
       "      <td>BP-BP</td>\n",
       "      <td>33</td>\n",
       "      <td>1.2-2.0</td>\n",
       "      <td>-0.00035461196996913936</td>\n",
       "      <td>-0.00038637921983675065</td>\n",
       "      <td>1.270174864939964e-6</td>\n",
       "      <td>1.2980934723238494e-6</td>\n",
       "      <td>0.035461</td>\n",
       "      <td>1.270175e-04</td>\n",
       "    </tr>\n",
       "  </tbody>\n",
       "</table>\n",
       "<p>1185969 rows × 11 columns</p>\n",
       "</div>"
      ],
      "text/plain": [
       "              date      stationpair networks components freqband  \\\n",
       "0       2002-05-16  BP.CCRB-BP.CCRB    BP-BP         11  0.2-0.5   \n",
       "1       2002-05-16  BP.CCRB-BP.CCRB    BP-BP         11  0.5-0.9   \n",
       "2       2002-05-16  BP.CCRB-BP.CCRB    BP-BP         11  0.9-1.2   \n",
       "3       2002-05-16  BP.CCRB-BP.CCRB    BP-BP         11  1.2-2.0   \n",
       "4       2002-05-31  BP.CCRB-BP.CCRB    BP-BP         11  0.2-0.5   \n",
       "...            ...              ...      ...        ...      ...   \n",
       "1185964 2022-05-01  BP.VCAB-BP.VCAB    BP-BP         33  1.2-2.0   \n",
       "1185965 2022-05-16  BP.VCAB-BP.VCAB    BP-BP         33  0.2-0.5   \n",
       "1185966 2022-05-16  BP.VCAB-BP.VCAB    BP-BP         33  0.5-0.9   \n",
       "1185967 2022-05-16  BP.VCAB-BP.VCAB    BP-BP         33  0.9-1.2   \n",
       "1185968 2022-05-16  BP.VCAB-BP.VCAB    BP-BP         33  1.2-2.0   \n",
       "\n",
       "                        dvv_mwcs                dvv0_mwcs  \\\n",
       "0          -0.004202141111779931    -0.004202141593014656   \n",
       "1         0.00047500200217747617    0.0004782995489394368   \n",
       "2         -0.0002544209653618679   -0.0004092988735225027   \n",
       "3          0.0006919832045516637    0.0005558658183633814   \n",
       "4         -3.6065890721532164e-5   -3.2780282152109065e-5   \n",
       "...                          ...                      ...   \n",
       "1185964    1.4531688383075603e-5     2.000930308216782e-5   \n",
       "1185965   -0.0012362734646587078   -0.0012362177778117215   \n",
       "1185966   -0.0003348099840670397   -0.0003357173260350196   \n",
       "1185967    -0.000554342554326686   -0.0005523833545014369   \n",
       "1185968  -0.00035461196996913936  -0.00038637921983675065   \n",
       "\n",
       "                  dvv_err_mwcs          dvv0_err_mwcs       dvv           err  \n",
       "0        1.6032154558632516e-5  1.6032122251148442e-5  0.420214  1.603215e-03  \n",
       "1        3.0225200979495056e-7  3.0150154930237515e-7 -0.047500  3.022520e-05  \n",
       "2        1.1636108854185343e-7   9.664286489118059e-8  0.025442  1.163611e-05  \n",
       "3          5.89138998774463e-6  5.8684596503249385e-6 -0.069198  5.891390e-04  \n",
       "4        3.1650222320287525e-6  3.1606102277351435e-6  0.003607  3.165022e-04  \n",
       "...                        ...                    ...       ...           ...  \n",
       "1185964  1.2065934948700813e-6  1.2318551809646882e-6 -0.001453  1.206593e-04  \n",
       "1185965   5.610137386405975e-7   5.609985691458567e-7  0.123627  5.610137e-05  \n",
       "1185966  2.0454088141648332e-7  2.0469418215310668e-7  0.033481  2.045409e-05  \n",
       "1185967   9.029720716963578e-9   9.492023608816122e-9  0.055434  9.029721e-07  \n",
       "1185968   1.270174864939964e-6  1.2980934723238494e-6  0.035461  1.270175e-04  \n",
       "\n",
       "[1185969 rows x 11 columns]"
      ]
     },
     "execution_count": 45,
     "metadata": {},
     "output_type": "execute_result"
    }
   ],
   "source": [
    "df_origin"
   ]
  },
  {
   "cell_type": "markdown",
   "metadata": {},
   "source": [
    "## Gathering all dvv traces\n",
    "\n",
    "1. filtering by frequency band\n",
    "2. filtering by cc_threshold (stretching) or err_mwcs_eps (mwcs)\n",
    "3. filtering by magnitude of dv/v value\n",
    "4. compose traces"
   ]
  },
  {
   "cell_type": "code",
   "execution_count": 46,
   "metadata": {},
   "outputs": [
    {
     "data": {
      "text/plain": [
       "83"
      ]
     },
     "execution_count": 46,
     "metadata": {},
     "output_type": "execute_result"
    }
   ],
   "source": [
    "# scan station pairs\n",
    "stationpairs_tmp = np.unique(df_origin.stationpair)\n",
    "stationpairs = []\n",
    "stationpairs = stationpairs_tmp\n",
    "len(stationpairs)"
   ]
  },
  {
   "cell_type": "code",
   "execution_count": 47,
   "metadata": {},
   "outputs": [
    {
     "data": {
      "text/html": [
       "<div>\n",
       "<style scoped>\n",
       "    .dataframe tbody tr th:only-of-type {\n",
       "        vertical-align: middle;\n",
       "    }\n",
       "\n",
       "    .dataframe tbody tr th {\n",
       "        vertical-align: top;\n",
       "    }\n",
       "\n",
       "    .dataframe thead th {\n",
       "        text-align: right;\n",
       "    }\n",
       "</style>\n",
       "<table border=\"1\" class=\"dataframe\">\n",
       "  <thead>\n",
       "    <tr style=\"text-align: right;\">\n",
       "      <th></th>\n",
       "      <th>date</th>\n",
       "      <th>stationpair</th>\n",
       "      <th>networks</th>\n",
       "      <th>components</th>\n",
       "      <th>freqband</th>\n",
       "      <th>dvv_mwcs</th>\n",
       "      <th>dvv0_mwcs</th>\n",
       "      <th>dvv_err_mwcs</th>\n",
       "      <th>dvv0_err_mwcs</th>\n",
       "      <th>dvv</th>\n",
       "      <th>err</th>\n",
       "    </tr>\n",
       "  </thead>\n",
       "  <tbody>\n",
       "    <tr>\n",
       "      <th>2</th>\n",
       "      <td>2002-05-16</td>\n",
       "      <td>BP.CCRB-BP.CCRB</td>\n",
       "      <td>BP-BP</td>\n",
       "      <td>11</td>\n",
       "      <td>0.9-1.2</td>\n",
       "      <td>-0.0002544209653618679</td>\n",
       "      <td>-0.0004092988735225027</td>\n",
       "      <td>1.1636108854185343e-7</td>\n",
       "      <td>9.664286489118059e-8</td>\n",
       "      <td>0.025442</td>\n",
       "      <td>1.163611e-05</td>\n",
       "    </tr>\n",
       "    <tr>\n",
       "      <th>6</th>\n",
       "      <td>2002-05-31</td>\n",
       "      <td>BP.CCRB-BP.CCRB</td>\n",
       "      <td>BP-BP</td>\n",
       "      <td>11</td>\n",
       "      <td>0.9-1.2</td>\n",
       "      <td>0.0005553057648868045</td>\n",
       "      <td>0.0005556900137287386</td>\n",
       "      <td>4.0819791196266594e-8</td>\n",
       "      <td>3.168257377340152e-8</td>\n",
       "      <td>-0.055531</td>\n",
       "      <td>4.081979e-06</td>\n",
       "    </tr>\n",
       "    <tr>\n",
       "      <th>10</th>\n",
       "      <td>2002-06-15</td>\n",
       "      <td>BP.CCRB-BP.CCRB</td>\n",
       "      <td>BP-BP</td>\n",
       "      <td>11</td>\n",
       "      <td>0.9-1.2</td>\n",
       "      <td>0.0004077407253074981</td>\n",
       "      <td>0.0003565578479121071</td>\n",
       "      <td>2.459604519283731e-7</td>\n",
       "      <td>2.448343555285166e-7</td>\n",
       "      <td>-0.040774</td>\n",
       "      <td>2.459605e-05</td>\n",
       "    </tr>\n",
       "    <tr>\n",
       "      <th>14</th>\n",
       "      <td>2002-06-30</td>\n",
       "      <td>BP.CCRB-BP.CCRB</td>\n",
       "      <td>BP-BP</td>\n",
       "      <td>11</td>\n",
       "      <td>0.9-1.2</td>\n",
       "      <td>0.0008033238364549144</td>\n",
       "      <td>0.0007664050835908808</td>\n",
       "      <td>5.4710066262274567e-8</td>\n",
       "      <td>4.8037916379927665e-8</td>\n",
       "      <td>-0.080332</td>\n",
       "      <td>5.471007e-06</td>\n",
       "    </tr>\n",
       "    <tr>\n",
       "      <th>18</th>\n",
       "      <td>2002-07-15</td>\n",
       "      <td>BP.CCRB-BP.CCRB</td>\n",
       "      <td>BP-BP</td>\n",
       "      <td>11</td>\n",
       "      <td>0.9-1.2</td>\n",
       "      <td>-0.00025466726787296327</td>\n",
       "      <td>-0.0003289509168061084</td>\n",
       "      <td>1.2503387489523897e-7</td>\n",
       "      <td>1.09769939253162e-7</td>\n",
       "      <td>0.025467</td>\n",
       "      <td>1.250339e-05</td>\n",
       "    </tr>\n",
       "    <tr>\n",
       "      <th>...</th>\n",
       "      <td>...</td>\n",
       "      <td>...</td>\n",
       "      <td>...</td>\n",
       "      <td>...</td>\n",
       "      <td>...</td>\n",
       "      <td>...</td>\n",
       "      <td>...</td>\n",
       "      <td>...</td>\n",
       "      <td>...</td>\n",
       "      <td>...</td>\n",
       "      <td>...</td>\n",
       "    </tr>\n",
       "    <tr>\n",
       "      <th>1185951</th>\n",
       "      <td>2022-03-17</td>\n",
       "      <td>BP.VCAB-BP.VCAB</td>\n",
       "      <td>BP-BP</td>\n",
       "      <td>33</td>\n",
       "      <td>0.9-1.2</td>\n",
       "      <td>-0.0007905161721334302</td>\n",
       "      <td>-0.0008038270922682966</td>\n",
       "      <td>2.9581953562445462e-8</td>\n",
       "      <td>3.0605954503067057e-8</td>\n",
       "      <td>0.079052</td>\n",
       "      <td>2.958195e-06</td>\n",
       "    </tr>\n",
       "    <tr>\n",
       "      <th>1185955</th>\n",
       "      <td>2022-04-01</td>\n",
       "      <td>BP.VCAB-BP.VCAB</td>\n",
       "      <td>BP-BP</td>\n",
       "      <td>33</td>\n",
       "      <td>0.9-1.2</td>\n",
       "      <td>-0.00042989559476979805</td>\n",
       "      <td>-0.0004292420700437686</td>\n",
       "      <td>6.834142768973619e-8</td>\n",
       "      <td>6.85494271828339e-8</td>\n",
       "      <td>0.042990</td>\n",
       "      <td>6.834143e-06</td>\n",
       "    </tr>\n",
       "    <tr>\n",
       "      <th>1185959</th>\n",
       "      <td>2022-04-16</td>\n",
       "      <td>BP.VCAB-BP.VCAB</td>\n",
       "      <td>BP-BP</td>\n",
       "      <td>33</td>\n",
       "      <td>0.9-1.2</td>\n",
       "      <td>-0.0008050337984601422</td>\n",
       "      <td>-0.001340689525286779</td>\n",
       "      <td>5.06832491479942e-8</td>\n",
       "      <td>6.707411882871631e-8</td>\n",
       "      <td>0.080503</td>\n",
       "      <td>5.068325e-06</td>\n",
       "    </tr>\n",
       "    <tr>\n",
       "      <th>1185963</th>\n",
       "      <td>2022-05-01</td>\n",
       "      <td>BP.VCAB-BP.VCAB</td>\n",
       "      <td>BP-BP</td>\n",
       "      <td>33</td>\n",
       "      <td>0.9-1.2</td>\n",
       "      <td>-0.0003569850068606812</td>\n",
       "      <td>-0.00035408386447641297</td>\n",
       "      <td>3.572288633087495e-8</td>\n",
       "      <td>3.5463619506924873e-8</td>\n",
       "      <td>0.035699</td>\n",
       "      <td>3.572289e-06</td>\n",
       "    </tr>\n",
       "    <tr>\n",
       "      <th>1185967</th>\n",
       "      <td>2022-05-16</td>\n",
       "      <td>BP.VCAB-BP.VCAB</td>\n",
       "      <td>BP-BP</td>\n",
       "      <td>33</td>\n",
       "      <td>0.9-1.2</td>\n",
       "      <td>-0.000554342554326686</td>\n",
       "      <td>-0.0005523833545014369</td>\n",
       "      <td>9.029720716963578e-9</td>\n",
       "      <td>9.492023608816122e-9</td>\n",
       "      <td>0.055434</td>\n",
       "      <td>9.029721e-07</td>\n",
       "    </tr>\n",
       "  </tbody>\n",
       "</table>\n",
       "<p>183189 rows × 11 columns</p>\n",
       "</div>"
      ],
      "text/plain": [
       "              date      stationpair networks components freqband  \\\n",
       "2       2002-05-16  BP.CCRB-BP.CCRB    BP-BP         11  0.9-1.2   \n",
       "6       2002-05-31  BP.CCRB-BP.CCRB    BP-BP         11  0.9-1.2   \n",
       "10      2002-06-15  BP.CCRB-BP.CCRB    BP-BP         11  0.9-1.2   \n",
       "14      2002-06-30  BP.CCRB-BP.CCRB    BP-BP         11  0.9-1.2   \n",
       "18      2002-07-15  BP.CCRB-BP.CCRB    BP-BP         11  0.9-1.2   \n",
       "...            ...              ...      ...        ...      ...   \n",
       "1185951 2022-03-17  BP.VCAB-BP.VCAB    BP-BP         33  0.9-1.2   \n",
       "1185955 2022-04-01  BP.VCAB-BP.VCAB    BP-BP         33  0.9-1.2   \n",
       "1185959 2022-04-16  BP.VCAB-BP.VCAB    BP-BP         33  0.9-1.2   \n",
       "1185963 2022-05-01  BP.VCAB-BP.VCAB    BP-BP         33  0.9-1.2   \n",
       "1185967 2022-05-16  BP.VCAB-BP.VCAB    BP-BP         33  0.9-1.2   \n",
       "\n",
       "                        dvv_mwcs                dvv0_mwcs  \\\n",
       "2         -0.0002544209653618679   -0.0004092988735225027   \n",
       "6          0.0005553057648868045    0.0005556900137287386   \n",
       "10         0.0004077407253074981    0.0003565578479121071   \n",
       "14         0.0008033238364549144    0.0007664050835908808   \n",
       "18       -0.00025466726787296327   -0.0003289509168061084   \n",
       "...                          ...                      ...   \n",
       "1185951   -0.0007905161721334302   -0.0008038270922682966   \n",
       "1185955  -0.00042989559476979805   -0.0004292420700437686   \n",
       "1185959   -0.0008050337984601422    -0.001340689525286779   \n",
       "1185963   -0.0003569850068606812  -0.00035408386447641297   \n",
       "1185967    -0.000554342554326686   -0.0005523833545014369   \n",
       "\n",
       "                  dvv_err_mwcs          dvv0_err_mwcs       dvv           err  \n",
       "2        1.1636108854185343e-7   9.664286489118059e-8  0.025442  1.163611e-05  \n",
       "6        4.0819791196266594e-8   3.168257377340152e-8 -0.055531  4.081979e-06  \n",
       "10        2.459604519283731e-7   2.448343555285166e-7 -0.040774  2.459605e-05  \n",
       "14       5.4710066262274567e-8  4.8037916379927665e-8 -0.080332  5.471007e-06  \n",
       "18       1.2503387489523897e-7    1.09769939253162e-7  0.025467  1.250339e-05  \n",
       "...                        ...                    ...       ...           ...  \n",
       "1185951  2.9581953562445462e-8  3.0605954503067057e-8  0.079052  2.958195e-06  \n",
       "1185955   6.834142768973619e-8    6.85494271828339e-8  0.042990  6.834143e-06  \n",
       "1185959    5.06832491479942e-8   6.707411882871631e-8  0.080503  5.068325e-06  \n",
       "1185963   3.572288633087495e-8  3.5463619506924873e-8  0.035699  3.572289e-06  \n",
       "1185967   9.029720716963578e-9   9.492023608816122e-9  0.055434  9.029721e-07  \n",
       "\n",
       "[183189 rows x 11 columns]"
      ]
     },
     "execution_count": 47,
     "metadata": {},
     "output_type": "execute_result"
    }
   ],
   "source": [
    "# set frequency band\n",
    "freqband = freqbands[freqid] #3, 5\n",
    "\n",
    "# set components list\n",
    "components_list = np.unique(df_origin.components)\n",
    "# components_list = ['11', '22', '33', '12', '13', '23']\n",
    "\n",
    "# Figure output directory\n",
    "figdir = output_imgdir+\"/alldvv_%s\"%freqband\n",
    "os.makedirs(figdir, exist_ok=True)\n",
    "\n",
    "# filter by frequency band\n",
    "df_freq = df_origin[df_origin.freqband==freqband]\n",
    "\n",
    "# filter by cc_threshold \n",
    "if dvvmethod==\"stretching\":\n",
    "    df_threshold = df_freq[df_freq.cc_dvv > cc_threshold]\n",
    "    # filter by its magnitude\n",
    "#     df_threshold=df_threshold[np.abs(df_threshold['dvv']) <  dvv_eps]\n",
    "\n",
    "elif dvvmethod==\"mwcs\":\n",
    "    df_threshold = df_freq[df_freq.err < err_mwcs_eps]\n",
    "    # filter by its magnitude\n",
    "#     df_threshold=df_threshold[np.abs(df_threshold['dvv']) <  0.01*dvv_eps]\n",
    "\n",
    "elif dvvmethod==\"codaQ\":\n",
    "    df_threshold = df_freq[df_freq.cc_dvv > cc_threshold]\n",
    "    # filter by its magnitude\n",
    "#     df_threshold=df_threshold[np.abs(df_threshold['dvv']) <  dvv_eps]\n",
    "\n",
    "df_threshold"
   ]
  },
  {
   "cell_type": "code",
   "execution_count": 48,
   "metadata": {},
   "outputs": [
    {
     "data": {
      "text/plain": [
       "<AxesSubplot:xlabel='date', ylabel='[err]'>"
      ]
     },
     "execution_count": 48,
     "metadata": {},
     "output_type": "execute_result"
    },
    {
     "data": {
      "image/png": "[encoded data removed]",
      "text/plain": [
       "<Figure size 432x288 with 1 Axes>"
      ]
     },
     "metadata": {
      "needs_background": "light"
     },
     "output_type": "display_data"
    }
   ],
   "source": [
    "df_threshold.plot.scatter(x=\"date\", y=[\"err\"])"
   ]
  },
  {
   "cell_type": "markdown",
   "metadata": {},
   "source": [
    "# Evaluate asymmetric in dv/v of auto correlation cross-channel\n",
    "\n",
    "As the auto-correlation function of single station is symmetric to the lag time, dv/v with cross-channel (e.g. 12 and 21) should be identical. However, the data in our csv shows small difference between them. This is caused by the asymmetric in interpolation with cubic spline fitting in the case of stretching method. Although the $\\epsilon$ in Stretching.jl is symmetric in the origin, The data point used for fitting is not symmetric (see https://github.com/tclements/SeisDvv.jl/blob/master/src/Stretching.jl). This causes a difference within a grid size of searching dv/v. We also think the cause in the case of mwcs method might be associated with the GLM. \n",
    "\n",
    "Here we show that the difference in dv/v, showing the most pairs are very close, and thus it does not have any effect on our result on dv/v time series."
   ]
  },
  {
   "cell_type": "code",
   "execution_count": 49,
   "metadata": {},
   "outputs": [
    {
     "data": {
      "text/plain": [
       "13"
      ]
     },
     "execution_count": 49,
     "metadata": {},
     "output_type": "execute_result"
    }
   ],
   "source": [
    "# scan station pairs\n",
    "stationpairs_tmp = np.unique(df_origin.stationpair)\n",
    "stationpairs_auto = []\n",
    "for st in stationpairs_tmp:\n",
    "    sta1, sta2 = st.split(\"-\")\n",
    "    if sta1 == sta2:\n",
    "        stationpairs_auto.append(st)\n",
    "\n",
    "len(stationpairs_auto)"
   ]
  },
  {
   "cell_type": "code",
   "execution_count": 50,
   "metadata": {},
   "outputs": [],
   "source": [
    "components_asymmetric = [\"12\", \"13\", \"23\"] # components to be evaluated on the residual to the flipped component"
   ]
  },
  {
   "cell_type": "code",
   "execution_count": 51,
   "metadata": {},
   "outputs": [
    {
     "name": "stderr",
     "output_type": "stream",
     "text": [
      "\r",
      "  0%|                                                    | 0/13 [00:00<?, ?it/s]"
     ]
    },
    {
     "name": "stdout",
     "output_type": "stream",
     "text": [
      "0.00013759985539439932\n",
      "0.00017094714078347804\n",
      "0.00017955312351503755\n"
     ]
    },
    {
     "name": "stderr",
     "output_type": "stream",
     "text": [
      "\r",
      "  8%|███▍                                        | 1/13 [00:00<00:05,  2.05it/s]"
     ]
    },
    {
     "name": "stdout",
     "output_type": "stream",
     "text": [
      "0.00017410371302446718\n",
      "9.56872893502092e-05\n",
      "0.00014718715454192124\n"
     ]
    },
    {
     "name": "stderr",
     "output_type": "stream",
     "text": [
      " 23%|██████████▏                                 | 3/13 [00:01<00:04,  2.42it/s]"
     ]
    },
    {
     "name": "stdout",
     "output_type": "stream",
     "text": [
      "0.0001907037669652189\n",
      "0.00018645782613481624\n",
      "0.00018021651204494754\n",
      "0.00010685186600987362\n",
      "7.474344403437837e-05\n",
      "0.0001984301595859227\n",
      "0.00018055106144773081\n",
      "0.00017516157921655716\n",
      "0.00013774525863122794\n",
      "0.0001437453388074426\n",
      "0.00011021290498262381\n",
      "0.00019933452699443674\n",
      "0.00017490877712894926\n",
      "0.00018281973805691102\n",
      "0.00014695651296439457\n",
      "0.00010506834351787783\n",
      "0.00016114887073109384\n",
      "0.00014564595718652006\n",
      "0.00018198156012209967\n",
      "0.00017071485210485646\n",
      "0.00014361042712002619\n",
      "0.00015381108874272623\n",
      "7.077467357753612e-05\n",
      "0.00014193401158417516\n",
      "0.00016098248952744657\n",
      "0.0001654066626970745\n",
      "0.0001611164973440687\n",
      "0.00011537878986729338\n",
      "0.0001716033155864818\n",
      "0.0001767678583669424\n",
      "8.288880410968775e-05\n",
      "0.00018270579694673305"
     ]
    },
    {
     "name": "stderr",
     "output_type": "stream",
     "text": [
      "\r",
      " 31%|█████████████▌                              | 4/13 [00:01<00:03,  2.86it/s]"
     ]
    },
    {
     "name": "stdout",
     "output_type": "stream",
     "text": [
      "\n",
      "0.000187267545914707\n",
      "9.516279082513341e-05\n",
      "0.00017980164996927433\n",
      "0.0001690680756550387\n",
      "0.00011966166762779001\n",
      "4.7941475800375974e-05\n",
      "0.0001400244856311381\n",
      "0.0001928864931202982\n",
      "0.00018917860443564606\n",
      "0.00019427541224182154\n",
      "0.00010688065455705357\n",
      "0.0001493588096520586\n",
      "0.00014719417779114827\n",
      "0.00010861075099580093\n",
      "0.00010881024400109003\n",
      "0.00010075368559270545\n",
      "0.00017676988820299663\n",
      "0.00010004635952174436\n",
      "0.0001603981794705151\n",
      "0.0001395883396108587\n",
      "0.00011981864760613058\n",
      "0.00019979457945891948\n",
      "0.00011979012396264395\n",
      "3.788606665752334e-05\n",
      "8.69201514434262e-05\n",
      "0.0001322320064743803\n",
      "0.00015273402238564885\n",
      "0.00016789492873826422\n",
      "0.00019421398702711216"
     ]
    },
    {
     "name": "stderr",
     "output_type": "stream",
     "text": [
      "\r",
      " 38%|████████████████▉                           | 5/13 [00:01<00:02,  3.18it/s]"
     ]
    },
    {
     "name": "stdout",
     "output_type": "stream",
     "text": [
      "\n",
      "0.00013744533724227348\n",
      "0.00015950482814952984\n",
      "0.00018717051857430775\n",
      "0.00016968242761182986\n",
      "0.00019702321054587083\n",
      "0.00016849111022063362\n",
      "0.00018383648827049144\n",
      "0.00014663522973071\n",
      "3.007788502346118e-05\n",
      "0.0001147294472899849\n",
      "0.00010369828272141187\n",
      "0.0001872840398282685\n",
      "0.00019696476835512333\n",
      "0.00013848837077909084\n",
      "0.00017717932521182009\n",
      "5.296014215314406e-05\n",
      "0.00014325133593637112\n",
      "0.00010568360207115915\n",
      "0.00015439728178515523\n",
      "0.00013483021443371206\n",
      "0.00019158062638420113\n",
      "4.651406166213401e-05\n",
      "0.0001978697939515066\n",
      "0.00018851566329208352\n",
      "0.00013911286980843794\n",
      "5.438561633987718e-05\n",
      "0.00014492744450739093\n",
      "8.565811735346775e-05\n",
      "0.00017944641887773734\n",
      "0.00018484730020058333\n",
      "0.0001755204518042681"
     ]
    },
    {
     "name": "stderr",
     "output_type": "stream",
     "text": [
      "\r",
      " 46%|████████████████████▎                       | 6/13 [00:01<00:01,  3.56it/s]"
     ]
    },
    {
     "name": "stdout",
     "output_type": "stream",
     "text": [
      "\n",
      "0.00018417950403563322\n",
      "0.00019289876452387414\n",
      "0.0001611106924548181\n",
      "0.00018814108045607186\n",
      "0.00012757122338215692\n",
      "0.0001813527802528162\n",
      "0.00014272531144056348\n",
      "0.0001793936157110244\n",
      "0.0001775508692023823\n",
      "0.0001944702652391345\n",
      "0.00015192547658232565\n",
      "0.00019467491147414284\n",
      "0.00013053904421102752\n",
      "5.865055482591285e-05\n",
      "0.00012766126476419911\n",
      "0.00013930166353375093\n",
      "0.00017090822550060153\n",
      "0.00011373570522002355\n",
      "0.00012229228279950658\n",
      "0.00014974322887757987\n",
      "0.00018022153848934098\n",
      "0.00014295481676160338\n",
      "0.00017379670164306395\n",
      "0.00014223888636001486\n",
      "0.00014989578960503437\n",
      "0.00015592537214429114\n",
      "0.0001844203430386491\n",
      "0.00014802381843250032\n",
      "0.00013329987352112793\n",
      "0.0001872223018039805\n"
     ]
    },
    {
     "name": "stderr",
     "output_type": "stream",
     "text": [
      "\r",
      " 54%|███████████████████████▋                    | 7/13 [00:02<00:02,  2.88it/s]"
     ]
    },
    {
     "name": "stdout",
     "output_type": "stream",
     "text": [
      "0.00019433938943460324\n",
      "0.00017767082565225164\n",
      "0.00011371179277971972\n",
      "0.0001575916388938372\n",
      "2.9545802549888727e-05\n",
      "0.00018669351470053895\n",
      "0.00015751695055710714\n"
     ]
    },
    {
     "name": "stderr",
     "output_type": "stream",
     "text": [
      "\r",
      " 62%|███████████████████████████                 | 8/13 [00:02<00:01,  2.61it/s]"
     ]
    },
    {
     "name": "stdout",
     "output_type": "stream",
     "text": [
      "0.00019679768904989594\n",
      "0.00019826046964998683\n",
      "0.00018276402819088132\n"
     ]
    },
    {
     "name": "stderr",
     "output_type": "stream",
     "text": [
      "\r",
      " 69%|██████████████████████████████▍             | 9/13 [00:03<00:01,  2.88it/s]"
     ]
    },
    {
     "name": "stdout",
     "output_type": "stream",
     "text": [
      "0.00019780101422219265\n",
      "0.00019116320977535965\n"
     ]
    },
    {
     "name": "stderr",
     "output_type": "stream",
     "text": [
      "\r",
      " 77%|█████████████████████████████████          | 10/13 [00:03<00:01,  2.52it/s]"
     ]
    },
    {
     "name": "stdout",
     "output_type": "stream",
     "text": [
      "0.0001235087429008245\n",
      "0.0001235087429008245\n",
      "0.00019207228121789841\n",
      "0.00015466725509247125\n",
      "0.00016432933116686892\n",
      "0.00017113198958281748\n",
      "0.0001599112176892448\n",
      "0.0001808153111774174\n",
      "0.00013539453031319508\n",
      "0.0001642359752412625\n",
      "0.0001968917737503229\n",
      "0.0001995519597863102\n",
      "0.0001778511677596991\n",
      "0.00018672762333709814\n",
      "0.00017933713462220285\n",
      "0.00012548596141683912\n",
      "0.0001920519593375948\n",
      "0.00017859811289323626\n",
      "0.00013366248477427053\n",
      "0.0001499429475140116\n",
      "0.00016750292076878358\n",
      "0.00011791318346288213\n",
      "0.0001925288643151134\n"
     ]
    },
    {
     "name": "stderr",
     "output_type": "stream",
     "text": [
      " 92%|███████████████████████████████████████▋   | 12/13 [00:04<00:00,  2.81it/s]"
     ]
    },
    {
     "name": "stdout",
     "output_type": "stream",
     "text": [
      "0.00015522049901517317\n",
      "0.000190699898291068\n",
      "0.00017069957370724568\n",
      "0.00017228695224080485\n",
      "0.0001657034147149267\n",
      "0.0001886146276234192\n",
      "0.0001913698489508046\n",
      "0.00019659595822116654\n",
      "0.00015612129658554308\n",
      "0.00014959208386019487\n",
      "0.00019338853710561022\n",
      "0.00015186515186617407\n",
      "0.00017903716174871628\n",
      "0.00013868913546134394\n",
      "0.00019062263952740845\n",
      "0.00017136974597808683\n",
      "0.00016916308840987367\n",
      "0.00018483567023354938\n",
      "0.00016900954583786573\n",
      "0.0001693666458630994\n",
      "0.00019796156370619375\n",
      "0.00015176284102360913\n",
      "0.00018154107355188576\n",
      "0.00015008994641598273\n",
      "0.00013156938928834264\n",
      "0.0001256523289101349\n"
     ]
    },
    {
     "name": "stderr",
     "output_type": "stream",
     "text": [
      "100%|███████████████████████████████████████████| 13/13 [00:04<00:00,  2.69it/s]\n"
     ]
    }
   ],
   "source": [
    "res_auto_dvv = []\n",
    "\n",
    "# stationpair = stationpairs_auto[7]\n",
    "# comp = components_asymmetric[0]\n",
    "for stationid in tqdm(range(len(stationpairs_auto))):\n",
    "    stationpair = stationpairs_auto[stationid]\n",
    "    for comp in components_asymmetric:\n",
    "        df_pair = df_threshold[df_threshold.stationpair==stationpair]\n",
    "        df_pair_1 = df_pair[df_pair.components==comp]\n",
    "        df_pair_2 = df_pair[df_pair.components==comp[::-1]]\n",
    "        for dateid in range(len(df_pair_1.date)):\n",
    "            # dateid = 10\n",
    "            df_pair_1_date = df_pair_1.iloc[dateid]\n",
    "            df_pair_2_date = df_pair_2[df_pair_2.date == df_pair_1.date.iloc[dateid]]\n",
    "\n",
    "            if df_pair_2_date.empty:\n",
    "                print(df_pair_1_date.err) # this skipping occurs due to the cc_thresholding\n",
    "                continue;\n",
    "                \n",
    "            if dvvmethod==\"stretching\":\n",
    "\n",
    "                cc_dvv_1 = df_pair_1_date.cc_dvv\n",
    "                dvv_1 = df_pair_1_date.dvv #[%]\n",
    "                cc_dvv_2 = df_pair_2_date.cc_dvv.values[0]\n",
    "                dvv_2 = df_pair_2_date.dvv.values[0] #[%]\n",
    "\n",
    "                if (cc_dvv_1 > cc_threshold) &  (cc_dvv_2 > cc_threshold):\n",
    "                    res_auto_dvv.append(np.abs(dvv_2-dvv_1)) # append residual to the list\n",
    "                    \n",
    "            elif dvvmethod==\"mwcs\":\n",
    "                err_dvv_1 = df_pair_1_date.err\n",
    "                dvv_1 = df_pair_1_date.dvv #[%]\n",
    "                err_dvv_2 = df_pair_2_date.err.values[0]\n",
    "                dvv_2 = df_pair_2_date.dvv.values[0] #[%]\n",
    "                if (err_dvv_1 < err_mwcs_eps) & (err_dvv_2 < err_mwcs_eps):\n",
    "                    res_auto_dvv.append(np.abs(dvv_2-dvv_1)) # append residual to the list\n"
   ]
  },
  {
   "cell_type": "code",
   "execution_count": 52,
   "metadata": {},
   "outputs": [
    {
     "data": {
      "text/html": [
       "<div>\n",
       "<style scoped>\n",
       "    .dataframe tbody tr th:only-of-type {\n",
       "        vertical-align: middle;\n",
       "    }\n",
       "\n",
       "    .dataframe tbody tr th {\n",
       "        vertical-align: top;\n",
       "    }\n",
       "\n",
       "    .dataframe thead th {\n",
       "        text-align: right;\n",
       "    }\n",
       "</style>\n",
       "<table border=\"1\" class=\"dataframe\">\n",
       "  <thead>\n",
       "    <tr style=\"text-align: right;\">\n",
       "      <th></th>\n",
       "      <th>date</th>\n",
       "      <th>stationpair</th>\n",
       "      <th>networks</th>\n",
       "      <th>components</th>\n",
       "      <th>freqband</th>\n",
       "      <th>dvv_mwcs</th>\n",
       "      <th>dvv0_mwcs</th>\n",
       "      <th>dvv_err_mwcs</th>\n",
       "      <th>dvv0_err_mwcs</th>\n",
       "      <th>dvv</th>\n",
       "      <th>err</th>\n",
       "    </tr>\n",
       "  </thead>\n",
       "  <tbody>\n",
       "    <tr>\n",
       "      <th>1168577</th>\n",
       "      <td>2002-01-16</td>\n",
       "      <td>BP.VCAB-BP.VCAB</td>\n",
       "      <td>BP-BP</td>\n",
       "      <td>11</td>\n",
       "      <td>0.9-1.2</td>\n",
       "      <td>5.091949527560205e-5</td>\n",
       "      <td>-3.446445417123801e-6</td>\n",
       "      <td>1.505848608641339e-8</td>\n",
       "      <td>1.4650418715741343e-8</td>\n",
       "      <td>-0.005092</td>\n",
       "      <td>1.505849e-06</td>\n",
       "    </tr>\n",
       "    <tr>\n",
       "      <th>1168581</th>\n",
       "      <td>2002-01-31</td>\n",
       "      <td>BP.VCAB-BP.VCAB</td>\n",
       "      <td>BP-BP</td>\n",
       "      <td>11</td>\n",
       "      <td>0.9-1.2</td>\n",
       "      <td>0.00029166089568177084</td>\n",
       "      <td>0.0003212434439701849</td>\n",
       "      <td>7.097663067900898e-8</td>\n",
       "      <td>7.259824904017774e-8</td>\n",
       "      <td>-0.029166</td>\n",
       "      <td>7.097663e-06</td>\n",
       "    </tr>\n",
       "    <tr>\n",
       "      <th>1168585</th>\n",
       "      <td>2002-02-15</td>\n",
       "      <td>BP.VCAB-BP.VCAB</td>\n",
       "      <td>BP-BP</td>\n",
       "      <td>11</td>\n",
       "      <td>0.9-1.2</td>\n",
       "      <td>0.00014835633277569363</td>\n",
       "      <td>0.0001246980285701278</td>\n",
       "      <td>7.84211013211007e-8</td>\n",
       "      <td>7.848133439842466e-8</td>\n",
       "      <td>-0.014836</td>\n",
       "      <td>7.842110e-06</td>\n",
       "    </tr>\n",
       "    <tr>\n",
       "      <th>1168589</th>\n",
       "      <td>2002-03-02</td>\n",
       "      <td>BP.VCAB-BP.VCAB</td>\n",
       "      <td>BP-BP</td>\n",
       "      <td>11</td>\n",
       "      <td>0.9-1.2</td>\n",
       "      <td>0.00023641734696955042</td>\n",
       "      <td>0.00023895731811987607</td>\n",
       "      <td>1.4675835718823846e-7</td>\n",
       "      <td>1.4663559058467435e-7</td>\n",
       "      <td>-0.023642</td>\n",
       "      <td>1.467584e-05</td>\n",
       "    </tr>\n",
       "    <tr>\n",
       "      <th>1168593</th>\n",
       "      <td>2002-03-17</td>\n",
       "      <td>BP.VCAB-BP.VCAB</td>\n",
       "      <td>BP-BP</td>\n",
       "      <td>11</td>\n",
       "      <td>0.9-1.2</td>\n",
       "      <td>0.0004666761543603823</td>\n",
       "      <td>0.0004646164461602946</td>\n",
       "      <td>7.051434202590717e-8</td>\n",
       "      <td>6.99279769346807e-8</td>\n",
       "      <td>-0.046668</td>\n",
       "      <td>7.051434e-06</td>\n",
       "    </tr>\n",
       "    <tr>\n",
       "      <th>...</th>\n",
       "      <td>...</td>\n",
       "      <td>...</td>\n",
       "      <td>...</td>\n",
       "      <td>...</td>\n",
       "      <td>...</td>\n",
       "      <td>...</td>\n",
       "      <td>...</td>\n",
       "      <td>...</td>\n",
       "      <td>...</td>\n",
       "      <td>...</td>\n",
       "      <td>...</td>\n",
       "    </tr>\n",
       "    <tr>\n",
       "      <th>1185951</th>\n",
       "      <td>2022-03-17</td>\n",
       "      <td>BP.VCAB-BP.VCAB</td>\n",
       "      <td>BP-BP</td>\n",
       "      <td>33</td>\n",
       "      <td>0.9-1.2</td>\n",
       "      <td>-0.0007905161721334302</td>\n",
       "      <td>-0.0008038270922682966</td>\n",
       "      <td>2.9581953562445462e-8</td>\n",
       "      <td>3.0605954503067057e-8</td>\n",
       "      <td>0.079052</td>\n",
       "      <td>2.958195e-06</td>\n",
       "    </tr>\n",
       "    <tr>\n",
       "      <th>1185955</th>\n",
       "      <td>2022-04-01</td>\n",
       "      <td>BP.VCAB-BP.VCAB</td>\n",
       "      <td>BP-BP</td>\n",
       "      <td>33</td>\n",
       "      <td>0.9-1.2</td>\n",
       "      <td>-0.00042989559476979805</td>\n",
       "      <td>-0.0004292420700437686</td>\n",
       "      <td>6.834142768973619e-8</td>\n",
       "      <td>6.85494271828339e-8</td>\n",
       "      <td>0.042990</td>\n",
       "      <td>6.834143e-06</td>\n",
       "    </tr>\n",
       "    <tr>\n",
       "      <th>1185959</th>\n",
       "      <td>2022-04-16</td>\n",
       "      <td>BP.VCAB-BP.VCAB</td>\n",
       "      <td>BP-BP</td>\n",
       "      <td>33</td>\n",
       "      <td>0.9-1.2</td>\n",
       "      <td>-0.0008050337984601422</td>\n",
       "      <td>-0.001340689525286779</td>\n",
       "      <td>5.06832491479942e-8</td>\n",
       "      <td>6.707411882871631e-8</td>\n",
       "      <td>0.080503</td>\n",
       "      <td>5.068325e-06</td>\n",
       "    </tr>\n",
       "    <tr>\n",
       "      <th>1185963</th>\n",
       "      <td>2022-05-01</td>\n",
       "      <td>BP.VCAB-BP.VCAB</td>\n",
       "      <td>BP-BP</td>\n",
       "      <td>33</td>\n",
       "      <td>0.9-1.2</td>\n",
       "      <td>-0.0003569850068606812</td>\n",
       "      <td>-0.00035408386447641297</td>\n",
       "      <td>3.572288633087495e-8</td>\n",
       "      <td>3.5463619506924873e-8</td>\n",
       "      <td>0.035699</td>\n",
       "      <td>3.572289e-06</td>\n",
       "    </tr>\n",
       "    <tr>\n",
       "      <th>1185967</th>\n",
       "      <td>2022-05-16</td>\n",
       "      <td>BP.VCAB-BP.VCAB</td>\n",
       "      <td>BP-BP</td>\n",
       "      <td>33</td>\n",
       "      <td>0.9-1.2</td>\n",
       "      <td>-0.000554342554326686</td>\n",
       "      <td>-0.0005523833545014369</td>\n",
       "      <td>9.029720716963578e-9</td>\n",
       "      <td>9.492023608816122e-9</td>\n",
       "      <td>0.055434</td>\n",
       "      <td>9.029721e-07</td>\n",
       "    </tr>\n",
       "  </tbody>\n",
       "</table>\n",
       "<p>4156 rows × 11 columns</p>\n",
       "</div>"
      ],
      "text/plain": [
       "              date      stationpair networks components freqband  \\\n",
       "1168577 2002-01-16  BP.VCAB-BP.VCAB    BP-BP         11  0.9-1.2   \n",
       "1168581 2002-01-31  BP.VCAB-BP.VCAB    BP-BP         11  0.9-1.2   \n",
       "1168585 2002-02-15  BP.VCAB-BP.VCAB    BP-BP         11  0.9-1.2   \n",
       "1168589 2002-03-02  BP.VCAB-BP.VCAB    BP-BP         11  0.9-1.2   \n",
       "1168593 2002-03-17  BP.VCAB-BP.VCAB    BP-BP         11  0.9-1.2   \n",
       "...            ...              ...      ...        ...      ...   \n",
       "1185951 2022-03-17  BP.VCAB-BP.VCAB    BP-BP         33  0.9-1.2   \n",
       "1185955 2022-04-01  BP.VCAB-BP.VCAB    BP-BP         33  0.9-1.2   \n",
       "1185959 2022-04-16  BP.VCAB-BP.VCAB    BP-BP         33  0.9-1.2   \n",
       "1185963 2022-05-01  BP.VCAB-BP.VCAB    BP-BP         33  0.9-1.2   \n",
       "1185967 2022-05-16  BP.VCAB-BP.VCAB    BP-BP         33  0.9-1.2   \n",
       "\n",
       "                        dvv_mwcs                dvv0_mwcs  \\\n",
       "1168577     5.091949527560205e-5    -3.446445417123801e-6   \n",
       "1168581   0.00029166089568177084    0.0003212434439701849   \n",
       "1168585   0.00014835633277569363    0.0001246980285701278   \n",
       "1168589   0.00023641734696955042   0.00023895731811987607   \n",
       "1168593    0.0004666761543603823    0.0004646164461602946   \n",
       "...                          ...                      ...   \n",
       "1185951   -0.0007905161721334302   -0.0008038270922682966   \n",
       "1185955  -0.00042989559476979805   -0.0004292420700437686   \n",
       "1185959   -0.0008050337984601422    -0.001340689525286779   \n",
       "1185963   -0.0003569850068606812  -0.00035408386447641297   \n",
       "1185967    -0.000554342554326686   -0.0005523833545014369   \n",
       "\n",
       "                  dvv_err_mwcs          dvv0_err_mwcs       dvv           err  \n",
       "1168577   1.505848608641339e-8  1.4650418715741343e-8 -0.005092  1.505849e-06  \n",
       "1168581   7.097663067900898e-8   7.259824904017774e-8 -0.029166  7.097663e-06  \n",
       "1168585    7.84211013211007e-8   7.848133439842466e-8 -0.014836  7.842110e-06  \n",
       "1168589  1.4675835718823846e-7  1.4663559058467435e-7 -0.023642  1.467584e-05  \n",
       "1168593   7.051434202590717e-8    6.99279769346807e-8 -0.046668  7.051434e-06  \n",
       "...                        ...                    ...       ...           ...  \n",
       "1185951  2.9581953562445462e-8  3.0605954503067057e-8  0.079052  2.958195e-06  \n",
       "1185955   6.834142768973619e-8    6.85494271828339e-8  0.042990  6.834143e-06  \n",
       "1185959    5.06832491479942e-8   6.707411882871631e-8  0.080503  5.068325e-06  \n",
       "1185963   3.572288633087495e-8  3.5463619506924873e-8  0.035699  3.572289e-06  \n",
       "1185967   9.029720716963578e-9   9.492023608816122e-9  0.055434  9.029721e-07  \n",
       "\n",
       "[4156 rows x 11 columns]"
      ]
     },
     "execution_count": 52,
     "metadata": {},
     "output_type": "execute_result"
    }
   ],
   "source": [
    "df_pair"
   ]
  },
  {
   "cell_type": "code",
   "execution_count": 53,
   "metadata": {},
   "outputs": [],
   "source": [
    "# Figure output directory\n",
    "figdir = output_imgdir+\"/asymmetric_autocorr_%s\"%freqband\n",
    "os.makedirs(figdir, exist_ok=True)"
   ]
  },
  {
   "cell_type": "code",
   "execution_count": 54,
   "metadata": {},
   "outputs": [
    {
     "data": {
      "image/png": "[encoded data removed]",
      "text/plain": [
       "<Figure size 576x432 with 1 Axes>"
      ]
     },
     "metadata": {
      "needs_background": "light"
     },
     "output_type": "display_data"
    }
   ],
   "source": [
    "fig, ax = plt.subplots(1, 1, figsize=(8,6))\n",
    "\n",
    "if dvvmethod==\"stretching\":\n",
    "    ax.hist(res_auto_dvv, bins=40, range=(0, 0.05), edgecolor=\"k\", facecolor=\"grey\")\n",
    "    ax.set_xlabel('residual of dv/v between symmetric components [%]')\n",
    "    ax.set_ylabel('count of pairs')\n",
    "    ax.axvline(0.02, color=\"k\", ls=\"--\")\n",
    "    ax.text(0.021, 3000, \"size of minimum grid search\", fontsize=16)\n",
    "    ax.set_title('stretching')\n",
    "    plt.tight_layout()\n",
    "    foname = (figdir+\"/asymmetric_autocorr_residualhist_stretching.png\")\n",
    "    plt.savefig(foname)\n",
    "    \n",
    "if dvvmethod==\"mwcs\":\n",
    "    # ax.hist(res_auto_dvv, bins=20, range=(0, 0.05), edgecolor=\"k\", facecolor=\"grey\")\n",
    "    ax.hist(res_auto_dvv, bins=40, range=(0, 0.2), edgecolor=\"k\", facecolor=\"grey\")\n",
    "    ax.set_xlabel('residual of dv/v between symmetric components [%]')\n",
    "    ax.set_ylabel('count of pairs')\n",
    "    ax.set_title('mwcs')\n",
    "#     ax.axvline(0.02, color=\"k\", ls=\"--\")\n",
    "#     ax.text(0.021, 3000, \"size of minimum grid search\", fontsize=16)\n",
    "    plt.tight_layout()\n",
    "    foname = (figdir+\"/asymmetric_autocorr_residualhist_mwcs.png\")\n",
    "    plt.savefig(foname)"
   ]
  },
  {
   "cell_type": "code",
   "execution_count": 55,
   "metadata": {},
   "outputs": [
    {
     "data": {
      "text/plain": [
       "0.022169653676493525"
      ]
     },
     "execution_count": 55,
     "metadata": {},
     "output_type": "execute_result"
    }
   ],
   "source": [
    "np.percentile(res_auto_dvv, 90)"
   ]
  },
  {
   "cell_type": "markdown",
   "metadata": {},
   "source": [
    "## Compute dvv with channel weight\n",
    "From Hobiger et al., 2014\n",
    "\n",
    "$$ \\dfrac{dv}{v}(t) = \\dfrac{\\sum_{k=1}^N c_k^2 (t) \\dfrac{dv}{v}_k (t)}{\\sum_{k=1}^N c_k^2 (t) } $$\n",
    "\n",
    "$$ c(t) = \\dfrac{\\sum_{k=1}^N c_k^3 (t)}{\\sum_{k=1}^N c_k^2 (t) } $$\n",
    "\n",
    "The error can be evaluated with error propagation such that\n",
    "\n",
    "$$ \\overline{dvv}(dvv_1, dvv_2, ..., dvv_9) = \\dfrac{\\sum_{k=1}^{N}c_{k}^2 dvv_{k}}{\\sum_{k=1}^{N}c_{k}^2} $$\n",
    "\n",
    "$$ \\sigma_{wav} = \\sqrt{\\sum_{i=1}^9 \\left(\\dfrac{\\partial \\overline{dvv}}{\\partial dvv_i} \\right)^2 \\sigma_{n, i}^2} $$\n",
    "\n",
    "$$ \\sigma_{wav} = \\sqrt{\\sum_{i=1}^9 \\left(\\dfrac{c_i^2}{\\sum_k c_k^2} \\right)^2 \\sigma_{n, i}^2} $$\n",
    "\n",
    "For MWCS, We simplefy the weighting method as it already apply weights on the coda part, described as following:\n",
    "\n",
    "$$ \\dfrac{dv}{v}(t) = \\dfrac{\\sum_{k=1}^N \\dfrac{dv}{v}_k (t)}{N } $$\n",
    "\n",
    "$$ c(t) = 1.0 $$"
   ]
  },
  {
   "cell_type": "code",
   "execution_count": 56,
   "metadata": {},
   "outputs": [
    {
     "name": "stderr",
     "output_type": "stream",
     "text": [
      "100%|███████████████████████████████████████████| 83/83 [00:49<00:00,  1.67it/s]\n"
     ]
    }
   ],
   "source": [
    "# compute channel weight and store into dataframe\n",
    "columns=[\"date\", \"stationpair\", \"freqband\", \"cc_weight\", \"dvv\", \"err\" ]\n",
    "df_threshold_weight = pd.DataFrame(columns = columns)\n",
    "\n",
    "for stationid in tqdm(range(len(stationpairs))):\n",
    "    stationpair = stationpairs[stationid]\n",
    "    df_pair = df_threshold[df_threshold.stationpair==stationpair]\n",
    "    df_pair = df_pair[df_pair.components .isin(components_list)]\n",
    "    datelist = np.unique(df_pair.date) # this indicates that datelist includes even the case that one channel pair is available, leading to enhance the data continuity.\n",
    "    for d in datelist:\n",
    "        df_comp = df_pair[df_pair.date == d] #include all components available at this datetime\n",
    "        N = len(df_comp)\n",
    "        cdvv_all = 0 \n",
    "        c2_all = 0\n",
    "        c3_all = 0\n",
    "        err_sum2 = 0\n",
    "        \n",
    "        if N == 0:\n",
    "            print(d)\n",
    "            continue;\n",
    "        \n",
    "        for index, row in df_comp.iterrows():\n",
    "            if dvvmethod==\"stretching\":\n",
    "                cdvv_all = cdvv_all + row.cc_dvv**2 * row.dvv\n",
    "                c2_all = c2_all + row.cc_dvv**2\n",
    "                c3_all = c3_all + row.cc_dvv**3\n",
    "#                 err_sum2 = row.err**2\n",
    "                err_sum2 = err_sum2 + (row.cc_dvv**4)*row.err**2 # corrected the power from 2 to 4: 2022/09/26  Kurama Okubo\n",
    "                \n",
    "            elif dvvmethod==\"mwcs\":\n",
    "                cdvv_all = cdvv_all + 1.0 * row.dvv\n",
    "                c2_all = c2_all + 1.0\n",
    "                c3_all = c3_all + 1.0\n",
    "                err_sum2 = err_sum2 + (1.0**4)*row.err**2 # in this case, the error is RMS of all components.\n",
    "                \n",
    "        dvv_weight = cdvv_all/c2_all\n",
    "        cc_weight = c3_all/c2_all\n",
    "#         err_weight = np.sqrt(err_sum2)\n",
    "        err_weight = np.sqrt(err_sum2)/c2_all\n",
    "        \n",
    "        df_weight_tmp = pd.DataFrame({\"date\":[d], \"stationpair\":[stationpair], \"freqband\":[freqband],\n",
    "                                      \"cc_weight\":[cc_weight], \"dvv\":[dvv_weight], \"err\":[err_weight]})\n",
    "        \n",
    "        df_threshold_weight = df_threshold_weight.append(df_weight_tmp)\n",
    "        \n",
    "        "
   ]
  },
  {
   "cell_type": "code",
   "execution_count": 57,
   "metadata": {},
   "outputs": [
    {
     "data": {
      "text/html": [
       "<div>\n",
       "<style scoped>\n",
       "    .dataframe tbody tr th:only-of-type {\n",
       "        vertical-align: middle;\n",
       "    }\n",
       "\n",
       "    .dataframe tbody tr th {\n",
       "        vertical-align: top;\n",
       "    }\n",
       "\n",
       "    .dataframe thead th {\n",
       "        text-align: right;\n",
       "    }\n",
       "</style>\n",
       "<table border=\"1\" class=\"dataframe\">\n",
       "  <thead>\n",
       "    <tr style=\"text-align: right;\">\n",
       "      <th></th>\n",
       "      <th>date</th>\n",
       "      <th>stationpair</th>\n",
       "      <th>freqband</th>\n",
       "      <th>cc_weight</th>\n",
       "      <th>dvv</th>\n",
       "      <th>err</th>\n",
       "    </tr>\n",
       "  </thead>\n",
       "  <tbody>\n",
       "    <tr>\n",
       "      <th>0</th>\n",
       "      <td>2002-05-16</td>\n",
       "      <td>BP.CCRB-BP.CCRB</td>\n",
       "      <td>0.9-1.2</td>\n",
       "      <td>1.0</td>\n",
       "      <td>0.013302</td>\n",
       "      <td>0.000013</td>\n",
       "    </tr>\n",
       "    <tr>\n",
       "      <th>0</th>\n",
       "      <td>2002-05-31</td>\n",
       "      <td>BP.CCRB-BP.CCRB</td>\n",
       "      <td>0.9-1.2</td>\n",
       "      <td>1.0</td>\n",
       "      <td>-0.037674</td>\n",
       "      <td>0.000004</td>\n",
       "    </tr>\n",
       "    <tr>\n",
       "      <th>0</th>\n",
       "      <td>2002-06-15</td>\n",
       "      <td>BP.CCRB-BP.CCRB</td>\n",
       "      <td>0.9-1.2</td>\n",
       "      <td>1.0</td>\n",
       "      <td>-0.034586</td>\n",
       "      <td>0.000014</td>\n",
       "    </tr>\n",
       "    <tr>\n",
       "      <th>0</th>\n",
       "      <td>2002-06-30</td>\n",
       "      <td>BP.CCRB-BP.CCRB</td>\n",
       "      <td>0.9-1.2</td>\n",
       "      <td>1.0</td>\n",
       "      <td>-0.017976</td>\n",
       "      <td>0.000011</td>\n",
       "    </tr>\n",
       "    <tr>\n",
       "      <th>0</th>\n",
       "      <td>2002-07-15</td>\n",
       "      <td>BP.CCRB-BP.CCRB</td>\n",
       "      <td>0.9-1.2</td>\n",
       "      <td>1.0</td>\n",
       "      <td>0.017218</td>\n",
       "      <td>0.000008</td>\n",
       "    </tr>\n",
       "    <tr>\n",
       "      <th>...</th>\n",
       "      <td>...</td>\n",
       "      <td>...</td>\n",
       "      <td>...</td>\n",
       "      <td>...</td>\n",
       "      <td>...</td>\n",
       "      <td>...</td>\n",
       "    </tr>\n",
       "    <tr>\n",
       "      <th>0</th>\n",
       "      <td>2022-03-17</td>\n",
       "      <td>BP.VCAB-BP.VCAB</td>\n",
       "      <td>0.9-1.2</td>\n",
       "      <td>1.0</td>\n",
       "      <td>0.031112</td>\n",
       "      <td>0.000001</td>\n",
       "    </tr>\n",
       "    <tr>\n",
       "      <th>0</th>\n",
       "      <td>2022-04-01</td>\n",
       "      <td>BP.VCAB-BP.VCAB</td>\n",
       "      <td>0.9-1.2</td>\n",
       "      <td>1.0</td>\n",
       "      <td>0.036432</td>\n",
       "      <td>0.000001</td>\n",
       "    </tr>\n",
       "    <tr>\n",
       "      <th>0</th>\n",
       "      <td>2022-04-16</td>\n",
       "      <td>BP.VCAB-BP.VCAB</td>\n",
       "      <td>0.9-1.2</td>\n",
       "      <td>1.0</td>\n",
       "      <td>0.054801</td>\n",
       "      <td>0.000002</td>\n",
       "    </tr>\n",
       "    <tr>\n",
       "      <th>0</th>\n",
       "      <td>2022-05-01</td>\n",
       "      <td>BP.VCAB-BP.VCAB</td>\n",
       "      <td>0.9-1.2</td>\n",
       "      <td>1.0</td>\n",
       "      <td>0.037922</td>\n",
       "      <td>0.000002</td>\n",
       "    </tr>\n",
       "    <tr>\n",
       "      <th>0</th>\n",
       "      <td>2022-05-16</td>\n",
       "      <td>BP.VCAB-BP.VCAB</td>\n",
       "      <td>0.9-1.2</td>\n",
       "      <td>1.0</td>\n",
       "      <td>0.046758</td>\n",
       "      <td>0.000002</td>\n",
       "    </tr>\n",
       "  </tbody>\n",
       "</table>\n",
       "<p>31659 rows × 6 columns</p>\n",
       "</div>"
      ],
      "text/plain": [
       "         date      stationpair freqband  cc_weight       dvv       err\n",
       "0  2002-05-16  BP.CCRB-BP.CCRB  0.9-1.2        1.0  0.013302  0.000013\n",
       "0  2002-05-31  BP.CCRB-BP.CCRB  0.9-1.2        1.0 -0.037674  0.000004\n",
       "0  2002-06-15  BP.CCRB-BP.CCRB  0.9-1.2        1.0 -0.034586  0.000014\n",
       "0  2002-06-30  BP.CCRB-BP.CCRB  0.9-1.2        1.0 -0.017976  0.000011\n",
       "0  2002-07-15  BP.CCRB-BP.CCRB  0.9-1.2        1.0  0.017218  0.000008\n",
       "..        ...              ...      ...        ...       ...       ...\n",
       "0  2022-03-17  BP.VCAB-BP.VCAB  0.9-1.2        1.0  0.031112  0.000001\n",
       "0  2022-04-01  BP.VCAB-BP.VCAB  0.9-1.2        1.0  0.036432  0.000001\n",
       "0  2022-04-16  BP.VCAB-BP.VCAB  0.9-1.2        1.0  0.054801  0.000002\n",
       "0  2022-05-01  BP.VCAB-BP.VCAB  0.9-1.2        1.0  0.037922  0.000002\n",
       "0  2022-05-16  BP.VCAB-BP.VCAB  0.9-1.2        1.0  0.046758  0.000002\n",
       "\n",
       "[31659 rows x 6 columns]"
      ]
     },
     "execution_count": 57,
     "metadata": {},
     "output_type": "execute_result"
    }
   ],
   "source": [
    "df_threshold_weight"
   ]
  },
  {
   "cell_type": "code",
   "execution_count": 58,
   "metadata": {},
   "outputs": [
    {
     "data": {
      "text/plain": [
       "<AxesSubplot:xlabel='date', ylabel='[err]'>"
      ]
     },
     "execution_count": 58,
     "metadata": {},
     "output_type": "execute_result"
    },
    {
     "data": {
      "image/png": "[encoded data removed]",
      "text/plain": [
       "<Figure size 432x288 with 1 Axes>"
      ]
     },
     "metadata": {
      "needs_background": "light"
     },
     "output_type": "display_data"
    }
   ],
   "source": [
    "df_threshold_weight.plot.scatter(x=\"date\", y=[\"err\"])"
   ]
  },
  {
   "cell_type": "code",
   "execution_count": 59,
   "metadata": {},
   "outputs": [
    {
     "data": {
      "text/plain": [
       "83"
      ]
     },
     "execution_count": 59,
     "metadata": {},
     "output_type": "execute_result"
    }
   ],
   "source": [
    "len(np.unique(df_threshold_weight.stationpair))"
   ]
  },
  {
   "cell_type": "markdown",
   "metadata": {},
   "source": [
    "## Threshold out the dvv traces\n",
    "\n",
    "Each dv/v trace is evaluated in terms of\n",
    "\n",
    "1. continuity (data contents) over all / fitting period\n",
    "\n",
    "~~2. stability (std)~~\n",
    "\n",
    "We store the all dv/v with data contents, which will be used in the following processes."
   ]
  },
  {
   "cell_type": "code",
   "execution_count": 60,
   "metadata": {},
   "outputs": [
    {
     "data": {
      "text/plain": [
       "497"
      ]
     },
     "execution_count": 60,
     "metadata": {},
     "output_type": "execute_result"
    }
   ],
   "source": [
    "# compute length of fitting period\n",
    "fitting_tlen = sum([(fitting_starttime < datetime.datetime.fromordinal(x.toordinal())) &\n",
    "                    (datetime.datetime.fromordinal(x.toordinal()) < fitting_endtime) for x in uniform_tvec])\n",
    "fitting_tlen"
   ]
  },
  {
   "cell_type": "code",
   "execution_count": 61,
   "metadata": {},
   "outputs": [
    {
     "data": {
      "text/plain": [
       "0.0016833667334669455"
      ]
     },
     "execution_count": 61,
     "metadata": {},
     "output_type": "execute_result"
    }
   ],
   "source": [
    "0.07402805611222446 - 0.07234468937875752"
   ]
  },
  {
   "cell_type": "code",
   "execution_count": 62,
   "metadata": {},
   "outputs": [],
   "source": [
    "import h5py"
   ]
  },
  {
   "cell_type": "code",
   "execution_count": 63,
   "metadata": {},
   "outputs": [],
   "source": [
    "stationpair = stationpairs[10]"
   ]
  },
  {
   "cell_type": "code",
   "execution_count": 64,
   "metadata": {},
   "outputs": [],
   "source": [
    "df_threshold_weight_pair = df_threshold_weight[df_threshold_weight.stationpair == stationpair]"
   ]
  },
  {
   "cell_type": "code",
   "execution_count": 65,
   "metadata": {},
   "outputs": [
    {
     "data": {
      "text/plain": [
       "array([1., 1., 1., 1., 1., 1., 1., 1., 1., 1., 1., 1., 1., 1., 1., 1., 1.,\n",
       "       1., 1., 1., 1., 1., 1., 1., 1., 1., 1., 1., 1., 1., 1., 1., 1., 1.,\n",
       "       1., 1., 1., 1., 1., 1., 1., 1., 1., 1., 1., 1., 1., 1., 1., 1., 1.,\n",
       "       1., 1., 1., 1., 1., 1., 1., 1., 1., 1., 1., 1., 1., 1., 1., 1., 1.,\n",
       "       1., 1., 1., 1., 1., 1., 1., 1., 1., 1., 1., 1., 1., 1., 1., 1., 1.,\n",
       "       1., 1., 1., 1., 1., 1., 1., 1., 1., 1., 1., 1., 1., 1., 1., 1., 1.,\n",
       "       1., 1., 1., 1., 1., 1., 1., 1., 1., 1., 1., 1., 1., 1., 1., 1., 1.,\n",
       "       1., 1., 1., 1., 1., 1., 1., 1., 1., 1., 1., 1., 1., 1., 1., 1., 1.,\n",
       "       1., 1., 1., 1., 1., 1., 1., 1., 1., 1., 1., 1., 1., 1., 1., 1., 1.,\n",
       "       1., 1., 1., 1., 1., 1., 1., 1., 1., 1., 1., 1., 1., 1., 1., 1., 1.,\n",
       "       1., 1., 1., 1., 1., 1., 1., 1., 1., 1., 1., 1., 1., 1., 1., 1., 1.,\n",
       "       1., 1., 1., 1., 1., 1., 1., 1., 1., 1., 1., 1., 1., 1., 1., 1., 1.,\n",
       "       1., 1., 1., 1., 1., 1., 1., 1., 1., 1., 1., 1., 1., 1., 1., 1., 1.,\n",
       "       1., 1., 1., 1., 1., 1., 1., 1., 1., 1., 1., 1., 1., 1., 1., 1., 1.,\n",
       "       1., 1., 1., 1., 1., 1., 1., 1., 1., 1., 1., 1., 1., 1., 1., 1., 1.,\n",
       "       1., 1., 1., 1., 1., 1., 1., 1., 1., 1., 1., 1., 1., 1., 1., 1., 1.,\n",
       "       1., 1., 1., 1., 1., 1., 1., 1., 1., 1., 1., 1., 1., 1., 1., 1., 1.,\n",
       "       1., 1., 1., 1., 1., 1., 1., 1., 1., 1., 1., 1., 1., 1., 1., 1., 1.,\n",
       "       1., 1.])"
      ]
     },
     "execution_count": 65,
     "metadata": {},
     "output_type": "execute_result"
    }
   ],
   "source": [
    "np.asarray(df_threshold_weight_pair.cc_weight)"
   ]
  },
  {
   "cell_type": "code",
   "execution_count": 66,
   "metadata": {},
   "outputs": [
    {
     "name": "stderr",
     "output_type": "stream",
     "text": [
      "  6%|██▋                                         | 5/83 [00:00<00:01, 42.74it/s]"
     ]
    },
    {
     "name": "stdout",
     "output_type": "stream",
     "text": [
      "0.9114688128772636\n",
      "0.8893360160965795\n",
      "0.6921529175050302\n",
      "0.5130784708249497\n",
      "0.8108651911468813\n",
      "0.8812877263581489\n",
      "0.8490945674044266\n",
      "0.40643863179074446\n",
      "0.8832997987927566\n"
     ]
    },
    {
     "name": "stderr",
     "output_type": "stream",
     "text": [
      " 18%|███████▊                                   | 15/83 [00:00<00:01, 42.40it/s]"
     ]
    },
    {
     "name": "stdout",
     "output_type": "stream",
     "text": [
      "0.8591549295774648\n",
      "0.6197183098591549\n",
      "0.8792756539235412\n",
      "0.9979879275653923\n",
      "0.8470824949698189\n",
      "0.8772635814889336\n",
      "0.7645875251509054\n",
      "0.9818913480885312\n"
     ]
    },
    {
     "name": "stderr",
     "output_type": "stream",
     "text": [
      " 28%|███████████▉                               | 23/83 [00:00<00:01, 39.23it/s]"
     ]
    },
    {
     "name": "stdout",
     "output_type": "stream",
     "text": [
      "0.9839034205231388\n",
      "0.9275653923541247\n",
      "0.46680080482897385\n",
      "0.959758551307847\n",
      "0.93158953722334\n",
      "0.7303822937625755\n",
      "0.9617706237424547\n",
      "0.6800804828973843\n",
      "0.7505030181086519\n"
     ]
    },
    {
     "name": "stderr",
     "output_type": "stream",
     "text": [
      " 40%|█████████████████                          | 33/83 [00:00<00:01, 42.00it/s]"
     ]
    },
    {
     "name": "stdout",
     "output_type": "stream",
     "text": [
      "0.5915492957746479\n",
      "0.8611670020120724\n",
      "0.8611670020120724\n",
      "0.7605633802816901\n",
      "0.45271629778672035\n",
      "0.7706237424547284\n",
      "0.8289738430583501\n",
      "0.710261569416499\n",
      "0.8269617706237424\n"
     ]
    },
    {
     "name": "stderr",
     "output_type": "stream",
     "text": [
      " 52%|██████████████████████▎                    | 43/83 [00:01<00:00, 43.89it/s]"
     ]
    },
    {
     "name": "stdout",
     "output_type": "stream",
     "text": [
      "0.8993963782696177\n",
      "0.5653923541247485\n",
      "0.8712273641851107\n",
      "0.7022132796780685\n",
      "0.6780684104627767\n",
      "0.7283702213279678\n",
      "0.6317907444668008\n",
      "0.6941649899396378\n",
      "0.6237424547283702\n",
      "0.5110663983903421\n"
     ]
    },
    {
     "name": "stderr",
     "output_type": "stream",
     "text": [
      " 64%|███████████████████████████▍               | 53/83 [00:01<00:00, 44.41it/s]"
     ]
    },
    {
     "name": "stdout",
     "output_type": "stream",
     "text": [
      "0.5613682092555332\n",
      "0.6297786720321932\n",
      "0.9537223340040242\n",
      "0.9476861167002012\n",
      "0.89738430583501\n",
      "0.4245472837022133\n",
      "0.8712273641851107\n",
      "0.8853118712273642\n",
      "0.7344064386317908\n"
     ]
    },
    {
     "name": "stderr",
     "output_type": "stream",
     "text": [
      "\r",
      " 70%|██████████████████████████████             | 58/83 [00:01<00:00, 40.55it/s]"
     ]
    },
    {
     "name": "stdout",
     "output_type": "stream",
     "text": [
      "0.9235412474849095\n",
      "0.9899396378269618\n",
      "0.9295774647887324\n",
      "0.4607645875251509\n",
      "0.959758551307847\n",
      "0.93158953722334\n",
      "0.7283702213279678\n"
     ]
    },
    {
     "name": "stderr",
     "output_type": "stream",
     "text": [
      " 82%|███████████████████████████████████▏       | 68/83 [00:01<00:00, 41.29it/s]"
     ]
    },
    {
     "name": "stdout",
     "output_type": "stream",
     "text": [
      "0.9577464788732394\n",
      "0.9255533199195171\n",
      "0.42655935613682094\n",
      "0.9134808853118712\n",
      "0.8893360160965795\n",
      "0.6237424547283702\n",
      "0.903420523138833\n",
      "0.4688128772635815\n",
      "0.4346076458752515\n",
      "0.44668008048289737\n",
      "0.3963782696177062\n"
     ]
    },
    {
     "name": "stderr",
     "output_type": "stream",
     "text": [
      " 95%|████████████████████████████████████████▉  | 79/83 [00:01<00:00, 44.32it/s]"
     ]
    },
    {
     "name": "stdout",
     "output_type": "stream",
     "text": [
      "0.46680080482897385\n",
      "0.9637826961770624\n",
      "0.9235412474849095\n",
      "0.6378269617706237\n",
      "0.9356136820925554\n",
      "0.9416498993963782\n",
      "0.7002012072434608\n",
      "0.93158953722334\n",
      "0.744466800804829\n"
     ]
    },
    {
     "name": "stderr",
     "output_type": "stream",
     "text": [
      "\r",
      "100%|███████████████████████████████████████████| 83/83 [00:01<00:00, 42.80it/s]"
     ]
    },
    {
     "name": "stdout",
     "output_type": "stream",
     "text": [
      "0.6639839034205232\n",
      "0.9496981891348089\n"
     ]
    },
    {
     "name": "stderr",
     "output_type": "stream",
     "text": [
      "\n"
     ]
    }
   ],
   "source": [
    "with h5py.File(output_datadir+\"/dvvtraces_chanweighted_{}_{}.h5\".format(csv_stats_names[csv_stats_id], freqband), \"w\") as h5: # overwrite data\n",
    "    \n",
    "    h5.attrs[\"cc_threshold\"] = cc_threshold\n",
    "    h5.attrs[\"cc_time_unit\"] = 86400 # short-stacking time unit\n",
    "    h5.attrs[\"averagestack_factor\"] = 30\n",
    "    h5.attrs[\"averagestack_step\"] = 15    \n",
    "    h5.create_dataset('uniform_tvec', data=uniform_tvec.astype('datetime64[s]').astype(int))\n",
    "\n",
    "    for pairname in tqdm(stationpairs):\n",
    "        # read parameters from dictionary\n",
    "        df_threshold_weight_pair = df_threshold_weight[df_threshold_weight.stationpair == pairname]\n",
    "        t = np.asarray(df_threshold_weight_pair.date)\n",
    "        dvv = np.asarray(df_threshold_weight_pair.dvv)\n",
    "        \n",
    "        if dvvmethod==\"stretching\":\n",
    "            cc = np.array(df_threshold_weight_pair.cc_weight)\n",
    "            err = np.array(df_threshold_weight_pair.err)\n",
    "            \n",
    "        elif dvvmethod==\"mwcs\":\n",
    "            cc = np.array(df_threshold_weight_pair.cc_weight)\n",
    "            err = np.array(df_threshold_weight_pair.err)            \n",
    "#             err = df_singletrace[\"err\"]\n",
    "\n",
    "        # compute datacontents over all period\n",
    "        datacontents = len(dvv)/len(uniform_tvec)\n",
    "        \n",
    "        # compute datacontents over fitting period\n",
    "        fitdatalen = sum([(fitting_starttime < pd.to_datetime(x)) & \n",
    "                  (pd.to_datetime(x) < fitting_endtime) for x in t])\n",
    "        \n",
    "        fitdatacontents = fitdatalen / fitting_tlen\n",
    "        print(fitdatacontents)\n",
    "        \n",
    "        std_dvv = np.std(dvv)\n",
    "\n",
    "        # store into h5\n",
    "        gname = \"dvv/\"+pairname\n",
    "        h5.require_group(gname)\n",
    "        h5[gname].create_dataset('t_unix', data=t.astype('datetime64[s]').astype(int))\n",
    "        h5[gname].create_dataset('dvv', data=dvv)\n",
    "        if dvvmethod==\"stretching\":\n",
    "            h5[gname].create_dataset('cc', data=cc)\n",
    "            h5[gname].create_dataset('err', data=err)\n",
    "        elif dvvmethod==\"mwcs\":\n",
    "            h5[gname].create_dataset('cc', data=cc)\n",
    "            h5[gname].create_dataset('err', data=err)\n",
    "            \n",
    "        h5[gname].create_dataset('datacontents', data=datacontents)\n",
    "        h5[gname].create_dataset('fitcontents', data=fitdatacontents)\n",
    "        h5[gname].create_dataset('std_dvv', data=std_dvv)"
   ]
  },
  {
   "cell_type": "code",
   "execution_count": 67,
   "metadata": {},
   "outputs": [
    {
     "data": {
      "text/plain": [
       "[<matplotlib.lines.Line2D at 0x7fa1c78b1df0>]"
      ]
     },
     "execution_count": 67,
     "metadata": {},
     "output_type": "execute_result"
    },
    {
     "data": {
      "image/png": "[encoded data removed]",
      "text/plain": [
       "<Figure size 432x288 with 1 Axes>"
      ]
     },
     "metadata": {
      "needs_background": "light"
     },
     "output_type": "display_data"
    }
   ],
   "source": [
    "plt.plot(df_threshold_weight_pair.date.values)"
   ]
  },
  {
   "cell_type": "code",
   "execution_count": 68,
   "metadata": {},
   "outputs": [
    {
     "data": {
      "text/html": [
       "<div>\n",
       "<style scoped>\n",
       "    .dataframe tbody tr th:only-of-type {\n",
       "        vertical-align: middle;\n",
       "    }\n",
       "\n",
       "    .dataframe tbody tr th {\n",
       "        vertical-align: top;\n",
       "    }\n",
       "\n",
       "    .dataframe thead th {\n",
       "        text-align: right;\n",
       "    }\n",
       "</style>\n",
       "<table border=\"1\" class=\"dataframe\">\n",
       "  <thead>\n",
       "    <tr style=\"text-align: right;\">\n",
       "      <th></th>\n",
       "      <th>date</th>\n",
       "      <th>stationpair</th>\n",
       "      <th>freqband</th>\n",
       "      <th>cc_weight</th>\n",
       "      <th>dvv</th>\n",
       "      <th>err</th>\n",
       "    </tr>\n",
       "  </thead>\n",
       "  <tbody>\n",
       "    <tr>\n",
       "      <th>0</th>\n",
       "      <td>2002-01-16</td>\n",
       "      <td>BP.VCAB-BP.VCAB</td>\n",
       "      <td>0.9-1.2</td>\n",
       "      <td>1.0</td>\n",
       "      <td>-0.006828</td>\n",
       "      <td>0.000005</td>\n",
       "    </tr>\n",
       "    <tr>\n",
       "      <th>0</th>\n",
       "      <td>2002-01-31</td>\n",
       "      <td>BP.VCAB-BP.VCAB</td>\n",
       "      <td>0.9-1.2</td>\n",
       "      <td>1.0</td>\n",
       "      <td>-0.012517</td>\n",
       "      <td>0.000003</td>\n",
       "    </tr>\n",
       "    <tr>\n",
       "      <th>0</th>\n",
       "      <td>2002-02-15</td>\n",
       "      <td>BP.VCAB-BP.VCAB</td>\n",
       "      <td>0.9-1.2</td>\n",
       "      <td>1.0</td>\n",
       "      <td>-0.029207</td>\n",
       "      <td>0.000006</td>\n",
       "    </tr>\n",
       "    <tr>\n",
       "      <th>0</th>\n",
       "      <td>2002-03-02</td>\n",
       "      <td>BP.VCAB-BP.VCAB</td>\n",
       "      <td>0.9-1.2</td>\n",
       "      <td>1.0</td>\n",
       "      <td>-0.047641</td>\n",
       "      <td>0.000003</td>\n",
       "    </tr>\n",
       "    <tr>\n",
       "      <th>0</th>\n",
       "      <td>2002-03-17</td>\n",
       "      <td>BP.VCAB-BP.VCAB</td>\n",
       "      <td>0.9-1.2</td>\n",
       "      <td>1.0</td>\n",
       "      <td>-0.050960</td>\n",
       "      <td>0.000004</td>\n",
       "    </tr>\n",
       "    <tr>\n",
       "      <th>...</th>\n",
       "      <td>...</td>\n",
       "      <td>...</td>\n",
       "      <td>...</td>\n",
       "      <td>...</td>\n",
       "      <td>...</td>\n",
       "      <td>...</td>\n",
       "    </tr>\n",
       "    <tr>\n",
       "      <th>0</th>\n",
       "      <td>2022-03-17</td>\n",
       "      <td>BP.VCAB-BP.VCAB</td>\n",
       "      <td>0.9-1.2</td>\n",
       "      <td>1.0</td>\n",
       "      <td>0.031112</td>\n",
       "      <td>0.000001</td>\n",
       "    </tr>\n",
       "    <tr>\n",
       "      <th>0</th>\n",
       "      <td>2022-04-01</td>\n",
       "      <td>BP.VCAB-BP.VCAB</td>\n",
       "      <td>0.9-1.2</td>\n",
       "      <td>1.0</td>\n",
       "      <td>0.036432</td>\n",
       "      <td>0.000001</td>\n",
       "    </tr>\n",
       "    <tr>\n",
       "      <th>0</th>\n",
       "      <td>2022-04-16</td>\n",
       "      <td>BP.VCAB-BP.VCAB</td>\n",
       "      <td>0.9-1.2</td>\n",
       "      <td>1.0</td>\n",
       "      <td>0.054801</td>\n",
       "      <td>0.000002</td>\n",
       "    </tr>\n",
       "    <tr>\n",
       "      <th>0</th>\n",
       "      <td>2022-05-01</td>\n",
       "      <td>BP.VCAB-BP.VCAB</td>\n",
       "      <td>0.9-1.2</td>\n",
       "      <td>1.0</td>\n",
       "      <td>0.037922</td>\n",
       "      <td>0.000002</td>\n",
       "    </tr>\n",
       "    <tr>\n",
       "      <th>0</th>\n",
       "      <td>2022-05-16</td>\n",
       "      <td>BP.VCAB-BP.VCAB</td>\n",
       "      <td>0.9-1.2</td>\n",
       "      <td>1.0</td>\n",
       "      <td>0.046758</td>\n",
       "      <td>0.000002</td>\n",
       "    </tr>\n",
       "  </tbody>\n",
       "</table>\n",
       "<p>472 rows × 6 columns</p>\n",
       "</div>"
      ],
      "text/plain": [
       "         date      stationpair freqband  cc_weight       dvv       err\n",
       "0  2002-01-16  BP.VCAB-BP.VCAB  0.9-1.2        1.0 -0.006828  0.000005\n",
       "0  2002-01-31  BP.VCAB-BP.VCAB  0.9-1.2        1.0 -0.012517  0.000003\n",
       "0  2002-02-15  BP.VCAB-BP.VCAB  0.9-1.2        1.0 -0.029207  0.000006\n",
       "0  2002-03-02  BP.VCAB-BP.VCAB  0.9-1.2        1.0 -0.047641  0.000003\n",
       "0  2002-03-17  BP.VCAB-BP.VCAB  0.9-1.2        1.0 -0.050960  0.000004\n",
       "..        ...              ...      ...        ...       ...       ...\n",
       "0  2022-03-17  BP.VCAB-BP.VCAB  0.9-1.2        1.0  0.031112  0.000001\n",
       "0  2022-04-01  BP.VCAB-BP.VCAB  0.9-1.2        1.0  0.036432  0.000001\n",
       "0  2022-04-16  BP.VCAB-BP.VCAB  0.9-1.2        1.0  0.054801  0.000002\n",
       "0  2022-05-01  BP.VCAB-BP.VCAB  0.9-1.2        1.0  0.037922  0.000002\n",
       "0  2022-05-16  BP.VCAB-BP.VCAB  0.9-1.2        1.0  0.046758  0.000002\n",
       "\n",
       "[472 rows x 6 columns]"
      ]
     },
     "execution_count": 68,
     "metadata": {},
     "output_type": "execute_result"
    }
   ],
   "source": [
    "df_threshold_weight_pair"
   ]
  },
  {
   "cell_type": "code",
   "execution_count": null,
   "metadata": {},
   "outputs": [],
   "source": []
  }
 ],
 "metadata": {
  "@webio": {
   "lastCommId": null,
   "lastKernelId": null
  },
  "kernelspec": {
   "display_name": "Python 3 (ipykernel)",
   "language": "python",
   "name": "python3"
  },
  "language_info": {
   "codemirror_mode": {
    "name": "ipython",
    "version": 3
   },
   "file_extension": ".py",
   "mimetype": "text/x-python",
   "name": "python",
   "nbconvert_exporter": "python",
   "pygments_lexer": "ipython3",
   "version": "3.8.12"
  }
 },
 "nbformat": 4,
 "nbformat_minor": 4
}
