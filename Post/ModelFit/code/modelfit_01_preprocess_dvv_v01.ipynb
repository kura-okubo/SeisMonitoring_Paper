{
 "cells": [
  {
   "cell_type": "markdown",
   "metadata": {},
   "source": [
    "# Preprocessing dv/v for model fitting\n",
    "2022.11.01 Kurama OKUBO\n",
    "\n",
    "This notebook convert the output of dv/v in csv format from the `SeisMonitoring.smstats_read` to the .h5 dataset with preprocessing such as the channel weighting and the thresholding with correlation coefficient. The h5 dataset is used to estimate the model parameters using MCMC algorithm.\n",
    "\n",
    "NOTE: For mwcs, we correct sign and magnitude of dvv ((-1) * 100) [\\%] to synchronize with the result of stretching.\n",
    "SeisDvv.MWCS() outputs the dt/T in fraction [-]."
   ]
  },
  {
   "cell_type": "code",
   "execution_count": 1,
   "metadata": {},
   "outputs": [],
   "source": [
    "import datetime\n",
    "import time\n",
    "\n",
    "import os\n",
    "\n",
    "import matplotlib\n",
    "import matplotlib.pyplot as plt\n",
    "import matplotlib.dates as dates\n",
    "import matplotlib.dates as mdates\n",
    "%matplotlib inline\n",
    "\n",
    "import numpy as np\n",
    "import pandas as pd\n",
    "\n",
    "import shutil\n",
    "from tqdm import tqdm\n",
    "\n",
    "os.environ['TZ'] = 'GMT' # change time zone to avoid confusion in unix_tvec conversion\n",
    "\n",
    "plt.rcParams[\"font.family\"] = \"Arial\"\n",
    "plt.rcParams[\"font.size\"] = 12"
   ]
  },
  {
   "cell_type": "code",
   "execution_count": 2,
   "metadata": {},
   "outputs": [],
   "source": [
    "rootdir = \"../data\"\n",
    "csv_stats_names = [\"monitoring_stats_uwbackup_2010-2022_stretching.csv\", \"monitoring_stats_uwbackup_2010-2022_mwcs.csv\"]\n",
    "\n",
    "csv_stats_list = [os.path.join(rootdir, x) for x in csv_stats_names]"
   ]
  },
  {
   "cell_type": "code",
   "execution_count": 3,
   "metadata": {},
   "outputs": [],
   "source": [
    "#---set the file path of your case study list---#\n",
    "csv_stats_id = 1\n",
    "\n",
    "starttime = datetime.datetime(2002, 1, 1)\n",
    "endtime = datetime.datetime(2022, 6, 1)\n",
    "\n",
    "fitting_starttime = datetime.datetime(2002, 1, 1)#datetime.datetime(2008, 1, 1)\n",
    "fitting_endtime = datetime.datetime(2022, 6, 1)#datetime.datetime(2018, 1, 1) # datetime.datetime(2013, 1, 1)\n",
    "\n",
    "vlines = [datetime.datetime(2003, 12, 12), datetime.datetime(2004, 9, 28)] \n",
    "\n",
    "cc_time_unit=86400 # short-stacking time unit\n",
    "averagestack_factor=30 # length of time bin to compute mean and std\n",
    "averagestack_step=15\n",
    "\n",
    "cc_threshold = 0.7 # threshold of correlation coefficient\n",
    "err_mwcs_eps= 2e-4#0.5-0.9: 0.005  #[%]\n",
    "\n",
    "dvv_eps=1.0 #[%] threshold for maximum dv/v value; this is arbitrarily chosen to remove too large dv/v values\n",
    "\n",
    "freqid = 3 # id of frequency band: 1-4: see the block of freqbands: [0: '0.2-0.5', 1:'0.5-0.9', 2:'0.9-1.2', 3:'1.2-2.10']\n",
    "\n",
    "output_imgdir = \"../figure\"\n",
    "output_datadir = \"../processed_data\"\n",
    "image_format=\"png\"\n",
    "dpi = 150\n",
    "show=True\n",
    "#-------------------------------------------#\n",
    "\n",
    "if not os.path.exists(output_imgdir):\n",
    "    os.makedirs(output_imgdir)\n",
    "    \n",
    "if not os.path.exists(output_datadir):\n",
    "    os.makedirs(output_datadir)"
   ]
  },
  {
   "cell_type": "code",
   "execution_count": 4,
   "metadata": {},
   "outputs": [],
   "source": [
    "csv_stats = csv_stats_list[csv_stats_id]\n",
    "dvvmethod = os.path.basename(csv_stats).split(\".csv\")[0].split(\"_\")[-1]"
   ]
  },
  {
   "cell_type": "code",
   "execution_count": 5,
   "metadata": {},
   "outputs": [
    {
     "data": {
      "text/plain": [
       "datetime.datetime(2002, 1, 16, 0, 0)"
      ]
     },
     "execution_count": 5,
     "metadata": {},
     "output_type": "execute_result"
    }
   ],
   "source": [
    "# make uniform time vector\n",
    "st_center = (averagestack_factor*cc_time_unit/86400)/2\n",
    "date_range_st = starttime + datetime.timedelta(days=st_center) # day\n",
    "date_range_st"
   ]
  },
  {
   "cell_type": "code",
   "execution_count": 6,
   "metadata": {},
   "outputs": [
    {
     "data": {
      "text/plain": [
       "'15D'"
      ]
     },
     "execution_count": 6,
     "metadata": {},
     "output_type": "execute_result"
    }
   ],
   "source": [
    "datefreq = '%dD'%(averagestack_step*cc_time_unit/86400)\n",
    "datefreq"
   ]
  },
  {
   "cell_type": "code",
   "execution_count": 7,
   "metadata": {},
   "outputs": [],
   "source": [
    "uniformdates = pd.date_range(start=date_range_st, end=endtime, freq=datefreq)"
   ]
  },
  {
   "cell_type": "code",
   "execution_count": 8,
   "metadata": {},
   "outputs": [],
   "source": [
    "uniform_tvec = uniformdates.date"
   ]
  },
  {
   "cell_type": "code",
   "execution_count": 9,
   "metadata": {},
   "outputs": [
    {
     "data": {
      "text/plain": [
       "array(['0.2-0.5', '0.5-0.9', '0.9-1.2', '1.2-2.0'], dtype=object)"
      ]
     },
     "execution_count": 9,
     "metadata": {},
     "output_type": "execute_result"
    }
   ],
   "source": [
    "df_origin=pd.read_csv(csv_stats, dtype=str, comment='#')\n",
    "\n",
    "#scan frequency band\n",
    "freqbands = np.unique(df_origin.freqband) #freqid is corresponding to the index of this band\n",
    "freqbands"
   ]
  },
  {
   "cell_type": "code",
   "execution_count": 10,
   "metadata": {},
   "outputs": [],
   "source": [
    "# set dtype\n",
    "df_origin['date'] = pd.to_datetime(df_origin['date'], format=\"%Y-%m-%dT%H:%M:%S.%f\")\n",
    "\n",
    "if dvvmethod==\"stretching\":\n",
    "    df_origin['cc_dvv'] = df_origin['cc_ts'].astype(float)\n",
    "    df_origin['dvv'] = df_origin['dvv_ts'].astype(float)\n",
    "    df_origin['err'] = df_origin['err_ts'].astype(float)\n",
    "\n",
    "elif dvvmethod==\"mwcs\":\n",
    "    \"\"\"\n",
    "    We chose dvv_mwcs here, but you can also use dvv0_mwcs, which impose crossing at zero.\n",
    "    \"\"\"\n",
    "    df_origin['dvv'] = (-1) * 100 * df_origin['dvv_mwcs'].astype(float) # convert the unit to [%]\n",
    "    df_origin['err'] =  100 * df_origin['dvv_err_mwcs'].astype(float)\n",
    "\n",
    "    \n",
    "elif dvvmethod==\"codaQ\":\n",
    "    df_origin['cc_dvv'] = df_origin['cc_dvv'].astype(float)\n",
    "    df_origin['dvv'] = df_origin['dvv'].astype(float)"
   ]
  },
  {
   "cell_type": "code",
   "execution_count": 11,
   "metadata": {},
   "outputs": [
    {
     "data": {
      "text/html": [
       "<div>\n",
       "<style scoped>\n",
       "    .dataframe tbody tr th:only-of-type {\n",
       "        vertical-align: middle;\n",
       "    }\n",
       "\n",
       "    .dataframe tbody tr th {\n",
       "        vertical-align: top;\n",
       "    }\n",
       "\n",
       "    .dataframe thead th {\n",
       "        text-align: right;\n",
       "    }\n",
       "</style>\n",
       "<table border=\"1\" class=\"dataframe\">\n",
       "  <thead>\n",
       "    <tr style=\"text-align: right;\">\n",
       "      <th></th>\n",
       "      <th>date</th>\n",
       "      <th>stationpair</th>\n",
       "      <th>networks</th>\n",
       "      <th>components</th>\n",
       "      <th>freqband</th>\n",
       "      <th>dvv_mwcs</th>\n",
       "      <th>dvv0_mwcs</th>\n",
       "      <th>dvv_err_mwcs</th>\n",
       "      <th>dvv0_err_mwcs</th>\n",
       "      <th>dvv</th>\n",
       "      <th>err</th>\n",
       "    </tr>\n",
       "  </thead>\n",
       "  <tbody>\n",
       "    <tr>\n",
       "      <th>0</th>\n",
       "      <td>2002-05-16</td>\n",
       "      <td>BP.CCRB-BP.CCRB</td>\n",
       "      <td>BP-BP</td>\n",
       "      <td>11</td>\n",
       "      <td>0.2-0.5</td>\n",
       "      <td>-0.004202141111779931</td>\n",
       "      <td>-0.004202141593014656</td>\n",
       "      <td>1.6032154558632516e-5</td>\n",
       "      <td>1.6032122251148442e-5</td>\n",
       "      <td>0.420214</td>\n",
       "      <td>1.603215e-03</td>\n",
       "    </tr>\n",
       "    <tr>\n",
       "      <th>1</th>\n",
       "      <td>2002-05-16</td>\n",
       "      <td>BP.CCRB-BP.CCRB</td>\n",
       "      <td>BP-BP</td>\n",
       "      <td>11</td>\n",
       "      <td>0.5-0.9</td>\n",
       "      <td>0.00047500200217747617</td>\n",
       "      <td>0.0004782995489394368</td>\n",
       "      <td>3.0225200979495056e-7</td>\n",
       "      <td>3.0150154930237515e-7</td>\n",
       "      <td>-0.047500</td>\n",
       "      <td>3.022520e-05</td>\n",
       "    </tr>\n",
       "    <tr>\n",
       "      <th>2</th>\n",
       "      <td>2002-05-16</td>\n",
       "      <td>BP.CCRB-BP.CCRB</td>\n",
       "      <td>BP-BP</td>\n",
       "      <td>11</td>\n",
       "      <td>0.9-1.2</td>\n",
       "      <td>-0.0002544209653618679</td>\n",
       "      <td>-0.0004092988735225027</td>\n",
       "      <td>1.1636108854185343e-7</td>\n",
       "      <td>9.664286489118059e-8</td>\n",
       "      <td>0.025442</td>\n",
       "      <td>1.163611e-05</td>\n",
       "    </tr>\n",
       "    <tr>\n",
       "      <th>3</th>\n",
       "      <td>2002-05-16</td>\n",
       "      <td>BP.CCRB-BP.CCRB</td>\n",
       "      <td>BP-BP</td>\n",
       "      <td>11</td>\n",
       "      <td>1.2-2.0</td>\n",
       "      <td>0.0006919832045516637</td>\n",
       "      <td>0.0005558658183633814</td>\n",
       "      <td>5.89138998774463e-6</td>\n",
       "      <td>5.8684596503249385e-6</td>\n",
       "      <td>-0.069198</td>\n",
       "      <td>5.891390e-04</td>\n",
       "    </tr>\n",
       "    <tr>\n",
       "      <th>4</th>\n",
       "      <td>2002-05-31</td>\n",
       "      <td>BP.CCRB-BP.CCRB</td>\n",
       "      <td>BP-BP</td>\n",
       "      <td>11</td>\n",
       "      <td>0.2-0.5</td>\n",
       "      <td>-3.6065890721532164e-5</td>\n",
       "      <td>-3.2780282152109065e-5</td>\n",
       "      <td>3.1650222320287525e-6</td>\n",
       "      <td>3.1606102277351435e-6</td>\n",
       "      <td>0.003607</td>\n",
       "      <td>3.165022e-04</td>\n",
       "    </tr>\n",
       "    <tr>\n",
       "      <th>...</th>\n",
       "      <td>...</td>\n",
       "      <td>...</td>\n",
       "      <td>...</td>\n",
       "      <td>...</td>\n",
       "      <td>...</td>\n",
       "      <td>...</td>\n",
       "      <td>...</td>\n",
       "      <td>...</td>\n",
       "      <td>...</td>\n",
       "      <td>...</td>\n",
       "      <td>...</td>\n",
       "    </tr>\n",
       "    <tr>\n",
       "      <th>1185964</th>\n",
       "      <td>2022-05-01</td>\n",
       "      <td>BP.VCAB-BP.VCAB</td>\n",
       "      <td>BP-BP</td>\n",
       "      <td>33</td>\n",
       "      <td>1.2-2.0</td>\n",
       "      <td>1.4531688383075603e-5</td>\n",
       "      <td>2.000930308216782e-5</td>\n",
       "      <td>1.2065934948700813e-6</td>\n",
       "      <td>1.2318551809646882e-6</td>\n",
       "      <td>-0.001453</td>\n",
       "      <td>1.206593e-04</td>\n",
       "    </tr>\n",
       "    <tr>\n",
       "      <th>1185965</th>\n",
       "      <td>2022-05-16</td>\n",
       "      <td>BP.VCAB-BP.VCAB</td>\n",
       "      <td>BP-BP</td>\n",
       "      <td>33</td>\n",
       "      <td>0.2-0.5</td>\n",
       "      <td>-0.0012362734646587078</td>\n",
       "      <td>-0.0012362177778117215</td>\n",
       "      <td>5.610137386405975e-7</td>\n",
       "      <td>5.609985691458567e-7</td>\n",
       "      <td>0.123627</td>\n",
       "      <td>5.610137e-05</td>\n",
       "    </tr>\n",
       "    <tr>\n",
       "      <th>1185966</th>\n",
       "      <td>2022-05-16</td>\n",
       "      <td>BP.VCAB-BP.VCAB</td>\n",
       "      <td>BP-BP</td>\n",
       "      <td>33</td>\n",
       "      <td>0.5-0.9</td>\n",
       "      <td>-0.0003348099840670397</td>\n",
       "      <td>-0.0003357173260350196</td>\n",
       "      <td>2.0454088141648332e-7</td>\n",
       "      <td>2.0469418215310668e-7</td>\n",
       "      <td>0.033481</td>\n",
       "      <td>2.045409e-05</td>\n",
       "    </tr>\n",
       "    <tr>\n",
       "      <th>1185967</th>\n",
       "      <td>2022-05-16</td>\n",
       "      <td>BP.VCAB-BP.VCAB</td>\n",
       "      <td>BP-BP</td>\n",
       "      <td>33</td>\n",
       "      <td>0.9-1.2</td>\n",
       "      <td>-0.000554342554326686</td>\n",
       "      <td>-0.0005523833545014369</td>\n",
       "      <td>9.029720716963578e-9</td>\n",
       "      <td>9.492023608816122e-9</td>\n",
       "      <td>0.055434</td>\n",
       "      <td>9.029721e-07</td>\n",
       "    </tr>\n",
       "    <tr>\n",
       "      <th>1185968</th>\n",
       "      <td>2022-05-16</td>\n",
       "      <td>BP.VCAB-BP.VCAB</td>\n",
       "      <td>BP-BP</td>\n",
       "      <td>33</td>\n",
       "      <td>1.2-2.0</td>\n",
       "      <td>-0.00035461196996913936</td>\n",
       "      <td>-0.00038637921983675065</td>\n",
       "      <td>1.270174864939964e-6</td>\n",
       "      <td>1.2980934723238494e-6</td>\n",
       "      <td>0.035461</td>\n",
       "      <td>1.270175e-04</td>\n",
       "    </tr>\n",
       "  </tbody>\n",
       "</table>\n",
       "<p>1185969 rows × 11 columns</p>\n",
       "</div>"
      ],
      "text/plain": [
       "              date      stationpair networks components freqband  \\\n",
       "0       2002-05-16  BP.CCRB-BP.CCRB    BP-BP         11  0.2-0.5   \n",
       "1       2002-05-16  BP.CCRB-BP.CCRB    BP-BP         11  0.5-0.9   \n",
       "2       2002-05-16  BP.CCRB-BP.CCRB    BP-BP         11  0.9-1.2   \n",
       "3       2002-05-16  BP.CCRB-BP.CCRB    BP-BP         11  1.2-2.0   \n",
       "4       2002-05-31  BP.CCRB-BP.CCRB    BP-BP         11  0.2-0.5   \n",
       "...            ...              ...      ...        ...      ...   \n",
       "1185964 2022-05-01  BP.VCAB-BP.VCAB    BP-BP         33  1.2-2.0   \n",
       "1185965 2022-05-16  BP.VCAB-BP.VCAB    BP-BP         33  0.2-0.5   \n",
       "1185966 2022-05-16  BP.VCAB-BP.VCAB    BP-BP         33  0.5-0.9   \n",
       "1185967 2022-05-16  BP.VCAB-BP.VCAB    BP-BP         33  0.9-1.2   \n",
       "1185968 2022-05-16  BP.VCAB-BP.VCAB    BP-BP         33  1.2-2.0   \n",
       "\n",
       "                        dvv_mwcs                dvv0_mwcs  \\\n",
       "0          -0.004202141111779931    -0.004202141593014656   \n",
       "1         0.00047500200217747617    0.0004782995489394368   \n",
       "2         -0.0002544209653618679   -0.0004092988735225027   \n",
       "3          0.0006919832045516637    0.0005558658183633814   \n",
       "4         -3.6065890721532164e-5   -3.2780282152109065e-5   \n",
       "...                          ...                      ...   \n",
       "1185964    1.4531688383075603e-5     2.000930308216782e-5   \n",
       "1185965   -0.0012362734646587078   -0.0012362177778117215   \n",
       "1185966   -0.0003348099840670397   -0.0003357173260350196   \n",
       "1185967    -0.000554342554326686   -0.0005523833545014369   \n",
       "1185968  -0.00035461196996913936  -0.00038637921983675065   \n",
       "\n",
       "                  dvv_err_mwcs          dvv0_err_mwcs       dvv           err  \n",
       "0        1.6032154558632516e-5  1.6032122251148442e-5  0.420214  1.603215e-03  \n",
       "1        3.0225200979495056e-7  3.0150154930237515e-7 -0.047500  3.022520e-05  \n",
       "2        1.1636108854185343e-7   9.664286489118059e-8  0.025442  1.163611e-05  \n",
       "3          5.89138998774463e-6  5.8684596503249385e-6 -0.069198  5.891390e-04  \n",
       "4        3.1650222320287525e-6  3.1606102277351435e-6  0.003607  3.165022e-04  \n",
       "...                        ...                    ...       ...           ...  \n",
       "1185964  1.2065934948700813e-6  1.2318551809646882e-6 -0.001453  1.206593e-04  \n",
       "1185965   5.610137386405975e-7   5.609985691458567e-7  0.123627  5.610137e-05  \n",
       "1185966  2.0454088141648332e-7  2.0469418215310668e-7  0.033481  2.045409e-05  \n",
       "1185967   9.029720716963578e-9   9.492023608816122e-9  0.055434  9.029721e-07  \n",
       "1185968   1.270174864939964e-6  1.2980934723238494e-6  0.035461  1.270175e-04  \n",
       "\n",
       "[1185969 rows x 11 columns]"
      ]
     },
     "execution_count": 11,
     "metadata": {},
     "output_type": "execute_result"
    }
   ],
   "source": [
    "df_origin"
   ]
  },
  {
   "cell_type": "markdown",
   "metadata": {},
   "source": [
    "## Gathering all dvv traces\n",
    "\n",
    "1. filtering by frequency band\n",
    "2. filtering by cc_threshold (stretching) or err_mwcs_eps (mwcs)\n",
    "3. filtering by magnitude of dv/v value\n",
    "4. compose traces"
   ]
  },
  {
   "cell_type": "code",
   "execution_count": 12,
   "metadata": {},
   "outputs": [
    {
     "data": {
      "text/plain": [
       "83"
      ]
     },
     "execution_count": 12,
     "metadata": {},
     "output_type": "execute_result"
    }
   ],
   "source": [
    "# scan station pairs\n",
    "stationpairs_tmp = np.unique(df_origin.stationpair)\n",
    "stationpairs = []\n",
    "stationpairs = stationpairs_tmp\n",
    "len(stationpairs)"
   ]
  },
  {
   "cell_type": "code",
   "execution_count": 13,
   "metadata": {},
   "outputs": [
    {
     "data": {
      "text/html": [
       "<div>\n",
       "<style scoped>\n",
       "    .dataframe tbody tr th:only-of-type {\n",
       "        vertical-align: middle;\n",
       "    }\n",
       "\n",
       "    .dataframe tbody tr th {\n",
       "        vertical-align: top;\n",
       "    }\n",
       "\n",
       "    .dataframe thead th {\n",
       "        text-align: right;\n",
       "    }\n",
       "</style>\n",
       "<table border=\"1\" class=\"dataframe\">\n",
       "  <thead>\n",
       "    <tr style=\"text-align: right;\">\n",
       "      <th></th>\n",
       "      <th>date</th>\n",
       "      <th>stationpair</th>\n",
       "      <th>networks</th>\n",
       "      <th>components</th>\n",
       "      <th>freqband</th>\n",
       "      <th>dvv_mwcs</th>\n",
       "      <th>dvv0_mwcs</th>\n",
       "      <th>dvv_err_mwcs</th>\n",
       "      <th>dvv0_err_mwcs</th>\n",
       "      <th>dvv</th>\n",
       "      <th>err</th>\n",
       "    </tr>\n",
       "  </thead>\n",
       "  <tbody>\n",
       "    <tr>\n",
       "      <th>7</th>\n",
       "      <td>2002-05-31</td>\n",
       "      <td>BP.CCRB-BP.CCRB</td>\n",
       "      <td>BP-BP</td>\n",
       "      <td>11</td>\n",
       "      <td>1.2-2.0</td>\n",
       "      <td>0.00028648483219505987</td>\n",
       "      <td>0.00028650447037585907</td>\n",
       "      <td>1.090750892148513e-6</td>\n",
       "      <td>9.664228725477412e-7</td>\n",
       "      <td>-0.028648</td>\n",
       "      <td>0.000109</td>\n",
       "    </tr>\n",
       "    <tr>\n",
       "      <th>11</th>\n",
       "      <td>2002-06-15</td>\n",
       "      <td>BP.CCRB-BP.CCRB</td>\n",
       "      <td>BP-BP</td>\n",
       "      <td>11</td>\n",
       "      <td>1.2-2.0</td>\n",
       "      <td>0.00026107776969584945</td>\n",
       "      <td>0.00010474139227337446</td>\n",
       "      <td>1.0081856480307335e-6</td>\n",
       "      <td>9.74693524109363e-7</td>\n",
       "      <td>-0.026108</td>\n",
       "      <td>0.000101</td>\n",
       "    </tr>\n",
       "    <tr>\n",
       "      <th>15</th>\n",
       "      <td>2002-06-30</td>\n",
       "      <td>BP.CCRB-BP.CCRB</td>\n",
       "      <td>BP-BP</td>\n",
       "      <td>11</td>\n",
       "      <td>1.2-2.0</td>\n",
       "      <td>0.0002063437997914719</td>\n",
       "      <td>0.00018919238774830132</td>\n",
       "      <td>1.6631246702912429e-6</td>\n",
       "      <td>1.6345964174173865e-6</td>\n",
       "      <td>-0.020634</td>\n",
       "      <td>0.000166</td>\n",
       "    </tr>\n",
       "    <tr>\n",
       "      <th>47</th>\n",
       "      <td>2002-10-28</td>\n",
       "      <td>BP.CCRB-BP.CCRB</td>\n",
       "      <td>BP-BP</td>\n",
       "      <td>11</td>\n",
       "      <td>1.2-2.0</td>\n",
       "      <td>0.0008974180435301199</td>\n",
       "      <td>0.0008990782363084361</td>\n",
       "      <td>1.8734954383067558e-6</td>\n",
       "      <td>1.883664150863862e-6</td>\n",
       "      <td>-0.089742</td>\n",
       "      <td>0.000187</td>\n",
       "    </tr>\n",
       "    <tr>\n",
       "      <th>131</th>\n",
       "      <td>2003-11-22</td>\n",
       "      <td>BP.CCRB-BP.CCRB</td>\n",
       "      <td>BP-BP</td>\n",
       "      <td>11</td>\n",
       "      <td>1.2-2.0</td>\n",
       "      <td>0.00041936205565391583</td>\n",
       "      <td>0.00042768099456768103</td>\n",
       "      <td>5.298062838657753e-7</td>\n",
       "      <td>5.264745364603283e-7</td>\n",
       "      <td>-0.041936</td>\n",
       "      <td>0.000053</td>\n",
       "    </tr>\n",
       "    <tr>\n",
       "      <th>...</th>\n",
       "      <td>...</td>\n",
       "      <td>...</td>\n",
       "      <td>...</td>\n",
       "      <td>...</td>\n",
       "      <td>...</td>\n",
       "      <td>...</td>\n",
       "      <td>...</td>\n",
       "      <td>...</td>\n",
       "      <td>...</td>\n",
       "      <td>...</td>\n",
       "      <td>...</td>\n",
       "    </tr>\n",
       "    <tr>\n",
       "      <th>1185952</th>\n",
       "      <td>2022-03-17</td>\n",
       "      <td>BP.VCAB-BP.VCAB</td>\n",
       "      <td>BP-BP</td>\n",
       "      <td>33</td>\n",
       "      <td>1.2-2.0</td>\n",
       "      <td>0.00019330973444126658</td>\n",
       "      <td>0.00019931234386776417</td>\n",
       "      <td>8.311496679507024e-7</td>\n",
       "      <td>8.339423196426433e-7</td>\n",
       "      <td>-0.019331</td>\n",
       "      <td>0.000083</td>\n",
       "    </tr>\n",
       "    <tr>\n",
       "      <th>1185956</th>\n",
       "      <td>2022-04-01</td>\n",
       "      <td>BP.VCAB-BP.VCAB</td>\n",
       "      <td>BP-BP</td>\n",
       "      <td>33</td>\n",
       "      <td>1.2-2.0</td>\n",
       "      <td>0.0003437929441494066</td>\n",
       "      <td>0.00033744627054807036</td>\n",
       "      <td>1.7346398194949171e-6</td>\n",
       "      <td>1.740770632774889e-6</td>\n",
       "      <td>-0.034379</td>\n",
       "      <td>0.000173</td>\n",
       "    </tr>\n",
       "    <tr>\n",
       "      <th>1185960</th>\n",
       "      <td>2022-04-16</td>\n",
       "      <td>BP.VCAB-BP.VCAB</td>\n",
       "      <td>BP-BP</td>\n",
       "      <td>33</td>\n",
       "      <td>1.2-2.0</td>\n",
       "      <td>-6.940080604654341e-5</td>\n",
       "      <td>-6.19847838465199e-5</td>\n",
       "      <td>1.7035851437753995e-6</td>\n",
       "      <td>1.7035114459159846e-6</td>\n",
       "      <td>0.006940</td>\n",
       "      <td>0.000170</td>\n",
       "    </tr>\n",
       "    <tr>\n",
       "      <th>1185964</th>\n",
       "      <td>2022-05-01</td>\n",
       "      <td>BP.VCAB-BP.VCAB</td>\n",
       "      <td>BP-BP</td>\n",
       "      <td>33</td>\n",
       "      <td>1.2-2.0</td>\n",
       "      <td>1.4531688383075603e-5</td>\n",
       "      <td>2.000930308216782e-5</td>\n",
       "      <td>1.2065934948700813e-6</td>\n",
       "      <td>1.2318551809646882e-6</td>\n",
       "      <td>-0.001453</td>\n",
       "      <td>0.000121</td>\n",
       "    </tr>\n",
       "    <tr>\n",
       "      <th>1185968</th>\n",
       "      <td>2022-05-16</td>\n",
       "      <td>BP.VCAB-BP.VCAB</td>\n",
       "      <td>BP-BP</td>\n",
       "      <td>33</td>\n",
       "      <td>1.2-2.0</td>\n",
       "      <td>-0.00035461196996913936</td>\n",
       "      <td>-0.00038637921983675065</td>\n",
       "      <td>1.270174864939964e-6</td>\n",
       "      <td>1.2980934723238494e-6</td>\n",
       "      <td>0.035461</td>\n",
       "      <td>0.000127</td>\n",
       "    </tr>\n",
       "  </tbody>\n",
       "</table>\n",
       "<p>104125 rows × 11 columns</p>\n",
       "</div>"
      ],
      "text/plain": [
       "              date      stationpair networks components freqband  \\\n",
       "7       2002-05-31  BP.CCRB-BP.CCRB    BP-BP         11  1.2-2.0   \n",
       "11      2002-06-15  BP.CCRB-BP.CCRB    BP-BP         11  1.2-2.0   \n",
       "15      2002-06-30  BP.CCRB-BP.CCRB    BP-BP         11  1.2-2.0   \n",
       "47      2002-10-28  BP.CCRB-BP.CCRB    BP-BP         11  1.2-2.0   \n",
       "131     2003-11-22  BP.CCRB-BP.CCRB    BP-BP         11  1.2-2.0   \n",
       "...            ...              ...      ...        ...      ...   \n",
       "1185952 2022-03-17  BP.VCAB-BP.VCAB    BP-BP         33  1.2-2.0   \n",
       "1185956 2022-04-01  BP.VCAB-BP.VCAB    BP-BP         33  1.2-2.0   \n",
       "1185960 2022-04-16  BP.VCAB-BP.VCAB    BP-BP         33  1.2-2.0   \n",
       "1185964 2022-05-01  BP.VCAB-BP.VCAB    BP-BP         33  1.2-2.0   \n",
       "1185968 2022-05-16  BP.VCAB-BP.VCAB    BP-BP         33  1.2-2.0   \n",
       "\n",
       "                        dvv_mwcs                dvv0_mwcs  \\\n",
       "7         0.00028648483219505987   0.00028650447037585907   \n",
       "11        0.00026107776969584945   0.00010474139227337446   \n",
       "15         0.0002063437997914719   0.00018919238774830132   \n",
       "47         0.0008974180435301199    0.0008990782363084361   \n",
       "131       0.00041936205565391583   0.00042768099456768103   \n",
       "...                          ...                      ...   \n",
       "1185952   0.00019330973444126658   0.00019931234386776417   \n",
       "1185956    0.0003437929441494066   0.00033744627054807036   \n",
       "1185960    -6.940080604654341e-5     -6.19847838465199e-5   \n",
       "1185964    1.4531688383075603e-5     2.000930308216782e-5   \n",
       "1185968  -0.00035461196996913936  -0.00038637921983675065   \n",
       "\n",
       "                  dvv_err_mwcs          dvv0_err_mwcs       dvv       err  \n",
       "7         1.090750892148513e-6   9.664228725477412e-7 -0.028648  0.000109  \n",
       "11       1.0081856480307335e-6    9.74693524109363e-7 -0.026108  0.000101  \n",
       "15       1.6631246702912429e-6  1.6345964174173865e-6 -0.020634  0.000166  \n",
       "47       1.8734954383067558e-6   1.883664150863862e-6 -0.089742  0.000187  \n",
       "131       5.298062838657753e-7   5.264745364603283e-7 -0.041936  0.000053  \n",
       "...                        ...                    ...       ...       ...  \n",
       "1185952   8.311496679507024e-7   8.339423196426433e-7 -0.019331  0.000083  \n",
       "1185956  1.7346398194949171e-6   1.740770632774889e-6 -0.034379  0.000173  \n",
       "1185960  1.7035851437753995e-6  1.7035114459159846e-6  0.006940  0.000170  \n",
       "1185964  1.2065934948700813e-6  1.2318551809646882e-6 -0.001453  0.000121  \n",
       "1185968   1.270174864939964e-6  1.2980934723238494e-6  0.035461  0.000127  \n",
       "\n",
       "[104125 rows x 11 columns]"
      ]
     },
     "execution_count": 13,
     "metadata": {},
     "output_type": "execute_result"
    }
   ],
   "source": [
    "# set frequency band\n",
    "freqband = freqbands[freqid] #3, 5\n",
    "\n",
    "# set components list\n",
    "components_list = np.unique(df_origin.components)\n",
    "# components_list = ['11', '22', '33', '12', '13', '23']\n",
    "\n",
    "# Figure output directory\n",
    "figdir = output_imgdir+\"/alldvv_%s\"%freqband\n",
    "os.makedirs(figdir, exist_ok=True)\n",
    "\n",
    "# filter by frequency band\n",
    "df_freq = df_origin[df_origin.freqband==freqband]\n",
    "\n",
    "# filter by cc_threshold \n",
    "if dvvmethod==\"stretching\":\n",
    "    df_threshold = df_freq[df_freq.cc_dvv > cc_threshold]\n",
    "    # filter by its magnitude\n",
    "#     df_threshold=df_threshold[np.abs(df_threshold['dvv']) <  dvv_eps]\n",
    "\n",
    "elif dvvmethod==\"mwcs\":\n",
    "    df_threshold = df_freq[df_freq.err < err_mwcs_eps]\n",
    "    # filter by its magnitude\n",
    "#     df_threshold=df_threshold[np.abs(df_threshold['dvv']) <  0.01*dvv_eps]\n",
    "\n",
    "elif dvvmethod==\"codaQ\":\n",
    "    df_threshold = df_freq[df_freq.cc_dvv > cc_threshold]\n",
    "    # filter by its magnitude\n",
    "#     df_threshold=df_threshold[np.abs(df_threshold['dvv']) <  dvv_eps]\n",
    "\n",
    "df_threshold"
   ]
  },
  {
   "cell_type": "code",
   "execution_count": 14,
   "metadata": {},
   "outputs": [
    {
     "data": {
      "text/plain": [
       "<AxesSubplot:xlabel='date', ylabel='[err]'>"
      ]
     },
     "execution_count": 14,
     "metadata": {},
     "output_type": "execute_result"
    },
    {
     "data": {
      "image/png": "[encoded data removed]",
      "text/plain": [
       "<Figure size 432x288 with 1 Axes>"
      ]
     },
     "metadata": {
      "needs_background": "light"
     },
     "output_type": "display_data"
    }
   ],
   "source": [
    "df_threshold.plot.scatter(x=\"date\", y=[\"err\"])"
   ]
  },
  {
   "cell_type": "markdown",
   "metadata": {},
   "source": [
    "# Evaluate asymmetry in dv/v of auto correlation cross-channel\n",
    "\n",
    "As the auto-correlation function of single station is symmetric to the lag time, dv/v with cross-channel (e.g. 12 and 21) should be identical. However, the data in our csv shows small difference between them. This is caused by the asymmetric in interpolation with cubic spline fitting in the case of stretching method. Although the $\\epsilon$ in Stretching.jl is symmetric in the origin, The data point used for fitting is not symmetric (see https://github.com/tclements/SeisDvv.jl/blob/master/src/Stretching.jl). This causes a difference within a grid size of searching dv/v. We also think the cause in the case of mwcs method might be associated with the GLM. \n",
    "\n",
    "Here we show that the difference in dv/v, showing the most pairs are very close, and thus it does not have any effect on our result on dv/v time series."
   ]
  },
  {
   "cell_type": "code",
   "execution_count": 15,
   "metadata": {},
   "outputs": [
    {
     "data": {
      "text/plain": [
       "13"
      ]
     },
     "execution_count": 15,
     "metadata": {},
     "output_type": "execute_result"
    }
   ],
   "source": [
    "# scan station pairs\n",
    "stationpairs_tmp = np.unique(df_origin.stationpair)\n",
    "stationpairs_auto = []\n",
    "for st in stationpairs_tmp:\n",
    "    sta1, sta2 = st.split(\"-\")\n",
    "    if sta1 == sta2:\n",
    "        stationpairs_auto.append(st)\n",
    "\n",
    "len(stationpairs_auto)"
   ]
  },
  {
   "cell_type": "code",
   "execution_count": 16,
   "metadata": {},
   "outputs": [],
   "source": [
    "components_asymmetric = [\"12\", \"13\", \"23\"] # components to be evaluated on the residual to the flipped component"
   ]
  },
  {
   "cell_type": "code",
   "execution_count": 17,
   "metadata": {},
   "outputs": [
    {
     "name": "stderr",
     "output_type": "stream",
     "text": [
      "\r",
      "  0%|                                                    | 0/13 [00:00<?, ?it/s]"
     ]
    },
    {
     "name": "stdout",
     "output_type": "stream",
     "text": [
      "0.0001852083430968764\n",
      "0.00010314480220252756\n",
      "0.00018256119476643334\n",
      "0.00018076305867973858\n",
      "0.00018660532578022794\n",
      "0.000173910891044984\n",
      "0.00011074462774257103\n",
      "0.00018960599244905948\n",
      "0.0001777095236581002\n",
      "0.00013350509302011393\n",
      "0.0001961807582694458\n",
      "0.00011778958286956767\n",
      "0.00019316448104483036\n"
     ]
    },
    {
     "name": "stderr",
     "output_type": "stream",
     "text": [
      "\r",
      "  8%|███▍                                        | 1/13 [00:01<00:12,  1.02s/it]"
     ]
    },
    {
     "name": "stdout",
     "output_type": "stream",
     "text": [
      "0.0001814685881652815\n",
      "7.981632727172411e-05\n",
      "0.00019308088365021115\n",
      "0.00014097316869111906\n",
      "0.00017520311277602056\n",
      "0.00019747887821671344\n",
      "0.00017983524818901588\n",
      "0.00019968017856312532\n",
      "0.000174899325395094\n",
      "0.0001659430270781076\n",
      "0.00018755418931355454\n",
      "0.00013749842615107624\n",
      "0.00019339938456637985\n",
      "0.0001572065223289365\n",
      "0.00015604921710349123\n",
      "0.0001927907520337244\n",
      "0.00011561344589672065\n",
      "0.00019929553152085714\n",
      "0.00018487216851160364\n",
      "0.00012745112887901894\n",
      "0.0001970185054130871\n",
      "0.00012613881634053128\n"
     ]
    },
    {
     "name": "stderr",
     "output_type": "stream",
     "text": [
      " 23%|██████████▏                                 | 3/13 [00:02<00:06,  1.51it/s]"
     ]
    },
    {
     "name": "stdout",
     "output_type": "stream",
     "text": [
      "0.00019687471133311872\n",
      "8.45025836553842e-05\n",
      "0.00014269608124422626\n",
      "4.399262986687664e-05\n",
      "3.4752464482510114e-05\n",
      "8.393391666499346e-05\n",
      "8.414523499012252e-05\n",
      "0.00018295899185754628\n",
      "0.0001940444320287355\n",
      "0.0001330448570545406\n",
      "0.00016481795473869906\n",
      "0.00015737056394988448\n",
      "6.127317866106754e-05\n",
      "5.307114359456581e-05\n",
      "9.140034394314547e-05\n",
      "8.227425953447073e-05\n",
      "0.00011181722797201186\n",
      "8.190013122706186e-05\n",
      "0.00010401107416718238\n",
      "0.00013507122253459032\n",
      "0.00012618193286946175\n",
      "0.00011706705195423258\n",
      "0.00013986427551940199\n",
      "0.0001526063535897853\n",
      "9.853818333551975e-05\n",
      "0.00014627260003680038\n",
      "0.00019779031405495195\n",
      "0.00018870724498936469\n",
      "5.169410659000883e-05\n",
      "0.00017378807341895857\n",
      "4.7781555286048204e-05\n",
      "4.694259740188185e-05\n",
      "5.3164121521507193e-05\n",
      "0.00015625534649218689\n",
      "0.00015576284742682513\n",
      "0.00014408295083229007\n",
      "0.00018215777161836887\n",
      "0.00017274583745861466\n",
      "0.00014137527041189842\n"
     ]
    },
    {
     "name": "stderr",
     "output_type": "stream",
     "text": [
      "\r",
      " 31%|█████████████▌                              | 4/13 [00:02<00:04,  1.92it/s]"
     ]
    },
    {
     "name": "stdout",
     "output_type": "stream",
     "text": [
      "0.0001405705532896429\n",
      "0.00016251306021272243\n",
      "0.00016265040992477617\n"
     ]
    },
    {
     "name": "stderr",
     "output_type": "stream",
     "text": [
      "\r",
      " 38%|████████████████▉                           | 5/13 [00:03<00:03,  2.10it/s]"
     ]
    },
    {
     "name": "stdout",
     "output_type": "stream",
     "text": [
      "0.000157099203513098\n",
      "0.0001988395634454344\n",
      "0.00014261125646510822\n",
      "0.00015288062992178383\n",
      "0.00013752747692302245\n",
      "0.0001505060289988825\n",
      "0.0001512605379107909\n"
     ]
    },
    {
     "name": "stderr",
     "output_type": "stream",
     "text": [
      "\r",
      " 46%|████████████████████▎                       | 6/13 [00:03<00:02,  2.58it/s]"
     ]
    },
    {
     "name": "stdout",
     "output_type": "stream",
     "text": [
      "0.00019677392397928178\n",
      "0.0001478894727704954\n",
      "8.310518607160583e-05\n",
      "0.00018340561666124533\n",
      "0.00018020111575197341\n",
      "0.00017542224366786508\n",
      "0.00018118877813709788\n",
      "0.00011114901657887879\n",
      "0.00019941574204777085\n",
      "0.00016571022544029337\n",
      "9.634618197429974e-05\n",
      "0.00019308344156242614\n",
      "0.00017389071704759763\n",
      "0.0001662495569636057\n",
      "0.00016826664066126672\n",
      "0.00016869643861731076\n",
      "0.00010641643862781168\n",
      "0.00019236493235157422\n",
      "0.00018028170868913815\n",
      "0.00018931379702337306\n",
      "0.0001768187951696607\n",
      "0.00018913038697394077\n",
      "0.00017548774735238142\n",
      "0.0001960348740677669\n",
      "0.00018854607270014784\n",
      "0.0001729431596500261\n",
      "0.00013941989091582714\n",
      "0.00017243667790912354\n",
      "0.00018914968411033048\n",
      "0.0001900091983578604\n",
      "0.0001917786538596644\n",
      "0.00015756344755933266\n",
      "0.00017084839554121342\n",
      "7.48884965042656e-05\n"
     ]
    },
    {
     "name": "stderr",
     "output_type": "stream",
     "text": [
      "\r",
      " 54%|███████████████████████▋                    | 7/13 [00:04<00:03,  1.94it/s]"
     ]
    },
    {
     "name": "stdout",
     "output_type": "stream",
     "text": [
      "0.00019816149543630011\n",
      "0.00015544774548143758\n",
      "0.00017840306429354018\n",
      "0.00019557079661239156\n",
      "0.0001499686685970576\n",
      "0.00019777925788318012\n",
      "9.123100837620683e-05\n",
      "0.00017821485481939788\n",
      "0.0001127320679577462\n",
      "0.00017435973887306878\n",
      "0.00018687031068574604\n",
      "0.0001816169660126857\n",
      "0.00011469108706574326\n",
      "0.00019559967496191104\n",
      "0.0001951490335116282\n",
      "0.00016790389060375213\n",
      "0.00016946367942066788\n",
      "0.0001933762348113165\n",
      "0.00018391807983570658\n",
      "0.00014892080978250662\n"
     ]
    },
    {
     "name": "stderr",
     "output_type": "stream",
     "text": [
      "\r",
      " 62%|███████████████████████████                 | 8/13 [00:04<00:03,  1.54it/s]"
     ]
    },
    {
     "name": "stdout",
     "output_type": "stream",
     "text": [
      "0.00019042621318538227\n",
      "0.0001854643108210302\n",
      "0.0001979185809482548\n",
      "0.00016169489246833945\n",
      "0.00016956411777471503\n",
      "0.0001687871463061116\n",
      "0.0001664912388209376\n",
      "0.0001987414611420401\n",
      "0.00019062445214081727\n",
      "0.000167014393593969\n",
      "0.00014228724250902325\n"
     ]
    },
    {
     "name": "stderr",
     "output_type": "stream",
     "text": [
      "\r",
      " 69%|██████████████████████████████▍             | 9/13 [00:05<00:02,  1.79it/s]"
     ]
    },
    {
     "name": "stdout",
     "output_type": "stream",
     "text": [
      "0.0001665359727902278\n",
      "0.0001855238206891747\n",
      "0.00019363571737223732\n",
      "0.00015025848085269093\n",
      "0.00017327448326291185\n",
      "0.00018650146941367974\n",
      "0.0001997457949080056\n",
      "0.00010785929363134127\n",
      "0.00018362840650661474\n",
      "0.00015207319889161877\n",
      "0.00016830560304545463\n",
      "0.00012520494637266954\n",
      "0.00019728733353303112\n",
      "0.00019320644340866202\n",
      "0.00018688221591841968\n",
      "0.00019200233627295372\n",
      "0.00013253379334089076\n",
      "0.00016751604846660485\n",
      "0.00013987881225865546\n",
      "0.00013000788030492928\n",
      "0.00018928396510666358\n",
      "0.00019385979195900402\n",
      "8.010835811958763e-05\n",
      "0.00016653366363296427\n"
     ]
    },
    {
     "name": "stderr",
     "output_type": "stream",
     "text": [
      "\r",
      " 77%|█████████████████████████████████          | 10/13 [00:06<00:02,  1.44it/s]"
     ]
    },
    {
     "name": "stdout",
     "output_type": "stream",
     "text": [
      "0.00010814581403116881\n",
      "0.0001360766994376322\n",
      "9.101048044076277e-05\n",
      "8.93761008202789e-05\n",
      "0.00012041008616921886\n",
      "0.00014715958085135484\n",
      "0.00018213619127124697\n",
      "0.0001570604805422361\n"
     ]
    },
    {
     "name": "stderr",
     "output_type": "stream",
     "text": [
      " 92%|███████████████████████████████████████▋   | 12/13 [00:07<00:00,  1.86it/s]"
     ]
    },
    {
     "name": "stdout",
     "output_type": "stream",
     "text": [
      "0.00015552906151109074\n",
      "0.00019749727231510548\n",
      "0.00015000292259277254\n",
      "0.00015324420559364085\n",
      "0.00019090603820740893\n",
      "0.00013122056399650185\n",
      "0.0001882589493070745\n",
      "0.0001795478853717607\n",
      "0.00018010679046127212\n",
      "0.00017205289798670142\n",
      "0.00019825605352091405\n",
      "0.00018290403102200458\n",
      "0.00018308323380226272\n",
      "0.00018764320167831622\n",
      "0.0001529356852269949\n",
      "0.00019783406746749524\n",
      "6.343106196574179e-05\n",
      "0.0001549901365570343\n"
     ]
    },
    {
     "name": "stderr",
     "output_type": "stream",
     "text": [
      "100%|███████████████████████████████████████████| 13/13 [00:08<00:00,  1.54it/s]"
     ]
    },
    {
     "name": "stdout",
     "output_type": "stream",
     "text": [
      "0.00017742923676212043\n"
     ]
    },
    {
     "name": "stderr",
     "output_type": "stream",
     "text": [
      "\n"
     ]
    }
   ],
   "source": [
    "res_auto_dvv = []\n",
    "\n",
    "# stationpair = stationpairs_auto[7]\n",
    "# comp = components_asymmetric[0]\n",
    "for stationid in tqdm(range(len(stationpairs_auto))):\n",
    "    stationpair = stationpairs_auto[stationid]\n",
    "    for comp in components_asymmetric:\n",
    "        df_pair = df_threshold[df_threshold.stationpair==stationpair]\n",
    "        df_pair_1 = df_pair[df_pair.components==comp]\n",
    "        df_pair_2 = df_pair[df_pair.components==comp[::-1]]\n",
    "        for dateid in range(len(df_pair_1.date)):\n",
    "            # dateid = 10\n",
    "            df_pair_1_date = df_pair_1.iloc[dateid]\n",
    "            df_pair_2_date = df_pair_2[df_pair_2.date == df_pair_1.date.iloc[dateid]]\n",
    "\n",
    "            if df_pair_2_date.empty:\n",
    "                print(df_pair_1_date.err) # this skipping occurs due to the cc_thresholding\n",
    "                continue;\n",
    "                \n",
    "            if dvvmethod==\"stretching\":\n",
    "\n",
    "                cc_dvv_1 = df_pair_1_date.cc_dvv\n",
    "                dvv_1 = df_pair_1_date.dvv #[%]\n",
    "                cc_dvv_2 = df_pair_2_date.cc_dvv.values[0]\n",
    "                dvv_2 = df_pair_2_date.dvv.values[0] #[%]\n",
    "\n",
    "                if (cc_dvv_1 > cc_threshold) &  (cc_dvv_2 > cc_threshold):\n",
    "                    res_auto_dvv.append(np.abs(dvv_2-dvv_1)) # append residual to the list\n",
    "                    \n",
    "            elif dvvmethod==\"mwcs\":\n",
    "                err_dvv_1 = df_pair_1_date.err\n",
    "                dvv_1 = df_pair_1_date.dvv #[%]\n",
    "                err_dvv_2 = df_pair_2_date.err.values[0]\n",
    "                dvv_2 = df_pair_2_date.dvv.values[0] #[%]\n",
    "                if (err_dvv_1 < err_mwcs_eps) & (err_dvv_2 < err_mwcs_eps):\n",
    "                    res_auto_dvv.append(np.abs(dvv_2-dvv_1)) # append residual to the list\n"
   ]
  },
  {
   "cell_type": "code",
   "execution_count": 18,
   "metadata": {},
   "outputs": [
    {
     "data": {
      "text/html": [
       "<div>\n",
       "<style scoped>\n",
       "    .dataframe tbody tr th:only-of-type {\n",
       "        vertical-align: middle;\n",
       "    }\n",
       "\n",
       "    .dataframe tbody tr th {\n",
       "        vertical-align: top;\n",
       "    }\n",
       "\n",
       "    .dataframe thead th {\n",
       "        text-align: right;\n",
       "    }\n",
       "</style>\n",
       "<table border=\"1\" class=\"dataframe\">\n",
       "  <thead>\n",
       "    <tr style=\"text-align: right;\">\n",
       "      <th></th>\n",
       "      <th>date</th>\n",
       "      <th>stationpair</th>\n",
       "      <th>networks</th>\n",
       "      <th>components</th>\n",
       "      <th>freqband</th>\n",
       "      <th>dvv_mwcs</th>\n",
       "      <th>dvv0_mwcs</th>\n",
       "      <th>dvv_err_mwcs</th>\n",
       "      <th>dvv0_err_mwcs</th>\n",
       "      <th>dvv</th>\n",
       "      <th>err</th>\n",
       "    </tr>\n",
       "  </thead>\n",
       "  <tbody>\n",
       "    <tr>\n",
       "      <th>1168578</th>\n",
       "      <td>2002-01-16</td>\n",
       "      <td>BP.VCAB-BP.VCAB</td>\n",
       "      <td>BP-BP</td>\n",
       "      <td>11</td>\n",
       "      <td>1.2-2.0</td>\n",
       "      <td>0.0007039360333458696</td>\n",
       "      <td>0.0006827490470729482</td>\n",
       "      <td>5.585557628327666e-7</td>\n",
       "      <td>5.541781867374749e-7</td>\n",
       "      <td>-0.070394</td>\n",
       "      <td>0.000056</td>\n",
       "    </tr>\n",
       "    <tr>\n",
       "      <th>1168582</th>\n",
       "      <td>2002-01-31</td>\n",
       "      <td>BP.VCAB-BP.VCAB</td>\n",
       "      <td>BP-BP</td>\n",
       "      <td>11</td>\n",
       "      <td>1.2-2.0</td>\n",
       "      <td>0.00017868330071504394</td>\n",
       "      <td>0.00017749954933205555</td>\n",
       "      <td>3.250210506085524e-7</td>\n",
       "      <td>3.3403969464606903e-7</td>\n",
       "      <td>-0.017868</td>\n",
       "      <td>0.000033</td>\n",
       "    </tr>\n",
       "    <tr>\n",
       "      <th>1168586</th>\n",
       "      <td>2002-02-15</td>\n",
       "      <td>BP.VCAB-BP.VCAB</td>\n",
       "      <td>BP-BP</td>\n",
       "      <td>11</td>\n",
       "      <td>1.2-2.0</td>\n",
       "      <td>0.00019735880318311246</td>\n",
       "      <td>0.00023439732528104135</td>\n",
       "      <td>7.930056859461468e-7</td>\n",
       "      <td>7.566001194574103e-7</td>\n",
       "      <td>-0.019736</td>\n",
       "      <td>0.000079</td>\n",
       "    </tr>\n",
       "    <tr>\n",
       "      <th>1168590</th>\n",
       "      <td>2002-03-02</td>\n",
       "      <td>BP.VCAB-BP.VCAB</td>\n",
       "      <td>BP-BP</td>\n",
       "      <td>11</td>\n",
       "      <td>1.2-2.0</td>\n",
       "      <td>0.00037008055184105035</td>\n",
       "      <td>0.0004026600362538035</td>\n",
       "      <td>7.672244377656002e-7</td>\n",
       "      <td>7.391054680218338e-7</td>\n",
       "      <td>-0.037008</td>\n",
       "      <td>0.000077</td>\n",
       "    </tr>\n",
       "    <tr>\n",
       "      <th>1168594</th>\n",
       "      <td>2002-03-17</td>\n",
       "      <td>BP.VCAB-BP.VCAB</td>\n",
       "      <td>BP-BP</td>\n",
       "      <td>11</td>\n",
       "      <td>1.2-2.0</td>\n",
       "      <td>-0.00026726389868761424</td>\n",
       "      <td>-0.00027293788177813326</td>\n",
       "      <td>8.297728626270387e-7</td>\n",
       "      <td>8.200978363169642e-7</td>\n",
       "      <td>0.026726</td>\n",
       "      <td>0.000083</td>\n",
       "    </tr>\n",
       "    <tr>\n",
       "      <th>...</th>\n",
       "      <td>...</td>\n",
       "      <td>...</td>\n",
       "      <td>...</td>\n",
       "      <td>...</td>\n",
       "      <td>...</td>\n",
       "      <td>...</td>\n",
       "      <td>...</td>\n",
       "      <td>...</td>\n",
       "      <td>...</td>\n",
       "      <td>...</td>\n",
       "      <td>...</td>\n",
       "    </tr>\n",
       "    <tr>\n",
       "      <th>1185952</th>\n",
       "      <td>2022-03-17</td>\n",
       "      <td>BP.VCAB-BP.VCAB</td>\n",
       "      <td>BP-BP</td>\n",
       "      <td>33</td>\n",
       "      <td>1.2-2.0</td>\n",
       "      <td>0.00019330973444126658</td>\n",
       "      <td>0.00019931234386776417</td>\n",
       "      <td>8.311496679507024e-7</td>\n",
       "      <td>8.339423196426433e-7</td>\n",
       "      <td>-0.019331</td>\n",
       "      <td>0.000083</td>\n",
       "    </tr>\n",
       "    <tr>\n",
       "      <th>1185956</th>\n",
       "      <td>2022-04-01</td>\n",
       "      <td>BP.VCAB-BP.VCAB</td>\n",
       "      <td>BP-BP</td>\n",
       "      <td>33</td>\n",
       "      <td>1.2-2.0</td>\n",
       "      <td>0.0003437929441494066</td>\n",
       "      <td>0.00033744627054807036</td>\n",
       "      <td>1.7346398194949171e-6</td>\n",
       "      <td>1.740770632774889e-6</td>\n",
       "      <td>-0.034379</td>\n",
       "      <td>0.000173</td>\n",
       "    </tr>\n",
       "    <tr>\n",
       "      <th>1185960</th>\n",
       "      <td>2022-04-16</td>\n",
       "      <td>BP.VCAB-BP.VCAB</td>\n",
       "      <td>BP-BP</td>\n",
       "      <td>33</td>\n",
       "      <td>1.2-2.0</td>\n",
       "      <td>-6.940080604654341e-5</td>\n",
       "      <td>-6.19847838465199e-5</td>\n",
       "      <td>1.7035851437753995e-6</td>\n",
       "      <td>1.7035114459159846e-6</td>\n",
       "      <td>0.006940</td>\n",
       "      <td>0.000170</td>\n",
       "    </tr>\n",
       "    <tr>\n",
       "      <th>1185964</th>\n",
       "      <td>2022-05-01</td>\n",
       "      <td>BP.VCAB-BP.VCAB</td>\n",
       "      <td>BP-BP</td>\n",
       "      <td>33</td>\n",
       "      <td>1.2-2.0</td>\n",
       "      <td>1.4531688383075603e-5</td>\n",
       "      <td>2.000930308216782e-5</td>\n",
       "      <td>1.2065934948700813e-6</td>\n",
       "      <td>1.2318551809646882e-6</td>\n",
       "      <td>-0.001453</td>\n",
       "      <td>0.000121</td>\n",
       "    </tr>\n",
       "    <tr>\n",
       "      <th>1185968</th>\n",
       "      <td>2022-05-16</td>\n",
       "      <td>BP.VCAB-BP.VCAB</td>\n",
       "      <td>BP-BP</td>\n",
       "      <td>33</td>\n",
       "      <td>1.2-2.0</td>\n",
       "      <td>-0.00035461196996913936</td>\n",
       "      <td>-0.00038637921983675065</td>\n",
       "      <td>1.270174864939964e-6</td>\n",
       "      <td>1.2980934723238494e-6</td>\n",
       "      <td>0.035461</td>\n",
       "      <td>0.000127</td>\n",
       "    </tr>\n",
       "  </tbody>\n",
       "</table>\n",
       "<p>3554 rows × 11 columns</p>\n",
       "</div>"
      ],
      "text/plain": [
       "              date      stationpair networks components freqband  \\\n",
       "1168578 2002-01-16  BP.VCAB-BP.VCAB    BP-BP         11  1.2-2.0   \n",
       "1168582 2002-01-31  BP.VCAB-BP.VCAB    BP-BP         11  1.2-2.0   \n",
       "1168586 2002-02-15  BP.VCAB-BP.VCAB    BP-BP         11  1.2-2.0   \n",
       "1168590 2002-03-02  BP.VCAB-BP.VCAB    BP-BP         11  1.2-2.0   \n",
       "1168594 2002-03-17  BP.VCAB-BP.VCAB    BP-BP         11  1.2-2.0   \n",
       "...            ...              ...      ...        ...      ...   \n",
       "1185952 2022-03-17  BP.VCAB-BP.VCAB    BP-BP         33  1.2-2.0   \n",
       "1185956 2022-04-01  BP.VCAB-BP.VCAB    BP-BP         33  1.2-2.0   \n",
       "1185960 2022-04-16  BP.VCAB-BP.VCAB    BP-BP         33  1.2-2.0   \n",
       "1185964 2022-05-01  BP.VCAB-BP.VCAB    BP-BP         33  1.2-2.0   \n",
       "1185968 2022-05-16  BP.VCAB-BP.VCAB    BP-BP         33  1.2-2.0   \n",
       "\n",
       "                        dvv_mwcs                dvv0_mwcs  \\\n",
       "1168578    0.0007039360333458696    0.0006827490470729482   \n",
       "1168582   0.00017868330071504394   0.00017749954933205555   \n",
       "1168586   0.00019735880318311246   0.00023439732528104135   \n",
       "1168590   0.00037008055184105035    0.0004026600362538035   \n",
       "1168594  -0.00026726389868761424  -0.00027293788177813326   \n",
       "...                          ...                      ...   \n",
       "1185952   0.00019330973444126658   0.00019931234386776417   \n",
       "1185956    0.0003437929441494066   0.00033744627054807036   \n",
       "1185960    -6.940080604654341e-5     -6.19847838465199e-5   \n",
       "1185964    1.4531688383075603e-5     2.000930308216782e-5   \n",
       "1185968  -0.00035461196996913936  -0.00038637921983675065   \n",
       "\n",
       "                  dvv_err_mwcs          dvv0_err_mwcs       dvv       err  \n",
       "1168578   5.585557628327666e-7   5.541781867374749e-7 -0.070394  0.000056  \n",
       "1168582   3.250210506085524e-7  3.3403969464606903e-7 -0.017868  0.000033  \n",
       "1168586   7.930056859461468e-7   7.566001194574103e-7 -0.019736  0.000079  \n",
       "1168590   7.672244377656002e-7   7.391054680218338e-7 -0.037008  0.000077  \n",
       "1168594   8.297728626270387e-7   8.200978363169642e-7  0.026726  0.000083  \n",
       "...                        ...                    ...       ...       ...  \n",
       "1185952   8.311496679507024e-7   8.339423196426433e-7 -0.019331  0.000083  \n",
       "1185956  1.7346398194949171e-6   1.740770632774889e-6 -0.034379  0.000173  \n",
       "1185960  1.7035851437753995e-6  1.7035114459159846e-6  0.006940  0.000170  \n",
       "1185964  1.2065934948700813e-6  1.2318551809646882e-6 -0.001453  0.000121  \n",
       "1185968   1.270174864939964e-6  1.2980934723238494e-6  0.035461  0.000127  \n",
       "\n",
       "[3554 rows x 11 columns]"
      ]
     },
     "execution_count": 18,
     "metadata": {},
     "output_type": "execute_result"
    }
   ],
   "source": [
    "df_pair"
   ]
  },
  {
   "cell_type": "code",
   "execution_count": 19,
   "metadata": {},
   "outputs": [],
   "source": [
    "# Figure output directory\n",
    "figdir = output_imgdir+\"/asymmetric_autocorr_%s\"%freqband\n",
    "os.makedirs(figdir, exist_ok=True)"
   ]
  },
  {
   "cell_type": "code",
   "execution_count": 20,
   "metadata": {},
   "outputs": [
    {
     "data": {
      "image/png": "[encoded data removed]",
      "text/plain": [
       "<Figure size 576x432 with 1 Axes>"
      ]
     },
     "metadata": {
      "needs_background": "light"
     },
     "output_type": "display_data"
    }
   ],
   "source": [
    "fig, ax = plt.subplots(1, 1, figsize=(8,6))\n",
    "\n",
    "if dvvmethod==\"stretching\":\n",
    "    ax.hist(res_auto_dvv, bins=40, range=(0, 0.05), edgecolor=\"k\", facecolor=\"grey\")\n",
    "    ax.set_xlabel('residual of dv/v between symmetric components [%]')\n",
    "    ax.set_ylabel('count of pairs')\n",
    "    ax.axvline(0.02, color=\"k\", ls=\"--\")\n",
    "    ax.text(0.021, 3000, \"size of minimum grid search\", fontsize=16)\n",
    "    ax.set_title('stretching')\n",
    "    plt.tight_layout()\n",
    "    foname = (figdir+\"/asymmetric_autocorr_residualhist_stretching.png\")\n",
    "    plt.savefig(foname)\n",
    "    \n",
    "if dvvmethod==\"mwcs\":\n",
    "    # ax.hist(res_auto_dvv, bins=20, range=(0, 0.05), edgecolor=\"k\", facecolor=\"grey\")\n",
    "    ax.hist(res_auto_dvv, bins=40, range=(0, 0.2), edgecolor=\"k\", facecolor=\"grey\")\n",
    "    ax.set_xlabel('residual of dv/v between symmetric components [%]')\n",
    "    ax.set_ylabel('count of pairs')\n",
    "    ax.set_title('mwcs')\n",
    "#     ax.axvline(0.02, color=\"k\", ls=\"--\")\n",
    "#     ax.text(0.021, 3000, \"size of minimum grid search\", fontsize=16)\n",
    "    plt.tight_layout()\n",
    "    foname = (figdir+\"/asymmetric_autocorr_residualhist_mwcs.png\")\n",
    "    plt.savefig(foname)"
   ]
  },
  {
   "cell_type": "code",
   "execution_count": 21,
   "metadata": {},
   "outputs": [
    {
     "data": {
      "text/plain": [
       "0.010641386626716801"
      ]
     },
     "execution_count": 21,
     "metadata": {},
     "output_type": "execute_result"
    }
   ],
   "source": [
    "np.percentile(res_auto_dvv, 90)"
   ]
  },
  {
   "cell_type": "markdown",
   "metadata": {},
   "source": [
    "## Compute dvv with channel weight\n",
    "From Hobiger et al., 2014\n",
    "\n",
    "$$ \\dfrac{dv}{v}(t) = \\dfrac{\\sum_{k=1}^N c_k^2 (t) \\dfrac{dv}{v}_k (t)}{\\sum_{k=1}^N c_k^2 (t) } $$\n",
    "\n",
    "$$ c(t) = \\dfrac{\\sum_{k=1}^N c_k^3 (t)}{\\sum_{k=1}^N c_k^2 (t) } $$\n",
    "\n",
    "The error can be evaluated with error propagation such that\n",
    "\n",
    "$$ \\overline{dvv}(dvv_1, dvv_2, ..., dvv_9) = \\dfrac{\\sum_{k=1}^{N}c_{k}^2 dvv_{k}}{\\sum_{k=1}^{N}c_{k}^2} $$\n",
    "\n",
    "$$ \\sigma_{wav} = \\sqrt{\\sum_{i=1}^9 \\left(\\dfrac{\\partial \\overline{dvv}}{\\partial dvv_i} \\right)^2 \\sigma_{n, i}^2} $$\n",
    "\n",
    "$$ \\sigma_{wav} = \\sqrt{\\sum_{i=1}^9 \\left(\\dfrac{c_i^2}{\\sum_k c_k^2} \\right)^2 \\sigma_{n, i}^2} $$\n",
    "\n",
    "For MWCS, We simplefy the weighting method as it already apply weights on the coda part, described as following:\n",
    "\n",
    "$$ \\dfrac{dv}{v}(t) = \\dfrac{\\sum_{k=1}^N \\dfrac{dv}{v}_k (t)}{N } $$\n",
    "\n",
    "$$ c(t) = 1.0 $$"
   ]
  },
  {
   "cell_type": "code",
   "execution_count": 22,
   "metadata": {},
   "outputs": [
    {
     "name": "stderr",
     "output_type": "stream",
     "text": [
      "100%|███████████████████████████████████████████| 83/83 [01:15<00:00,  1.10it/s]\n"
     ]
    }
   ],
   "source": [
    "# compute channel weight and store into dataframe\n",
    "columns=[\"date\", \"stationpair\", \"freqband\", \"cc_weight\", \"dvv\", \"err\" ]\n",
    "df_threshold_weight = pd.DataFrame(columns = columns)\n",
    "\n",
    "for stationid in tqdm(range(len(stationpairs))):\n",
    "    stationpair = stationpairs[stationid]\n",
    "    df_pair = df_threshold[df_threshold.stationpair==stationpair]\n",
    "    df_pair = df_pair[df_pair.components .isin(components_list)]\n",
    "    datelist = np.unique(df_pair.date) # this indicates that datelist includes even the case that one channel pair is available, leading to enhance the data continuity.\n",
    "    for d in datelist:\n",
    "        df_comp = df_pair[df_pair.date == d] #include all components available at this datetime\n",
    "        N = len(df_comp)\n",
    "        cdvv_all = 0 \n",
    "        c2_all = 0\n",
    "        c3_all = 0\n",
    "        err_sum2 = 0\n",
    "        \n",
    "        if N == 0:\n",
    "            print(d)\n",
    "            continue;\n",
    "        \n",
    "        for index, row in df_comp.iterrows():\n",
    "            if dvvmethod==\"stretching\":\n",
    "                cdvv_all = cdvv_all + row.cc_dvv**2 * row.dvv\n",
    "                c2_all = c2_all + row.cc_dvv**2\n",
    "                c3_all = c3_all + row.cc_dvv**3\n",
    "#                 err_sum2 = row.err**2\n",
    "                err_sum2 = err_sum2 + (row.cc_dvv**4)*row.err**2 # corrected the power from 2 to 4: 2022/09/26  Kurama Okubo\n",
    "                \n",
    "            elif dvvmethod==\"mwcs\":\n",
    "                cdvv_all = cdvv_all + 1.0 * row.dvv\n",
    "                c2_all = c2_all + 1.0\n",
    "                c3_all = c3_all + 1.0\n",
    "                err_sum2 = err_sum2 + (1.0**4)*row.err**2 # in this case, the error is RMS of all components.\n",
    "                \n",
    "        dvv_weight = cdvv_all/c2_all\n",
    "        cc_weight = c3_all/c2_all\n",
    "#         err_weight = np.sqrt(err_sum2)\n",
    "        err_weight = np.sqrt(err_sum2)/c2_all\n",
    "        \n",
    "        df_weight_tmp = pd.DataFrame({\"date\":[d], \"stationpair\":[stationpair], \"freqband\":[freqband],\n",
    "                                      \"cc_weight\":[cc_weight], \"dvv\":[dvv_weight], \"err\":[err_weight]})\n",
    "        \n",
    "        df_threshold_weight = df_threshold_weight.append(df_weight_tmp)\n",
    "        \n",
    "        "
   ]
  },
  {
   "cell_type": "code",
   "execution_count": 23,
   "metadata": {},
   "outputs": [
    {
     "data": {
      "text/html": [
       "<div>\n",
       "<style scoped>\n",
       "    .dataframe tbody tr th:only-of-type {\n",
       "        vertical-align: middle;\n",
       "    }\n",
       "\n",
       "    .dataframe tbody tr th {\n",
       "        vertical-align: top;\n",
       "    }\n",
       "\n",
       "    .dataframe thead th {\n",
       "        text-align: right;\n",
       "    }\n",
       "</style>\n",
       "<table border=\"1\" class=\"dataframe\">\n",
       "  <thead>\n",
       "    <tr style=\"text-align: right;\">\n",
       "      <th></th>\n",
       "      <th>date</th>\n",
       "      <th>stationpair</th>\n",
       "      <th>freqband</th>\n",
       "      <th>cc_weight</th>\n",
       "      <th>dvv</th>\n",
       "      <th>err</th>\n",
       "    </tr>\n",
       "  </thead>\n",
       "  <tbody>\n",
       "    <tr>\n",
       "      <th>0</th>\n",
       "      <td>2002-05-31</td>\n",
       "      <td>BP.CCRB-BP.CCRB</td>\n",
       "      <td>1.2-2.0</td>\n",
       "      <td>1.0</td>\n",
       "      <td>-0.067593</td>\n",
       "      <td>0.000045</td>\n",
       "    </tr>\n",
       "    <tr>\n",
       "      <th>0</th>\n",
       "      <td>2002-06-15</td>\n",
       "      <td>BP.CCRB-BP.CCRB</td>\n",
       "      <td>1.2-2.0</td>\n",
       "      <td>1.0</td>\n",
       "      <td>-0.049170</td>\n",
       "      <td>0.000035</td>\n",
       "    </tr>\n",
       "    <tr>\n",
       "      <th>0</th>\n",
       "      <td>2002-06-30</td>\n",
       "      <td>BP.CCRB-BP.CCRB</td>\n",
       "      <td>1.2-2.0</td>\n",
       "      <td>1.0</td>\n",
       "      <td>-0.053864</td>\n",
       "      <td>0.000043</td>\n",
       "    </tr>\n",
       "    <tr>\n",
       "      <th>0</th>\n",
       "      <td>2002-07-15</td>\n",
       "      <td>BP.CCRB-BP.CCRB</td>\n",
       "      <td>1.2-2.0</td>\n",
       "      <td>1.0</td>\n",
       "      <td>-0.048737</td>\n",
       "      <td>0.000027</td>\n",
       "    </tr>\n",
       "    <tr>\n",
       "      <th>0</th>\n",
       "      <td>2002-07-30</td>\n",
       "      <td>BP.CCRB-BP.CCRB</td>\n",
       "      <td>1.2-2.0</td>\n",
       "      <td>1.0</td>\n",
       "      <td>-0.096452</td>\n",
       "      <td>0.000068</td>\n",
       "    </tr>\n",
       "    <tr>\n",
       "      <th>...</th>\n",
       "      <td>...</td>\n",
       "      <td>...</td>\n",
       "      <td>...</td>\n",
       "      <td>...</td>\n",
       "      <td>...</td>\n",
       "      <td>...</td>\n",
       "    </tr>\n",
       "    <tr>\n",
       "      <th>0</th>\n",
       "      <td>2022-03-17</td>\n",
       "      <td>BP.VCAB-BP.VCAB</td>\n",
       "      <td>1.2-2.0</td>\n",
       "      <td>1.0</td>\n",
       "      <td>0.039023</td>\n",
       "      <td>0.000011</td>\n",
       "    </tr>\n",
       "    <tr>\n",
       "      <th>0</th>\n",
       "      <td>2022-04-01</td>\n",
       "      <td>BP.VCAB-BP.VCAB</td>\n",
       "      <td>1.2-2.0</td>\n",
       "      <td>1.0</td>\n",
       "      <td>0.041164</td>\n",
       "      <td>0.000025</td>\n",
       "    </tr>\n",
       "    <tr>\n",
       "      <th>0</th>\n",
       "      <td>2022-04-16</td>\n",
       "      <td>BP.VCAB-BP.VCAB</td>\n",
       "      <td>1.2-2.0</td>\n",
       "      <td>1.0</td>\n",
       "      <td>0.045059</td>\n",
       "      <td>0.000023</td>\n",
       "    </tr>\n",
       "    <tr>\n",
       "      <th>0</th>\n",
       "      <td>2022-05-01</td>\n",
       "      <td>BP.VCAB-BP.VCAB</td>\n",
       "      <td>1.2-2.0</td>\n",
       "      <td>1.0</td>\n",
       "      <td>0.042657</td>\n",
       "      <td>0.000015</td>\n",
       "    </tr>\n",
       "    <tr>\n",
       "      <th>0</th>\n",
       "      <td>2022-05-16</td>\n",
       "      <td>BP.VCAB-BP.VCAB</td>\n",
       "      <td>1.2-2.0</td>\n",
       "      <td>1.0</td>\n",
       "      <td>0.035664</td>\n",
       "      <td>0.000018</td>\n",
       "    </tr>\n",
       "  </tbody>\n",
       "</table>\n",
       "<p>22013 rows × 6 columns</p>\n",
       "</div>"
      ],
      "text/plain": [
       "         date      stationpair freqband  cc_weight       dvv       err\n",
       "0  2002-05-31  BP.CCRB-BP.CCRB  1.2-2.0        1.0 -0.067593  0.000045\n",
       "0  2002-06-15  BP.CCRB-BP.CCRB  1.2-2.0        1.0 -0.049170  0.000035\n",
       "0  2002-06-30  BP.CCRB-BP.CCRB  1.2-2.0        1.0 -0.053864  0.000043\n",
       "0  2002-07-15  BP.CCRB-BP.CCRB  1.2-2.0        1.0 -0.048737  0.000027\n",
       "0  2002-07-30  BP.CCRB-BP.CCRB  1.2-2.0        1.0 -0.096452  0.000068\n",
       "..        ...              ...      ...        ...       ...       ...\n",
       "0  2022-03-17  BP.VCAB-BP.VCAB  1.2-2.0        1.0  0.039023  0.000011\n",
       "0  2022-04-01  BP.VCAB-BP.VCAB  1.2-2.0        1.0  0.041164  0.000025\n",
       "0  2022-04-16  BP.VCAB-BP.VCAB  1.2-2.0        1.0  0.045059  0.000023\n",
       "0  2022-05-01  BP.VCAB-BP.VCAB  1.2-2.0        1.0  0.042657  0.000015\n",
       "0  2022-05-16  BP.VCAB-BP.VCAB  1.2-2.0        1.0  0.035664  0.000018\n",
       "\n",
       "[22013 rows x 6 columns]"
      ]
     },
     "execution_count": 23,
     "metadata": {},
     "output_type": "execute_result"
    }
   ],
   "source": [
    "df_threshold_weight"
   ]
  },
  {
   "cell_type": "code",
   "execution_count": 24,
   "metadata": {},
   "outputs": [
    {
     "data": {
      "text/plain": [
       "<AxesSubplot:xlabel='date', ylabel='[err]'>"
      ]
     },
     "execution_count": 24,
     "metadata": {},
     "output_type": "execute_result"
    },
    {
     "data": {
      "image/png": "[encoded data removed]",
      "text/plain": [
       "<Figure size 432x288 with 1 Axes>"
      ]
     },
     "metadata": {
      "needs_background": "light"
     },
     "output_type": "display_data"
    }
   ],
   "source": [
    "df_threshold_weight.plot.scatter(x=\"date\", y=[\"err\"])"
   ]
  },
  {
   "cell_type": "code",
   "execution_count": 25,
   "metadata": {},
   "outputs": [
    {
     "data": {
      "text/plain": [
       "82"
      ]
     },
     "execution_count": 25,
     "metadata": {},
     "output_type": "execute_result"
    }
   ],
   "source": [
    "len(np.unique(df_threshold_weight.stationpair))"
   ]
  },
  {
   "cell_type": "markdown",
   "metadata": {},
   "source": [
    "## Threshold out the dvv traces\n",
    "\n",
    "Each dv/v trace is evaluated in terms of\n",
    "\n",
    "1. continuity (data contents) over all / fitting period\n",
    "\n",
    "~~2. stability (std)~~\n",
    "\n",
    "We store the all dv/v with data contents, which will be used in the following processes."
   ]
  },
  {
   "cell_type": "code",
   "execution_count": 26,
   "metadata": {},
   "outputs": [
    {
     "data": {
      "text/plain": [
       "497"
      ]
     },
     "execution_count": 26,
     "metadata": {},
     "output_type": "execute_result"
    }
   ],
   "source": [
    "# compute length of fitting period\n",
    "fitting_tlen = sum([(fitting_starttime < datetime.datetime.fromordinal(x.toordinal())) &\n",
    "                    (datetime.datetime.fromordinal(x.toordinal()) < fitting_endtime) for x in uniform_tvec])\n",
    "fitting_tlen"
   ]
  },
  {
   "cell_type": "code",
   "execution_count": 27,
   "metadata": {},
   "outputs": [
    {
     "data": {
      "text/plain": [
       "0.0016833667334669455"
      ]
     },
     "execution_count": 27,
     "metadata": {},
     "output_type": "execute_result"
    }
   ],
   "source": [
    "0.07402805611222446 - 0.07234468937875752"
   ]
  },
  {
   "cell_type": "code",
   "execution_count": 28,
   "metadata": {},
   "outputs": [],
   "source": [
    "import h5py"
   ]
  },
  {
   "cell_type": "code",
   "execution_count": 29,
   "metadata": {},
   "outputs": [],
   "source": [
    "stationpair = stationpairs[10]"
   ]
  },
  {
   "cell_type": "code",
   "execution_count": 30,
   "metadata": {},
   "outputs": [],
   "source": [
    "df_threshold_weight_pair = df_threshold_weight[df_threshold_weight.stationpair == stationpair]"
   ]
  },
  {
   "cell_type": "code",
   "execution_count": 31,
   "metadata": {},
   "outputs": [
    {
     "data": {
      "text/plain": [
       "array([1., 1., 1., 1., 1., 1., 1., 1., 1., 1., 1., 1., 1., 1., 1., 1., 1.,\n",
       "       1., 1., 1., 1., 1., 1., 1., 1., 1., 1., 1., 1., 1., 1., 1., 1., 1.,\n",
       "       1., 1., 1., 1., 1., 1., 1., 1., 1., 1., 1., 1., 1., 1., 1., 1., 1.,\n",
       "       1., 1., 1., 1., 1., 1., 1., 1., 1., 1., 1., 1., 1., 1., 1., 1., 1.,\n",
       "       1., 1., 1., 1., 1., 1., 1., 1., 1., 1., 1., 1., 1., 1., 1., 1., 1.,\n",
       "       1., 1., 1., 1., 1., 1., 1., 1., 1., 1., 1., 1., 1., 1., 1., 1., 1.,\n",
       "       1., 1., 1., 1., 1., 1., 1., 1., 1., 1., 1., 1., 1., 1., 1., 1., 1.,\n",
       "       1., 1., 1., 1., 1., 1., 1., 1., 1., 1., 1., 1., 1., 1., 1., 1., 1.,\n",
       "       1., 1., 1., 1., 1., 1., 1., 1., 1., 1., 1., 1., 1., 1., 1., 1., 1.,\n",
       "       1., 1., 1., 1., 1., 1., 1., 1., 1., 1., 1., 1., 1., 1., 1., 1., 1.,\n",
       "       1., 1., 1., 1., 1.])"
      ]
     },
     "execution_count": 31,
     "metadata": {},
     "output_type": "execute_result"
    }
   ],
   "source": [
    "np.asarray(df_threshold_weight_pair.cc_weight)"
   ]
  },
  {
   "cell_type": "code",
   "execution_count": 32,
   "metadata": {},
   "outputs": [
    {
     "name": "stderr",
     "output_type": "stream",
     "text": [
      "  6%|██▋                                         | 5/83 [00:00<00:03, 20.67it/s]"
     ]
    },
    {
     "name": "stdout",
     "output_type": "stream",
     "text": [
      "0.8853118712273642\n",
      "0.8008048289738431\n",
      "0.4949698189134809\n",
      "0.022132796780684104\n",
      "0.6016096579476862\n"
     ]
    },
    {
     "name": "stderr",
     "output_type": "stream",
     "text": [
      "\r",
      " 10%|████▏                                       | 8/83 [00:00<00:04, 16.21it/s]"
     ]
    },
    {
     "name": "stdout",
     "output_type": "stream",
     "text": [
      "0.8430583501006036\n",
      "0.7947686116700201\n",
      "0.3501006036217304\n",
      "0.8189134808853119\n"
     ]
    },
    {
     "name": "stderr",
     "output_type": "stream",
     "text": [
      " 16%|██████▋                                    | 13/83 [00:00<00:04, 16.59it/s]"
     ]
    },
    {
     "name": "stdout",
     "output_type": "stream",
     "text": [
      "0.8329979879275654\n",
      "0.352112676056338\n",
      "0.8189134808853119\n",
      "0.9617706237424547\n",
      "0.3903420523138833\n"
     ]
    },
    {
     "name": "stderr",
     "output_type": "stream",
     "text": [
      "\r",
      " 19%|████████▎                                  | 16/83 [00:00<00:03, 19.32it/s]"
     ]
    },
    {
     "name": "stdout",
     "output_type": "stream",
     "text": [
      "0.6680080482897385\n",
      "0.14688128772635814\n",
      "0.8490945674044266\n",
      "0.9275653923541247\n"
     ]
    },
    {
     "name": "stderr",
     "output_type": "stream",
     "text": [
      " 25%|██████████▉                                | 21/83 [00:01<00:03, 17.36it/s]"
     ]
    },
    {
     "name": "stdout",
     "output_type": "stream",
     "text": [
      "0.8672032193158954\n",
      "0.39235412474849096\n",
      "0.8511066398390342\n",
      "0.7967806841046278\n"
     ]
    },
    {
     "name": "stderr",
     "output_type": "stream",
     "text": [
      " 30%|████████████▉                              | 25/83 [00:01<00:03, 17.08it/s]"
     ]
    },
    {
     "name": "stdout",
     "output_type": "stream",
     "text": [
      "0.5492957746478874\n",
      "0.903420523138833\n",
      "0.3722334004024145\n",
      "0.2917505030181087\n",
      "0.36619718309859156\n",
      "0.3420523138832998\n"
     ]
    },
    {
     "name": "stderr",
     "output_type": "stream",
     "text": [
      " 39%|████████████████▌                          | 32/83 [00:01<00:02, 22.94it/s]"
     ]
    },
    {
     "name": "stdout",
     "output_type": "stream",
     "text": [
      "0.5090543259557344\n",
      "0.5472837022132797\n",
      "0.33601609657947684\n",
      "0.2193158953722334\n",
      "0.30985915492957744\n",
      "0.2052313883299799\n",
      "0.6217303822937625\n"
     ]
    },
    {
     "name": "stderr",
     "output_type": "stream",
     "text": [
      " 52%|██████████████████████▎                    | 43/83 [00:02<00:01, 30.54it/s]"
     ]
    },
    {
     "name": "stdout",
     "output_type": "stream",
     "text": [
      "0.7203219315895373\n",
      "0.3038229376257545\n",
      "0.5191146881287726\n",
      "0.09054325955734406\n",
      "0.3702213279678068\n",
      "0.12474849094567404\n",
      "0.2535211267605634\n",
      "0.0925553319919517\n",
      "0.0\n"
     ]
    },
    {
     "name": "stderr",
     "output_type": "stream",
     "text": [
      "/Users/kokubo/miniconda3/envs/obspy/lib/python3.7/site-packages/numpy/core/_methods.py:263: RuntimeWarning: Degrees of freedom <= 0 for slice\n",
      "  keepdims=keepdims, where=where)\n",
      "/Users/kokubo/miniconda3/envs/obspy/lib/python3.7/site-packages/numpy/core/_methods.py:223: RuntimeWarning: invalid value encountered in true_divide\n",
      "  subok=False)\n",
      "/Users/kokubo/miniconda3/envs/obspy/lib/python3.7/site-packages/numpy/core/_methods.py:254: RuntimeWarning: invalid value encountered in double_scalars\n",
      "  ret = ret.dtype.type(ret / rcount)\n",
      " 58%|████████████████████████▊                  | 48/83 [00:02<00:00, 35.59it/s]"
     ]
    },
    {
     "name": "stdout",
     "output_type": "stream",
     "text": [
      "0.34004024144869216\n",
      "0.028169014084507043\n",
      "0.014084507042253521\n",
      "0.4869215291750503\n",
      "0.635814889336016\n",
      "0.716297786720322\n",
      "0.2595573440643863\n"
     ]
    },
    {
     "name": "stderr",
     "output_type": "stream",
     "text": [
      " 67%|█████████████████████████████              | 56/83 [00:02<00:00, 27.24it/s]"
     ]
    },
    {
     "name": "stdout",
     "output_type": "stream",
     "text": [
      "0.4426559356136821\n",
      "0.5372233400402414\n",
      "0.09054325955734406\n",
      "0.716297786720322\n",
      "0.9436619718309859\n"
     ]
    },
    {
     "name": "stderr",
     "output_type": "stream",
     "text": [
      "\r",
      " 71%|██████████████████████████████▌            | 59/83 [00:02<00:00, 24.20it/s]"
     ]
    },
    {
     "name": "stdout",
     "output_type": "stream",
     "text": [
      "0.8853118712273642\n",
      "0.43259557344064387\n",
      "0.9134808853118712\n",
      "0.8913480885311871\n",
      "0.358148893360161\n"
     ]
    },
    {
     "name": "stderr",
     "output_type": "stream",
     "text": [
      " 78%|█████████████████████████████████▋         | 65/83 [00:03<00:00, 20.72it/s]"
     ]
    },
    {
     "name": "stdout",
     "output_type": "stream",
     "text": [
      "0.8993963782696177\n",
      "0.8511066398390342\n",
      "0.38832997987927564\n",
      "0.8169014084507042\n"
     ]
    },
    {
     "name": "stderr",
     "output_type": "stream",
     "text": [
      "\r",
      " 82%|███████████████████████████████████▏       | 68/83 [00:03<00:00, 19.69it/s]"
     ]
    },
    {
     "name": "stdout",
     "output_type": "stream",
     "text": [
      "0.8329979879275654\n",
      "0.4124748490945674\n",
      "0.8470824949698189\n",
      "0.3983903420523139\n",
      "0.3903420523138833\n"
     ]
    },
    {
     "name": "stderr",
     "output_type": "stream",
     "text": [
      " 89%|██████████████████████████████████████▎    | 74/83 [00:03<00:00, 22.55it/s]"
     ]
    },
    {
     "name": "stdout",
     "output_type": "stream",
     "text": [
      "0.3501006036217304\n",
      "0.17303822937625754\n",
      "0.38028169014084506\n",
      "0.8772635814889336\n",
      "0.8450704225352113\n",
      "0.16096579476861167\n"
     ]
    },
    {
     "name": "stderr",
     "output_type": "stream",
     "text": [
      " 96%|█████████████████████████████████████████▍ | 80/83 [00:03<00:00, 20.65it/s]"
     ]
    },
    {
     "name": "stdout",
     "output_type": "stream",
     "text": [
      "0.8531187122736419\n",
      "0.9215291750503019\n",
      "0.23742454728370221\n",
      "0.8893360160965795\n",
      "0.23742454728370221\n"
     ]
    },
    {
     "name": "stderr",
     "output_type": "stream",
     "text": [
      "100%|███████████████████████████████████████████| 83/83 [00:03<00:00, 21.61it/s]"
     ]
    },
    {
     "name": "stdout",
     "output_type": "stream",
     "text": [
      "0.39235412474849096\n",
      "0.9295774647887324\n"
     ]
    },
    {
     "name": "stderr",
     "output_type": "stream",
     "text": [
      "\n"
     ]
    }
   ],
   "source": [
    "with h5py.File(output_datadir+\"/dvvtraces_chanweighted_{}_{}.h5\".format(csv_stats_names[csv_stats_id], freqband), \"w\") as h5: # overwrite data\n",
    "    \n",
    "    h5.attrs[\"cc_threshold\"] = cc_threshold\n",
    "    h5.attrs[\"cc_time_unit\"] = 86400 # short-stacking time unit\n",
    "    h5.attrs[\"averagestack_factor\"] = 30\n",
    "    h5.attrs[\"averagestack_step\"] = 15    \n",
    "    h5.create_dataset('uniform_tvec', data=uniform_tvec.astype('datetime64[s]').astype(int))\n",
    "\n",
    "    for pairname in tqdm(stationpairs):\n",
    "        # read parameters from dictionary\n",
    "        df_threshold_weight_pair = df_threshold_weight[df_threshold_weight.stationpair == pairname]\n",
    "        t = np.asarray(df_threshold_weight_pair.date)\n",
    "        dvv = np.asarray(df_threshold_weight_pair.dvv)\n",
    "        \n",
    "        if dvvmethod==\"stretching\":\n",
    "            cc = np.array(df_threshold_weight_pair.cc_weight)\n",
    "            err = np.array(df_threshold_weight_pair.err)\n",
    "            \n",
    "        elif dvvmethod==\"mwcs\":\n",
    "            cc = np.array(df_threshold_weight_pair.cc_weight)\n",
    "            err = np.array(df_threshold_weight_pair.err)            \n",
    "#             err = df_singletrace[\"err\"]\n",
    "\n",
    "        # compute datacontents over all period\n",
    "        datacontents = len(dvv)/len(uniform_tvec)\n",
    "        \n",
    "        # compute datacontents over fitting period\n",
    "        fitdatalen = sum([(fitting_starttime < pd.to_datetime(x)) & \n",
    "                  (pd.to_datetime(x) < fitting_endtime) for x in t])\n",
    "        \n",
    "        fitdatacontents = fitdatalen / fitting_tlen\n",
    "        print(fitdatacontents)\n",
    "        \n",
    "        std_dvv = np.std(dvv)\n",
    "\n",
    "        # store into h5\n",
    "        gname = \"dvv/\"+pairname\n",
    "        h5.require_group(gname)\n",
    "        h5[gname].create_dataset('t_unix', data=t.astype('datetime64[s]').astype(int))\n",
    "        h5[gname].create_dataset('dvv', data=dvv)\n",
    "        if dvvmethod==\"stretching\":\n",
    "            h5[gname].create_dataset('cc', data=cc)\n",
    "            h5[gname].create_dataset('err', data=err)\n",
    "        elif dvvmethod==\"mwcs\":\n",
    "            h5[gname].create_dataset('cc', data=cc)\n",
    "            h5[gname].create_dataset('err', data=err)\n",
    "            \n",
    "        h5[gname].create_dataset('datacontents', data=datacontents)\n",
    "        h5[gname].create_dataset('fitcontents', data=fitdatacontents)\n",
    "        h5[gname].create_dataset('std_dvv', data=std_dvv)"
   ]
  },
  {
   "cell_type": "code",
   "execution_count": 33,
   "metadata": {},
   "outputs": [
    {
     "data": {
      "text/plain": [
       "[<matplotlib.lines.Line2D at 0x7fc4225829d0>]"
      ]
     },
     "execution_count": 33,
     "metadata": {},
     "output_type": "execute_result"
    },
    {
     "data": {
      "image/png": "[encoded data removed]",
      "text/plain": [
       "<Figure size 432x288 with 1 Axes>"
      ]
     },
     "metadata": {
      "needs_background": "light"
     },
     "output_type": "display_data"
    }
   ],
   "source": [
    "plt.plot(df_threshold_weight_pair.date.values)"
   ]
  },
  {
   "cell_type": "code",
   "execution_count": 34,
   "metadata": {},
   "outputs": [
    {
     "data": {
      "text/html": [
       "<div>\n",
       "<style scoped>\n",
       "    .dataframe tbody tr th:only-of-type {\n",
       "        vertical-align: middle;\n",
       "    }\n",
       "\n",
       "    .dataframe tbody tr th {\n",
       "        vertical-align: top;\n",
       "    }\n",
       "\n",
       "    .dataframe thead th {\n",
       "        text-align: right;\n",
       "    }\n",
       "</style>\n",
       "<table border=\"1\" class=\"dataframe\">\n",
       "  <thead>\n",
       "    <tr style=\"text-align: right;\">\n",
       "      <th></th>\n",
       "      <th>date</th>\n",
       "      <th>stationpair</th>\n",
       "      <th>freqband</th>\n",
       "      <th>cc_weight</th>\n",
       "      <th>dvv</th>\n",
       "      <th>err</th>\n",
       "    </tr>\n",
       "  </thead>\n",
       "  <tbody>\n",
       "    <tr>\n",
       "      <th>0</th>\n",
       "      <td>2002-01-16</td>\n",
       "      <td>BP.VCAB-BP.VCAB</td>\n",
       "      <td>1.2-2.0</td>\n",
       "      <td>1.0</td>\n",
       "      <td>-0.037003</td>\n",
       "      <td>0.000023</td>\n",
       "    </tr>\n",
       "    <tr>\n",
       "      <th>0</th>\n",
       "      <td>2002-01-31</td>\n",
       "      <td>BP.VCAB-BP.VCAB</td>\n",
       "      <td>1.2-2.0</td>\n",
       "      <td>1.0</td>\n",
       "      <td>-0.031332</td>\n",
       "      <td>0.000016</td>\n",
       "    </tr>\n",
       "    <tr>\n",
       "      <th>0</th>\n",
       "      <td>2002-02-15</td>\n",
       "      <td>BP.VCAB-BP.VCAB</td>\n",
       "      <td>1.2-2.0</td>\n",
       "      <td>1.0</td>\n",
       "      <td>-0.027084</td>\n",
       "      <td>0.000023</td>\n",
       "    </tr>\n",
       "    <tr>\n",
       "      <th>0</th>\n",
       "      <td>2002-03-02</td>\n",
       "      <td>BP.VCAB-BP.VCAB</td>\n",
       "      <td>1.2-2.0</td>\n",
       "      <td>1.0</td>\n",
       "      <td>-0.022739</td>\n",
       "      <td>0.000032</td>\n",
       "    </tr>\n",
       "    <tr>\n",
       "      <th>0</th>\n",
       "      <td>2002-03-17</td>\n",
       "      <td>BP.VCAB-BP.VCAB</td>\n",
       "      <td>1.2-2.0</td>\n",
       "      <td>1.0</td>\n",
       "      <td>0.017235</td>\n",
       "      <td>0.000026</td>\n",
       "    </tr>\n",
       "    <tr>\n",
       "      <th>...</th>\n",
       "      <td>...</td>\n",
       "      <td>...</td>\n",
       "      <td>...</td>\n",
       "      <td>...</td>\n",
       "      <td>...</td>\n",
       "      <td>...</td>\n",
       "    </tr>\n",
       "    <tr>\n",
       "      <th>0</th>\n",
       "      <td>2022-03-17</td>\n",
       "      <td>BP.VCAB-BP.VCAB</td>\n",
       "      <td>1.2-2.0</td>\n",
       "      <td>1.0</td>\n",
       "      <td>0.039023</td>\n",
       "      <td>0.000011</td>\n",
       "    </tr>\n",
       "    <tr>\n",
       "      <th>0</th>\n",
       "      <td>2022-04-01</td>\n",
       "      <td>BP.VCAB-BP.VCAB</td>\n",
       "      <td>1.2-2.0</td>\n",
       "      <td>1.0</td>\n",
       "      <td>0.041164</td>\n",
       "      <td>0.000025</td>\n",
       "    </tr>\n",
       "    <tr>\n",
       "      <th>0</th>\n",
       "      <td>2022-04-16</td>\n",
       "      <td>BP.VCAB-BP.VCAB</td>\n",
       "      <td>1.2-2.0</td>\n",
       "      <td>1.0</td>\n",
       "      <td>0.045059</td>\n",
       "      <td>0.000023</td>\n",
       "    </tr>\n",
       "    <tr>\n",
       "      <th>0</th>\n",
       "      <td>2022-05-01</td>\n",
       "      <td>BP.VCAB-BP.VCAB</td>\n",
       "      <td>1.2-2.0</td>\n",
       "      <td>1.0</td>\n",
       "      <td>0.042657</td>\n",
       "      <td>0.000015</td>\n",
       "    </tr>\n",
       "    <tr>\n",
       "      <th>0</th>\n",
       "      <td>2022-05-16</td>\n",
       "      <td>BP.VCAB-BP.VCAB</td>\n",
       "      <td>1.2-2.0</td>\n",
       "      <td>1.0</td>\n",
       "      <td>0.035664</td>\n",
       "      <td>0.000018</td>\n",
       "    </tr>\n",
       "  </tbody>\n",
       "</table>\n",
       "<p>462 rows × 6 columns</p>\n",
       "</div>"
      ],
      "text/plain": [
       "         date      stationpair freqband  cc_weight       dvv       err\n",
       "0  2002-01-16  BP.VCAB-BP.VCAB  1.2-2.0        1.0 -0.037003  0.000023\n",
       "0  2002-01-31  BP.VCAB-BP.VCAB  1.2-2.0        1.0 -0.031332  0.000016\n",
       "0  2002-02-15  BP.VCAB-BP.VCAB  1.2-2.0        1.0 -0.027084  0.000023\n",
       "0  2002-03-02  BP.VCAB-BP.VCAB  1.2-2.0        1.0 -0.022739  0.000032\n",
       "0  2002-03-17  BP.VCAB-BP.VCAB  1.2-2.0        1.0  0.017235  0.000026\n",
       "..        ...              ...      ...        ...       ...       ...\n",
       "0  2022-03-17  BP.VCAB-BP.VCAB  1.2-2.0        1.0  0.039023  0.000011\n",
       "0  2022-04-01  BP.VCAB-BP.VCAB  1.2-2.0        1.0  0.041164  0.000025\n",
       "0  2022-04-16  BP.VCAB-BP.VCAB  1.2-2.0        1.0  0.045059  0.000023\n",
       "0  2022-05-01  BP.VCAB-BP.VCAB  1.2-2.0        1.0  0.042657  0.000015\n",
       "0  2022-05-16  BP.VCAB-BP.VCAB  1.2-2.0        1.0  0.035664  0.000018\n",
       "\n",
       "[462 rows x 6 columns]"
      ]
     },
     "execution_count": 34,
     "metadata": {},
     "output_type": "execute_result"
    }
   ],
   "source": [
    "df_threshold_weight_pair"
   ]
  },
  {
   "cell_type": "code",
   "execution_count": null,
   "metadata": {},
   "outputs": [],
   "source": []
  }
 ],
 "metadata": {
  "@webio": {
   "lastCommId": null,
   "lastKernelId": null
  },
  "kernelspec": {
   "display_name": "Python 3 (ipykernel)",
   "language": "python",
   "name": "python3"
  },
  "language_info": {
   "codemirror_mode": {
    "name": "ipython",
    "version": 3
   },
   "file_extension": ".py",
   "mimetype": "text/x-python",
   "name": "python",
   "nbconvert_exporter": "python",
   "pygments_lexer": "ipython3",
   "version": "3.7.12"
  }
 },
 "nbformat": 4,
 "nbformat_minor": 4
}
