{
 "cells": [
  {
   "cell_type": "markdown",
   "metadata": {},
   "source": [
    "# plot Tremor removal\n",
    "\n",
    "2023.3.17\n",
    "- 2023.4.27 Update for the station with EADB"
   ]
  },
  {
   "cell_type": "code",
   "execution_count": 11,
   "metadata": {},
   "outputs": [],
   "source": [
    "import datetime\n",
    "import os\n",
    "import time\n",
    "\n",
    "from obspy import read, Stream, Trace\n",
    "\n",
    "import matplotlib\n",
    "import matplotlib.pyplot as plt\n",
    "import matplotlib.dates as dates\n",
    "import matplotlib.dates as mdates\n",
    "import seaborn as sns \n",
    "\n",
    "%matplotlib inline\n",
    "\n",
    "import numpy as np\n",
    "\n",
    "plt.rcParams[\"font.family\"] = \"Arial\"\n",
    "plt.rcParams[\"font.size\"] = 12\n",
    "os.environ['TZ'] = 'GMT' # change time zone to avoid confusion in unix_tvec conversion\n",
    "\n",
    "\n",
    "plt.rcParams[\"font.family\"] = 'Arial'\n",
    "# plt.rcParams[\"font.sans-serif\"] = \"DejaVu Sans, Arial, Helvetica, Lucida Grande, Verdana, Geneva, Lucid, Avant Garde, sans-serif\"\n",
    "plt.rcParams[\"font.size\"] = 12\n",
    "plt.rcParams[\"xtick.direction\"] = \"in\"\n",
    "plt.rcParams[\"xtick.major.size\"] = 5\n",
    "plt.rcParams[\"xtick.major.width\"] = 0.5\n",
    "plt.rcParams[\"xtick.minor.size\"] = 2\n",
    "plt.rcParams[\"xtick.minor.width\"] = 1\n",
    "plt.rcParams[\"xtick.minor.visible\"] = True\n",
    "\n",
    "\n",
    "plt.rcParams[\"ytick.direction\"] = \"in\"\n",
    "plt.rcParams[\"ytick.major.size\"] = 5\n",
    "plt.rcParams[\"ytick.major.width\"] = 0.5\n",
    "plt.rcParams[\"ytick.minor.size\"] = 2\n",
    "plt.rcParams[\"ytick.minor.width\"] = 1\n",
    "plt.rcParams[\"ytick.minor.visible\"] = True"
   ]
  },
  {
   "cell_type": "code",
   "execution_count": 12,
   "metadata": {},
   "outputs": [],
   "source": [
    "# read sac data\n",
    "fisacdir = \"sac\"\n",
    "tr_raw = read(f\"./{fisacdir}/*_raw.sac\", format=\"SAC\").merge()[0]\n",
    "tr_kurtosis = read(f\"./{fisacdir}/*_kurtosis.sac\", format=\"SAC\").merge()[0]\n",
    "tr_stalta = read(f\"./{fisacdir}/*_stalta.sac\", format=\"SAC\").merge()[0]\n",
    "tr_removed = read(f\"./{fisacdir}/*_removed.sac\", format=\"SAC\").merge()[0]"
   ]
  },
  {
   "cell_type": "code",
   "execution_count": 13,
   "metadata": {},
   "outputs": [],
   "source": [
    "# # decimate for the sake of development of plots\n",
    "# decimatefactor = 16\n",
    "# tr_raw = read(f\"./{fisacdir}/*_raw.sac\", format=\"SAC\").decimate(decimatefactor, no_filter=False, strict_length=False).merge()[0]\n",
    "# tr_kurtosis = read(f\"./{fisacdir}/*_kurtosis.sac\", format=\"SAC\").decimate(decimatefactor, no_filter=False, strict_length=False).merge()[0]\n",
    "# tr_stalta = read(f\"./{fisacdir}/*_stalta.sac\", format=\"SAC\").decimate(decimatefactor, no_filter=False, strict_length=False).merge()[0]\n",
    "# tr_removed = read(f\"./{fisacdir}/*_removed.sac\", format=\"SAC\").decimate(decimatefactor, no_filter=False, strict_length=False).merge()[0]"
   ]
  },
  {
   "cell_type": "code",
   "execution_count": 14,
   "metadata": {},
   "outputs": [],
   "source": [
    "tvec=[datetime.datetime.fromtimestamp(ts) for ts in tr_raw.times(\"timestamp\").data]"
   ]
  },
  {
   "cell_type": "code",
   "execution_count": 15,
   "metadata": {},
   "outputs": [],
   "source": [
    "kurtosis_thresh = 3.0\n",
    "stalta_thresh = 3.0"
   ]
  },
  {
   "cell_type": "code",
   "execution_count": 16,
   "metadata": {},
   "outputs": [],
   "source": [
    "cpalette_lc=np.array(sns.color_palette(\"colorblind\"))[:]\n"
   ]
  },
  {
   "cell_type": "code",
   "execution_count": 17,
   "metadata": {},
   "outputs": [
    {
     "data": {
      "text/plain": [
       "1728001"
      ]
     },
     "execution_count": 17,
     "metadata": {},
     "output_type": "execute_result"
    }
   ],
   "source": [
    "len(tvec)"
   ]
  },
  {
   "cell_type": "code",
   "execution_count": null,
   "metadata": {},
   "outputs": [],
   "source": [
    "ylimit_noise=[-12, 12]\n",
    "\n",
    "fig, axs = plt.subplots(4, 1, figsize=(8,7), sharex=True)\n",
    "\n",
    "axs[0].plot(tvec, tr_raw.data*1e6, \"k-\", lw=0.5)\n",
    "axs[0].set_ylabel(\"µm/s\")\n",
    "axs[0].set_ylim(ylimit_noise)\n",
    "\n",
    "axs[1].plot(tvec, tr_kurtosis.data, \"-\", c=cpalette_lc[0], lw=0.5)\n",
    "axs[1].set_ylabel(\"Kurtosis\")\n",
    "axs[1].set_ylim([0, 10])\n",
    "axs[1].axhline(kurtosis_thresh, c=\"k\", lw=1, ls=\"--\")\n",
    "\n",
    "axs[2].plot(tvec, tr_stalta.data, \"-\", c=cpalette_lc[2], lw=0.5)\n",
    "axs[2].set_ylabel(\"STA/LTA\")\n",
    "axs[2].set_ylim([0, 5])\n",
    "axs[2].axhline(stalta_thresh, c=\"k\", lw=1, ls=\"--\")\n",
    "\n",
    "axs[3].plot(tvec, tr_removed.data*1e6, \"-\", c=cpalette_lc[3], lw=0.5)\n",
    "axs[3].set_ylabel(\"µm/s\")\n",
    "axs[3].set_ylim(ylimit_noise)\n",
    "\n",
    "# # format x label\n",
    "xfmt = dates.DateFormatter('%Y-%m-%d\\nT%H:%M:%S')\n",
    "axs[3].xaxis.set_major_formatter(xfmt)\n",
    "axs[3].xaxis.set_major_locator(mdates.HourLocator(byhour=[0, 6, 12, 18]))\n",
    "# axs[3].xaxis.set_major_locator(mdates.DayLocator(interval=1))\n",
    "axs[3].xaxis.set_minor_locator(mdates.HourLocator(interval=3))\n",
    "axs[3].set_xlim([tvec[0], tvec[-1]])\n",
    "plt.setp(axs[3].get_xticklabels(), rotation=0, ha=\"center\", rotation_mode=\"anchor\")\n",
    "\n",
    "for i in range(4):\n",
    "    axs[i].grid(True, which=\"major\", axis=\"both\", lw=1, c=\"gray\", alpha=0.5, zorder=-1)\n",
    "\n",
    "plt.tight_layout()\n",
    "\n",
    "fig.suptitle(f'{tr_raw.id} {tr_stalta.stats.starttime.strftime(\"%Y-%m-%dT%H:%M:%S\")}-{tr_stalta.stats.endtime.strftime(\"%Y-%m-%dT%H:%M:%S\")}', x=0.525)\n",
    "fig.tight_layout(rect=[0,0,1,1.01])\n",
    "plt.subplots_adjust(hspace=0.2)\n",
    "fig.align_ylabels()\n",
    "\n",
    "plt.text(-0.09, 1.0, '(a)', horizontalalignment='left', verticalalignment='center', transform = axs[0].transAxes, fontsize=13, fontweight=\"bold\")\n",
    "plt.text(-0.09, 1.0, '(b)', horizontalalignment='left', verticalalignment='center', transform = axs[1].transAxes, fontsize=13, fontweight=\"bold\")\n",
    "plt.text(-0.09, 1.0, '(c)', horizontalalignment='left', verticalalignment='center', transform = axs[2].transAxes, fontsize=13, fontweight=\"bold\")\n",
    "plt.text(-0.09, 1.0, '(d)', horizontalalignment='left', verticalalignment='center', transform = axs[3].transAxes, fontsize=13, fontweight=\"bold\")\n",
    "\n",
    "\n",
    "foname = (f\"./figure/tremorremoved_{tr_raw.id}_{fisacdir}.png\")\n",
    "plt.savefig(foname, dpi=150)\n"
   ]
  },
  {
   "cell_type": "markdown",
   "metadata": {},
   "source": [
    "# Plot some events"
   ]
  },
  {
   "cell_type": "code",
   "execution_count": 19,
   "metadata": {},
   "outputs": [
    {
     "data": {
      "text/plain": [
       "1728001"
      ]
     },
     "execution_count": 19,
     "metadata": {},
     "output_type": "execute_result"
    }
   ],
   "source": [
    "len(tvec)"
   ]
  },
  {
   "cell_type": "code",
   "execution_count": 20,
   "metadata": {},
   "outputs": [
    {
     "data": {
      "text/plain": [
       "(-12.0, 12.0)"
      ]
     },
     "execution_count": 20,
     "metadata": {},
     "output_type": "execute_result"
    },
    {
     "data": {
      "image/png": "[encoded data removed]",
      "text/plain": [
       "<Figure size 800x300 with 1 Axes>"
      ]
     },
     "metadata": {},
     "output_type": "display_data"
    }
   ],
   "source": [
    "plottwinlen = 10000\n",
    "plotst = 1631001\n",
    "\n",
    "fig, ax = plt.subplots(1, 1, figsize=(8,3), sharex=True)\n",
    "\n",
    "ax.plot(tvec[plotst:plotst+plottwinlen], tr_raw.data[plotst:plotst+plottwinlen]*1e6, \"k-\", lw=0.5)\n",
    "ax.set_ylabel(\"µm/s\")\n",
    "ax.set_ylim(ylimit_noise)\n",
    "\n"
   ]
  },
  {
   "cell_type": "code",
   "execution_count": null,
   "metadata": {},
   "outputs": [],
   "source": []
  }
 ],
 "metadata": {
  "@webio": {
   "lastCommId": null,
   "lastKernelId": null
  },
  "kernelspec": {
   "display_name": "Python 3 (ipykernel)",
   "language": "python",
   "name": "python3"
  },
  "language_info": {
   "codemirror_mode": {
    "name": "ipython",
    "version": 3
   },
   "file_extension": ".py",
   "mimetype": "text/x-python",
   "name": "python",
   "nbconvert_exporter": "python",
   "pygments_lexer": "ipython3",
   "version": "3.8.12"
  }
 },
 "nbformat": 4,
 "nbformat_minor": 4
}
