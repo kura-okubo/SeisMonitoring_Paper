{
 "cells": [
  {
   "cell_type": "markdown",
   "metadata": {},
   "source": [
    "# Plot master figure: MCMC dv/v model fitting\n",
    "\n",
    "2023.4.22 Kurama Okubo\n",
    "\n",
    "This notebook plots the master figures for MCMC dv/v model fitting.\n",
    "Please first run the `plotfigure_MCMCscattermatrix.ipynb` for the case of stretching and mwcs to dump the data to plot the dvv model comparisons in this notebook.\n",
    "\n",
    "2023.10.6 update legend"
   ]
  },
  {
   "cell_type": "code",
   "execution_count": 1,
   "metadata": {},
   "outputs": [],
   "source": [
    "%load_ext autoreload\n",
    "%autoreload 2\n",
    "\n",
    "import datetime\n",
    "import os\n",
    "import time\n",
    "\n",
    "import matplotlib\n",
    "import matplotlib.pyplot as plt\n",
    "import matplotlib.dates as dates\n",
    "import matplotlib.dates as mdates\n",
    "%matplotlib inline\n",
    "from IPython.display import display, Math\n",
    "\n",
    "import numpy as np\n",
    "import pandas as pd\n",
    "import h5py\n",
    "import pickle\n",
    "\n",
    "import shutil\n",
    "from tqdm import tqdm\n",
    "import glob\n",
    "\n",
    "import matplotlib as mpl\n",
    "\n",
    "import emcee # MCMC sampler\n",
    "import corner\n",
    "\n",
    "import copy\n",
    "\n",
    "# import mcmc functions\n",
    "from scattermatrix import *\n",
    "from MCMC_func import *\n",
    "\n",
    "plt.rcParams[\"font.family\"] = 'Arial'\n",
    "# plt.rcParams[\"font.sans-serif\"] = \"DejaVu Sans, Arial, Helvetica, Lucida Grande, Verdana, Geneva, Lucid, Avant Garde, sans-serif\"\n",
    "plt.rcParams[\"font.size\"] = 12\n",
    "plt.rcParams[\"xtick.direction\"] = \"in\"\n",
    "plt.rcParams[\"xtick.major.size\"] = 5\n",
    "plt.rcParams[\"xtick.major.width\"] = 0.5\n",
    "plt.rcParams[\"xtick.minor.size\"] = 2\n",
    "plt.rcParams[\"xtick.minor.width\"] = 1\n",
    "plt.rcParams[\"xtick.minor.visible\"] = True\n",
    "\n",
    "\n",
    "plt.rcParams[\"ytick.direction\"] = \"in\"\n",
    "plt.rcParams[\"ytick.major.size\"] = 5\n",
    "plt.rcParams[\"ytick.major.width\"] = 0.5\n",
    "plt.rcParams[\"ytick.minor.size\"] = 2\n",
    "plt.rcParams[\"ytick.minor.width\"] = 1\n",
    "plt.rcParams[\"ytick.minor.visible\"] = True\n",
    "\n",
    "os.environ['TZ'] = 'GMT' # change time zone to avoid confusion in unix_tvec conversion"
   ]
  },
  {
   "cell_type": "code",
   "execution_count": 2,
   "metadata": {},
   "outputs": [],
   "source": [
    "starttime = datetime.datetime(2002, 1, 1)\n",
    "endtime = datetime.datetime(2022, 6, 1)\n",
    "\n",
    "vlines = [datetime.datetime(2003, 12, 12), datetime.datetime(2004, 9, 28)] \n",
    "\n",
    "# NOTE: v1_tshift0-120 is used to demonstrate the trade-off of temperature time shift\n",
    "plotdvv_datadir = \"../plotdvvmodel_data\"\n",
    "output_imgdir = \"../figure/MCMC_dvvmodelfit_mastrer\"\n",
    "\n",
    "image_format=\"png\"\n",
    "dpi = 150\n",
    "show=True\n",
    "#-------------------------------------------#\n",
    "\n",
    "if not os.path.exists(plotdvv_datadir):\n",
    "    os.makedirs(plotdvv_datadir)\n",
    "    \n",
    "if not os.path.exists(output_imgdir):\n",
    "    os.makedirs(output_imgdir)"
   ]
  },
  {
   "cell_type": "code",
   "execution_count": 3,
   "metadata": {},
   "outputs": [
    {
     "data": {
      "text/plain": [
       "['../plotdvvmodel_data/plotdvvfit_model_stretching_BP.LCCB-BP.SCYB_0.9-1.2_wlin_v2.pickle',\n",
       " '../plotdvvmodel_data/plotdvvfit_model_mwcs_BP.LCCB-BP.SCYB_0.9-1.2_wlin_v2.pickle',\n",
       " '../plotdvvmodel_data/plotdvvfit_model_mwcs_BP.LCCB-BP.SCYB_0.9-1.2_base_v2.pickle',\n",
       " '../plotdvvmodel_data/plotdvvfit_model_stretching_BP.LCCB-BP.SCYB_0.9-1.2_base_v2.pickle']"
      ]
     },
     "execution_count": 3,
     "metadata": {},
     "output_type": "execute_result"
    }
   ],
   "source": [
    "finamelist = glob.glob(plotdvv_datadir+\"/*.pickle\")\n",
    "finamelist"
   ]
  },
  {
   "cell_type": "code",
   "execution_count": 4,
   "metadata": {},
   "outputs": [],
   "source": [
    "stationpairs_tmp = []\n",
    "for finame in glob.glob(plotdvv_datadir+\"/*.pickle\"):\n",
    "    dvvmethod, stpair, freqband, modelcase, version = os.path.basename(finame).split(\".pickle\")[0].split(\"_\")[2:]\n",
    "    stationpairs_tmp.append(stpair)"
   ]
  },
  {
   "cell_type": "code",
   "execution_count": 5,
   "metadata": {},
   "outputs": [],
   "source": [
    "stationpair_list = np.unique(stationpairs_tmp)"
   ]
  },
  {
   "cell_type": "code",
   "execution_count": 6,
   "metadata": {},
   "outputs": [
    {
     "data": {
      "text/plain": [
       "'BP.LCCB-BP.SCYB'"
      ]
     },
     "execution_count": 6,
     "metadata": {},
     "output_type": "execute_result"
    }
   ],
   "source": [
    "stationpair = stationpair_list[0]\n",
    "sta1, sta2 = [x.split(\".\")[1] for x in stationpair.split(\"-\")]\n",
    "stationpair"
   ]
  },
  {
   "cell_type": "code",
   "execution_count": 7,
   "metadata": {},
   "outputs": [],
   "source": [
    "#read data\n",
    "dvvmethod = \"stretching\"\n",
    "freqband = \"0.9-1.2\"\n",
    "caseversion = \"v2\"\n",
    "\n",
    "# base model\n",
    "fidata_stretching_base = plotdvv_datadir+\"/plotdvvfit_model_{}_{}_{}_{}_{}.pickle\".format(dvvmethod, stationpair, freqband, \"base\", caseversion)\n",
    "if not os.path.exists(fidata_stretching_base):\n",
    "    raise ValueError(f\"{fidata_stretching_base} not exists. Please first dump the data.\")\n",
    "else:\n",
    "    with open(fidata_stretching_base, \"rb\") as f:\n",
    "        plotdvvfit_model_base = pickle.load(f)\n",
    "        \n",
    "# wlin model\n",
    "fidata_stretching_wlin = plotdvv_datadir+\"/plotdvvfit_model_{}_{}_{}_{}_{}.pickle\".format(dvvmethod, stationpair, freqband, \"wlin\", caseversion)\n",
    "if not os.path.exists(fidata_stretching_wlin):\n",
    "    raise ValueError(f\"{fidata_stretching_wlin} not exists. Please first dump the data.\")\n",
    "else:\n",
    "    with open(fidata_stretching_wlin, \"rb\") as f:\n",
    "        plotdvvfit_model_wlin = pickle.load(f)\n",
    "        "
   ]
  },
  {
   "cell_type": "code",
   "execution_count": 8,
   "metadata": {},
   "outputs": [
    {
     "data": {
      "text/plain": [
       "'../plotdvvmodel_data/plotdvvfit_model_stretching_BP.LCCB-BP.SCYB_0.9-1.2_wlin_v2.pickle'"
      ]
     },
     "execution_count": 8,
     "metadata": {},
     "output_type": "execute_result"
    }
   ],
   "source": [
    "fidata_stretching_wlin"
   ]
  },
  {
   "cell_type": "code",
   "execution_count": 9,
   "metadata": {},
   "outputs": [
    {
     "data": {
      "text/plain": [
       "dict_keys(['a0', 'p1', 'a_{precip}', 'p2', 't_{shiftdays}', 'S1', 'log10tmin1', 'log10tmax1', 'S2', 'log10tmin2', 'log10tmax2', 'b_{lin}', 'logf', 'fixparam01', 'nsteps', 'nwalkers', 'modelcase', 'a_{precip}_fixed', 'log10tmin1_fixed', 'log10tmin2_fixed', 'averagestack_step', 'uniform_tvec', 'unix_tvec', 'fitting_period_ind', 'unix_tSS', 'unix_tPF', 'precip', 'CAVG', 'keys', 'pos', 'ndim', 'dvv_data_trim', 'err_data_trim', 'freqband', 'dvvmethod', 'nbin_hist', 'dvv_data', 'err_data', 'theta', 'model_keys', 'dvvgwl', 'dvvtemp', 'dvvhealSS', 'dvvhealPF', 'dvv_model', 'lintrend'])"
      ]
     },
     "execution_count": 9,
     "metadata": {},
     "output_type": "execute_result"
    }
   ],
   "source": [
    "plotdvvfit_model_wlin.keys()"
   ]
  },
  {
   "cell_type": "code",
   "execution_count": 10,
   "metadata": {},
   "outputs": [
    {
     "data": {
      "text/plain": [
       "31.29456273638295"
      ]
     },
     "execution_count": 10,
     "metadata": {},
     "output_type": "execute_result"
    }
   ],
   "source": [
    "t_shiftdays = plotdvvfit_model_base[\"theta\"][plotdvvfit_model_base[\"model_keys\"].index(\"t_{shiftdays}\")]\n",
    "t_shiftdays"
   ]
  },
  {
   "cell_type": "markdown",
   "metadata": {},
   "source": [
    "## plot dvv model factors"
   ]
  },
  {
   "cell_type": "code",
   "execution_count": 11,
   "metadata": {},
   "outputs": [
    {
     "data": {
      "text/plain": [
       "30.362513731424016"
      ]
     },
     "execution_count": 11,
     "metadata": {},
     "output_type": "execute_result"
    }
   ],
   "source": [
    "plotdvvfit_model_base[\"theta\"][4]\n",
    "plotdvvfit_model_wlin[\"theta\"][4]"
   ]
  },
  {
   "cell_type": "code",
   "execution_count": 12,
   "metadata": {},
   "outputs": [],
   "source": [
    "# def rescale_theta(theta):\n",
    "#     theta[5] = np.log10(10**theta[5]/86400/365)\n",
    "#     theta[7] = np.log10(10**theta[7]/86400/365)\n",
    "#     theta[8] = theta[8] * 365"
   ]
  },
  {
   "cell_type": "code",
   "execution_count": null,
   "metadata": {
    "tags": []
   },
   "outputs": [],
   "source": [
    "dvvmodel_IsOffsetRemoval = True # remove offset from the dv/v with the periof before San Simeon eq. of the observation\n",
    "dicttextbox=dict(boxstyle=\"round\", fc=\"w\", ec=[0.8, 0.8, 0.8], alpha=0.8, pad=0.4) # text box property for AIC and BIC\n",
    "\n",
    "modeldict = plotdvvfit_model_base\n",
    "\n",
    "uniform_tvec = modeldict[\"uniform_tvec\"]\n",
    "tSS = datetime.datetime.fromtimestamp(modeldict[\"unix_tSS\"])\n",
    "t_shiftdays = modeldict[\"theta\"][modeldict[\"model_keys\"].index(\"t_{shiftdays}\")]\n",
    "a0 = modeldict[\"theta\"][modeldict[\"model_keys\"].index(\"a0\")]\n",
    "\n",
    "ii = 0\n",
    "\n",
    "fig, axs = plt.subplots(7, 2, figsize=(16,12),sharex=True, gridspec_kw={\"height_ratios\":[0.01,1,1,1,1,1,1,]})\n",
    "\n",
    "#--- Plot base model---#\n",
    "# plot GWL\n",
    "axs[1, ii].plot(uniform_tvec, modeldict[\"dvvgwl\"], \"k-\")\n",
    "axs[1, ii].set_title(\"ΔGWL\")\n",
    "axs[1, ii].set_ylabel(\"dv/v[%]\")\n",
    "\n",
    "ax02=axs[1, ii].twinx()\n",
    "# make a plot with different y-axis using second axis object\n",
    "ax02.plot(uniform_tvec, modeldict[\"precip\"] , color=\"blue\")\n",
    "ax02.set_ylabel(\"Precipitation [mm/month]\",color=\"blue\")\n",
    "ax02.set_ylim([0, 250])\n",
    "\n",
    "ax02.set_zorder(1)\n",
    "axs[1, ii].set_zorder(2)\n",
    "axs[1, ii].patch.set_alpha(0)\n",
    "\n",
    "# plot Temperature\n",
    "if t_shiftdays >= 2:\n",
    "    label_temperature = \"{:2d} days shifted\"\n",
    "else:\n",
    "    label_temperature = \"{:2d} day shifted\"\n",
    "    \n",
    "axs[2, ii].plot(uniform_tvec, modeldict[\"dvvtemp\"], \"k-\", label=label_temperature.format(int(t_shiftdays)))\n",
    "axs[2, ii].set_title(\"Temperature\")\n",
    "axs[2, ii].set_ylabel(\"dv/v[%]\")\n",
    "\n",
    "ax12=axs[2, ii].twinx()\n",
    "# make a plot with different y-axis using second axis object\n",
    "ax12.plot(uniform_tvec, modeldict[\"CAVG\"] , color=\"orange\")\n",
    "ax12.set_ylabel(\"ΔTemperature [°C]\",color=\"orange\")\n",
    "ax12.set_ylim([-20, 20])\n",
    "axs[2, ii].legend(loc=1, bbox_to_anchor=(1.01, 1.05))\n",
    "# axs[1, ii].legend(loc=4, bbox_to_anchor=(1.0, -0.03),)#(1.02, 1.0),)\n",
    "\n",
    "ax12.set_zorder(1)\n",
    "axs[2, ii].set_zorder(2)\n",
    "axs[2, ii].patch.set_alpha(0)\n",
    "\n",
    "# plot SS and PF healing\n",
    "axs[3, ii].plot(uniform_tvec, modeldict[\"dvvhealSS\"], \"k-\", label=\"San Simeon EQ.\")\n",
    "axs[3, ii].plot(uniform_tvec, modeldict[\"dvvhealPF\"], \"r-\", label=\"Parkfield EQ.\")\n",
    "axs[3, ii].set_title(\"Healing model\")\n",
    "axs[3, ii].set_ylabel(\"dv/v[%]\")\n",
    "axs[3, ii].legend(loc=1, bbox_to_anchor=(1.01, 1.05))\n",
    "\n",
    "# plot trend\n",
    "axs[4, ii].plot(uniform_tvec, modeldict[\"lintrend\"], ls=\"-\", c = \"k\", zorder=1)\n",
    "axs[4, ii].set_title(\"Linear trend\")\n",
    "axs[4, ii].set_ylabel(\"dv/v [%]\")\n",
    "\n",
    "# plot dv/v\n",
    "if dvvmodel_IsOffsetRemoval:\n",
    "    offset_ind = np.where(np.array(uniform_tvec) < tSS)\n",
    "    offset_data = np.nanmean(modeldict[\"dvv_data\"][offset_ind])\n",
    "    dvv_data = modeldict[\"dvv_data\"] - offset_data\n",
    "    dvv_model = modeldict[\"dvv_model\"] - offset_data\n",
    "    a0_offsetremoved = a0 - offset_data\n",
    "    axs[5, ii].text(starttime, -0.27, \" offset removed\")\n",
    "else:\n",
    "    dvv_data = modeldict[\"dvv_data\"]\n",
    "    dvv_model = modeldict[\"dvv_model\"]\n",
    "    a0_offsetremoved = a0\n",
    "          \n",
    "# axs[3].errorbar(uniform_tvec, dvv_data, yerr = err_data, capsize=3, ls=\"-\", c = \"k\", ecolor='black', zorder=1, label=\"data\")\n",
    "axs[5, ii].plot(uniform_tvec, dvv_data, ls=\"-\", c = \"k\", zorder=1, label=\"data\")\n",
    "axs[5, ii].plot(uniform_tvec, dvv_model, \"r-\", zorder=2, label=\"model\")\n",
    "axs[5, ii].set_title(\"Model fit with observation\")\n",
    "axs[5, ii].set_ylabel(\"dv/v [%]\")\n",
    "axs[5, ii].legend(loc=4, bbox_to_anchor=(1.01, -0.05))\n",
    "\n",
    "axs[5, ii].axhline(a0_offsetremoved, c=\"darkgreen\", ls=\"--\", lw=1, zorder=-1, label=\"\")\n",
    "\n",
    "# plot residual\n",
    "axs[6, ii].plot(uniform_tvec, dvv_data-dvv_model, \"-\", c=\"gray\", zorder=2, label=\"raw\")\n",
    "axs[6, ii].plot(uniform_tvec, moving_average(dvv_data-dvv_model, 20), \"k-\", zorder=2, label=\"smoothed\")\n",
    "axs[6, ii].set_title(\"Residual\")\n",
    "axs[6, ii].set_ylabel(\"Δdv/v [%]\")\n",
    "# axs[6, ii].legend(loc=4, bbox_to_anchor=(1.01, -0.05))\n",
    "\n",
    "AIC_base = compute_AIC(dvv_data*1e-2, dvv_model*1e-2, modeldict[\"ndim\"]) # convert from % to nondim\n",
    "BIC_base = compute_BIC(dvv_data*1e-2, dvv_model*1e-2, modeldict[\"ndim\"]) # convert from % to nondim\n",
    "axs[6, ii].text(0.918, 0.16, \"AIC={:.1f}\\nBIC={:.1f}\".format(AIC_base, BIC_base), ha=\"center\", va=\"center\", bbox=dicttextbox, transform=axs[6, ii].transAxes)\n",
    "\n",
    "\n",
    "#---------------------------------------------------------------------------------#\n",
    "#---------------------------------------------------------------------------------#\n",
    "\n",
    "#--- Plot wlin---#\n",
    "ii = 1\n",
    "modeldict = plotdvvfit_model_wlin\n",
    "\n",
    "uniform_tvec = modeldict[\"uniform_tvec\"]\n",
    "tSS = datetime.datetime.fromtimestamp(modeldict[\"unix_tSS\"])\n",
    "t_shiftdays = modeldict[\"theta\"][modeldict[\"model_keys\"].index(\"t_{shiftdays}\")]\n",
    "blin_peryear = modeldict[\"theta\"][modeldict[\"model_keys\"].index(\"b_{lin}\")] * 365\n",
    "a0 = modeldict[\"theta\"][modeldict[\"model_keys\"].index(\"a0\")]\n",
    "\n",
    "# plot GWL\n",
    "axs[1, ii].plot(uniform_tvec, modeldict[\"dvvgwl\"], \"k-\")\n",
    "axs[1, ii].set_title(\"ΔGWL\")\n",
    "axs[1, ii].set_ylabel(\"dv/v[%]\")\n",
    "\n",
    "ax02=axs[1, ii].twinx()\n",
    "# make a plot with different y-axis using second axis object\n",
    "ax02.plot(uniform_tvec, modeldict[\"precip\"] , color=\"blue\")\n",
    "ax02.set_ylabel(\"Precipitation [mm/month]\",color=\"blue\")\n",
    "ax02.set_ylim([0, 250])\n",
    "\n",
    "ax02.set_zorder(1)\n",
    "axs[1, ii].set_zorder(2)\n",
    "axs[1, ii].patch.set_alpha(0)\n",
    "\n",
    "# plot Temperature\n",
    "if t_shiftdays >= 2:\n",
    "    label_temperature = \"{:2d} days shifted\"\n",
    "else:\n",
    "    label_temperature = \"{:2d} day shifted\"\n",
    "    \n",
    "axs[2, ii].plot(uniform_tvec, modeldict[\"dvvtemp\"], \"k-\", label=label_temperature.format(int(t_shiftdays)))\n",
    "axs[2, ii].set_title(\"Temperature\")\n",
    "axs[2, ii].set_ylabel(\"dv/v[%]\")\n",
    "\n",
    "ax12=axs[2, ii].twinx()\n",
    "# make a plot with different y-axis using second axis object\n",
    "ax12.plot(uniform_tvec, modeldict[\"CAVG\"] , color=\"orange\")\n",
    "ax12.set_ylabel(\"ΔTemperature [°C]\",color=\"orange\")\n",
    "ax12.set_ylim([-20, 20])\n",
    "axs[2, ii].legend(loc=1, bbox_to_anchor=(1.01, 1.05))\n",
    "# axs[1, ii].legend(loc=4, bbox_to_anchor=(1.0, 0.75),)#(1.02, 1.0),)\n",
    "\n",
    "ax12.set_zorder(1)\n",
    "axs[2, ii].set_zorder(2)\n",
    "axs[2, ii].patch.set_alpha(0)\n",
    "\n",
    "# plot SS and PF healing\n",
    "axs[3, ii].plot(uniform_tvec, modeldict[\"dvvhealSS\"], \"k-\", label=\"San Simeon EQ.\")\n",
    "axs[3, ii].plot(uniform_tvec, modeldict[\"dvvhealPF\"], \"r-\", label=\"Parkfield EQ.\")\n",
    "axs[3, ii].set_title(\"Healing model\")\n",
    "axs[3, ii].set_ylabel(\"dv/v[%]\")\n",
    "axs[3, ii].legend(loc=1, bbox_to_anchor=(1.01, 1.05))\n",
    "\n",
    "# plot trend\n",
    "axs[4, ii].plot(uniform_tvec, modeldict[\"lintrend\"], ls=\"-\", c = \"k\", zorder=1, label=\"slope={:.4f}[%/year]\".format(blin_peryear))\n",
    "axs[4, ii].set_title(\"Linear trend\")\n",
    "axs[4, ii].set_ylabel(\"dv/v [%]\")\n",
    "axs[4, ii].legend(loc=4, bbox_to_anchor=(1.01, -0.05))\n",
    "\n",
    "# plot dv/v\n",
    "if dvvmodel_IsOffsetRemoval:\n",
    "    offset_ind = np.where(np.array(uniform_tvec) < tSS)\n",
    "    offset_data = np.nanmean(modeldict[\"dvv_data\"][offset_ind])\n",
    "    dvv_data = modeldict[\"dvv_data\"] - offset_data\n",
    "    dvv_model = modeldict[\"dvv_model\"] - offset_data\n",
    "    a0_offsetremoved = a0 - offset_data\n",
    "    axs[5, ii].text(starttime, -0.27, \" offset removed by data\")\n",
    "else:\n",
    "    dvv_data = modeldict[\"dvv_data\"]\n",
    "    dvv_model = modeldict[\"dvv_model\"]\n",
    "    a0_offsetremoved = a0\n",
    "       \n",
    "# axs[3].errorbar(uniform_tvec, dvv_data, yerr = err_data, capsize=3, ls=\"-\", c = \"k\", ecolor='black', zorder=1, label=\"data\")\n",
    "axs[5, ii].plot(uniform_tvec, dvv_data, ls=\"-\", c = \"k\", zorder=1, label=\"data\")\n",
    "axs[5, ii].plot(uniform_tvec, dvv_model, \"r-\", zorder=2, label=\"model\")\n",
    "axs[5, ii].set_title(\"Model fit with observation\")\n",
    "axs[5, ii].set_ylabel(\"dv/v [%]\")\n",
    "axs[5, ii].legend(loc=4, bbox_to_anchor=(1.01, -0.05))\n",
    "axs[5, ii].axhline(a0_offsetremoved, c=\"darkgreen\", ls=\"--\", lw=1, zorder=-1, label=\"\")\n",
    "\n",
    "# plot residual\n",
    "axs[6, ii].plot(uniform_tvec, dvv_data-dvv_model, \"-\", c=\"gray\", zorder=2, label=\"raw\")\n",
    "axs[6, ii].plot(uniform_tvec, moving_average(dvv_data-dvv_model, 20), \"k-\", zorder=2, label=\"smoothed\")\n",
    "axs[6, ii].set_title(\"Residual\")\n",
    "axs[6, ii].set_ylabel(\"Δdv/v [%]\")\n",
    "# axs[6, ii].legend(loc=4, bbox_to_anchor=(1.01, -0.05))\n",
    "\n",
    "#---------------------------------------------------------------------------------#\n",
    "\n",
    "for i in range(len(axs)):\n",
    "    for ii in range(2):\n",
    "        axs[i, ii].grid(True)\n",
    "        axs[i, ii].set_yticks([-0.2, 0.0, 0.2])\n",
    "        plt.setp(axs[i, ii].get_xticklabels(), rotation=30, ha=\"right\", rotation_mode=\"anchor\")\n",
    "\n",
    "plt.setp(axs, xlim=[starttime, endtime])\n",
    "plt.setp(axs, ylim=[-0.2,0.2])\n",
    "\n",
    "AIC_wlin = compute_AIC(dvv_data*1e-2, dvv_model*1e-2, modeldict[\"ndim\"]) # convert from % to nondim\n",
    "BIC_wlin = compute_BIC(dvv_data*1e-2, dvv_model*1e-2, modeldict[\"ndim\"]) # convert from % to nondim\n",
    "axs[6, ii].text(0.918, 0.16, \"AIC={:.1f}\\nBIC={:.1f}\".format(AIC_wlin, BIC_wlin), ha=\"center\", va=\"center\", bbox=dicttextbox, transform=axs[6, ii].transAxes)\n",
    "\n",
    "plt.suptitle(f\"{sta1}-{sta2} {dvvmethod} {freqband}Hz \")\n",
    "\n",
    "fig.tight_layout()\n",
    "plt.subplots_adjust(hspace=0.35)\n",
    "# set titles\n",
    "for i, txt in enumerate([\"Base model\", \"with linear trend\"]):\n",
    "    axs[0, i].axis('off')\n",
    "    axs[0, i].set_title(txt, pad=0.0, y=-2, fontsize=18, fontweight=\"bold\")\n",
    "\n",
    "# vlines = [datetime.datetime(2002, 1, 1), datetime.datetime(2020, 9, 1)] \n",
    "# ax.axvline(vlines[0], ls=\"-\", c='b')\n",
    "# ax.axvline(vlines[1], ls=\"-\", c='b')\n",
    "\n",
    "# add figure labels\n",
    "fig_labels = np.array([['a', 'b', 'c', 'd', 'e', 'f'], ['g', 'h', 'i', 'j', 'k', 'l']], dtype=object)\n",
    "\n",
    "for i in range(len(axs)-1):\n",
    "    for ii in range(2):\n",
    "        axs[i+1, ii].text(datetime.datetime(2002, 4, 25), 0.128, f\"{fig_labels[ii, i]})\", fontsize=15, fontweight=\"bold\", zorder=4)\n",
    "\n",
    "foname = (output_imgdir+\"/MCMC_modelfitfactors_master_{}_{}_{}.png\".format(stationpair, dvvmethod, freqband))\n",
    "plt.savefig(foname, dpi=300)"
   ]
  },
  {
   "cell_type": "code",
   "execution_count": 14,
   "metadata": {},
   "outputs": [
    {
     "data": {
      "text/plain": [
       "'BP.LCCB-BP.SCYB'"
      ]
     },
     "execution_count": 14,
     "metadata": {},
     "output_type": "execute_result"
    }
   ],
   "source": [
    "stationpair"
   ]
  },
  {
   "cell_type": "code",
   "execution_count": null,
   "metadata": {},
   "outputs": [],
   "source": []
  }
 ],
 "metadata": {
  "@webio": {
   "lastCommId": null,
   "lastKernelId": null
  },
  "kernelspec": {
   "display_name": "Python 3 (ipykernel)",
   "language": "python",
   "name": "python3"
  },
  "language_info": {
   "codemirror_mode": {
    "name": "ipython",
    "version": 3
   },
   "file_extension": ".py",
   "mimetype": "text/x-python",
   "name": "python",
   "nbconvert_exporter": "python",
   "pygments_lexer": "ipython3",
   "version": "3.8.12"
  }
 },
 "nbformat": 4,
 "nbformat_minor": 4
}
