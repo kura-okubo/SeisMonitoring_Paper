{
 "cells": [
  {
   "cell_type": "markdown",
   "metadata": {},
   "source": [
    "# Plot comparison between dv/v and tremor rate\n",
    "2023.05.02 Kurama Okubo\n",
    "\n",
    "This notebook plot the comparison of dv/v time histories to the tremor rate at Parkfield.\n",
    "\n",
    "LFE and Tremor rates has been processed by Brent Delbridge (LANL). (2021/7/15)\n",
    "\n",
    "**NOTE:** Please first run the `Post/ModelFit/code/plotfigure_convert_dvvdata.ipynb` to save the csv file in pandas multicolumns format.\n",
    "\n",
    "update 2023.06.19 save figures and check the consistency with the figure S5 in Delbridge2020. Detrend with pre-Parkfield.\n"
   ]
  },
  {
   "cell_type": "code",
   "execution_count": null,
   "metadata": {},
   "outputs": [],
   "source": [
    "import datetime\n",
    "import os\n",
    "\n",
    "import matplotlib\n",
    "import matplotlib.pyplot as plt\n",
    "import matplotlib.dates as dates\n",
    "import matplotlib.dates as mdates\n",
    "from mpl_toolkits.axes_grid1.inset_locator import inset_axes\n",
    "\n",
    "%matplotlib inline\n",
    "import seaborn as sns \n",
    "# import importParaviewColormap\n",
    "import numpy as np\n",
    "import pandas as pd\n",
    "import h5py\n",
    "\n",
    "import shutil\n",
    "from tqdm import tqdm\n",
    "\n",
    "import matplotlib as mpl\n",
    "\n",
    "os.environ['TZ'] = 'GMT' # change time zone to avoid confusion in unix_tvec conversion\n",
    "\n",
    "plt.rcParams[\"font.family\"] = 'Arial'\n",
    "# plt.rcParams[\"font.sans-serif\"] = \"DejaVu Sans, Arial, Helvetica, Lucida Grande, Verdana, Geneva, Lucid, Avant Garde, sans-serif\"\n",
    "plt.rcParams[\"font.size\"] = 12\n",
    "plt.rcParams[\"xtick.direction\"] = \"in\"\n",
    "plt.rcParams[\"xtick.major.size\"] = 4.75\n",
    "plt.rcParams[\"xtick.major.width\"] = 0.75\n",
    "plt.rcParams[\"xtick.minor.size\"] = 3\n",
    "plt.rcParams[\"xtick.minor.width\"] = 0.4\n",
    "plt.rcParams[\"xtick.minor.visible\"] = True\n",
    "\n",
    "plt.rcParams[\"ytick.direction\"] = \"in\"\n",
    "plt.rcParams[\"ytick.major.size\"] = 4.75\n",
    "plt.rcParams[\"ytick.major.width\"] = 0.75\n",
    "plt.rcParams[\"ytick.minor.size\"] = 3\n",
    "plt.rcParams[\"ytick.minor.width\"] = 0.4\n",
    "plt.rcParams[\"ytick.minor.visible\"] = True\n",
    "\n",
    "plt.rcParams[\"savefig.transparent\"] = True\n",
    "\n",
    "plt.rcParams['axes.linewidth'] = 0.75"
   ]
  },
  {
   "cell_type": "code",
   "execution_count": null,
   "metadata": {},
   "outputs": [],
   "source": [
    "root_csv = \"../../../Post/Modelfit/plotcsv_masterdata\"\n",
    "csv_stats_list = [root_csv + \"/dvvdata_all_stretching.csv\",\n",
    "                              root_csv + \"/dvvdata_all_mwcs.csv\"]"
   ]
  },
  {
   "cell_type": "code",
   "execution_count": null,
   "metadata": {},
   "outputs": [],
   "source": [
    "#---set the file path of your case study list---#\n",
    "csv_stats_id = 1 # 0: stretching 1:mwcs\n",
    "\n",
    "starttime = datetime.datetime(2002, 1, 1)\n",
    "endtime = datetime.datetime(2022, 6, 1)\n",
    "\n",
    "cc_time_unit=86400 # short-stacking time unit\n",
    "averagestack_factor=30 # length of time bin to compute mean and std\n",
    "averagestack_step=15\n",
    "\n",
    "cc_threshold = 0.8 # threshold of correlation coefficient\n",
    "err_mwcs_eps= 2e-4 #0.5-0.9: 0.005  #[%]\n",
    "\n",
    "output_imgdir = \"../figure\"\n",
    "\n",
    "image_format=\"png\"\n",
    "dpi = 150\n",
    "show=True\n",
    "#-------------------------------------------#\n",
    "\n",
    "if not os.path.exists(output_imgdir):\n",
    "    os.makedirs(output_imgdir)"
   ]
  },
  {
   "cell_type": "markdown",
   "metadata": {},
   "source": [
    "# Read all dvv"
   ]
  },
  {
   "cell_type": "code",
   "execution_count": null,
   "metadata": {},
   "outputs": [],
   "source": [
    "df_stretching = pd.read_csv(csv_stats_list[0], header=[0, 1, 2, 3], index_col=0)\n",
    "df_mwcs = pd.read_csv(csv_stats_list[1], header=[0, 1, 2, 3], index_col=0)"
   ]
  },
  {
   "cell_type": "code",
   "execution_count": null,
   "metadata": {},
   "outputs": [],
   "source": [
    "uniform_tvec = [datetime.datetime.fromtimestamp(x) for x in df_mwcs.index.get_level_values(0)]"
   ]
  },
  {
   "cell_type": "code",
   "execution_count": null,
   "metadata": {},
   "outputs": [],
   "source": [
    "len(uniform_tvec)"
   ]
  },
  {
   "cell_type": "code",
   "execution_count": null,
   "metadata": {},
   "outputs": [],
   "source": [
    "# filter by freqband\n",
    "freqkeys = np.unique(df_stretching.loc[:, \"dvv\"].columns.get_level_values(0))\n",
    "freqkey = freqkeys[2]"
   ]
  },
  {
   "cell_type": "code",
   "execution_count": null,
   "metadata": {},
   "outputs": [],
   "source": [
    "df_dvvfreq_stretching = df_stretching.loc[:, \"dvv\"].loc[:, df_stretching.loc[:, \"dvv\"].columns.get_level_values(\"freqband\")==freqkey]\n",
    "df_ccfreq_stretching = df_stretching.loc[:, \"cc_dvv\"].loc[:, df_stretching.loc[:, \"cc_dvv\"].columns.get_level_values(\"freqband\")==freqkey]\n",
    "df_errfreq_stretching = df_stretching.loc[:, \"err\"].loc[:, df_stretching.loc[:, \"err\"].columns.get_level_values(\"freqband\")==freqkey]\n",
    "\n",
    "df_dvvfreq_mwcs = df_mwcs.loc[:, \"dvv\"].loc[:, df_mwcs.loc[:, \"dvv\"].columns.get_level_values(\"freqband\")==freqkey]\n",
    "df_ccfreq_mwcs = df_mwcs.loc[:, \"cc_dvv\"].loc[:, df_mwcs.loc[:, \"cc_dvv\"].columns.get_level_values(\"freqband\")==freqkey]\n",
    "df_errfreq_mwcs = df_mwcs.loc[:, \"err\"].loc[:, df_mwcs.loc[:, \"err\"].columns.get_level_values(\"freqband\")==freqkey]"
   ]
  },
  {
   "cell_type": "code",
   "execution_count": null,
   "metadata": {},
   "outputs": [],
   "source": [
    "# Threshold out the dvv with cc and err for the cases with stretching and mwcs, respectively\n",
    "df_dvvfreq_stretching.mask(df_ccfreq_stretching < cc_threshold, inplace=True)\n",
    "df_dvvfreq_mwcs.mask(df_errfreq_mwcs > err_mwcs_eps, inplace=True)"
   ]
  },
  {
   "cell_type": "code",
   "execution_count": null,
   "metadata": {},
   "outputs": [],
   "source": [
    "# test mask\n",
    "# df = pd.DataFrame([[1, 2], [3, -1], [5, -3]], columns=[\"col1\", \"col2\"])\n",
    "# print(df)\n",
    "# df.mask(df < 2, inplace=True)\n",
    "# print(df)"
   ]
  },
  {
   "cell_type": "code",
   "execution_count": null,
   "metadata": {},
   "outputs": [],
   "source": [
    "# NOTE: You can remove the unstable dvv between 2017-01 and 2017-07  due to the clock shift at EADB and GHIB.\n",
    "# We, however, do not apply this for the sake of fair evaluation in the dvv associated with all the pairs.\n",
    "# df_dvvfreq_stretching = df_dvvfreq_stretching.loc[:, ~df_dvvfreq_stretching.columns.get_level_values(1).str.contains(\"EADB\")]\n",
    "# df_dvvfreq_stretching = df_dvvfreq_stretching.loc[:, ~df_dvvfreq_stretching.columns.get_level_values(1).str.contains(\"GHIB\")]\n"
   ]
  },
  {
   "cell_type": "code",
   "execution_count": null,
   "metadata": {},
   "outputs": [],
   "source": [
    "np.unique(df_dvvfreq_stretching.columns.get_level_values(1))"
   ]
  },
  {
   "cell_type": "code",
   "execution_count": null,
   "metadata": {},
   "outputs": [],
   "source": [
    "# Compute stats\n",
    "df_dvvfreq_stretching_stats = df_dvvfreq_stretching.quantile([0.25, 0.5, 0.75], axis=1).T # 1st, 2nd, and 3rd quartiles\n",
    "df_dvvfreq_stretching_stats.loc[:, \"mean\"] = df_dvvfreq_stretching.mean(skipna=True, axis=1).T #mean\n",
    "df_dvvfreq_stretching_stats.loc[:, \"std\"] = df_dvvfreq_stretching.std(skipna=True, axis=1).T #std\n",
    "df_dvvfreq_stretching_stats.loc[:, \"count\"] = df_dvvfreq_stretching.count(axis=1).T #number of data with each time window\n",
    "\n",
    "df_dvvfreq_mwcs_stats = df_dvvfreq_mwcs.quantile([0.25, 0.5, 0.75], axis=1).T # 1st, 2nd, and 3rd quartiles\n",
    "df_dvvfreq_mwcs_stats.loc[:, \"mean\"] = df_dvvfreq_mwcs.mean(skipna=True, axis=1).T #mean\n",
    "df_dvvfreq_mwcs_stats.loc[:, \"std\"] = df_dvvfreq_mwcs.std(skipna=True, axis=1).T #std\n",
    "df_dvvfreq_mwcs_stats.loc[:, \"count\"] = df_dvvfreq_mwcs.count(axis=1).T #number of data with each time window"
   ]
  },
  {
   "cell_type": "code",
   "execution_count": null,
   "metadata": {},
   "outputs": [],
   "source": [
    "df_dvvfreq_stretching_stats.plot(y=df_dvvfreq_stretching_stats.columns[:-1])\n",
    "df_dvvfreq_mwcs_stats.plot(y=df_dvvfreq_stretching_stats.columns[:-1])"
   ]
  },
  {
   "cell_type": "code",
   "execution_count": null,
   "metadata": {},
   "outputs": [],
   "source": [
    "# df_dvvfreq_stretching_stats.plot(y=df_dvvfreq_stretching_stats.columns[-1])\n",
    "# df_dvvfreq_mwcs_stats.plot(y=df_dvvfreq_stretching_stats.columns[-1])"
   ]
  },
  {
   "cell_type": "code",
   "execution_count": null,
   "metadata": {},
   "outputs": [],
   "source": [
    "# fig, ax = plt.subplots(figsize=(10, 2))\n",
    "# ax.bar(uniform_tvec, df_dvvfreq_stretching_stats[\"count\"], width=15)\n",
    "# ax.set_ylim(0, 630)\n",
    "# ax.grid(True)"
   ]
  },
  {
   "cell_type": "markdown",
   "metadata": {},
   "source": [
    "# Process LFE rates\n",
    "\n",
    "The datasets are processed on July 2021. The figure below is the plot by Brent;\n",
    "\n",
    "<img src=\"LFE_rate_peaks.png\" alt=\"LFE rate\" width=\"600\"/>\n",
    "\n",
    "The LFE rate is obtained by 2 days average, which causes 0.5 vaulues in rates, and the unit is [number/day]. We compute the cumsum of LFE_rate, and normalize it to see the change of slope associated with the cumsum value of LFEs. We also have the data of tremor rate, but it is limited up to 2017. "
   ]
  },
  {
   "cell_type": "code",
   "execution_count": null,
   "metadata": {},
   "outputs": [],
   "source": [
    "df_LFE=pd.read_csv(\"../data/LFE_rates.txt\", dtype=str, comment='#', header=None, sep=' ')\n",
    "df_TRE=pd.read_csv(\"../data/tremor_rates.csv\", dtype=str, comment='#', header=0, sep=',')\n",
    "df_LFEpeak=pd.read_csv(\"../data/peak_times.txt\", dtype=str, comment='#', header=None, sep=' ')"
   ]
  },
  {
   "cell_type": "code",
   "execution_count": null,
   "metadata": {},
   "outputs": [],
   "source": [
    "df_LFE[\"t\"] = pd.to_datetime(df_LFE[0])\n",
    "df_LFE[\"LFErate\"] = df_LFE[2].astype(float)\n",
    "df_LFE[\"LFErate_cumsum\"] = np.cumsum(df_LFE[\"LFErate\"])\n",
    "df_LFEpeak[\"peakt\"] = pd.to_datetime(df_LFEpeak[0])\n"
   ]
  },
  {
   "cell_type": "code",
   "execution_count": null,
   "metadata": {},
   "outputs": [],
   "source": [
    "df_LFE.head()"
   ]
  },
  {
   "cell_type": "code",
   "execution_count": null,
   "metadata": {},
   "outputs": [],
   "source": [
    "for index, row in df_LFEpeak.iterrows():\n",
    "    df_temp=df_LFE[df_LFE['t']==row[\"peakt\"]]\n",
    "    df_LFEpeak.loc[index, \"peakLFE\"] = df_temp[\"LFErate\"].values[0]\n",
    "    df_LFEpeak.loc[index, \"peakLFE_cumsum\"] = df_temp[\"LFErate_cumsum\"].values[0]"
   ]
  },
  {
   "cell_type": "code",
   "execution_count": null,
   "metadata": {},
   "outputs": [],
   "source": [
    "fig, ax = plt.subplots(1, 1, figsize=(14,4))\n",
    "ax.plot(df_LFE[\"t\"], df_LFE[\"LFErate\"])\n",
    "ax.plot(df_LFE[\"t\"], df_LFE[\"LFErate_cumsum\"], zorder=1)\n",
    "ax.scatter(df_LFEpeak[\"peakt\"], df_LFEpeak[\"peakLFE_cumsum\"], 8, zorder=2)"
   ]
  },
  {
   "cell_type": "code",
   "execution_count": null,
   "metadata": {},
   "outputs": [],
   "source": [
    "# compute the trend of pre-Parkfield EQ\n",
    "df_LFE_preParkfield = df_LFE[df_LFE[\"t\"] < datetime.datetime(2004, 9, 28)]\n",
    "# plt.plot(df_LFE_preParkfield[\"t\"], df_LFE_preParkfield[\"LFErate_cumsum\"])\n",
    "cumsum_date = np.arange(len(df_LFE_preParkfield[\"t\"]))\n",
    "slope_prePF, intersect_prePF = np.polyfit(cumsum_date, df_LFE_preParkfield[\"LFErate_cumsum\"], 1)\n",
    "\n",
    "prePF_trend = np.arange(len(df_LFE[\"t\"])) * slope_prePF + intersect_prePF\n",
    "prePF_trend"
   ]
  },
  {
   "cell_type": "code",
   "execution_count": null,
   "metadata": {},
   "outputs": [],
   "source": [
    "# check the count of cumulative LFE\n",
    "fig, ax = plt.subplots(1, 1, figsize=(10,4))\n",
    "ax.plot(df_LFE[\"t\"], df_LFE[\"LFErate_cumsum\"]-prePF_trend)\n",
    "ax.set_xlabel(\"year\")\n",
    "ax.set_ylabel(\"Cumsum of LFE rate\")\n",
    "xfmt = dates.DateFormatter('%Y')\n",
    "ax.set_xlim(datetime.datetime(2001,1,1), endtime)\n",
    "ax.set_ylim(-5000, 60000)\n",
    "ax.grid(True, axis=\"both\", lw=0.5, c=[0.8, 0.8, 0.8], alpha=0.4, zorder=-20)\n",
    "\n",
    "vlines = [datetime.datetime(2003, 12, 22), datetime.datetime(2004, 9, 28), datetime.datetime(2014, 8, 24)]\n",
    "\n",
    "# plot the date of San Simeon and Parkfield eq.\n",
    "for vline in vlines:\n",
    "    ax.axvline(vline,\n",
    "                color='k',\n",
    "                linewidth=1.0,\n",
    "                linestyle='--',\n",
    "                zorder=2)\n",
    "    \n",
    "# fig.suptitle(f'dv/v {freqkey}Hz', x=0.53)\n",
    "fig.tight_layout(rect=[0,0,1,1.])\n",
    "plt.subplots_adjust(hspace=0.35)\n",
    "fig.align_ylabels()\n",
    "\n",
    "foname = (output_imgdir+f\"/cumsum_LFE_2001-2020.png\")\n",
    "plt.savefig(foname, dpi=300, bbox_inches='tight')"
   ]
  },
  {
   "cell_type": "code",
   "execution_count": null,
   "metadata": {},
   "outputs": [],
   "source": [
    "df_LFE['LFErate'].rolling(window=10, win_type=None)"
   ]
  },
  {
   "cell_type": "code",
   "execution_count": null,
   "metadata": {},
   "outputs": [],
   "source": [
    "# Update: we do not apply moving window by setting window=1.\n",
    "df_LFE['LFErate_mean'] = df_LFE['LFErate'].rolling(window=1, win_type=None).mean()\n",
    "maxsearchdays = 10\n",
    "for index, row in df_LFEpeak.iterrows():\n",
    "    st = row[\"peakt\"]-datetime.timedelta(days=maxsearchdays)\n",
    "    et = row[\"peakt\"]+datetime.timedelta(days=maxsearchdays)\n",
    "    df_temp=df_LFE[(df_LFE['t']>st) & (df_LFE['t']<et)]\n",
    "    df_LFEpeak.loc[index, \"LFErate_mean\"] = np.max(df_temp[\"LFErate_mean\"].values)"
   ]
  },
  {
   "cell_type": "code",
   "execution_count": null,
   "metadata": {},
   "outputs": [],
   "source": [
    "df_TRE[\"t\"] = pd.to_datetime(df_TRE[\"time\"])\n",
    "df_TRE[\"t\"] = pd.DatetimeIndex(df_TRE[\"t\"]).normalize()# extract only date (ignore hours)\n",
    "df_TRE[\"TRErate\"] = df_TRE[' tremor_rate_[min/day]'].astype(float)\n",
    "df_TRE[\"TRErate_cumsum\"] = np.cumsum(df_TRE[\"TRErate\"])\n",
    "df_TRE"
   ]
  },
  {
   "cell_type": "code",
   "execution_count": null,
   "metadata": {},
   "outputs": [],
   "source": [
    "fig, ax = plt.subplots(1, 1, figsize=(14,4))\n",
    "ax.plot(df_TRE[\"t\"], df_TRE[\"TRErate\"])\n",
    "ax.plot(df_TRE[\"t\"], df_TRE[\"TRErate_cumsum\"])"
   ]
  },
  {
   "cell_type": "code",
   "execution_count": null,
   "metadata": {},
   "outputs": [],
   "source": []
  },
  {
   "cell_type": "markdown",
   "metadata": {},
   "source": [
    "# Plot figure"
   ]
  },
  {
   "cell_type": "code",
   "execution_count": null,
   "metadata": {},
   "outputs": [],
   "source": [
    "sns.color_palette(\"colorblind\")"
   ]
  },
  {
   "cell_type": "code",
   "execution_count": null,
   "metadata": {},
   "outputs": [],
   "source": [
    "cpalette_freq=np.array(sns.color_palette(\"colorblind\"))[:]\n",
    "cpalette_freq"
   ]
  },
  {
   "cell_type": "code",
   "execution_count": null,
   "metadata": {},
   "outputs": [],
   "source": [
    "tSS = datetime.datetime(2003, 12, 22) # date of San Simeon earthquake\n",
    "vlines = [datetime.datetime(2003, 12, 22), datetime.datetime(2004, 9, 28), datetime.datetime(2014, 8, 24)] # re-include vline of South Napa eq \n",
    "\n",
    "refstarttime = datetime.datetime(2010, 1, 1)\n",
    "refendtime = datetime.datetime(2022, 6, 1)\n",
    "\n",
    "#---Extract the date with the freqkey---#\n",
    "df_dvvfreq_stretching = df_stretching.loc[:, \"dvv\"].loc[:, df_stretching.loc[:, \"dvv\"].columns.get_level_values(\"freqband\")==freqkey]\n",
    "df_ccfreq_stretching = df_stretching.loc[:, \"cc_dvv\"].loc[:, df_stretching.loc[:, \"cc_dvv\"].columns.get_level_values(\"freqband\")==freqkey]\n",
    "df_errfreq_stretching = df_stretching.loc[:, \"err\"].loc[:, df_stretching.loc[:, \"err\"].columns.get_level_values(\"freqband\")==freqkey]\n",
    "\n",
    "df_dvvfreq_mwcs = df_mwcs.loc[:, \"dvv\"].loc[:, df_mwcs.loc[:, \"dvv\"].columns.get_level_values(\"freqband\")==freqkey]\n",
    "df_ccfreq_mwcs = df_mwcs.loc[:, \"cc_dvv\"].loc[:, df_mwcs.loc[:, \"cc_dvv\"].columns.get_level_values(\"freqband\")==freqkey]\n",
    "df_errfreq_mwcs = df_mwcs.loc[:, \"err\"].loc[:, df_mwcs.loc[:, \"err\"].columns.get_level_values(\"freqband\")==freqkey]\n",
    "\n",
    "#---Threshold out the dvv with cc and err for the cases with stretching and mwcs, respectively---#\n",
    "df_dvvfreq_stretching.mask(df_ccfreq_stretching < cc_threshold, inplace=True)\n",
    "df_dvvfreq_mwcs.mask(df_errfreq_mwcs > err_mwcs_eps, inplace=True)\n",
    "\n",
    "\n",
    "#---Compute stats---#\n",
    "df_dvvfreq_stretching_stats = df_dvvfreq_stretching.quantile([0.25, 0.5, 0.75], axis=1).T # 1st, 2nd, and 3rd quartiles\n",
    "df_dvvfreq_stretching_stats.loc[:, \"mean\"] = df_dvvfreq_stretching.mean(skipna=True, axis=1).T #mean\n",
    "df_dvvfreq_stretching_stats.loc[:, \"std\"] = df_dvvfreq_stretching.std(skipna=True, axis=1).T #std\n",
    "df_dvvfreq_stretching_stats.loc[:, \"count\"] = df_dvvfreq_stretching.count(axis=1).T #number of data with each time window\n",
    "\n",
    "df_dvvfreq_mwcs_stats = df_dvvfreq_mwcs.quantile([0.25, 0.5, 0.75], axis=1).T # 1st, 2nd, and 3rd quartiles\n",
    "df_dvvfreq_mwcs_stats.loc[:, \"mean\"] = df_dvvfreq_mwcs.mean(skipna=True, axis=1).T #mean\n",
    "df_dvvfreq_mwcs_stats.loc[:, \"std\"] = df_dvvfreq_mwcs.std(skipna=True, axis=1).T #std\n",
    "df_dvvfreq_mwcs_stats.loc[:, \"count\"] = df_dvvfreq_mwcs.count(axis=1).T #number of data with each time window"
   ]
  },
  {
   "cell_type": "code",
   "execution_count": null,
   "metadata": {},
   "outputs": [],
   "source": [
    "fig, axs = plt.subplots(2, 1, figsize=(10.5, 6.1), sharex=False, gridspec_kw={'height_ratios': [1, 0.6]}) #(10.5, 9.1)\n",
    "dvvdata_IsOffsetRemoval=True\n",
    "\n",
    "freqkey = \"0.9-1.2\"\n",
    "\n",
    "i = 1\n",
    "\n",
    "#---plot dvv---#\n",
    "if dvvdata_IsOffsetRemoval:\n",
    "    offset_ind = np.where(np.array(uniform_tvec) < tSS)\n",
    "    offset_data1 = np.nanmean(df_dvvfreq_stretching_stats[0.5].values[offset_ind]) # offset is evaluated with the mean of median dvv\n",
    "    offset_data2 = np.nanmean(df_dvvfreq_mwcs_stats[0.5].values[offset_ind]) # offset is evaluated with the mean of median dvv\n",
    "else:\n",
    "    offset_data1 = 0\n",
    "    offset_data2 = 0\n",
    "\n",
    "# Plot stretching\n",
    "axs[0].plot(uniform_tvec, df_dvvfreq_stretching_stats[0.5].values-offset_data1, \"-\", c=cpalette_freq[3], label=\"stretching\", zorder=6, lw=1.4) # median\n",
    "ybot1 =  df_dvvfreq_stretching_stats[0.25].values-offset_data1 #  1st quartile\n",
    "ytop1 =  df_dvvfreq_stretching_stats[0.75].values-offset_data1 #  3rd quartile\n",
    "axs[0].fill_between(uniform_tvec, ybot1, ytop1, color=cpalette_freq[3], alpha=0.1, label=\"\", ec=\"k\", lw=0.5, zorder=5)\n",
    "axs[0].plot(uniform_tvec, ybot1, c=cpalette_freq[3], alpha=0.1, lw=0.7, ls=\"-\")\n",
    "axs[0].plot(uniform_tvec, ytop1, c=cpalette_freq[3], alpha=0.1, lw=0.7, ls=\"-\")\n",
    "axs[0].legend(loc=4, labelcolor=\"k\", fontsize=11)\n",
    "\n",
    "# mwcs\n",
    "axs[0].plot(uniform_tvec, df_dvvfreq_mwcs_stats[0.5].values-offset_data2, \"-\", c=cpalette_freq[0], label=\"MWCS\", zorder=6, lw=1.4) # median\n",
    "ybot2 =  df_dvvfreq_mwcs_stats[0.25].values-offset_data2 #  1st quartile\n",
    "ytop2 =  df_dvvfreq_mwcs_stats[0.75].values-offset_data2 #  3rd quartile\n",
    "axs[0].fill_between(uniform_tvec, ybot2, ytop2, color=cpalette_freq[0], alpha=0.1, label=\"\", ec=\"k\", lw=0.5, zorder=5)\n",
    "axs[0].plot(uniform_tvec, ybot2, c=cpalette_freq[0], alpha=0.1, lw=0.7, ls=\"-\")\n",
    "axs[0].plot(uniform_tvec, ytop2, c=cpalette_freq[0], alpha=0.1, lw=0.7, ls=\"-\")\n",
    "axs[0].legend(loc=4, labelcolor=\"k\", fontsize=11)\n",
    "axs[0].axhline(0, c=\"k\", lw=0.75, ls=\"--\", zorder=-5)\n",
    "\n",
    "# plot LFE rate and nodmalized cumsum LFE\n",
    "# plot number of LFE as second axis\n",
    "\n",
    "axs[1].grid(True)\n",
    "axs[1].bar(df_LFE[\"t\"], df_LFE['LFErate_mean'], width=8, color='gray', alpha=0.4, zorder=1)\n",
    "axs[1].scatter(df_LFEpeak[\"peakt\"], df_LFEpeak[\"LFErate_mean\"], 11,\n",
    "                facecolor='white', edgecolor='k', zorder=2)\n",
    "axs[1].set_ylabel(\"LFE rate [number/day]\", color='k')\n",
    "axs[1].tick_params(axis='y', colors='k')\n",
    "axs[1].set_yticks([250, 500, 750, 1000])\n",
    "axs[1].zorder=2\n",
    "\n",
    "ax2 = axs[1].twinx()\n",
    "\n",
    "detrended_cumusum_LFE = df_LFE[\"LFErate_cumsum\"]-prePF_trend\n",
    "\n",
    "# ax2.plot(df_LFE[\"t\"], (df_LFE[\"LFErate_cumsum\"])/np.max(df_LFE[\"LFErate_cumsum\"]), \"r\", lw=2, zorder = 5)\n",
    "ax2.plot(df_LFE[\"t\"], detrended_cumusum_LFE/np.max(detrended_cumusum_LFE), \"r\", lw=2, zorder = 5)\n",
    "ax2.set_ylabel(\"Normalized cumulative LFE\", color='r')\n",
    "ax2.tick_params(axis='y', colors='r')\n",
    "ax2.zorder=3\n",
    "ax2.patch.set_visible(False)\n",
    "\n",
    "xfmt = dates.DateFormatter('%Y')\n",
    "for i in range(2):\n",
    "    \n",
    "    axs[i].set_xlim(starttime, endtime)\n",
    "    axs[i].grid(True, axis=\"both\", lw=0.5, c=[0.8, 0.8, 0.8], alpha=0.4, zorder=-20)\n",
    "#     plt.setp(axs[i].get_xticklabels(), rotation=30, ha=\"right\", rotation_mode=\"anchor\")\n",
    "\n",
    "    # plot the date of San Simeon and Parkfield eq.\n",
    "    for vline in vlines:\n",
    "        axs[i].axvline(vline,\n",
    "                    color='k',\n",
    "                    linewidth=1.0,\n",
    "                    linestyle='--',\n",
    "                    zorder=2)\n",
    "    if i==0:\n",
    "        axs[i].set_ylim(-0.25, 0.15)\n",
    "        axs[i].set_yticks(np.linspace(-0.20, 0.15, 8))\n",
    "        axs[i].set_ylabel(\"dv/v [%]\")\n",
    "        # period of unstable dv/v\n",
    "        vlines_unstable = [datetime.datetime(2017, 1, 1), datetime.datetime(2017, 6, 1)]\n",
    "        axs[i].fill_betweenx([-0.3, 0.3], vlines_unstable[0], vlines_unstable[1], fc=\"gray\", alpha=0.7, ls=\"-\", zorder=10)\n",
    "\n",
    "        # annotate reference period\n",
    "        refy = -0.3\n",
    "        axs[i].annotate('', xy=(refstarttime, refy), xytext=(refendtime, refy), arrowprops=dict(arrowstyle='<->'), annotation_clip=False)\n",
    "        axs[i].text(datetime.datetime(2016,6,1), -0.31, \"reference stack period\", ha=\"center\", va='top')\n",
    "        # axs[1].plot([refstarttime, refendtime], [-0.3, -0.3], clip_on=False,)\n",
    "\n",
    "\n",
    "axs[0].set_title(f'dv/v with all components {freqkey}Hz')\n",
    "\n",
    "plt.tight_layout()\n",
    "\n",
    "plt.text(0.005, 0.95, \"(a)\", fontsize=14, fontweight=\"bold\", transform=plt.gcf().transFigure)\n",
    "plt.text(0.005, 0.38, \"(b)\", fontsize=14, fontweight=\"bold\", transform=plt.gcf().transFigure)\n",
    "\n",
    "# fig.suptitle(f'dv/v {freqkey}Hz', x=0.53)\n",
    "fig.tight_layout(rect=[0,0,1,1.])\n",
    "plt.subplots_adjust(hspace=0.35)\n",
    "fig.align_ylabels()\n",
    "\n",
    "foname = (output_imgdir+f\"/dvv_comparison_ParkfieldLFErate_{freqkey}Hz.png\")\n",
    "plt.savefig(foname, dpi=300, bbox_inches='tight')\n",
    "\n",
    "foname = (output_imgdir+f\"/dvv_comparison_ParkfieldLFErate_{freqkey}Hz.eps\")\n",
    "plt.savefig(foname, dpi=300, bbox_inches='tight')"
   ]
  },
  {
   "cell_type": "code",
   "execution_count": null,
   "metadata": {},
   "outputs": [],
   "source": []
  }
 ],
 "metadata": {
  "@webio": {
   "lastCommId": null,
   "lastKernelId": null
  },
  "kernelspec": {
   "display_name": "Python 3 (ipykernel)",
   "language": "python",
   "name": "python3"
  },
  "language_info": {
   "codemirror_mode": {
    "name": "ipython",
    "version": 3
   },
   "file_extension": ".py",
   "mimetype": "text/x-python",
   "name": "python",
   "nbconvert_exporter": "python",
   "pygments_lexer": "ipython3",
   "version": "3.8.12"
  }
 },
 "nbformat": 4,
 "nbformat_minor": 4
}
